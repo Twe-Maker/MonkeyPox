{
 "cells": [
  {
   "cell_type": "markdown",
   "metadata": {},
   "source": [
    "## Monkey Pox"
   ]
  },
  {
   "cell_type": "code",
   "execution_count": 1,
   "metadata": {},
   "outputs": [],
   "source": [
    "## Import libraries\n",
    "\n",
    "import pandas as pd\n",
    "import numpy as np\n",
    "import matplotlib as mpl\n",
    "import matplotlib.pyplot as plt\n",
    "import plotly.express as px\n",
    "import plotly.io as pio\n",
    "%matplotlib inline\n",
    "import os\n"
   ]
  },
  {
   "cell_type": "markdown",
   "metadata": {},
   "source": [
    "### Import Data from git"
   ]
  },
  {
   "cell_type": "code",
   "execution_count": 2,
   "metadata": {},
   "outputs": [
    {
     "data": {
      "text/html": [
       "<div>\n",
       "<style scoped>\n",
       "    .dataframe tbody tr th:only-of-type {\n",
       "        vertical-align: middle;\n",
       "    }\n",
       "\n",
       "    .dataframe tbody tr th {\n",
       "        vertical-align: top;\n",
       "    }\n",
       "\n",
       "    .dataframe thead th {\n",
       "        text-align: right;\n",
       "    }\n",
       "</style>\n",
       "<table border=\"1\" class=\"dataframe\">\n",
       "  <thead>\n",
       "    <tr style=\"text-align: right;\">\n",
       "      <th></th>\n",
       "      <th>ID</th>\n",
       "      <th>Status</th>\n",
       "      <th>Location</th>\n",
       "      <th>City</th>\n",
       "      <th>Country</th>\n",
       "      <th>Age</th>\n",
       "      <th>Gender</th>\n",
       "      <th>Date_onset</th>\n",
       "      <th>Date_confirmation</th>\n",
       "      <th>Symptoms</th>\n",
       "      <th>...</th>\n",
       "      <th>Travel_history_country</th>\n",
       "      <th>Genomics_Metadata</th>\n",
       "      <th>Confirmation_method</th>\n",
       "      <th>Source</th>\n",
       "      <th>Source_II</th>\n",
       "      <th>Date_entry</th>\n",
       "      <th>Date_last_modified</th>\n",
       "      <th>Source_III</th>\n",
       "      <th>Source_IV</th>\n",
       "      <th>Country_ISO3</th>\n",
       "    </tr>\n",
       "  </thead>\n",
       "  <tbody>\n",
       "    <tr>\n",
       "      <th>0</th>\n",
       "      <td>1</td>\n",
       "      <td>confirmed</td>\n",
       "      <td>Guy's and St Thomas Hospital London</td>\n",
       "      <td>London</td>\n",
       "      <td>England</td>\n",
       "      <td>NaN</td>\n",
       "      <td>NaN</td>\n",
       "      <td>2022-04-29</td>\n",
       "      <td>2022-05-06</td>\n",
       "      <td>rash</td>\n",
       "      <td>...</td>\n",
       "      <td>Nigeria</td>\n",
       "      <td>West African Clade</td>\n",
       "      <td>RT-PCR</td>\n",
       "      <td>https://www.gov.uk/government/news/monkeypox-c...</td>\n",
       "      <td>https://www.who.int/emergencies/disease-outbre...</td>\n",
       "      <td>2022-05-18</td>\n",
       "      <td>2022-05-18</td>\n",
       "      <td>NaN</td>\n",
       "      <td>NaN</td>\n",
       "      <td>GBR</td>\n",
       "    </tr>\n",
       "    <tr>\n",
       "      <th>1</th>\n",
       "      <td>2</td>\n",
       "      <td>confirmed</td>\n",
       "      <td>Guy's and St Thomas Hospital London</td>\n",
       "      <td>London</td>\n",
       "      <td>England</td>\n",
       "      <td>NaN</td>\n",
       "      <td>NaN</td>\n",
       "      <td>2022-05-05</td>\n",
       "      <td>2022-05-12</td>\n",
       "      <td>rash</td>\n",
       "      <td>...</td>\n",
       "      <td>NaN</td>\n",
       "      <td>West African Clade</td>\n",
       "      <td>RT-PCR</td>\n",
       "      <td>https://www.gov.uk/government/news/monkeypox-c...</td>\n",
       "      <td>NaN</td>\n",
       "      <td>2022-05-18</td>\n",
       "      <td>2022-05-18</td>\n",
       "      <td>NaN</td>\n",
       "      <td>NaN</td>\n",
       "      <td>GBR</td>\n",
       "    </tr>\n",
       "    <tr>\n",
       "      <th>2</th>\n",
       "      <td>3</td>\n",
       "      <td>confirmed</td>\n",
       "      <td>London</td>\n",
       "      <td>London</td>\n",
       "      <td>England</td>\n",
       "      <td>NaN</td>\n",
       "      <td>NaN</td>\n",
       "      <td>2022-04-30</td>\n",
       "      <td>2022-05-13</td>\n",
       "      <td>vesicular rash</td>\n",
       "      <td>...</td>\n",
       "      <td>NaN</td>\n",
       "      <td>West African Clade</td>\n",
       "      <td>RT-PCR</td>\n",
       "      <td>https://www.gov.uk/government/news/monkeypox-c...</td>\n",
       "      <td>NaN</td>\n",
       "      <td>2022-05-18</td>\n",
       "      <td>2022-05-18</td>\n",
       "      <td>NaN</td>\n",
       "      <td>NaN</td>\n",
       "      <td>GBR</td>\n",
       "    </tr>\n",
       "    <tr>\n",
       "      <th>3</th>\n",
       "      <td>4</td>\n",
       "      <td>confirmed</td>\n",
       "      <td>London</td>\n",
       "      <td>London</td>\n",
       "      <td>England</td>\n",
       "      <td>NaN</td>\n",
       "      <td>male</td>\n",
       "      <td>NaN</td>\n",
       "      <td>2022-05-15</td>\n",
       "      <td>vesicular rash</td>\n",
       "      <td>...</td>\n",
       "      <td>NaN</td>\n",
       "      <td>West African Clade</td>\n",
       "      <td>NaN</td>\n",
       "      <td>https://www.gov.uk/government/news/monkeypox-c...</td>\n",
       "      <td>NaN</td>\n",
       "      <td>2022-05-18</td>\n",
       "      <td>2022-05-18</td>\n",
       "      <td>NaN</td>\n",
       "      <td>NaN</td>\n",
       "      <td>GBR</td>\n",
       "    </tr>\n",
       "    <tr>\n",
       "      <th>4</th>\n",
       "      <td>5</td>\n",
       "      <td>confirmed</td>\n",
       "      <td>London</td>\n",
       "      <td>London</td>\n",
       "      <td>England</td>\n",
       "      <td>NaN</td>\n",
       "      <td>male</td>\n",
       "      <td>NaN</td>\n",
       "      <td>2022-05-15</td>\n",
       "      <td>vesicular rash</td>\n",
       "      <td>...</td>\n",
       "      <td>NaN</td>\n",
       "      <td>West African Clade</td>\n",
       "      <td>NaN</td>\n",
       "      <td>https://www.gov.uk/government/news/monkeypox-c...</td>\n",
       "      <td>NaN</td>\n",
       "      <td>2022-05-18</td>\n",
       "      <td>2022-05-18</td>\n",
       "      <td>NaN</td>\n",
       "      <td>NaN</td>\n",
       "      <td>GBR</td>\n",
       "    </tr>\n",
       "    <tr>\n",
       "      <th>...</th>\n",
       "      <td>...</td>\n",
       "      <td>...</td>\n",
       "      <td>...</td>\n",
       "      <td>...</td>\n",
       "      <td>...</td>\n",
       "      <td>...</td>\n",
       "      <td>...</td>\n",
       "      <td>...</td>\n",
       "      <td>...</td>\n",
       "      <td>...</td>\n",
       "      <td>...</td>\n",
       "      <td>...</td>\n",
       "      <td>...</td>\n",
       "      <td>...</td>\n",
       "      <td>...</td>\n",
       "      <td>...</td>\n",
       "      <td>...</td>\n",
       "      <td>...</td>\n",
       "      <td>...</td>\n",
       "      <td>...</td>\n",
       "      <td>...</td>\n",
       "    </tr>\n",
       "    <tr>\n",
       "      <th>2160</th>\n",
       "      <td>2161</td>\n",
       "      <td>confirmed</td>\n",
       "      <td>Quebec</td>\n",
       "      <td>NaN</td>\n",
       "      <td>Canada</td>\n",
       "      <td>NaN</td>\n",
       "      <td>NaN</td>\n",
       "      <td>NaN</td>\n",
       "      <td>2022-06-14</td>\n",
       "      <td>NaN</td>\n",
       "      <td>...</td>\n",
       "      <td>NaN</td>\n",
       "      <td>NaN</td>\n",
       "      <td>NaN</td>\n",
       "      <td>https://montrealgazette.com/news/local-news/mo...</td>\n",
       "      <td>https://globalnews.ca/news/8919210/quebec-mont...</td>\n",
       "      <td>2022-06-14</td>\n",
       "      <td>2022-06-14</td>\n",
       "      <td>NaN</td>\n",
       "      <td>NaN</td>\n",
       "      <td>CAN</td>\n",
       "    </tr>\n",
       "    <tr>\n",
       "      <th>2161</th>\n",
       "      <td>2162</td>\n",
       "      <td>confirmed</td>\n",
       "      <td>Quebec</td>\n",
       "      <td>NaN</td>\n",
       "      <td>Canada</td>\n",
       "      <td>NaN</td>\n",
       "      <td>NaN</td>\n",
       "      <td>NaN</td>\n",
       "      <td>2022-06-14</td>\n",
       "      <td>NaN</td>\n",
       "      <td>...</td>\n",
       "      <td>NaN</td>\n",
       "      <td>NaN</td>\n",
       "      <td>NaN</td>\n",
       "      <td>https://montrealgazette.com/news/local-news/mo...</td>\n",
       "      <td>https://globalnews.ca/news/8919210/quebec-mont...</td>\n",
       "      <td>2022-06-14</td>\n",
       "      <td>2022-06-14</td>\n",
       "      <td>NaN</td>\n",
       "      <td>NaN</td>\n",
       "      <td>CAN</td>\n",
       "    </tr>\n",
       "    <tr>\n",
       "      <th>2162</th>\n",
       "      <td>2163</td>\n",
       "      <td>confirmed</td>\n",
       "      <td>Quebec</td>\n",
       "      <td>NaN</td>\n",
       "      <td>Canada</td>\n",
       "      <td>NaN</td>\n",
       "      <td>NaN</td>\n",
       "      <td>NaN</td>\n",
       "      <td>2022-06-14</td>\n",
       "      <td>NaN</td>\n",
       "      <td>...</td>\n",
       "      <td>NaN</td>\n",
       "      <td>NaN</td>\n",
       "      <td>NaN</td>\n",
       "      <td>https://montrealgazette.com/news/local-news/mo...</td>\n",
       "      <td>https://globalnews.ca/news/8919210/quebec-mont...</td>\n",
       "      <td>2022-06-14</td>\n",
       "      <td>2022-06-14</td>\n",
       "      <td>NaN</td>\n",
       "      <td>NaN</td>\n",
       "      <td>CAN</td>\n",
       "    </tr>\n",
       "    <tr>\n",
       "      <th>2163</th>\n",
       "      <td>2164</td>\n",
       "      <td>confirmed</td>\n",
       "      <td>Quebec</td>\n",
       "      <td>NaN</td>\n",
       "      <td>Canada</td>\n",
       "      <td>NaN</td>\n",
       "      <td>NaN</td>\n",
       "      <td>NaN</td>\n",
       "      <td>2022-06-14</td>\n",
       "      <td>NaN</td>\n",
       "      <td>...</td>\n",
       "      <td>NaN</td>\n",
       "      <td>NaN</td>\n",
       "      <td>NaN</td>\n",
       "      <td>https://montrealgazette.com/news/local-news/mo...</td>\n",
       "      <td>https://globalnews.ca/news/8919210/quebec-mont...</td>\n",
       "      <td>2022-06-14</td>\n",
       "      <td>2022-06-14</td>\n",
       "      <td>NaN</td>\n",
       "      <td>NaN</td>\n",
       "      <td>CAN</td>\n",
       "    </tr>\n",
       "    <tr>\n",
       "      <th>2164</th>\n",
       "      <td>2165</td>\n",
       "      <td>confirmed</td>\n",
       "      <td>Quebec</td>\n",
       "      <td>NaN</td>\n",
       "      <td>Canada</td>\n",
       "      <td>NaN</td>\n",
       "      <td>NaN</td>\n",
       "      <td>NaN</td>\n",
       "      <td>2022-06-14</td>\n",
       "      <td>NaN</td>\n",
       "      <td>...</td>\n",
       "      <td>NaN</td>\n",
       "      <td>NaN</td>\n",
       "      <td>NaN</td>\n",
       "      <td>https://montrealgazette.com/news/local-news/mo...</td>\n",
       "      <td>https://globalnews.ca/news/8919210/quebec-mont...</td>\n",
       "      <td>2022-06-14</td>\n",
       "      <td>2022-06-14</td>\n",
       "      <td>NaN</td>\n",
       "      <td>NaN</td>\n",
       "      <td>CAN</td>\n",
       "    </tr>\n",
       "  </tbody>\n",
       "</table>\n",
       "<p>2165 rows × 32 columns</p>\n",
       "</div>"
      ],
      "text/plain": [
       "        ID     Status                             Location    City  Country  \\\n",
       "0        1  confirmed  Guy's and St Thomas Hospital London  London  England   \n",
       "1        2  confirmed  Guy's and St Thomas Hospital London  London  England   \n",
       "2        3  confirmed                               London  London  England   \n",
       "3        4  confirmed                               London  London  England   \n",
       "4        5  confirmed                               London  London  England   \n",
       "...    ...        ...                                  ...     ...      ...   \n",
       "2160  2161  confirmed                               Quebec     NaN   Canada   \n",
       "2161  2162  confirmed                               Quebec     NaN   Canada   \n",
       "2162  2163  confirmed                               Quebec     NaN   Canada   \n",
       "2163  2164  confirmed                               Quebec     NaN   Canada   \n",
       "2164  2165  confirmed                               Quebec     NaN   Canada   \n",
       "\n",
       "      Age Gender  Date_onset Date_confirmation        Symptoms  ...  \\\n",
       "0     NaN    NaN  2022-04-29        2022-05-06            rash  ...   \n",
       "1     NaN    NaN  2022-05-05        2022-05-12            rash  ...   \n",
       "2     NaN    NaN  2022-04-30        2022-05-13  vesicular rash  ...   \n",
       "3     NaN   male         NaN        2022-05-15  vesicular rash  ...   \n",
       "4     NaN   male         NaN        2022-05-15  vesicular rash  ...   \n",
       "...   ...    ...         ...               ...             ...  ...   \n",
       "2160  NaN    NaN         NaN        2022-06-14             NaN  ...   \n",
       "2161  NaN    NaN         NaN        2022-06-14             NaN  ...   \n",
       "2162  NaN    NaN         NaN        2022-06-14             NaN  ...   \n",
       "2163  NaN    NaN         NaN        2022-06-14             NaN  ...   \n",
       "2164  NaN    NaN         NaN        2022-06-14             NaN  ...   \n",
       "\n",
       "     Travel_history_country   Genomics_Metadata Confirmation_method  \\\n",
       "0                   Nigeria  West African Clade              RT-PCR   \n",
       "1                       NaN  West African Clade              RT-PCR   \n",
       "2                       NaN  West African Clade              RT-PCR   \n",
       "3                       NaN  West African Clade                 NaN   \n",
       "4                       NaN  West African Clade                 NaN   \n",
       "...                     ...                 ...                 ...   \n",
       "2160                    NaN                 NaN                 NaN   \n",
       "2161                    NaN                 NaN                 NaN   \n",
       "2162                    NaN                 NaN                 NaN   \n",
       "2163                    NaN                 NaN                 NaN   \n",
       "2164                    NaN                 NaN                 NaN   \n",
       "\n",
       "                                                 Source  \\\n",
       "0     https://www.gov.uk/government/news/monkeypox-c...   \n",
       "1     https://www.gov.uk/government/news/monkeypox-c...   \n",
       "2     https://www.gov.uk/government/news/monkeypox-c...   \n",
       "3     https://www.gov.uk/government/news/monkeypox-c...   \n",
       "4     https://www.gov.uk/government/news/monkeypox-c...   \n",
       "...                                                 ...   \n",
       "2160  https://montrealgazette.com/news/local-news/mo...   \n",
       "2161  https://montrealgazette.com/news/local-news/mo...   \n",
       "2162  https://montrealgazette.com/news/local-news/mo...   \n",
       "2163  https://montrealgazette.com/news/local-news/mo...   \n",
       "2164  https://montrealgazette.com/news/local-news/mo...   \n",
       "\n",
       "                                              Source_II  Date_entry  \\\n",
       "0     https://www.who.int/emergencies/disease-outbre...  2022-05-18   \n",
       "1                                                   NaN  2022-05-18   \n",
       "2                                                   NaN  2022-05-18   \n",
       "3                                                   NaN  2022-05-18   \n",
       "4                                                   NaN  2022-05-18   \n",
       "...                                                 ...         ...   \n",
       "2160  https://globalnews.ca/news/8919210/quebec-mont...  2022-06-14   \n",
       "2161  https://globalnews.ca/news/8919210/quebec-mont...  2022-06-14   \n",
       "2162  https://globalnews.ca/news/8919210/quebec-mont...  2022-06-14   \n",
       "2163  https://globalnews.ca/news/8919210/quebec-mont...  2022-06-14   \n",
       "2164  https://globalnews.ca/news/8919210/quebec-mont...  2022-06-14   \n",
       "\n",
       "      Date_last_modified Source_III Source_IV Country_ISO3  \n",
       "0             2022-05-18        NaN       NaN          GBR  \n",
       "1             2022-05-18        NaN       NaN          GBR  \n",
       "2             2022-05-18        NaN       NaN          GBR  \n",
       "3             2022-05-18        NaN       NaN          GBR  \n",
       "4             2022-05-18        NaN       NaN          GBR  \n",
       "...                  ...        ...       ...          ...  \n",
       "2160          2022-06-14        NaN       NaN          CAN  \n",
       "2161          2022-06-14        NaN       NaN          CAN  \n",
       "2162          2022-06-14        NaN       NaN          CAN  \n",
       "2163          2022-06-14        NaN       NaN          CAN  \n",
       "2164          2022-06-14        NaN       NaN          CAN  \n",
       "\n",
       "[2165 rows x 32 columns]"
      ]
     },
     "execution_count": 2,
     "metadata": {},
     "output_type": "execute_result"
    }
   ],
   "source": [
    "df_import = pd.read_csv('https://raw.githubusercontent.com/globaldothealth/monkeypox/main/latest.csv')\n",
    "# df_import = pd.read_csv('monkeypox_data_outdated.csv.csv')\n",
    "df_import"
   ]
  },
  {
   "cell_type": "markdown",
   "metadata": {},
   "source": [
    "### Data Cleaning"
   ]
  },
  {
   "cell_type": "code",
   "execution_count": 3,
   "metadata": {},
   "outputs": [
    {
     "data": {
      "text/plain": [
       "Index(['ID', 'Status', 'Location', 'City', 'Country', 'Age', 'Gender',\n",
       "       'Date_onset', 'Date_confirmation', 'Symptoms', 'Hospitalised (Y/N/NA)',\n",
       "       'Date_hospitalisation', 'Isolated (Y/N/NA)', 'Date_isolation',\n",
       "       'Outcome', 'Contact_comment', 'Contact_ID', 'Contact_location',\n",
       "       'Travel_history (Y/N/NA)', 'Travel_history_entry',\n",
       "       'Travel_history_start', 'Travel_history_location',\n",
       "       'Travel_history_country', 'Genomics_Metadata', 'Confirmation_method',\n",
       "       'Source', 'Source_II', 'Date_entry', 'Date_last_modified', 'Source_III',\n",
       "       'Source_IV', 'Country_ISO3'],\n",
       "      dtype='object')"
      ]
     },
     "execution_count": 3,
     "metadata": {},
     "output_type": "execute_result"
    }
   ],
   "source": [
    "df_import.columns"
   ]
  },
  {
   "cell_type": "code",
   "execution_count": 4,
   "metadata": {},
   "outputs": [
    {
     "data": {
      "text/html": [
       "<div>\n",
       "<style scoped>\n",
       "    .dataframe tbody tr th:only-of-type {\n",
       "        vertical-align: middle;\n",
       "    }\n",
       "\n",
       "    .dataframe tbody tr th {\n",
       "        vertical-align: top;\n",
       "    }\n",
       "\n",
       "    .dataframe thead th {\n",
       "        text-align: right;\n",
       "    }\n",
       "</style>\n",
       "<table border=\"1\" class=\"dataframe\">\n",
       "  <thead>\n",
       "    <tr style=\"text-align: right;\">\n",
       "      <th></th>\n",
       "      <th>ID</th>\n",
       "      <th>Date_confirmation</th>\n",
       "      <th>Location</th>\n",
       "      <th>City</th>\n",
       "      <th>Country</th>\n",
       "      <th>Status</th>\n",
       "      <th>Symptoms</th>\n",
       "      <th>Country_ISO3</th>\n",
       "    </tr>\n",
       "  </thead>\n",
       "  <tbody>\n",
       "    <tr>\n",
       "      <th>0</th>\n",
       "      <td>1</td>\n",
       "      <td>2022-05-06</td>\n",
       "      <td>Guy's and St Thomas Hospital London</td>\n",
       "      <td>London</td>\n",
       "      <td>England</td>\n",
       "      <td>confirmed</td>\n",
       "      <td>rash</td>\n",
       "      <td>GBR</td>\n",
       "    </tr>\n",
       "    <tr>\n",
       "      <th>1</th>\n",
       "      <td>2</td>\n",
       "      <td>2022-05-12</td>\n",
       "      <td>Guy's and St Thomas Hospital London</td>\n",
       "      <td>London</td>\n",
       "      <td>England</td>\n",
       "      <td>confirmed</td>\n",
       "      <td>rash</td>\n",
       "      <td>GBR</td>\n",
       "    </tr>\n",
       "    <tr>\n",
       "      <th>2</th>\n",
       "      <td>3</td>\n",
       "      <td>2022-05-13</td>\n",
       "      <td>London</td>\n",
       "      <td>London</td>\n",
       "      <td>England</td>\n",
       "      <td>confirmed</td>\n",
       "      <td>vesicular rash</td>\n",
       "      <td>GBR</td>\n",
       "    </tr>\n",
       "    <tr>\n",
       "      <th>3</th>\n",
       "      <td>4</td>\n",
       "      <td>2022-05-15</td>\n",
       "      <td>London</td>\n",
       "      <td>London</td>\n",
       "      <td>England</td>\n",
       "      <td>confirmed</td>\n",
       "      <td>vesicular rash</td>\n",
       "      <td>GBR</td>\n",
       "    </tr>\n",
       "    <tr>\n",
       "      <th>4</th>\n",
       "      <td>5</td>\n",
       "      <td>2022-05-15</td>\n",
       "      <td>London</td>\n",
       "      <td>London</td>\n",
       "      <td>England</td>\n",
       "      <td>confirmed</td>\n",
       "      <td>vesicular rash</td>\n",
       "      <td>GBR</td>\n",
       "    </tr>\n",
       "    <tr>\n",
       "      <th>...</th>\n",
       "      <td>...</td>\n",
       "      <td>...</td>\n",
       "      <td>...</td>\n",
       "      <td>...</td>\n",
       "      <td>...</td>\n",
       "      <td>...</td>\n",
       "      <td>...</td>\n",
       "      <td>...</td>\n",
       "    </tr>\n",
       "    <tr>\n",
       "      <th>2160</th>\n",
       "      <td>2161</td>\n",
       "      <td>2022-06-14</td>\n",
       "      <td>Quebec</td>\n",
       "      <td>NaN</td>\n",
       "      <td>Canada</td>\n",
       "      <td>confirmed</td>\n",
       "      <td>NaN</td>\n",
       "      <td>CAN</td>\n",
       "    </tr>\n",
       "    <tr>\n",
       "      <th>2161</th>\n",
       "      <td>2162</td>\n",
       "      <td>2022-06-14</td>\n",
       "      <td>Quebec</td>\n",
       "      <td>NaN</td>\n",
       "      <td>Canada</td>\n",
       "      <td>confirmed</td>\n",
       "      <td>NaN</td>\n",
       "      <td>CAN</td>\n",
       "    </tr>\n",
       "    <tr>\n",
       "      <th>2162</th>\n",
       "      <td>2163</td>\n",
       "      <td>2022-06-14</td>\n",
       "      <td>Quebec</td>\n",
       "      <td>NaN</td>\n",
       "      <td>Canada</td>\n",
       "      <td>confirmed</td>\n",
       "      <td>NaN</td>\n",
       "      <td>CAN</td>\n",
       "    </tr>\n",
       "    <tr>\n",
       "      <th>2163</th>\n",
       "      <td>2164</td>\n",
       "      <td>2022-06-14</td>\n",
       "      <td>Quebec</td>\n",
       "      <td>NaN</td>\n",
       "      <td>Canada</td>\n",
       "      <td>confirmed</td>\n",
       "      <td>NaN</td>\n",
       "      <td>CAN</td>\n",
       "    </tr>\n",
       "    <tr>\n",
       "      <th>2164</th>\n",
       "      <td>2165</td>\n",
       "      <td>2022-06-14</td>\n",
       "      <td>Quebec</td>\n",
       "      <td>NaN</td>\n",
       "      <td>Canada</td>\n",
       "      <td>confirmed</td>\n",
       "      <td>NaN</td>\n",
       "      <td>CAN</td>\n",
       "    </tr>\n",
       "  </tbody>\n",
       "</table>\n",
       "<p>2165 rows × 8 columns</p>\n",
       "</div>"
      ],
      "text/plain": [
       "        ID Date_confirmation                             Location    City  \\\n",
       "0        1        2022-05-06  Guy's and St Thomas Hospital London  London   \n",
       "1        2        2022-05-12  Guy's and St Thomas Hospital London  London   \n",
       "2        3        2022-05-13                               London  London   \n",
       "3        4        2022-05-15                               London  London   \n",
       "4        5        2022-05-15                               London  London   \n",
       "...    ...               ...                                  ...     ...   \n",
       "2160  2161        2022-06-14                               Quebec     NaN   \n",
       "2161  2162        2022-06-14                               Quebec     NaN   \n",
       "2162  2163        2022-06-14                               Quebec     NaN   \n",
       "2163  2164        2022-06-14                               Quebec     NaN   \n",
       "2164  2165        2022-06-14                               Quebec     NaN   \n",
       "\n",
       "      Country     Status        Symptoms Country_ISO3  \n",
       "0     England  confirmed            rash          GBR  \n",
       "1     England  confirmed            rash          GBR  \n",
       "2     England  confirmed  vesicular rash          GBR  \n",
       "3     England  confirmed  vesicular rash          GBR  \n",
       "4     England  confirmed  vesicular rash          GBR  \n",
       "...       ...        ...             ...          ...  \n",
       "2160   Canada  confirmed             NaN          CAN  \n",
       "2161   Canada  confirmed             NaN          CAN  \n",
       "2162   Canada  confirmed             NaN          CAN  \n",
       "2163   Canada  confirmed             NaN          CAN  \n",
       "2164   Canada  confirmed             NaN          CAN  \n",
       "\n",
       "[2165 rows x 8 columns]"
      ]
     },
     "execution_count": 4,
     "metadata": {},
     "output_type": "execute_result"
    }
   ],
   "source": [
    "df = df_import[['ID','Date_confirmation', 'Location', 'City', 'Country','Status', 'Symptoms', 'Country_ISO3']]\n",
    "df"
   ]
  },
  {
   "cell_type": "code",
   "execution_count": 5,
   "metadata": {},
   "outputs": [],
   "source": [
    "# I want only value which is confirmed. In this dataset, only the confirmed case has date. So, I just drop na in the Date_confirmation column.\n",
    "# only_con_df = df[df[\"Date_confirmation\"].notna()] # old doesnt work anymore\n",
    "only_con_df = df[df[\"Status\"] == \"confirmed\"]"
   ]
  },
  {
   "cell_type": "code",
   "execution_count": 6,
   "metadata": {},
   "outputs": [],
   "source": [
    "# remove SettingWithCopyWarning: from showing\n",
    "pd.options.mode.chained_assignment = None"
   ]
  },
  {
   "cell_type": "code",
   "execution_count": 7,
   "metadata": {},
   "outputs": [
    {
     "data": {
      "text/html": [
       "<div>\n",
       "<style scoped>\n",
       "    .dataframe tbody tr th:only-of-type {\n",
       "        vertical-align: middle;\n",
       "    }\n",
       "\n",
       "    .dataframe tbody tr th {\n",
       "        vertical-align: top;\n",
       "    }\n",
       "\n",
       "    .dataframe thead th {\n",
       "        text-align: right;\n",
       "    }\n",
       "</style>\n",
       "<table border=\"1\" class=\"dataframe\">\n",
       "  <thead>\n",
       "    <tr style=\"text-align: right;\">\n",
       "      <th></th>\n",
       "      <th>ID</th>\n",
       "      <th>Date_confirmation</th>\n",
       "      <th>Location</th>\n",
       "      <th>City</th>\n",
       "      <th>Country</th>\n",
       "      <th>Status</th>\n",
       "      <th>Symptoms</th>\n",
       "      <th>Country_ISO3</th>\n",
       "      <th>case</th>\n",
       "    </tr>\n",
       "  </thead>\n",
       "  <tbody>\n",
       "    <tr>\n",
       "      <th>0</th>\n",
       "      <td>1</td>\n",
       "      <td>2022-05-06</td>\n",
       "      <td>Guy's and St Thomas Hospital London</td>\n",
       "      <td>London</td>\n",
       "      <td>England</td>\n",
       "      <td>confirmed</td>\n",
       "      <td>rash</td>\n",
       "      <td>GBR</td>\n",
       "      <td>1</td>\n",
       "    </tr>\n",
       "    <tr>\n",
       "      <th>1</th>\n",
       "      <td>2</td>\n",
       "      <td>2022-05-12</td>\n",
       "      <td>Guy's and St Thomas Hospital London</td>\n",
       "      <td>London</td>\n",
       "      <td>England</td>\n",
       "      <td>confirmed</td>\n",
       "      <td>rash</td>\n",
       "      <td>GBR</td>\n",
       "      <td>1</td>\n",
       "    </tr>\n",
       "    <tr>\n",
       "      <th>2</th>\n",
       "      <td>3</td>\n",
       "      <td>2022-05-13</td>\n",
       "      <td>London</td>\n",
       "      <td>London</td>\n",
       "      <td>England</td>\n",
       "      <td>confirmed</td>\n",
       "      <td>vesicular rash</td>\n",
       "      <td>GBR</td>\n",
       "      <td>1</td>\n",
       "    </tr>\n",
       "    <tr>\n",
       "      <th>3</th>\n",
       "      <td>4</td>\n",
       "      <td>2022-05-15</td>\n",
       "      <td>London</td>\n",
       "      <td>London</td>\n",
       "      <td>England</td>\n",
       "      <td>confirmed</td>\n",
       "      <td>vesicular rash</td>\n",
       "      <td>GBR</td>\n",
       "      <td>1</td>\n",
       "    </tr>\n",
       "    <tr>\n",
       "      <th>4</th>\n",
       "      <td>5</td>\n",
       "      <td>2022-05-15</td>\n",
       "      <td>London</td>\n",
       "      <td>London</td>\n",
       "      <td>England</td>\n",
       "      <td>confirmed</td>\n",
       "      <td>vesicular rash</td>\n",
       "      <td>GBR</td>\n",
       "      <td>1</td>\n",
       "    </tr>\n",
       "    <tr>\n",
       "      <th>...</th>\n",
       "      <td>...</td>\n",
       "      <td>...</td>\n",
       "      <td>...</td>\n",
       "      <td>...</td>\n",
       "      <td>...</td>\n",
       "      <td>...</td>\n",
       "      <td>...</td>\n",
       "      <td>...</td>\n",
       "      <td>...</td>\n",
       "    </tr>\n",
       "    <tr>\n",
       "      <th>2160</th>\n",
       "      <td>2161</td>\n",
       "      <td>2022-06-14</td>\n",
       "      <td>Quebec</td>\n",
       "      <td>NaN</td>\n",
       "      <td>Canada</td>\n",
       "      <td>confirmed</td>\n",
       "      <td>NaN</td>\n",
       "      <td>CAN</td>\n",
       "      <td>1</td>\n",
       "    </tr>\n",
       "    <tr>\n",
       "      <th>2161</th>\n",
       "      <td>2162</td>\n",
       "      <td>2022-06-14</td>\n",
       "      <td>Quebec</td>\n",
       "      <td>NaN</td>\n",
       "      <td>Canada</td>\n",
       "      <td>confirmed</td>\n",
       "      <td>NaN</td>\n",
       "      <td>CAN</td>\n",
       "      <td>1</td>\n",
       "    </tr>\n",
       "    <tr>\n",
       "      <th>2162</th>\n",
       "      <td>2163</td>\n",
       "      <td>2022-06-14</td>\n",
       "      <td>Quebec</td>\n",
       "      <td>NaN</td>\n",
       "      <td>Canada</td>\n",
       "      <td>confirmed</td>\n",
       "      <td>NaN</td>\n",
       "      <td>CAN</td>\n",
       "      <td>1</td>\n",
       "    </tr>\n",
       "    <tr>\n",
       "      <th>2163</th>\n",
       "      <td>2164</td>\n",
       "      <td>2022-06-14</td>\n",
       "      <td>Quebec</td>\n",
       "      <td>NaN</td>\n",
       "      <td>Canada</td>\n",
       "      <td>confirmed</td>\n",
       "      <td>NaN</td>\n",
       "      <td>CAN</td>\n",
       "      <td>1</td>\n",
       "    </tr>\n",
       "    <tr>\n",
       "      <th>2164</th>\n",
       "      <td>2165</td>\n",
       "      <td>2022-06-14</td>\n",
       "      <td>Quebec</td>\n",
       "      <td>NaN</td>\n",
       "      <td>Canada</td>\n",
       "      <td>confirmed</td>\n",
       "      <td>NaN</td>\n",
       "      <td>CAN</td>\n",
       "      <td>1</td>\n",
       "    </tr>\n",
       "  </tbody>\n",
       "</table>\n",
       "<p>1806 rows × 9 columns</p>\n",
       "</div>"
      ],
      "text/plain": [
       "        ID Date_confirmation                             Location    City  \\\n",
       "0        1        2022-05-06  Guy's and St Thomas Hospital London  London   \n",
       "1        2        2022-05-12  Guy's and St Thomas Hospital London  London   \n",
       "2        3        2022-05-13                               London  London   \n",
       "3        4        2022-05-15                               London  London   \n",
       "4        5        2022-05-15                               London  London   \n",
       "...    ...               ...                                  ...     ...   \n",
       "2160  2161        2022-06-14                               Quebec     NaN   \n",
       "2161  2162        2022-06-14                               Quebec     NaN   \n",
       "2162  2163        2022-06-14                               Quebec     NaN   \n",
       "2163  2164        2022-06-14                               Quebec     NaN   \n",
       "2164  2165        2022-06-14                               Quebec     NaN   \n",
       "\n",
       "      Country     Status        Symptoms Country_ISO3  case  \n",
       "0     England  confirmed            rash          GBR     1  \n",
       "1     England  confirmed            rash          GBR     1  \n",
       "2     England  confirmed  vesicular rash          GBR     1  \n",
       "3     England  confirmed  vesicular rash          GBR     1  \n",
       "4     England  confirmed  vesicular rash          GBR     1  \n",
       "...       ...        ...             ...          ...   ...  \n",
       "2160   Canada  confirmed             NaN          CAN     1  \n",
       "2161   Canada  confirmed             NaN          CAN     1  \n",
       "2162   Canada  confirmed             NaN          CAN     1  \n",
       "2163   Canada  confirmed             NaN          CAN     1  \n",
       "2164   Canada  confirmed             NaN          CAN     1  \n",
       "\n",
       "[1806 rows x 9 columns]"
      ]
     },
     "execution_count": 7,
     "metadata": {},
     "output_type": "execute_result"
    }
   ],
   "source": [
    "only_con_df['case'] = only_con_df.loc[:, 'Status']\n",
    "only_con_df['case'] = only_con_df['case'].replace('confirmed', '1').astype('int')\n",
    "only_con_df"
   ]
  },
  {
   "cell_type": "code",
   "execution_count": 8,
   "metadata": {},
   "outputs": [
    {
     "name": "stdout",
     "output_type": "stream",
     "text": [
      "<class 'pandas.core.frame.DataFrame'>\n",
      "Int64Index: 1806 entries, 0 to 2164\n",
      "Data columns (total 9 columns):\n",
      " #   Column             Non-Null Count  Dtype \n",
      "---  ------             --------------  ----- \n",
      " 0   ID                 1806 non-null   int64 \n",
      " 1   Date_confirmation  1806 non-null   object\n",
      " 2   Location           823 non-null    object\n",
      " 3   City               404 non-null    object\n",
      " 4   Country            1806 non-null   object\n",
      " 5   Status             1806 non-null   object\n",
      " 6   Symptoms           101 non-null    object\n",
      " 7   Country_ISO3       1806 non-null   object\n",
      " 8   case               1806 non-null   int32 \n",
      "dtypes: int32(1), int64(1), object(7)\n",
      "memory usage: 134.0+ KB\n"
     ]
    }
   ],
   "source": [
    "only_con_df.info()"
   ]
  },
  {
   "cell_type": "code",
   "execution_count": 9,
   "metadata": {},
   "outputs": [
    {
     "data": {
      "text/html": [
       "<div>\n",
       "<style scoped>\n",
       "    .dataframe tbody tr th:only-of-type {\n",
       "        vertical-align: middle;\n",
       "    }\n",
       "\n",
       "    .dataframe tbody tr th {\n",
       "        vertical-align: top;\n",
       "    }\n",
       "\n",
       "    .dataframe thead th {\n",
       "        text-align: right;\n",
       "    }\n",
       "</style>\n",
       "<table border=\"1\" class=\"dataframe\">\n",
       "  <thead>\n",
       "    <tr style=\"text-align: right;\">\n",
       "      <th></th>\n",
       "      <th>ID</th>\n",
       "      <th>Date_confirmation</th>\n",
       "      <th>Location</th>\n",
       "      <th>City</th>\n",
       "      <th>Country</th>\n",
       "      <th>Status</th>\n",
       "      <th>Symptoms</th>\n",
       "      <th>Country_ISO3</th>\n",
       "      <th>case</th>\n",
       "    </tr>\n",
       "  </thead>\n",
       "  <tbody>\n",
       "    <tr>\n",
       "      <th>0</th>\n",
       "      <td>1</td>\n",
       "      <td>2022-05-06</td>\n",
       "      <td>Guy's and St Thomas Hospital London</td>\n",
       "      <td>London</td>\n",
       "      <td>England</td>\n",
       "      <td>confirmed</td>\n",
       "      <td>rash</td>\n",
       "      <td>GBR</td>\n",
       "      <td>1</td>\n",
       "    </tr>\n",
       "    <tr>\n",
       "      <th>1</th>\n",
       "      <td>2</td>\n",
       "      <td>2022-05-12</td>\n",
       "      <td>Guy's and St Thomas Hospital London</td>\n",
       "      <td>London</td>\n",
       "      <td>England</td>\n",
       "      <td>confirmed</td>\n",
       "      <td>rash</td>\n",
       "      <td>GBR</td>\n",
       "      <td>1</td>\n",
       "    </tr>\n",
       "    <tr>\n",
       "      <th>2</th>\n",
       "      <td>3</td>\n",
       "      <td>2022-05-13</td>\n",
       "      <td>London</td>\n",
       "      <td>London</td>\n",
       "      <td>England</td>\n",
       "      <td>confirmed</td>\n",
       "      <td>vesicular rash</td>\n",
       "      <td>GBR</td>\n",
       "      <td>1</td>\n",
       "    </tr>\n",
       "    <tr>\n",
       "      <th>3</th>\n",
       "      <td>4</td>\n",
       "      <td>2022-05-15</td>\n",
       "      <td>London</td>\n",
       "      <td>London</td>\n",
       "      <td>England</td>\n",
       "      <td>confirmed</td>\n",
       "      <td>vesicular rash</td>\n",
       "      <td>GBR</td>\n",
       "      <td>1</td>\n",
       "    </tr>\n",
       "    <tr>\n",
       "      <th>4</th>\n",
       "      <td>5</td>\n",
       "      <td>2022-05-15</td>\n",
       "      <td>London</td>\n",
       "      <td>London</td>\n",
       "      <td>England</td>\n",
       "      <td>confirmed</td>\n",
       "      <td>vesicular rash</td>\n",
       "      <td>GBR</td>\n",
       "      <td>1</td>\n",
       "    </tr>\n",
       "    <tr>\n",
       "      <th>...</th>\n",
       "      <td>...</td>\n",
       "      <td>...</td>\n",
       "      <td>...</td>\n",
       "      <td>...</td>\n",
       "      <td>...</td>\n",
       "      <td>...</td>\n",
       "      <td>...</td>\n",
       "      <td>...</td>\n",
       "      <td>...</td>\n",
       "    </tr>\n",
       "    <tr>\n",
       "      <th>2160</th>\n",
       "      <td>2161</td>\n",
       "      <td>2022-06-14</td>\n",
       "      <td>Quebec</td>\n",
       "      <td>NaN</td>\n",
       "      <td>Canada</td>\n",
       "      <td>confirmed</td>\n",
       "      <td>NaN</td>\n",
       "      <td>CAN</td>\n",
       "      <td>1</td>\n",
       "    </tr>\n",
       "    <tr>\n",
       "      <th>2161</th>\n",
       "      <td>2162</td>\n",
       "      <td>2022-06-14</td>\n",
       "      <td>Quebec</td>\n",
       "      <td>NaN</td>\n",
       "      <td>Canada</td>\n",
       "      <td>confirmed</td>\n",
       "      <td>NaN</td>\n",
       "      <td>CAN</td>\n",
       "      <td>1</td>\n",
       "    </tr>\n",
       "    <tr>\n",
       "      <th>2162</th>\n",
       "      <td>2163</td>\n",
       "      <td>2022-06-14</td>\n",
       "      <td>Quebec</td>\n",
       "      <td>NaN</td>\n",
       "      <td>Canada</td>\n",
       "      <td>confirmed</td>\n",
       "      <td>NaN</td>\n",
       "      <td>CAN</td>\n",
       "      <td>1</td>\n",
       "    </tr>\n",
       "    <tr>\n",
       "      <th>2163</th>\n",
       "      <td>2164</td>\n",
       "      <td>2022-06-14</td>\n",
       "      <td>Quebec</td>\n",
       "      <td>NaN</td>\n",
       "      <td>Canada</td>\n",
       "      <td>confirmed</td>\n",
       "      <td>NaN</td>\n",
       "      <td>CAN</td>\n",
       "      <td>1</td>\n",
       "    </tr>\n",
       "    <tr>\n",
       "      <th>2164</th>\n",
       "      <td>2165</td>\n",
       "      <td>2022-06-14</td>\n",
       "      <td>Quebec</td>\n",
       "      <td>NaN</td>\n",
       "      <td>Canada</td>\n",
       "      <td>confirmed</td>\n",
       "      <td>NaN</td>\n",
       "      <td>CAN</td>\n",
       "      <td>1</td>\n",
       "    </tr>\n",
       "  </tbody>\n",
       "</table>\n",
       "<p>1806 rows × 9 columns</p>\n",
       "</div>"
      ],
      "text/plain": [
       "        ID Date_confirmation                             Location    City  \\\n",
       "0        1        2022-05-06  Guy's and St Thomas Hospital London  London   \n",
       "1        2        2022-05-12  Guy's and St Thomas Hospital London  London   \n",
       "2        3        2022-05-13                               London  London   \n",
       "3        4        2022-05-15                               London  London   \n",
       "4        5        2022-05-15                               London  London   \n",
       "...    ...               ...                                  ...     ...   \n",
       "2160  2161        2022-06-14                               Quebec     NaN   \n",
       "2161  2162        2022-06-14                               Quebec     NaN   \n",
       "2162  2163        2022-06-14                               Quebec     NaN   \n",
       "2163  2164        2022-06-14                               Quebec     NaN   \n",
       "2164  2165        2022-06-14                               Quebec     NaN   \n",
       "\n",
       "      Country     Status        Symptoms Country_ISO3  case  \n",
       "0     England  confirmed            rash          GBR     1  \n",
       "1     England  confirmed            rash          GBR     1  \n",
       "2     England  confirmed  vesicular rash          GBR     1  \n",
       "3     England  confirmed  vesicular rash          GBR     1  \n",
       "4     England  confirmed  vesicular rash          GBR     1  \n",
       "...       ...        ...             ...          ...   ...  \n",
       "2160   Canada  confirmed             NaN          CAN     1  \n",
       "2161   Canada  confirmed             NaN          CAN     1  \n",
       "2162   Canada  confirmed             NaN          CAN     1  \n",
       "2163   Canada  confirmed             NaN          CAN     1  \n",
       "2164   Canada  confirmed             NaN          CAN     1  \n",
       "\n",
       "[1806 rows x 9 columns]"
      ]
     },
     "execution_count": 9,
     "metadata": {},
     "output_type": "execute_result"
    }
   ],
   "source": [
    "only_con_df['Date_confirmation'] = pd.to_datetime(only_con_df['Date_confirmation'])\n",
    "only_con_df"
   ]
  },
  {
   "cell_type": "code",
   "execution_count": 10,
   "metadata": {},
   "outputs": [
    {
     "data": {
      "text/html": [
       "<div>\n",
       "<style scoped>\n",
       "    .dataframe tbody tr th:only-of-type {\n",
       "        vertical-align: middle;\n",
       "    }\n",
       "\n",
       "    .dataframe tbody tr th {\n",
       "        vertical-align: top;\n",
       "    }\n",
       "\n",
       "    .dataframe thead th {\n",
       "        text-align: right;\n",
       "    }\n",
       "</style>\n",
       "<table border=\"1\" class=\"dataframe\">\n",
       "  <thead>\n",
       "    <tr style=\"text-align: right;\">\n",
       "      <th></th>\n",
       "      <th>Country</th>\n",
       "      <th>Date_confirmation</th>\n",
       "      <th>case</th>\n",
       "    </tr>\n",
       "  </thead>\n",
       "  <tbody>\n",
       "    <tr>\n",
       "      <th>0</th>\n",
       "      <td>Argentina</td>\n",
       "      <td>2022-06-09</td>\n",
       "      <td>3</td>\n",
       "    </tr>\n",
       "    <tr>\n",
       "      <th>1</th>\n",
       "      <td>Australia</td>\n",
       "      <td>2022-06-09</td>\n",
       "      <td>8</td>\n",
       "    </tr>\n",
       "    <tr>\n",
       "      <th>2</th>\n",
       "      <td>Austria</td>\n",
       "      <td>2022-06-13</td>\n",
       "      <td>3</td>\n",
       "    </tr>\n",
       "    <tr>\n",
       "      <th>3</th>\n",
       "      <td>Belgium</td>\n",
       "      <td>2022-06-08</td>\n",
       "      <td>24</td>\n",
       "    </tr>\n",
       "    <tr>\n",
       "      <th>4</th>\n",
       "      <td>Brazil</td>\n",
       "      <td>2022-06-11</td>\n",
       "      <td>3</td>\n",
       "    </tr>\n",
       "    <tr>\n",
       "      <th>5</th>\n",
       "      <td>Canada</td>\n",
       "      <td>2022-06-14</td>\n",
       "      <td>158</td>\n",
       "    </tr>\n",
       "    <tr>\n",
       "      <th>6</th>\n",
       "      <td>Czech Republic</td>\n",
       "      <td>2022-06-02</td>\n",
       "      <td>6</td>\n",
       "    </tr>\n",
       "    <tr>\n",
       "      <th>7</th>\n",
       "      <td>Denmark</td>\n",
       "      <td>2022-06-10</td>\n",
       "      <td>4</td>\n",
       "    </tr>\n",
       "    <tr>\n",
       "      <th>8</th>\n",
       "      <td>England</td>\n",
       "      <td>2022-06-12</td>\n",
       "      <td>452</td>\n",
       "    </tr>\n",
       "    <tr>\n",
       "      <th>9</th>\n",
       "      <td>Finland</td>\n",
       "      <td>2022-06-09</td>\n",
       "      <td>3</td>\n",
       "    </tr>\n",
       "    <tr>\n",
       "      <th>10</th>\n",
       "      <td>France</td>\n",
       "      <td>2022-06-09</td>\n",
       "      <td>91</td>\n",
       "    </tr>\n",
       "    <tr>\n",
       "      <th>11</th>\n",
       "      <td>Germany</td>\n",
       "      <td>2022-06-14</td>\n",
       "      <td>228</td>\n",
       "    </tr>\n",
       "    <tr>\n",
       "      <th>12</th>\n",
       "      <td>Ghana</td>\n",
       "      <td>2022-06-08</td>\n",
       "      <td>5</td>\n",
       "    </tr>\n",
       "    <tr>\n",
       "      <th>13</th>\n",
       "      <td>Gibraltar</td>\n",
       "      <td>2022-06-01</td>\n",
       "      <td>1</td>\n",
       "    </tr>\n",
       "    <tr>\n",
       "      <th>14</th>\n",
       "      <td>Greece</td>\n",
       "      <td>2022-06-08</td>\n",
       "      <td>1</td>\n",
       "    </tr>\n",
       "    <tr>\n",
       "      <th>15</th>\n",
       "      <td>Hungary</td>\n",
       "      <td>2022-05-31</td>\n",
       "      <td>1</td>\n",
       "    </tr>\n",
       "    <tr>\n",
       "      <th>16</th>\n",
       "      <td>Ireland</td>\n",
       "      <td>2022-06-10</td>\n",
       "      <td>9</td>\n",
       "    </tr>\n",
       "    <tr>\n",
       "      <th>17</th>\n",
       "      <td>Israel</td>\n",
       "      <td>2022-06-09</td>\n",
       "      <td>4</td>\n",
       "    </tr>\n",
       "    <tr>\n",
       "      <th>18</th>\n",
       "      <td>Italy</td>\n",
       "      <td>2022-06-14</td>\n",
       "      <td>38</td>\n",
       "    </tr>\n",
       "    <tr>\n",
       "      <th>19</th>\n",
       "      <td>Latvia</td>\n",
       "      <td>2022-06-09</td>\n",
       "      <td>2</td>\n",
       "    </tr>\n",
       "    <tr>\n",
       "      <th>20</th>\n",
       "      <td>Malta</td>\n",
       "      <td>2022-05-28</td>\n",
       "      <td>1</td>\n",
       "    </tr>\n",
       "    <tr>\n",
       "      <th>21</th>\n",
       "      <td>Mexico</td>\n",
       "      <td>2022-06-11</td>\n",
       "      <td>2</td>\n",
       "    </tr>\n",
       "    <tr>\n",
       "      <th>22</th>\n",
       "      <td>Morocco</td>\n",
       "      <td>2022-06-02</td>\n",
       "      <td>1</td>\n",
       "    </tr>\n",
       "    <tr>\n",
       "      <th>23</th>\n",
       "      <td>Netherlands</td>\n",
       "      <td>2022-06-14</td>\n",
       "      <td>80</td>\n",
       "    </tr>\n",
       "    <tr>\n",
       "      <th>24</th>\n",
       "      <td>Northern Ireland</td>\n",
       "      <td>2022-05-30</td>\n",
       "      <td>2</td>\n",
       "    </tr>\n",
       "    <tr>\n",
       "      <th>25</th>\n",
       "      <td>Norway</td>\n",
       "      <td>2022-06-01</td>\n",
       "      <td>2</td>\n",
       "    </tr>\n",
       "    <tr>\n",
       "      <th>26</th>\n",
       "      <td>Poland</td>\n",
       "      <td>2022-06-10</td>\n",
       "      <td>1</td>\n",
       "    </tr>\n",
       "    <tr>\n",
       "      <th>27</th>\n",
       "      <td>Portugal</td>\n",
       "      <td>2022-06-14</td>\n",
       "      <td>231</td>\n",
       "    </tr>\n",
       "    <tr>\n",
       "      <th>28</th>\n",
       "      <td>Romania</td>\n",
       "      <td>2022-06-13</td>\n",
       "      <td>1</td>\n",
       "    </tr>\n",
       "    <tr>\n",
       "      <th>29</th>\n",
       "      <td>Scotland</td>\n",
       "      <td>2022-06-09</td>\n",
       "      <td>12</td>\n",
       "    </tr>\n",
       "    <tr>\n",
       "      <th>30</th>\n",
       "      <td>Slovenia</td>\n",
       "      <td>2022-06-13</td>\n",
       "      <td>7</td>\n",
       "    </tr>\n",
       "    <tr>\n",
       "      <th>31</th>\n",
       "      <td>Spain</td>\n",
       "      <td>2022-06-14</td>\n",
       "      <td>313</td>\n",
       "    </tr>\n",
       "    <tr>\n",
       "      <th>32</th>\n",
       "      <td>Sweden</td>\n",
       "      <td>2022-06-10</td>\n",
       "      <td>6</td>\n",
       "    </tr>\n",
       "    <tr>\n",
       "      <th>33</th>\n",
       "      <td>Switzerland</td>\n",
       "      <td>2022-06-14</td>\n",
       "      <td>20</td>\n",
       "    </tr>\n",
       "    <tr>\n",
       "      <th>34</th>\n",
       "      <td>United Arab Emirates</td>\n",
       "      <td>2022-06-07</td>\n",
       "      <td>13</td>\n",
       "    </tr>\n",
       "    <tr>\n",
       "      <th>35</th>\n",
       "      <td>United States</td>\n",
       "      <td>2022-06-13</td>\n",
       "      <td>65</td>\n",
       "    </tr>\n",
       "    <tr>\n",
       "      <th>36</th>\n",
       "      <td>Venezuela</td>\n",
       "      <td>2022-06-12</td>\n",
       "      <td>1</td>\n",
       "    </tr>\n",
       "    <tr>\n",
       "      <th>37</th>\n",
       "      <td>Wales</td>\n",
       "      <td>2022-06-09</td>\n",
       "      <td>4</td>\n",
       "    </tr>\n",
       "  </tbody>\n",
       "</table>\n",
       "</div>"
      ],
      "text/plain": [
       "                 Country Date_confirmation  case\n",
       "0              Argentina        2022-06-09     3\n",
       "1              Australia        2022-06-09     8\n",
       "2                Austria        2022-06-13     3\n",
       "3                Belgium        2022-06-08    24\n",
       "4                 Brazil        2022-06-11     3\n",
       "5                 Canada        2022-06-14   158\n",
       "6         Czech Republic        2022-06-02     6\n",
       "7                Denmark        2022-06-10     4\n",
       "8                England        2022-06-12   452\n",
       "9                Finland        2022-06-09     3\n",
       "10                France        2022-06-09    91\n",
       "11               Germany        2022-06-14   228\n",
       "12                 Ghana        2022-06-08     5\n",
       "13             Gibraltar        2022-06-01     1\n",
       "14                Greece        2022-06-08     1\n",
       "15               Hungary        2022-05-31     1\n",
       "16               Ireland        2022-06-10     9\n",
       "17                Israel        2022-06-09     4\n",
       "18                 Italy        2022-06-14    38\n",
       "19                Latvia        2022-06-09     2\n",
       "20                 Malta        2022-05-28     1\n",
       "21                Mexico        2022-06-11     2\n",
       "22               Morocco        2022-06-02     1\n",
       "23           Netherlands        2022-06-14    80\n",
       "24      Northern Ireland        2022-05-30     2\n",
       "25                Norway        2022-06-01     2\n",
       "26                Poland        2022-06-10     1\n",
       "27              Portugal        2022-06-14   231\n",
       "28               Romania        2022-06-13     1\n",
       "29              Scotland        2022-06-09    12\n",
       "30              Slovenia        2022-06-13     7\n",
       "31                 Spain        2022-06-14   313\n",
       "32                Sweden        2022-06-10     6\n",
       "33           Switzerland        2022-06-14    20\n",
       "34  United Arab Emirates        2022-06-07    13\n",
       "35         United States        2022-06-13    65\n",
       "36             Venezuela        2022-06-12     1\n",
       "37                 Wales        2022-06-09     4"
      ]
     },
     "execution_count": 10,
     "metadata": {},
     "output_type": "execute_result"
    }
   ],
   "source": [
    "# The current data set doesnt have total confirm case for each country.\n",
    "\n",
    "Total_case = only_con_df.groupby('Country', as_index=False).agg(Date_confirmation=('Date_confirmation', 'last'),case=('case',\n",
    "                                                           lambda x: sum(x == x.iloc[-1])))\n",
    "\n",
    "Total_case"
   ]
  },
  {
   "cell_type": "code",
   "execution_count": 11,
   "metadata": {},
   "outputs": [],
   "source": [
    "# sum_case = []\n",
    "# counter = 0\n",
    "\n",
    "\n",
    "# for i in only_con_df[\"Country\"]:\n",
    "# \tif 'England' in i:\n",
    "# \t\tcounter += 1\n",
    "# \tsum_case.append(counter)"
   ]
  },
  {
   "cell_type": "code",
   "execution_count": 12,
   "metadata": {},
   "outputs": [
    {
     "data": {
      "text/html": [
       "<div>\n",
       "<style scoped>\n",
       "    .dataframe tbody tr th:only-of-type {\n",
       "        vertical-align: middle;\n",
       "    }\n",
       "\n",
       "    .dataframe tbody tr th {\n",
       "        vertical-align: top;\n",
       "    }\n",
       "\n",
       "    .dataframe thead th {\n",
       "        text-align: right;\n",
       "    }\n",
       "</style>\n",
       "<table border=\"1\" class=\"dataframe\">\n",
       "  <thead>\n",
       "    <tr style=\"text-align: right;\">\n",
       "      <th></th>\n",
       "      <th>Country</th>\n",
       "      <th>level_1</th>\n",
       "      <th>Symptoms</th>\n",
       "    </tr>\n",
       "  </thead>\n",
       "  <tbody>\n",
       "    <tr>\n",
       "      <th>0</th>\n",
       "      <td>England</td>\n",
       "      <td>0</td>\n",
       "      <td>rash</td>\n",
       "    </tr>\n",
       "    <tr>\n",
       "      <th>1</th>\n",
       "      <td>England</td>\n",
       "      <td>0</td>\n",
       "      <td>rash</td>\n",
       "    </tr>\n",
       "    <tr>\n",
       "      <th>2</th>\n",
       "      <td>England</td>\n",
       "      <td>0</td>\n",
       "      <td>vesicular rash</td>\n",
       "    </tr>\n",
       "    <tr>\n",
       "      <th>3</th>\n",
       "      <td>England</td>\n",
       "      <td>0</td>\n",
       "      <td>vesicular rash</td>\n",
       "    </tr>\n",
       "    <tr>\n",
       "      <th>4</th>\n",
       "      <td>England</td>\n",
       "      <td>0</td>\n",
       "      <td>vesicular rash</td>\n",
       "    </tr>\n",
       "    <tr>\n",
       "      <th>...</th>\n",
       "      <td>...</td>\n",
       "      <td>...</td>\n",
       "      <td>...</td>\n",
       "    </tr>\n",
       "    <tr>\n",
       "      <th>161</th>\n",
       "      <td>Argentina</td>\n",
       "      <td>0</td>\n",
       "      <td>muscle pain</td>\n",
       "    </tr>\n",
       "    <tr>\n",
       "      <th>162</th>\n",
       "      <td>Argentina</td>\n",
       "      <td>0</td>\n",
       "      <td>back pain</td>\n",
       "    </tr>\n",
       "    <tr>\n",
       "      <th>163</th>\n",
       "      <td>Argentina</td>\n",
       "      <td>0</td>\n",
       "      <td>vasicular rashes</td>\n",
       "    </tr>\n",
       "    <tr>\n",
       "      <th>164</th>\n",
       "      <td>Brazil</td>\n",
       "      <td>0</td>\n",
       "      <td>skin lesions</td>\n",
       "    </tr>\n",
       "    <tr>\n",
       "      <th>165</th>\n",
       "      <td>Italy</td>\n",
       "      <td>0</td>\n",
       "      <td>skin lesions</td>\n",
       "    </tr>\n",
       "  </tbody>\n",
       "</table>\n",
       "<p>166 rows × 3 columns</p>\n",
       "</div>"
      ],
      "text/plain": [
       "       Country  level_1          Symptoms\n",
       "0      England        0              rash\n",
       "1      England        0              rash\n",
       "2      England        0    vesicular rash\n",
       "3      England        0    vesicular rash\n",
       "4      England        0    vesicular rash\n",
       "..         ...      ...               ...\n",
       "161  Argentina        0       muscle pain\n",
       "162  Argentina        0         back pain\n",
       "163  Argentina        0  vasicular rashes\n",
       "164     Brazil        0      skin lesions\n",
       "165      Italy        0      skin lesions\n",
       "\n",
       "[166 rows x 3 columns]"
      ]
     },
     "execution_count": 12,
     "metadata": {},
     "output_type": "execute_result"
    }
   ],
   "source": [
    "# Count the symptoms for each country and find the similarity ratio\n",
    "\n",
    "sym_df = df[df[\"Date_confirmation\"].notna()]\n",
    "sym_df['Symptoms'] = sym_df['Symptoms'].str.lower()\n",
    "\n",
    "\n",
    "\n",
    "sym_df = (sym_df.set_index('Country')['Symptoms']\n",
    "       .str.split(',', expand=True)\n",
    "       .apply(lambda x: x.str.strip())\n",
    "       .stack()\n",
    "       .rename('Country')\n",
    "       .reset_index(name='Symptoms'))\n",
    "\n",
    "\n",
    "sym_df = (sym_df.set_index('Country')['Symptoms']\n",
    "       .str.split(';', expand=True)\n",
    "       .apply(lambda x: x.str.strip())\n",
    "       .stack()\n",
    "       .rename('Country')\n",
    "       .reset_index(name='Symptoms'))\n",
    "\n",
    "\n",
    "sym_df = (sym_df.set_index('Country')['Symptoms']\n",
    "       .str.split('and', expand=True)\n",
    "       .apply(lambda x: x.str.strip())\n",
    "       .stack()\n",
    "       .rename('Country')\n",
    "       .reset_index(name='Symptoms'))\n",
    "sym_df\n"
   ]
  },
  {
   "cell_type": "code",
   "execution_count": 13,
   "metadata": {},
   "outputs": [
    {
     "data": {
      "text/html": [
       "<div>\n",
       "<style scoped>\n",
       "    .dataframe tbody tr th:only-of-type {\n",
       "        vertical-align: middle;\n",
       "    }\n",
       "\n",
       "    .dataframe tbody tr th {\n",
       "        vertical-align: top;\n",
       "    }\n",
       "\n",
       "    .dataframe thead th {\n",
       "        text-align: right;\n",
       "    }\n",
       "</style>\n",
       "<table border=\"1\" class=\"dataframe\">\n",
       "  <thead>\n",
       "    <tr style=\"text-align: right;\">\n",
       "      <th></th>\n",
       "      <th>Symptoms</th>\n",
       "      <th>Country</th>\n",
       "      <th>Symptoms_count</th>\n",
       "    </tr>\n",
       "  </thead>\n",
       "  <tbody>\n",
       "    <tr>\n",
       "      <th>0</th>\n",
       "      <td>an elevated temperature</td>\n",
       "      <td>Germany</td>\n",
       "      <td>1</td>\n",
       "    </tr>\n",
       "    <tr>\n",
       "      <th>1</th>\n",
       "      <td>back pain</td>\n",
       "      <td>Argentina</td>\n",
       "      <td>1</td>\n",
       "    </tr>\n",
       "    <tr>\n",
       "      <th>2</th>\n",
       "      <td>blisters</td>\n",
       "      <td>Finland</td>\n",
       "      <td>1</td>\n",
       "    </tr>\n",
       "    <tr>\n",
       "      <th>3</th>\n",
       "      <td>blisters</td>\n",
       "      <td>Italy</td>\n",
       "      <td>1</td>\n",
       "    </tr>\n",
       "    <tr>\n",
       "      <th>4</th>\n",
       "      <td>chills</td>\n",
       "      <td>Czech Republic</td>\n",
       "      <td>1</td>\n",
       "    </tr>\n",
       "    <tr>\n",
       "      <th>5</th>\n",
       "      <td>chills</td>\n",
       "      <td>United States</td>\n",
       "      <td>1</td>\n",
       "    </tr>\n",
       "    <tr>\n",
       "      <th>6</th>\n",
       "      <td>cough</td>\n",
       "      <td>Germany</td>\n",
       "      <td>1</td>\n",
       "    </tr>\n",
       "    <tr>\n",
       "      <th>7</th>\n",
       "      <td>cough</td>\n",
       "      <td>United States</td>\n",
       "      <td>1</td>\n",
       "    </tr>\n",
       "    <tr>\n",
       "      <th>8</th>\n",
       "      <td>enlarged lymph nodes</td>\n",
       "      <td>Brazil</td>\n",
       "      <td>1</td>\n",
       "    </tr>\n",
       "    <tr>\n",
       "      <th>9</th>\n",
       "      <td>fatigue</td>\n",
       "      <td>Czech Republic</td>\n",
       "      <td>1</td>\n",
       "    </tr>\n",
       "    <tr>\n",
       "      <th>10</th>\n",
       "      <td>fever</td>\n",
       "      <td>Argentina</td>\n",
       "      <td>1</td>\n",
       "    </tr>\n",
       "    <tr>\n",
       "      <th>11</th>\n",
       "      <td>fever</td>\n",
       "      <td>Austria</td>\n",
       "      <td>1</td>\n",
       "    </tr>\n",
       "    <tr>\n",
       "      <th>14</th>\n",
       "      <td>fever</td>\n",
       "      <td>Czech Republic</td>\n",
       "      <td>1</td>\n",
       "    </tr>\n",
       "    <tr>\n",
       "      <th>16</th>\n",
       "      <td>fever</td>\n",
       "      <td>Italy</td>\n",
       "      <td>1</td>\n",
       "    </tr>\n",
       "    <tr>\n",
       "      <th>17</th>\n",
       "      <td>fever</td>\n",
       "      <td>Norway</td>\n",
       "      <td>1</td>\n",
       "    </tr>\n",
       "    <tr>\n",
       "      <th>18</th>\n",
       "      <td>fever</td>\n",
       "      <td>Switzerland</td>\n",
       "      <td>1</td>\n",
       "    </tr>\n",
       "    <tr>\n",
       "      <th>12</th>\n",
       "      <td>fever</td>\n",
       "      <td>Brazil</td>\n",
       "      <td>2</td>\n",
       "    </tr>\n",
       "    <tr>\n",
       "      <th>15</th>\n",
       "      <td>fever</td>\n",
       "      <td>Germany</td>\n",
       "      <td>2</td>\n",
       "    </tr>\n",
       "    <tr>\n",
       "      <th>13</th>\n",
       "      <td>fever</td>\n",
       "      <td>Canada</td>\n",
       "      <td>17</td>\n",
       "    </tr>\n",
       "    <tr>\n",
       "      <th>19</th>\n",
       "      <td>genital rash</td>\n",
       "      <td>Australia</td>\n",
       "      <td>1</td>\n",
       "    </tr>\n",
       "    <tr>\n",
       "      <th>20</th>\n",
       "      <td>genital ulcer lesions</td>\n",
       "      <td>Canada</td>\n",
       "      <td>30</td>\n",
       "    </tr>\n",
       "    <tr>\n",
       "      <th>21</th>\n",
       "      <td>genital ulcers</td>\n",
       "      <td>Canada</td>\n",
       "      <td>22</td>\n",
       "    </tr>\n",
       "    <tr>\n",
       "      <th>22</th>\n",
       "      <td>headache</td>\n",
       "      <td>Argentina</td>\n",
       "      <td>1</td>\n",
       "    </tr>\n",
       "    <tr>\n",
       "      <th>23</th>\n",
       "      <td>headache</td>\n",
       "      <td>Czech Republic</td>\n",
       "      <td>1</td>\n",
       "    </tr>\n",
       "    <tr>\n",
       "      <th>24</th>\n",
       "      <td>headaches</td>\n",
       "      <td>Brazil</td>\n",
       "      <td>1</td>\n",
       "    </tr>\n",
       "    <tr>\n",
       "      <th>25</th>\n",
       "      <td>high fever</td>\n",
       "      <td>Finland</td>\n",
       "      <td>1</td>\n",
       "    </tr>\n",
       "    <tr>\n",
       "      <th>26</th>\n",
       "      <td>inguinal adenopathy</td>\n",
       "      <td>Belgium</td>\n",
       "      <td>1</td>\n",
       "    </tr>\n",
       "    <tr>\n",
       "      <th>27</th>\n",
       "      <td>lesions</td>\n",
       "      <td>Austria</td>\n",
       "      <td>1</td>\n",
       "    </tr>\n",
       "    <tr>\n",
       "      <th>28</th>\n",
       "      <td>lesions</td>\n",
       "      <td>Italy</td>\n",
       "      <td>1</td>\n",
       "    </tr>\n",
       "    <tr>\n",
       "      <th>29</th>\n",
       "      <td>muscle pain</td>\n",
       "      <td>Argentina</td>\n",
       "      <td>1</td>\n",
       "    </tr>\n",
       "    <tr>\n",
       "      <th>30</th>\n",
       "      <td>muscle pain</td>\n",
       "      <td>Norway</td>\n",
       "      <td>1</td>\n",
       "    </tr>\n",
       "    <tr>\n",
       "      <th>31</th>\n",
       "      <td>muscle pain</td>\n",
       "      <td>United States</td>\n",
       "      <td>1</td>\n",
       "    </tr>\n",
       "    <tr>\n",
       "      <th>32</th>\n",
       "      <td>myalgia</td>\n",
       "      <td>Brazil</td>\n",
       "      <td>1</td>\n",
       "    </tr>\n",
       "    <tr>\n",
       "      <th>33</th>\n",
       "      <td>oral</td>\n",
       "      <td>Canada</td>\n",
       "      <td>17</td>\n",
       "    </tr>\n",
       "    <tr>\n",
       "      <th>34</th>\n",
       "      <td>perianal papules</td>\n",
       "      <td>Belgium</td>\n",
       "      <td>1</td>\n",
       "    </tr>\n",
       "    <tr>\n",
       "      <th>35</th>\n",
       "      <td>pustule-like lesions</td>\n",
       "      <td>United States</td>\n",
       "      <td>1</td>\n",
       "    </tr>\n",
       "    <tr>\n",
       "      <th>36</th>\n",
       "      <td>pustules</td>\n",
       "      <td>Argentina</td>\n",
       "      <td>1</td>\n",
       "    </tr>\n",
       "    <tr>\n",
       "      <th>38</th>\n",
       "      <td>rash</td>\n",
       "      <td>Norway</td>\n",
       "      <td>1</td>\n",
       "    </tr>\n",
       "    <tr>\n",
       "      <th>39</th>\n",
       "      <td>rash</td>\n",
       "      <td>Switzerland</td>\n",
       "      <td>1</td>\n",
       "    </tr>\n",
       "    <tr>\n",
       "      <th>37</th>\n",
       "      <td>rash</td>\n",
       "      <td>England</td>\n",
       "      <td>2</td>\n",
       "    </tr>\n",
       "    <tr>\n",
       "      <th>41</th>\n",
       "      <td>skin lesions</td>\n",
       "      <td>Czech Republic</td>\n",
       "      <td>1</td>\n",
       "    </tr>\n",
       "    <tr>\n",
       "      <th>42</th>\n",
       "      <td>skin lesions</td>\n",
       "      <td>Germany</td>\n",
       "      <td>1</td>\n",
       "    </tr>\n",
       "    <tr>\n",
       "      <th>40</th>\n",
       "      <td>skin lesions</td>\n",
       "      <td>Brazil</td>\n",
       "      <td>2</td>\n",
       "    </tr>\n",
       "    <tr>\n",
       "      <th>43</th>\n",
       "      <td>skin lesions</td>\n",
       "      <td>Italy</td>\n",
       "      <td>3</td>\n",
       "    </tr>\n",
       "    <tr>\n",
       "      <th>44</th>\n",
       "      <td>skin lesions</td>\n",
       "      <td>Portugal</td>\n",
       "      <td>5</td>\n",
       "    </tr>\n",
       "    <tr>\n",
       "      <th>45</th>\n",
       "      <td>skin rashes</td>\n",
       "      <td>Germany</td>\n",
       "      <td>1</td>\n",
       "    </tr>\n",
       "    <tr>\n",
       "      <th>46</th>\n",
       "      <td>slight swallowing difficulties</td>\n",
       "      <td>Germany</td>\n",
       "      <td>1</td>\n",
       "    </tr>\n",
       "    <tr>\n",
       "      <th>47</th>\n",
       "      <td>ulcerative lesions</td>\n",
       "      <td>Argentina</td>\n",
       "      <td>1</td>\n",
       "    </tr>\n",
       "    <tr>\n",
       "      <th>48</th>\n",
       "      <td>ulcerative lesions</td>\n",
       "      <td>Portugal</td>\n",
       "      <td>20</td>\n",
       "    </tr>\n",
       "    <tr>\n",
       "      <th>49</th>\n",
       "      <td>vasicular rashes</td>\n",
       "      <td>Argentina</td>\n",
       "      <td>1</td>\n",
       "    </tr>\n",
       "    <tr>\n",
       "      <th>50</th>\n",
       "      <td>vesicular rash</td>\n",
       "      <td>England</td>\n",
       "      <td>5</td>\n",
       "    </tr>\n",
       "  </tbody>\n",
       "</table>\n",
       "</div>"
      ],
      "text/plain": [
       "                          Symptoms         Country  Symptoms_count\n",
       "0          an elevated temperature         Germany               1\n",
       "1                        back pain       Argentina               1\n",
       "2                         blisters         Finland               1\n",
       "3                         blisters           Italy               1\n",
       "4                           chills  Czech Republic               1\n",
       "5                           chills   United States               1\n",
       "6                            cough         Germany               1\n",
       "7                            cough   United States               1\n",
       "8             enlarged lymph nodes          Brazil               1\n",
       "9                          fatigue  Czech Republic               1\n",
       "10                           fever       Argentina               1\n",
       "11                           fever         Austria               1\n",
       "14                           fever  Czech Republic               1\n",
       "16                           fever           Italy               1\n",
       "17                           fever          Norway               1\n",
       "18                           fever     Switzerland               1\n",
       "12                           fever          Brazil               2\n",
       "15                           fever         Germany               2\n",
       "13                           fever          Canada              17\n",
       "19                    genital rash       Australia               1\n",
       "20           genital ulcer lesions          Canada              30\n",
       "21                  genital ulcers          Canada              22\n",
       "22                        headache       Argentina               1\n",
       "23                        headache  Czech Republic               1\n",
       "24                       headaches          Brazil               1\n",
       "25                      high fever         Finland               1\n",
       "26             inguinal adenopathy         Belgium               1\n",
       "27                         lesions         Austria               1\n",
       "28                         lesions           Italy               1\n",
       "29                     muscle pain       Argentina               1\n",
       "30                     muscle pain          Norway               1\n",
       "31                     muscle pain   United States               1\n",
       "32                         myalgia          Brazil               1\n",
       "33                            oral          Canada              17\n",
       "34                perianal papules         Belgium               1\n",
       "35            pustule-like lesions   United States               1\n",
       "36                        pustules       Argentina               1\n",
       "38                            rash          Norway               1\n",
       "39                            rash     Switzerland               1\n",
       "37                            rash         England               2\n",
       "41                    skin lesions  Czech Republic               1\n",
       "42                    skin lesions         Germany               1\n",
       "40                    skin lesions          Brazil               2\n",
       "43                    skin lesions           Italy               3\n",
       "44                    skin lesions        Portugal               5\n",
       "45                     skin rashes         Germany               1\n",
       "46  slight swallowing difficulties         Germany               1\n",
       "47              ulcerative lesions       Argentina               1\n",
       "48              ulcerative lesions        Portugal              20\n",
       "49                vasicular rashes       Argentina               1\n",
       "50                  vesicular rash         England               5"
      ]
     },
     "execution_count": 13,
     "metadata": {},
     "output_type": "execute_result"
    }
   ],
   "source": [
    "count_sym_df = sym_df.groupby(['Symptoms','Country']).size().reset_index(name='Symptoms_count')\n",
    "count_sym_df = count_sym_df.sort_values(by=['Symptoms','Symptoms_count'])\n",
    "count_sym_df"
   ]
  },
  {
   "cell_type": "code",
   "execution_count": 14,
   "metadata": {},
   "outputs": [
    {
     "data": {
      "text/html": [
       "<div>\n",
       "<style scoped>\n",
       "    .dataframe tbody tr th:only-of-type {\n",
       "        vertical-align: middle;\n",
       "    }\n",
       "\n",
       "    .dataframe tbody tr th {\n",
       "        vertical-align: top;\n",
       "    }\n",
       "\n",
       "    .dataframe thead th {\n",
       "        text-align: right;\n",
       "    }\n",
       "</style>\n",
       "<table border=\"1\" class=\"dataframe\">\n",
       "  <thead>\n",
       "    <tr style=\"text-align: right;\">\n",
       "      <th></th>\n",
       "      <th>Country</th>\n",
       "      <th>Country_ISO3</th>\n",
       "    </tr>\n",
       "  </thead>\n",
       "  <tbody>\n",
       "    <tr>\n",
       "      <th>0</th>\n",
       "      <td>England</td>\n",
       "      <td>GBR</td>\n",
       "    </tr>\n",
       "    <tr>\n",
       "      <th>1</th>\n",
       "      <td>England</td>\n",
       "      <td>GBR</td>\n",
       "    </tr>\n",
       "    <tr>\n",
       "      <th>2</th>\n",
       "      <td>England</td>\n",
       "      <td>GBR</td>\n",
       "    </tr>\n",
       "    <tr>\n",
       "      <th>3</th>\n",
       "      <td>England</td>\n",
       "      <td>GBR</td>\n",
       "    </tr>\n",
       "    <tr>\n",
       "      <th>4</th>\n",
       "      <td>England</td>\n",
       "      <td>GBR</td>\n",
       "    </tr>\n",
       "    <tr>\n",
       "      <th>...</th>\n",
       "      <td>...</td>\n",
       "      <td>...</td>\n",
       "    </tr>\n",
       "    <tr>\n",
       "      <th>2160</th>\n",
       "      <td>Canada</td>\n",
       "      <td>CAN</td>\n",
       "    </tr>\n",
       "    <tr>\n",
       "      <th>2161</th>\n",
       "      <td>Canada</td>\n",
       "      <td>CAN</td>\n",
       "    </tr>\n",
       "    <tr>\n",
       "      <th>2162</th>\n",
       "      <td>Canada</td>\n",
       "      <td>CAN</td>\n",
       "    </tr>\n",
       "    <tr>\n",
       "      <th>2163</th>\n",
       "      <td>Canada</td>\n",
       "      <td>CAN</td>\n",
       "    </tr>\n",
       "    <tr>\n",
       "      <th>2164</th>\n",
       "      <td>Canada</td>\n",
       "      <td>CAN</td>\n",
       "    </tr>\n",
       "  </tbody>\n",
       "</table>\n",
       "<p>2165 rows × 2 columns</p>\n",
       "</div>"
      ],
      "text/plain": [
       "      Country Country_ISO3\n",
       "0     England          GBR\n",
       "1     England          GBR\n",
       "2     England          GBR\n",
       "3     England          GBR\n",
       "4     England          GBR\n",
       "...       ...          ...\n",
       "2160   Canada          CAN\n",
       "2161   Canada          CAN\n",
       "2162   Canada          CAN\n",
       "2163   Canada          CAN\n",
       "2164   Canada          CAN\n",
       "\n",
       "[2165 rows x 2 columns]"
      ]
     },
     "execution_count": 14,
     "metadata": {},
     "output_type": "execute_result"
    }
   ],
   "source": [
    "to_merge = df[['Country', 'Country_ISO3']]\n",
    "to_merge"
   ]
  },
  {
   "cell_type": "code",
   "execution_count": 15,
   "metadata": {},
   "outputs": [
    {
     "data": {
      "text/html": [
       "<div>\n",
       "<style scoped>\n",
       "    .dataframe tbody tr th:only-of-type {\n",
       "        vertical-align: middle;\n",
       "    }\n",
       "\n",
       "    .dataframe tbody tr th {\n",
       "        vertical-align: top;\n",
       "    }\n",
       "\n",
       "    .dataframe thead th {\n",
       "        text-align: right;\n",
       "    }\n",
       "</style>\n",
       "<table border=\"1\" class=\"dataframe\">\n",
       "  <thead>\n",
       "    <tr style=\"text-align: right;\">\n",
       "      <th></th>\n",
       "      <th>Country</th>\n",
       "      <th>Country_ISO3</th>\n",
       "    </tr>\n",
       "  </thead>\n",
       "  <tbody>\n",
       "    <tr>\n",
       "      <th>0</th>\n",
       "      <td>England</td>\n",
       "      <td>GBR</td>\n",
       "    </tr>\n",
       "    <tr>\n",
       "      <th>7</th>\n",
       "      <td>Portugal</td>\n",
       "      <td>PRT</td>\n",
       "    </tr>\n",
       "    <tr>\n",
       "      <th>27</th>\n",
       "      <td>Spain</td>\n",
       "      <td>ESP</td>\n",
       "    </tr>\n",
       "    <tr>\n",
       "      <th>35</th>\n",
       "      <td>United States</td>\n",
       "      <td>USA</td>\n",
       "    </tr>\n",
       "    <tr>\n",
       "      <th>38</th>\n",
       "      <td>Canada</td>\n",
       "      <td>CAN</td>\n",
       "    </tr>\n",
       "  </tbody>\n",
       "</table>\n",
       "</div>"
      ],
      "text/plain": [
       "          Country Country_ISO3\n",
       "0         England          GBR\n",
       "7        Portugal          PRT\n",
       "27          Spain          ESP\n",
       "35  United States          USA\n",
       "38         Canada          CAN"
      ]
     },
     "execution_count": 15,
     "metadata": {},
     "output_type": "execute_result"
    }
   ],
   "source": [
    "to_merge = to_merge.drop_duplicates(['Country','Country_ISO3'])[['Country','Country_ISO3']]\n",
    "to_merge.head()\n"
   ]
  },
  {
   "cell_type": "code",
   "execution_count": 16,
   "metadata": {},
   "outputs": [
    {
     "data": {
      "text/html": [
       "<div>\n",
       "<style scoped>\n",
       "    .dataframe tbody tr th:only-of-type {\n",
       "        vertical-align: middle;\n",
       "    }\n",
       "\n",
       "    .dataframe tbody tr th {\n",
       "        vertical-align: top;\n",
       "    }\n",
       "\n",
       "    .dataframe thead th {\n",
       "        text-align: right;\n",
       "    }\n",
       "</style>\n",
       "<table border=\"1\" class=\"dataframe\">\n",
       "  <thead>\n",
       "    <tr style=\"text-align: right;\">\n",
       "      <th></th>\n",
       "      <th>Symptoms</th>\n",
       "      <th>Country</th>\n",
       "      <th>Symptoms_count</th>\n",
       "      <th>Country_ISO3</th>\n",
       "    </tr>\n",
       "  </thead>\n",
       "  <tbody>\n",
       "    <tr>\n",
       "      <th>0</th>\n",
       "      <td>an elevated temperature</td>\n",
       "      <td>Germany</td>\n",
       "      <td>1</td>\n",
       "      <td>DEU</td>\n",
       "    </tr>\n",
       "    <tr>\n",
       "      <th>1</th>\n",
       "      <td>back pain</td>\n",
       "      <td>Argentina</td>\n",
       "      <td>1</td>\n",
       "      <td>ARG</td>\n",
       "    </tr>\n",
       "    <tr>\n",
       "      <th>2</th>\n",
       "      <td>blisters</td>\n",
       "      <td>Finland</td>\n",
       "      <td>1</td>\n",
       "      <td>FIN</td>\n",
       "    </tr>\n",
       "    <tr>\n",
       "      <th>3</th>\n",
       "      <td>blisters</td>\n",
       "      <td>Italy</td>\n",
       "      <td>1</td>\n",
       "      <td>ITA</td>\n",
       "    </tr>\n",
       "    <tr>\n",
       "      <th>4</th>\n",
       "      <td>chills</td>\n",
       "      <td>Czech Republic</td>\n",
       "      <td>1</td>\n",
       "      <td>CZE</td>\n",
       "    </tr>\n",
       "    <tr>\n",
       "      <th>5</th>\n",
       "      <td>chills</td>\n",
       "      <td>United States</td>\n",
       "      <td>1</td>\n",
       "      <td>USA</td>\n",
       "    </tr>\n",
       "    <tr>\n",
       "      <th>6</th>\n",
       "      <td>cough</td>\n",
       "      <td>Germany</td>\n",
       "      <td>1</td>\n",
       "      <td>DEU</td>\n",
       "    </tr>\n",
       "    <tr>\n",
       "      <th>7</th>\n",
       "      <td>cough</td>\n",
       "      <td>United States</td>\n",
       "      <td>1</td>\n",
       "      <td>USA</td>\n",
       "    </tr>\n",
       "    <tr>\n",
       "      <th>8</th>\n",
       "      <td>enlarged lymph nodes</td>\n",
       "      <td>Brazil</td>\n",
       "      <td>1</td>\n",
       "      <td>BRA</td>\n",
       "    </tr>\n",
       "    <tr>\n",
       "      <th>9</th>\n",
       "      <td>fatigue</td>\n",
       "      <td>Czech Republic</td>\n",
       "      <td>1</td>\n",
       "      <td>CZE</td>\n",
       "    </tr>\n",
       "    <tr>\n",
       "      <th>10</th>\n",
       "      <td>fever</td>\n",
       "      <td>Argentina</td>\n",
       "      <td>1</td>\n",
       "      <td>ARG</td>\n",
       "    </tr>\n",
       "    <tr>\n",
       "      <th>11</th>\n",
       "      <td>fever</td>\n",
       "      <td>Austria</td>\n",
       "      <td>1</td>\n",
       "      <td>AUT</td>\n",
       "    </tr>\n",
       "    <tr>\n",
       "      <th>12</th>\n",
       "      <td>fever</td>\n",
       "      <td>Czech Republic</td>\n",
       "      <td>1</td>\n",
       "      <td>CZE</td>\n",
       "    </tr>\n",
       "    <tr>\n",
       "      <th>13</th>\n",
       "      <td>fever</td>\n",
       "      <td>Italy</td>\n",
       "      <td>1</td>\n",
       "      <td>ITA</td>\n",
       "    </tr>\n",
       "    <tr>\n",
       "      <th>14</th>\n",
       "      <td>fever</td>\n",
       "      <td>Norway</td>\n",
       "      <td>1</td>\n",
       "      <td>NOR</td>\n",
       "    </tr>\n",
       "    <tr>\n",
       "      <th>15</th>\n",
       "      <td>fever</td>\n",
       "      <td>Switzerland</td>\n",
       "      <td>1</td>\n",
       "      <td>CHE</td>\n",
       "    </tr>\n",
       "    <tr>\n",
       "      <th>16</th>\n",
       "      <td>fever</td>\n",
       "      <td>Brazil</td>\n",
       "      <td>2</td>\n",
       "      <td>BRA</td>\n",
       "    </tr>\n",
       "    <tr>\n",
       "      <th>17</th>\n",
       "      <td>fever</td>\n",
       "      <td>Germany</td>\n",
       "      <td>2</td>\n",
       "      <td>DEU</td>\n",
       "    </tr>\n",
       "    <tr>\n",
       "      <th>18</th>\n",
       "      <td>fever</td>\n",
       "      <td>Canada</td>\n",
       "      <td>17</td>\n",
       "      <td>CAN</td>\n",
       "    </tr>\n",
       "    <tr>\n",
       "      <th>19</th>\n",
       "      <td>genital rash</td>\n",
       "      <td>Australia</td>\n",
       "      <td>1</td>\n",
       "      <td>AUS</td>\n",
       "    </tr>\n",
       "    <tr>\n",
       "      <th>20</th>\n",
       "      <td>genital ulcer lesions</td>\n",
       "      <td>Canada</td>\n",
       "      <td>30</td>\n",
       "      <td>CAN</td>\n",
       "    </tr>\n",
       "    <tr>\n",
       "      <th>21</th>\n",
       "      <td>genital ulcers</td>\n",
       "      <td>Canada</td>\n",
       "      <td>22</td>\n",
       "      <td>CAN</td>\n",
       "    </tr>\n",
       "    <tr>\n",
       "      <th>22</th>\n",
       "      <td>headache</td>\n",
       "      <td>Argentina</td>\n",
       "      <td>1</td>\n",
       "      <td>ARG</td>\n",
       "    </tr>\n",
       "    <tr>\n",
       "      <th>23</th>\n",
       "      <td>headache</td>\n",
       "      <td>Czech Republic</td>\n",
       "      <td>1</td>\n",
       "      <td>CZE</td>\n",
       "    </tr>\n",
       "    <tr>\n",
       "      <th>24</th>\n",
       "      <td>headaches</td>\n",
       "      <td>Brazil</td>\n",
       "      <td>1</td>\n",
       "      <td>BRA</td>\n",
       "    </tr>\n",
       "    <tr>\n",
       "      <th>25</th>\n",
       "      <td>high fever</td>\n",
       "      <td>Finland</td>\n",
       "      <td>1</td>\n",
       "      <td>FIN</td>\n",
       "    </tr>\n",
       "    <tr>\n",
       "      <th>26</th>\n",
       "      <td>inguinal adenopathy</td>\n",
       "      <td>Belgium</td>\n",
       "      <td>1</td>\n",
       "      <td>BEL</td>\n",
       "    </tr>\n",
       "    <tr>\n",
       "      <th>27</th>\n",
       "      <td>lesions</td>\n",
       "      <td>Austria</td>\n",
       "      <td>1</td>\n",
       "      <td>AUT</td>\n",
       "    </tr>\n",
       "    <tr>\n",
       "      <th>28</th>\n",
       "      <td>lesions</td>\n",
       "      <td>Italy</td>\n",
       "      <td>1</td>\n",
       "      <td>ITA</td>\n",
       "    </tr>\n",
       "    <tr>\n",
       "      <th>29</th>\n",
       "      <td>muscle pain</td>\n",
       "      <td>Argentina</td>\n",
       "      <td>1</td>\n",
       "      <td>ARG</td>\n",
       "    </tr>\n",
       "    <tr>\n",
       "      <th>30</th>\n",
       "      <td>muscle pain</td>\n",
       "      <td>Norway</td>\n",
       "      <td>1</td>\n",
       "      <td>NOR</td>\n",
       "    </tr>\n",
       "    <tr>\n",
       "      <th>31</th>\n",
       "      <td>muscle pain</td>\n",
       "      <td>United States</td>\n",
       "      <td>1</td>\n",
       "      <td>USA</td>\n",
       "    </tr>\n",
       "    <tr>\n",
       "      <th>32</th>\n",
       "      <td>myalgia</td>\n",
       "      <td>Brazil</td>\n",
       "      <td>1</td>\n",
       "      <td>BRA</td>\n",
       "    </tr>\n",
       "    <tr>\n",
       "      <th>33</th>\n",
       "      <td>oral</td>\n",
       "      <td>Canada</td>\n",
       "      <td>17</td>\n",
       "      <td>CAN</td>\n",
       "    </tr>\n",
       "    <tr>\n",
       "      <th>34</th>\n",
       "      <td>perianal papules</td>\n",
       "      <td>Belgium</td>\n",
       "      <td>1</td>\n",
       "      <td>BEL</td>\n",
       "    </tr>\n",
       "    <tr>\n",
       "      <th>35</th>\n",
       "      <td>pustule-like lesions</td>\n",
       "      <td>United States</td>\n",
       "      <td>1</td>\n",
       "      <td>USA</td>\n",
       "    </tr>\n",
       "    <tr>\n",
       "      <th>36</th>\n",
       "      <td>pustules</td>\n",
       "      <td>Argentina</td>\n",
       "      <td>1</td>\n",
       "      <td>ARG</td>\n",
       "    </tr>\n",
       "    <tr>\n",
       "      <th>37</th>\n",
       "      <td>rash</td>\n",
       "      <td>Norway</td>\n",
       "      <td>1</td>\n",
       "      <td>NOR</td>\n",
       "    </tr>\n",
       "    <tr>\n",
       "      <th>38</th>\n",
       "      <td>rash</td>\n",
       "      <td>Switzerland</td>\n",
       "      <td>1</td>\n",
       "      <td>CHE</td>\n",
       "    </tr>\n",
       "    <tr>\n",
       "      <th>39</th>\n",
       "      <td>rash</td>\n",
       "      <td>England</td>\n",
       "      <td>2</td>\n",
       "      <td>GBR</td>\n",
       "    </tr>\n",
       "    <tr>\n",
       "      <th>40</th>\n",
       "      <td>skin lesions</td>\n",
       "      <td>Czech Republic</td>\n",
       "      <td>1</td>\n",
       "      <td>CZE</td>\n",
       "    </tr>\n",
       "    <tr>\n",
       "      <th>41</th>\n",
       "      <td>skin lesions</td>\n",
       "      <td>Germany</td>\n",
       "      <td>1</td>\n",
       "      <td>DEU</td>\n",
       "    </tr>\n",
       "    <tr>\n",
       "      <th>42</th>\n",
       "      <td>skin lesions</td>\n",
       "      <td>Brazil</td>\n",
       "      <td>2</td>\n",
       "      <td>BRA</td>\n",
       "    </tr>\n",
       "    <tr>\n",
       "      <th>43</th>\n",
       "      <td>skin lesions</td>\n",
       "      <td>Italy</td>\n",
       "      <td>3</td>\n",
       "      <td>ITA</td>\n",
       "    </tr>\n",
       "    <tr>\n",
       "      <th>44</th>\n",
       "      <td>skin lesions</td>\n",
       "      <td>Portugal</td>\n",
       "      <td>5</td>\n",
       "      <td>PRT</td>\n",
       "    </tr>\n",
       "    <tr>\n",
       "      <th>45</th>\n",
       "      <td>skin rashes</td>\n",
       "      <td>Germany</td>\n",
       "      <td>1</td>\n",
       "      <td>DEU</td>\n",
       "    </tr>\n",
       "    <tr>\n",
       "      <th>46</th>\n",
       "      <td>slight swallowing difficulties</td>\n",
       "      <td>Germany</td>\n",
       "      <td>1</td>\n",
       "      <td>DEU</td>\n",
       "    </tr>\n",
       "    <tr>\n",
       "      <th>47</th>\n",
       "      <td>ulcerative lesions</td>\n",
       "      <td>Argentina</td>\n",
       "      <td>1</td>\n",
       "      <td>ARG</td>\n",
       "    </tr>\n",
       "    <tr>\n",
       "      <th>48</th>\n",
       "      <td>ulcerative lesions</td>\n",
       "      <td>Portugal</td>\n",
       "      <td>20</td>\n",
       "      <td>PRT</td>\n",
       "    </tr>\n",
       "    <tr>\n",
       "      <th>49</th>\n",
       "      <td>vasicular rashes</td>\n",
       "      <td>Argentina</td>\n",
       "      <td>1</td>\n",
       "      <td>ARG</td>\n",
       "    </tr>\n",
       "    <tr>\n",
       "      <th>50</th>\n",
       "      <td>vesicular rash</td>\n",
       "      <td>England</td>\n",
       "      <td>5</td>\n",
       "      <td>GBR</td>\n",
       "    </tr>\n",
       "  </tbody>\n",
       "</table>\n",
       "</div>"
      ],
      "text/plain": [
       "                          Symptoms         Country  Symptoms_count  \\\n",
       "0          an elevated temperature         Germany               1   \n",
       "1                        back pain       Argentina               1   \n",
       "2                         blisters         Finland               1   \n",
       "3                         blisters           Italy               1   \n",
       "4                           chills  Czech Republic               1   \n",
       "5                           chills   United States               1   \n",
       "6                            cough         Germany               1   \n",
       "7                            cough   United States               1   \n",
       "8             enlarged lymph nodes          Brazil               1   \n",
       "9                          fatigue  Czech Republic               1   \n",
       "10                           fever       Argentina               1   \n",
       "11                           fever         Austria               1   \n",
       "12                           fever  Czech Republic               1   \n",
       "13                           fever           Italy               1   \n",
       "14                           fever          Norway               1   \n",
       "15                           fever     Switzerland               1   \n",
       "16                           fever          Brazil               2   \n",
       "17                           fever         Germany               2   \n",
       "18                           fever          Canada              17   \n",
       "19                    genital rash       Australia               1   \n",
       "20           genital ulcer lesions          Canada              30   \n",
       "21                  genital ulcers          Canada              22   \n",
       "22                        headache       Argentina               1   \n",
       "23                        headache  Czech Republic               1   \n",
       "24                       headaches          Brazil               1   \n",
       "25                      high fever         Finland               1   \n",
       "26             inguinal adenopathy         Belgium               1   \n",
       "27                         lesions         Austria               1   \n",
       "28                         lesions           Italy               1   \n",
       "29                     muscle pain       Argentina               1   \n",
       "30                     muscle pain          Norway               1   \n",
       "31                     muscle pain   United States               1   \n",
       "32                         myalgia          Brazil               1   \n",
       "33                            oral          Canada              17   \n",
       "34                perianal papules         Belgium               1   \n",
       "35            pustule-like lesions   United States               1   \n",
       "36                        pustules       Argentina               1   \n",
       "37                            rash          Norway               1   \n",
       "38                            rash     Switzerland               1   \n",
       "39                            rash         England               2   \n",
       "40                    skin lesions  Czech Republic               1   \n",
       "41                    skin lesions         Germany               1   \n",
       "42                    skin lesions          Brazil               2   \n",
       "43                    skin lesions           Italy               3   \n",
       "44                    skin lesions        Portugal               5   \n",
       "45                     skin rashes         Germany               1   \n",
       "46  slight swallowing difficulties         Germany               1   \n",
       "47              ulcerative lesions       Argentina               1   \n",
       "48              ulcerative lesions        Portugal              20   \n",
       "49                vasicular rashes       Argentina               1   \n",
       "50                  vesicular rash         England               5   \n",
       "\n",
       "   Country_ISO3  \n",
       "0           DEU  \n",
       "1           ARG  \n",
       "2           FIN  \n",
       "3           ITA  \n",
       "4           CZE  \n",
       "5           USA  \n",
       "6           DEU  \n",
       "7           USA  \n",
       "8           BRA  \n",
       "9           CZE  \n",
       "10          ARG  \n",
       "11          AUT  \n",
       "12          CZE  \n",
       "13          ITA  \n",
       "14          NOR  \n",
       "15          CHE  \n",
       "16          BRA  \n",
       "17          DEU  \n",
       "18          CAN  \n",
       "19          AUS  \n",
       "20          CAN  \n",
       "21          CAN  \n",
       "22          ARG  \n",
       "23          CZE  \n",
       "24          BRA  \n",
       "25          FIN  \n",
       "26          BEL  \n",
       "27          AUT  \n",
       "28          ITA  \n",
       "29          ARG  \n",
       "30          NOR  \n",
       "31          USA  \n",
       "32          BRA  \n",
       "33          CAN  \n",
       "34          BEL  \n",
       "35          USA  \n",
       "36          ARG  \n",
       "37          NOR  \n",
       "38          CHE  \n",
       "39          GBR  \n",
       "40          CZE  \n",
       "41          DEU  \n",
       "42          BRA  \n",
       "43          ITA  \n",
       "44          PRT  \n",
       "45          DEU  \n",
       "46          DEU  \n",
       "47          ARG  \n",
       "48          PRT  \n",
       "49          ARG  \n",
       "50          GBR  "
      ]
     },
     "execution_count": 16,
     "metadata": {},
     "output_type": "execute_result"
    }
   ],
   "source": [
    "count_sym_df = pd.merge(left=count_sym_df, right=to_merge, how=\"left\", on=\"Country\")\n",
    "count_sym_df"
   ]
  },
  {
   "cell_type": "code",
   "execution_count": 17,
   "metadata": {},
   "outputs": [
    {
     "name": "stdout",
     "output_type": "stream",
     "text": [
      "<class 'pandas.core.frame.DataFrame'>\n",
      "Int64Index: 51 entries, 0 to 50\n",
      "Data columns (total 4 columns):\n",
      " #   Column          Non-Null Count  Dtype \n",
      "---  ------          --------------  ----- \n",
      " 0   Symptoms        51 non-null     object\n",
      " 1   Country         51 non-null     object\n",
      " 2   Symptoms_count  51 non-null     int64 \n",
      " 3   Country_ISO3    51 non-null     object\n",
      "dtypes: int64(1), object(3)\n",
      "memory usage: 2.0+ KB\n"
     ]
    }
   ],
   "source": [
    "count_sym_df.info()"
   ]
  },
  {
   "cell_type": "code",
   "execution_count": 18,
   "metadata": {},
   "outputs": [
    {
     "data": {
      "text/html": [
       "<div>\n",
       "<style scoped>\n",
       "    .dataframe tbody tr th:only-of-type {\n",
       "        vertical-align: middle;\n",
       "    }\n",
       "\n",
       "    .dataframe tbody tr th {\n",
       "        vertical-align: top;\n",
       "    }\n",
       "\n",
       "    .dataframe thead th {\n",
       "        text-align: right;\n",
       "    }\n",
       "</style>\n",
       "<table border=\"1\" class=\"dataframe\">\n",
       "  <thead>\n",
       "    <tr style=\"text-align: right;\">\n",
       "      <th></th>\n",
       "      <th>ID</th>\n",
       "      <th>Date_confirmation</th>\n",
       "      <th>Location</th>\n",
       "      <th>City</th>\n",
       "      <th>Country</th>\n",
       "      <th>Status</th>\n",
       "      <th>Symptoms</th>\n",
       "      <th>Country_ISO3</th>\n",
       "      <th>case</th>\n",
       "    </tr>\n",
       "  </thead>\n",
       "  <tbody>\n",
       "    <tr>\n",
       "      <th>193</th>\n",
       "      <td>194</td>\n",
       "      <td>2022-05-27</td>\n",
       "      <td>NaN</td>\n",
       "      <td>Buenos Aires</td>\n",
       "      <td>Argentina</td>\n",
       "      <td>confirmed</td>\n",
       "      <td>pustules, fever</td>\n",
       "      <td>ARG</td>\n",
       "      <td>1</td>\n",
       "    </tr>\n",
       "    <tr>\n",
       "      <th>446</th>\n",
       "      <td>447</td>\n",
       "      <td>2022-05-27</td>\n",
       "      <td>Buenos Aires</td>\n",
       "      <td>NaN</td>\n",
       "      <td>Argentina</td>\n",
       "      <td>confirmed</td>\n",
       "      <td>ulcerative lesions</td>\n",
       "      <td>ARG</td>\n",
       "      <td>1</td>\n",
       "    </tr>\n",
       "    <tr>\n",
       "      <th>1814</th>\n",
       "      <td>1815</td>\n",
       "      <td>2022-06-09</td>\n",
       "      <td>Buenos Aires</td>\n",
       "      <td>NaN</td>\n",
       "      <td>Argentina</td>\n",
       "      <td>confirmed</td>\n",
       "      <td>headache, muscle pain, back pain, vasicular ra...</td>\n",
       "      <td>ARG</td>\n",
       "      <td>1</td>\n",
       "    </tr>\n",
       "    <tr>\n",
       "      <th>106</th>\n",
       "      <td>107</td>\n",
       "      <td>2022-05-20</td>\n",
       "      <td>New South Wales</td>\n",
       "      <td>Sydney</td>\n",
       "      <td>Australia</td>\n",
       "      <td>confirmed</td>\n",
       "      <td>NaN</td>\n",
       "      <td>AUS</td>\n",
       "      <td>1</td>\n",
       "    </tr>\n",
       "    <tr>\n",
       "      <th>107</th>\n",
       "      <td>108</td>\n",
       "      <td>2022-05-20</td>\n",
       "      <td>The Alfred Hospital</td>\n",
       "      <td>Melbourne</td>\n",
       "      <td>Australia</td>\n",
       "      <td>confirmed</td>\n",
       "      <td>genital rash</td>\n",
       "      <td>AUS</td>\n",
       "      <td>1</td>\n",
       "    </tr>\n",
       "    <tr>\n",
       "      <th>...</th>\n",
       "      <td>...</td>\n",
       "      <td>...</td>\n",
       "      <td>...</td>\n",
       "      <td>...</td>\n",
       "      <td>...</td>\n",
       "      <td>...</td>\n",
       "      <td>...</td>\n",
       "      <td>...</td>\n",
       "      <td>...</td>\n",
       "    </tr>\n",
       "    <tr>\n",
       "      <th>1868</th>\n",
       "      <td>1869</td>\n",
       "      <td>2022-06-12</td>\n",
       "      <td>NaN</td>\n",
       "      <td>NaN</td>\n",
       "      <td>Venezuela</td>\n",
       "      <td>confirmed</td>\n",
       "      <td>NaN</td>\n",
       "      <td>VEN</td>\n",
       "      <td>1</td>\n",
       "    </tr>\n",
       "    <tr>\n",
       "      <th>350</th>\n",
       "      <td>351</td>\n",
       "      <td>2022-05-26</td>\n",
       "      <td>NaN</td>\n",
       "      <td>NaN</td>\n",
       "      <td>Wales</td>\n",
       "      <td>confirmed</td>\n",
       "      <td>NaN</td>\n",
       "      <td>GBR</td>\n",
       "      <td>1</td>\n",
       "    </tr>\n",
       "    <tr>\n",
       "      <th>1041</th>\n",
       "      <td>1042</td>\n",
       "      <td>2022-06-03</td>\n",
       "      <td>NaN</td>\n",
       "      <td>NaN</td>\n",
       "      <td>Wales</td>\n",
       "      <td>confirmed</td>\n",
       "      <td>NaN</td>\n",
       "      <td>GBR</td>\n",
       "      <td>1</td>\n",
       "    </tr>\n",
       "    <tr>\n",
       "      <th>1230</th>\n",
       "      <td>1231</td>\n",
       "      <td>2022-06-06</td>\n",
       "      <td>NaN</td>\n",
       "      <td>NaN</td>\n",
       "      <td>Wales</td>\n",
       "      <td>confirmed</td>\n",
       "      <td>NaN</td>\n",
       "      <td>GBR</td>\n",
       "      <td>1</td>\n",
       "    </tr>\n",
       "    <tr>\n",
       "      <th>1693</th>\n",
       "      <td>1694</td>\n",
       "      <td>2022-06-09</td>\n",
       "      <td>NaN</td>\n",
       "      <td>NaN</td>\n",
       "      <td>Wales</td>\n",
       "      <td>confirmed</td>\n",
       "      <td>NaN</td>\n",
       "      <td>GBR</td>\n",
       "      <td>1</td>\n",
       "    </tr>\n",
       "  </tbody>\n",
       "</table>\n",
       "<p>1806 rows × 9 columns</p>\n",
       "</div>"
      ],
      "text/plain": [
       "        ID Date_confirmation             Location          City    Country  \\\n",
       "193    194        2022-05-27                  NaN  Buenos Aires  Argentina   \n",
       "446    447        2022-05-27         Buenos Aires           NaN  Argentina   \n",
       "1814  1815        2022-06-09         Buenos Aires           NaN  Argentina   \n",
       "106    107        2022-05-20      New South Wales        Sydney  Australia   \n",
       "107    108        2022-05-20  The Alfred Hospital     Melbourne  Australia   \n",
       "...    ...               ...                  ...           ...        ...   \n",
       "1868  1869        2022-06-12                  NaN           NaN  Venezuela   \n",
       "350    351        2022-05-26                  NaN           NaN      Wales   \n",
       "1041  1042        2022-06-03                  NaN           NaN      Wales   \n",
       "1230  1231        2022-06-06                  NaN           NaN      Wales   \n",
       "1693  1694        2022-06-09                  NaN           NaN      Wales   \n",
       "\n",
       "         Status                                           Symptoms  \\\n",
       "193   confirmed                                    pustules, fever   \n",
       "446   confirmed                                 ulcerative lesions   \n",
       "1814  confirmed  headache, muscle pain, back pain, vasicular ra...   \n",
       "106   confirmed                                                NaN   \n",
       "107   confirmed                                       genital rash   \n",
       "...         ...                                                ...   \n",
       "1868  confirmed                                                NaN   \n",
       "350   confirmed                                                NaN   \n",
       "1041  confirmed                                                NaN   \n",
       "1230  confirmed                                                NaN   \n",
       "1693  confirmed                                                NaN   \n",
       "\n",
       "     Country_ISO3  case  \n",
       "193           ARG     1  \n",
       "446           ARG     1  \n",
       "1814          ARG     1  \n",
       "106           AUS     1  \n",
       "107           AUS     1  \n",
       "...           ...   ...  \n",
       "1868          VEN     1  \n",
       "350           GBR     1  \n",
       "1041          GBR     1  \n",
       "1230          GBR     1  \n",
       "1693          GBR     1  \n",
       "\n",
       "[1806 rows x 9 columns]"
      ]
     },
     "execution_count": 18,
     "metadata": {},
     "output_type": "execute_result"
    }
   ],
   "source": [
    "sort_df = only_con_df.sort_values(by=['Country','Date_confirmation'])\n",
    "sort_df"
   ]
  },
  {
   "cell_type": "code",
   "execution_count": 19,
   "metadata": {},
   "outputs": [
    {
     "data": {
      "text/html": [
       "<div>\n",
       "<style scoped>\n",
       "    .dataframe tbody tr th:only-of-type {\n",
       "        vertical-align: middle;\n",
       "    }\n",
       "\n",
       "    .dataframe tbody tr th {\n",
       "        vertical-align: top;\n",
       "    }\n",
       "\n",
       "    .dataframe thead th {\n",
       "        text-align: right;\n",
       "    }\n",
       "</style>\n",
       "<table border=\"1\" class=\"dataframe\">\n",
       "  <thead>\n",
       "    <tr style=\"text-align: right;\">\n",
       "      <th></th>\n",
       "      <th>ID</th>\n",
       "      <th>Date_confirmation</th>\n",
       "      <th>Location</th>\n",
       "      <th>City</th>\n",
       "      <th>Country</th>\n",
       "      <th>Status</th>\n",
       "      <th>Symptoms</th>\n",
       "      <th>Country_ISO3</th>\n",
       "      <th>case</th>\n",
       "      <th>sum_case</th>\n",
       "    </tr>\n",
       "  </thead>\n",
       "  <tbody>\n",
       "    <tr>\n",
       "      <th>193</th>\n",
       "      <td>194</td>\n",
       "      <td>2022-05-27</td>\n",
       "      <td>NaN</td>\n",
       "      <td>Buenos Aires</td>\n",
       "      <td>Argentina</td>\n",
       "      <td>confirmed</td>\n",
       "      <td>pustules, fever</td>\n",
       "      <td>ARG</td>\n",
       "      <td>1</td>\n",
       "      <td>1</td>\n",
       "    </tr>\n",
       "    <tr>\n",
       "      <th>446</th>\n",
       "      <td>447</td>\n",
       "      <td>2022-05-27</td>\n",
       "      <td>Buenos Aires</td>\n",
       "      <td>NaN</td>\n",
       "      <td>Argentina</td>\n",
       "      <td>confirmed</td>\n",
       "      <td>ulcerative lesions</td>\n",
       "      <td>ARG</td>\n",
       "      <td>1</td>\n",
       "      <td>2</td>\n",
       "    </tr>\n",
       "    <tr>\n",
       "      <th>1814</th>\n",
       "      <td>1815</td>\n",
       "      <td>2022-06-09</td>\n",
       "      <td>Buenos Aires</td>\n",
       "      <td>NaN</td>\n",
       "      <td>Argentina</td>\n",
       "      <td>confirmed</td>\n",
       "      <td>headache, muscle pain, back pain, vasicular ra...</td>\n",
       "      <td>ARG</td>\n",
       "      <td>1</td>\n",
       "      <td>3</td>\n",
       "    </tr>\n",
       "    <tr>\n",
       "      <th>106</th>\n",
       "      <td>107</td>\n",
       "      <td>2022-05-20</td>\n",
       "      <td>New South Wales</td>\n",
       "      <td>Sydney</td>\n",
       "      <td>Australia</td>\n",
       "      <td>confirmed</td>\n",
       "      <td>NaN</td>\n",
       "      <td>AUS</td>\n",
       "      <td>1</td>\n",
       "      <td>1</td>\n",
       "    </tr>\n",
       "    <tr>\n",
       "      <th>107</th>\n",
       "      <td>108</td>\n",
       "      <td>2022-05-20</td>\n",
       "      <td>The Alfred Hospital</td>\n",
       "      <td>Melbourne</td>\n",
       "      <td>Australia</td>\n",
       "      <td>confirmed</td>\n",
       "      <td>genital rash</td>\n",
       "      <td>AUS</td>\n",
       "      <td>1</td>\n",
       "      <td>2</td>\n",
       "    </tr>\n",
       "    <tr>\n",
       "      <th>...</th>\n",
       "      <td>...</td>\n",
       "      <td>...</td>\n",
       "      <td>...</td>\n",
       "      <td>...</td>\n",
       "      <td>...</td>\n",
       "      <td>...</td>\n",
       "      <td>...</td>\n",
       "      <td>...</td>\n",
       "      <td>...</td>\n",
       "      <td>...</td>\n",
       "    </tr>\n",
       "    <tr>\n",
       "      <th>1868</th>\n",
       "      <td>1869</td>\n",
       "      <td>2022-06-12</td>\n",
       "      <td>NaN</td>\n",
       "      <td>NaN</td>\n",
       "      <td>Venezuela</td>\n",
       "      <td>confirmed</td>\n",
       "      <td>NaN</td>\n",
       "      <td>VEN</td>\n",
       "      <td>1</td>\n",
       "      <td>1</td>\n",
       "    </tr>\n",
       "    <tr>\n",
       "      <th>350</th>\n",
       "      <td>351</td>\n",
       "      <td>2022-05-26</td>\n",
       "      <td>NaN</td>\n",
       "      <td>NaN</td>\n",
       "      <td>Wales</td>\n",
       "      <td>confirmed</td>\n",
       "      <td>NaN</td>\n",
       "      <td>GBR</td>\n",
       "      <td>1</td>\n",
       "      <td>1</td>\n",
       "    </tr>\n",
       "    <tr>\n",
       "      <th>1041</th>\n",
       "      <td>1042</td>\n",
       "      <td>2022-06-03</td>\n",
       "      <td>NaN</td>\n",
       "      <td>NaN</td>\n",
       "      <td>Wales</td>\n",
       "      <td>confirmed</td>\n",
       "      <td>NaN</td>\n",
       "      <td>GBR</td>\n",
       "      <td>1</td>\n",
       "      <td>2</td>\n",
       "    </tr>\n",
       "    <tr>\n",
       "      <th>1230</th>\n",
       "      <td>1231</td>\n",
       "      <td>2022-06-06</td>\n",
       "      <td>NaN</td>\n",
       "      <td>NaN</td>\n",
       "      <td>Wales</td>\n",
       "      <td>confirmed</td>\n",
       "      <td>NaN</td>\n",
       "      <td>GBR</td>\n",
       "      <td>1</td>\n",
       "      <td>3</td>\n",
       "    </tr>\n",
       "    <tr>\n",
       "      <th>1693</th>\n",
       "      <td>1694</td>\n",
       "      <td>2022-06-09</td>\n",
       "      <td>NaN</td>\n",
       "      <td>NaN</td>\n",
       "      <td>Wales</td>\n",
       "      <td>confirmed</td>\n",
       "      <td>NaN</td>\n",
       "      <td>GBR</td>\n",
       "      <td>1</td>\n",
       "      <td>4</td>\n",
       "    </tr>\n",
       "  </tbody>\n",
       "</table>\n",
       "<p>1806 rows × 10 columns</p>\n",
       "</div>"
      ],
      "text/plain": [
       "        ID Date_confirmation             Location          City    Country  \\\n",
       "193    194        2022-05-27                  NaN  Buenos Aires  Argentina   \n",
       "446    447        2022-05-27         Buenos Aires           NaN  Argentina   \n",
       "1814  1815        2022-06-09         Buenos Aires           NaN  Argentina   \n",
       "106    107        2022-05-20      New South Wales        Sydney  Australia   \n",
       "107    108        2022-05-20  The Alfred Hospital     Melbourne  Australia   \n",
       "...    ...               ...                  ...           ...        ...   \n",
       "1868  1869        2022-06-12                  NaN           NaN  Venezuela   \n",
       "350    351        2022-05-26                  NaN           NaN      Wales   \n",
       "1041  1042        2022-06-03                  NaN           NaN      Wales   \n",
       "1230  1231        2022-06-06                  NaN           NaN      Wales   \n",
       "1693  1694        2022-06-09                  NaN           NaN      Wales   \n",
       "\n",
       "         Status                                           Symptoms  \\\n",
       "193   confirmed                                    pustules, fever   \n",
       "446   confirmed                                 ulcerative lesions   \n",
       "1814  confirmed  headache, muscle pain, back pain, vasicular ra...   \n",
       "106   confirmed                                                NaN   \n",
       "107   confirmed                                       genital rash   \n",
       "...         ...                                                ...   \n",
       "1868  confirmed                                                NaN   \n",
       "350   confirmed                                                NaN   \n",
       "1041  confirmed                                                NaN   \n",
       "1230  confirmed                                                NaN   \n",
       "1693  confirmed                                                NaN   \n",
       "\n",
       "     Country_ISO3  case  sum_case  \n",
       "193           ARG     1         1  \n",
       "446           ARG     1         2  \n",
       "1814          ARG     1         3  \n",
       "106           AUS     1         1  \n",
       "107           AUS     1         2  \n",
       "...           ...   ...       ...  \n",
       "1868          VEN     1         1  \n",
       "350           GBR     1         1  \n",
       "1041          GBR     1         2  \n",
       "1230          GBR     1         3  \n",
       "1693          GBR     1         4  \n",
       "\n",
       "[1806 rows x 10 columns]"
      ]
     },
     "execution_count": 19,
     "metadata": {},
     "output_type": "execute_result"
    }
   ],
   "source": [
    "sort_df['sum_case'] = sort_df.groupby((sort_df['Country'] != sort_df['Country'].shift(1)).cumsum()).cumcount()+1\n",
    "sort_df"
   ]
  },
  {
   "cell_type": "markdown",
   "metadata": {},
   "source": [
    "### Visualization"
   ]
  },
  {
   "cell_type": "code",
   "execution_count": 20,
   "metadata": {},
   "outputs": [],
   "source": [
    "from datetime import date\n",
    "\n",
    "date = date.today()"
   ]
  },
  {
   "cell_type": "code",
   "execution_count": 21,
   "metadata": {},
   "outputs": [
    {
     "data": {
      "application/vnd.plotly.v1+json": {
       "config": {
        "plotlyServerURL": "https://plot.ly"
       },
       "data": [
        {
         "alignmentgroup": "True",
         "hovertemplate": "Country=%{x}<br>case=%{text}<extra></extra>",
         "legendgroup": "",
         "marker": {
          "color": "#636efa",
          "pattern": {
           "shape": ""
          }
         },
         "name": "",
         "offsetgroup": "",
         "orientation": "v",
         "showlegend": false,
         "text": [
          1,
          1,
          1,
          1,
          1,
          1,
          1,
          1,
          2,
          2,
          2,
          2,
          3,
          3,
          3,
          3,
          4,
          4,
          4,
          5,
          6,
          6,
          7,
          8,
          9,
          12,
          13,
          20,
          24,
          38,
          65,
          80,
          91,
          158,
          228,
          231,
          313,
          452
         ],
         "textposition": "auto",
         "type": "bar",
         "x": [
          "Romania",
          "Greece",
          "Poland",
          "Gibraltar",
          "Morocco",
          "Hungary",
          "Venezuela",
          "Malta",
          "Mexico",
          "Norway",
          "Northern Ireland",
          "Latvia",
          "Argentina",
          "Brazil",
          "Austria",
          "Finland",
          "Israel",
          "Wales",
          "Denmark",
          "Ghana",
          "Sweden",
          "Czech Republic",
          "Slovenia",
          "Australia",
          "Ireland",
          "Scotland",
          "United Arab Emirates",
          "Switzerland",
          "Belgium",
          "Italy",
          "United States",
          "Netherlands",
          "France",
          "Canada",
          "Germany",
          "Portugal",
          "Spain",
          "England"
         ],
         "xaxis": "x",
         "y": [
          1,
          1,
          1,
          1,
          1,
          1,
          1,
          1,
          2,
          2,
          2,
          2,
          3,
          3,
          3,
          3,
          4,
          4,
          4,
          5,
          6,
          6,
          7,
          8,
          9,
          12,
          13,
          20,
          24,
          38,
          65,
          80,
          91,
          158,
          228,
          231,
          313,
          452
         ],
         "yaxis": "y"
        }
       ],
       "layout": {
        "barmode": "relative",
        "height": 800,
        "legend": {
         "tracegroupgap": 0
        },
        "margin": {
         "t": 60
        },
        "template": {
         "data": {
          "bar": [
           {
            "error_x": {
             "color": "#2a3f5f"
            },
            "error_y": {
             "color": "#2a3f5f"
            },
            "marker": {
             "line": {
              "color": "#E5ECF6",
              "width": 0.5
             },
             "pattern": {
              "fillmode": "overlay",
              "size": 10,
              "solidity": 0.2
             }
            },
            "type": "bar"
           }
          ],
          "barpolar": [
           {
            "marker": {
             "line": {
              "color": "#E5ECF6",
              "width": 0.5
             },
             "pattern": {
              "fillmode": "overlay",
              "size": 10,
              "solidity": 0.2
             }
            },
            "type": "barpolar"
           }
          ],
          "carpet": [
           {
            "aaxis": {
             "endlinecolor": "#2a3f5f",
             "gridcolor": "white",
             "linecolor": "white",
             "minorgridcolor": "white",
             "startlinecolor": "#2a3f5f"
            },
            "baxis": {
             "endlinecolor": "#2a3f5f",
             "gridcolor": "white",
             "linecolor": "white",
             "minorgridcolor": "white",
             "startlinecolor": "#2a3f5f"
            },
            "type": "carpet"
           }
          ],
          "choropleth": [
           {
            "colorbar": {
             "outlinewidth": 0,
             "ticks": ""
            },
            "type": "choropleth"
           }
          ],
          "contour": [
           {
            "colorbar": {
             "outlinewidth": 0,
             "ticks": ""
            },
            "colorscale": [
             [
              0,
              "#0d0887"
             ],
             [
              0.1111111111111111,
              "#46039f"
             ],
             [
              0.2222222222222222,
              "#7201a8"
             ],
             [
              0.3333333333333333,
              "#9c179e"
             ],
             [
              0.4444444444444444,
              "#bd3786"
             ],
             [
              0.5555555555555556,
              "#d8576b"
             ],
             [
              0.6666666666666666,
              "#ed7953"
             ],
             [
              0.7777777777777778,
              "#fb9f3a"
             ],
             [
              0.8888888888888888,
              "#fdca26"
             ],
             [
              1,
              "#f0f921"
             ]
            ],
            "type": "contour"
           }
          ],
          "contourcarpet": [
           {
            "colorbar": {
             "outlinewidth": 0,
             "ticks": ""
            },
            "type": "contourcarpet"
           }
          ],
          "heatmap": [
           {
            "colorbar": {
             "outlinewidth": 0,
             "ticks": ""
            },
            "colorscale": [
             [
              0,
              "#0d0887"
             ],
             [
              0.1111111111111111,
              "#46039f"
             ],
             [
              0.2222222222222222,
              "#7201a8"
             ],
             [
              0.3333333333333333,
              "#9c179e"
             ],
             [
              0.4444444444444444,
              "#bd3786"
             ],
             [
              0.5555555555555556,
              "#d8576b"
             ],
             [
              0.6666666666666666,
              "#ed7953"
             ],
             [
              0.7777777777777778,
              "#fb9f3a"
             ],
             [
              0.8888888888888888,
              "#fdca26"
             ],
             [
              1,
              "#f0f921"
             ]
            ],
            "type": "heatmap"
           }
          ],
          "heatmapgl": [
           {
            "colorbar": {
             "outlinewidth": 0,
             "ticks": ""
            },
            "colorscale": [
             [
              0,
              "#0d0887"
             ],
             [
              0.1111111111111111,
              "#46039f"
             ],
             [
              0.2222222222222222,
              "#7201a8"
             ],
             [
              0.3333333333333333,
              "#9c179e"
             ],
             [
              0.4444444444444444,
              "#bd3786"
             ],
             [
              0.5555555555555556,
              "#d8576b"
             ],
             [
              0.6666666666666666,
              "#ed7953"
             ],
             [
              0.7777777777777778,
              "#fb9f3a"
             ],
             [
              0.8888888888888888,
              "#fdca26"
             ],
             [
              1,
              "#f0f921"
             ]
            ],
            "type": "heatmapgl"
           }
          ],
          "histogram": [
           {
            "marker": {
             "pattern": {
              "fillmode": "overlay",
              "size": 10,
              "solidity": 0.2
             }
            },
            "type": "histogram"
           }
          ],
          "histogram2d": [
           {
            "colorbar": {
             "outlinewidth": 0,
             "ticks": ""
            },
            "colorscale": [
             [
              0,
              "#0d0887"
             ],
             [
              0.1111111111111111,
              "#46039f"
             ],
             [
              0.2222222222222222,
              "#7201a8"
             ],
             [
              0.3333333333333333,
              "#9c179e"
             ],
             [
              0.4444444444444444,
              "#bd3786"
             ],
             [
              0.5555555555555556,
              "#d8576b"
             ],
             [
              0.6666666666666666,
              "#ed7953"
             ],
             [
              0.7777777777777778,
              "#fb9f3a"
             ],
             [
              0.8888888888888888,
              "#fdca26"
             ],
             [
              1,
              "#f0f921"
             ]
            ],
            "type": "histogram2d"
           }
          ],
          "histogram2dcontour": [
           {
            "colorbar": {
             "outlinewidth": 0,
             "ticks": ""
            },
            "colorscale": [
             [
              0,
              "#0d0887"
             ],
             [
              0.1111111111111111,
              "#46039f"
             ],
             [
              0.2222222222222222,
              "#7201a8"
             ],
             [
              0.3333333333333333,
              "#9c179e"
             ],
             [
              0.4444444444444444,
              "#bd3786"
             ],
             [
              0.5555555555555556,
              "#d8576b"
             ],
             [
              0.6666666666666666,
              "#ed7953"
             ],
             [
              0.7777777777777778,
              "#fb9f3a"
             ],
             [
              0.8888888888888888,
              "#fdca26"
             ],
             [
              1,
              "#f0f921"
             ]
            ],
            "type": "histogram2dcontour"
           }
          ],
          "mesh3d": [
           {
            "colorbar": {
             "outlinewidth": 0,
             "ticks": ""
            },
            "type": "mesh3d"
           }
          ],
          "parcoords": [
           {
            "line": {
             "colorbar": {
              "outlinewidth": 0,
              "ticks": ""
             }
            },
            "type": "parcoords"
           }
          ],
          "pie": [
           {
            "automargin": true,
            "type": "pie"
           }
          ],
          "scatter": [
           {
            "fillpattern": {
             "fillmode": "overlay",
             "size": 10,
             "solidity": 0.2
            },
            "type": "scatter"
           }
          ],
          "scatter3d": [
           {
            "line": {
             "colorbar": {
              "outlinewidth": 0,
              "ticks": ""
             }
            },
            "marker": {
             "colorbar": {
              "outlinewidth": 0,
              "ticks": ""
             }
            },
            "type": "scatter3d"
           }
          ],
          "scattercarpet": [
           {
            "marker": {
             "colorbar": {
              "outlinewidth": 0,
              "ticks": ""
             }
            },
            "type": "scattercarpet"
           }
          ],
          "scattergeo": [
           {
            "marker": {
             "colorbar": {
              "outlinewidth": 0,
              "ticks": ""
             }
            },
            "type": "scattergeo"
           }
          ],
          "scattergl": [
           {
            "marker": {
             "colorbar": {
              "outlinewidth": 0,
              "ticks": ""
             }
            },
            "type": "scattergl"
           }
          ],
          "scattermapbox": [
           {
            "marker": {
             "colorbar": {
              "outlinewidth": 0,
              "ticks": ""
             }
            },
            "type": "scattermapbox"
           }
          ],
          "scatterpolar": [
           {
            "marker": {
             "colorbar": {
              "outlinewidth": 0,
              "ticks": ""
             }
            },
            "type": "scatterpolar"
           }
          ],
          "scatterpolargl": [
           {
            "marker": {
             "colorbar": {
              "outlinewidth": 0,
              "ticks": ""
             }
            },
            "type": "scatterpolargl"
           }
          ],
          "scatterternary": [
           {
            "marker": {
             "colorbar": {
              "outlinewidth": 0,
              "ticks": ""
             }
            },
            "type": "scatterternary"
           }
          ],
          "surface": [
           {
            "colorbar": {
             "outlinewidth": 0,
             "ticks": ""
            },
            "colorscale": [
             [
              0,
              "#0d0887"
             ],
             [
              0.1111111111111111,
              "#46039f"
             ],
             [
              0.2222222222222222,
              "#7201a8"
             ],
             [
              0.3333333333333333,
              "#9c179e"
             ],
             [
              0.4444444444444444,
              "#bd3786"
             ],
             [
              0.5555555555555556,
              "#d8576b"
             ],
             [
              0.6666666666666666,
              "#ed7953"
             ],
             [
              0.7777777777777778,
              "#fb9f3a"
             ],
             [
              0.8888888888888888,
              "#fdca26"
             ],
             [
              1,
              "#f0f921"
             ]
            ],
            "type": "surface"
           }
          ],
          "table": [
           {
            "cells": {
             "fill": {
              "color": "#EBF0F8"
             },
             "line": {
              "color": "white"
             }
            },
            "header": {
             "fill": {
              "color": "#C8D4E3"
             },
             "line": {
              "color": "white"
             }
            },
            "type": "table"
           }
          ]
         },
         "layout": {
          "annotationdefaults": {
           "arrowcolor": "#2a3f5f",
           "arrowhead": 0,
           "arrowwidth": 1
          },
          "autotypenumbers": "strict",
          "coloraxis": {
           "colorbar": {
            "outlinewidth": 0,
            "ticks": ""
           }
          },
          "colorscale": {
           "diverging": [
            [
             0,
             "#8e0152"
            ],
            [
             0.1,
             "#c51b7d"
            ],
            [
             0.2,
             "#de77ae"
            ],
            [
             0.3,
             "#f1b6da"
            ],
            [
             0.4,
             "#fde0ef"
            ],
            [
             0.5,
             "#f7f7f7"
            ],
            [
             0.6,
             "#e6f5d0"
            ],
            [
             0.7,
             "#b8e186"
            ],
            [
             0.8,
             "#7fbc41"
            ],
            [
             0.9,
             "#4d9221"
            ],
            [
             1,
             "#276419"
            ]
           ],
           "sequential": [
            [
             0,
             "#0d0887"
            ],
            [
             0.1111111111111111,
             "#46039f"
            ],
            [
             0.2222222222222222,
             "#7201a8"
            ],
            [
             0.3333333333333333,
             "#9c179e"
            ],
            [
             0.4444444444444444,
             "#bd3786"
            ],
            [
             0.5555555555555556,
             "#d8576b"
            ],
            [
             0.6666666666666666,
             "#ed7953"
            ],
            [
             0.7777777777777778,
             "#fb9f3a"
            ],
            [
             0.8888888888888888,
             "#fdca26"
            ],
            [
             1,
             "#f0f921"
            ]
           ],
           "sequentialminus": [
            [
             0,
             "#0d0887"
            ],
            [
             0.1111111111111111,
             "#46039f"
            ],
            [
             0.2222222222222222,
             "#7201a8"
            ],
            [
             0.3333333333333333,
             "#9c179e"
            ],
            [
             0.4444444444444444,
             "#bd3786"
            ],
            [
             0.5555555555555556,
             "#d8576b"
            ],
            [
             0.6666666666666666,
             "#ed7953"
            ],
            [
             0.7777777777777778,
             "#fb9f3a"
            ],
            [
             0.8888888888888888,
             "#fdca26"
            ],
            [
             1,
             "#f0f921"
            ]
           ]
          },
          "colorway": [
           "#636efa",
           "#EF553B",
           "#00cc96",
           "#ab63fa",
           "#FFA15A",
           "#19d3f3",
           "#FF6692",
           "#B6E880",
           "#FF97FF",
           "#FECB52"
          ],
          "font": {
           "color": "#2a3f5f"
          },
          "geo": {
           "bgcolor": "white",
           "lakecolor": "white",
           "landcolor": "#E5ECF6",
           "showlakes": true,
           "showland": true,
           "subunitcolor": "white"
          },
          "hoverlabel": {
           "align": "left"
          },
          "hovermode": "closest",
          "mapbox": {
           "style": "light"
          },
          "paper_bgcolor": "white",
          "plot_bgcolor": "#E5ECF6",
          "polar": {
           "angularaxis": {
            "gridcolor": "white",
            "linecolor": "white",
            "ticks": ""
           },
           "bgcolor": "#E5ECF6",
           "radialaxis": {
            "gridcolor": "white",
            "linecolor": "white",
            "ticks": ""
           }
          },
          "scene": {
           "xaxis": {
            "backgroundcolor": "#E5ECF6",
            "gridcolor": "white",
            "gridwidth": 2,
            "linecolor": "white",
            "showbackground": true,
            "ticks": "",
            "zerolinecolor": "white"
           },
           "yaxis": {
            "backgroundcolor": "#E5ECF6",
            "gridcolor": "white",
            "gridwidth": 2,
            "linecolor": "white",
            "showbackground": true,
            "ticks": "",
            "zerolinecolor": "white"
           },
           "zaxis": {
            "backgroundcolor": "#E5ECF6",
            "gridcolor": "white",
            "gridwidth": 2,
            "linecolor": "white",
            "showbackground": true,
            "ticks": "",
            "zerolinecolor": "white"
           }
          },
          "shapedefaults": {
           "line": {
            "color": "#2a3f5f"
           }
          },
          "ternary": {
           "aaxis": {
            "gridcolor": "white",
            "linecolor": "white",
            "ticks": ""
           },
           "baxis": {
            "gridcolor": "white",
            "linecolor": "white",
            "ticks": ""
           },
           "bgcolor": "#E5ECF6",
           "caxis": {
            "gridcolor": "white",
            "linecolor": "white",
            "ticks": ""
           }
          },
          "title": {
           "x": 0.05
          },
          "xaxis": {
           "automargin": true,
           "gridcolor": "white",
           "linecolor": "white",
           "ticks": "",
           "title": {
            "standoff": 15
           },
           "zerolinecolor": "white",
           "zerolinewidth": 2
          },
          "yaxis": {
           "automargin": true,
           "gridcolor": "white",
           "linecolor": "white",
           "ticks": "",
           "title": {
            "standoff": 15
           },
           "zerolinecolor": "white",
           "zerolinewidth": 2
          }
         }
        },
        "title": {
         "text": "Monkey Pox: 2022-06-16"
        },
        "width": 1920,
        "xaxis": {
         "anchor": "y",
         "domain": [
          0,
          1
         ],
         "title": {
          "text": "Country"
         }
        },
        "yaxis": {
         "anchor": "x",
         "domain": [
          0,
          1
         ],
         "title": {
          "text": "case"
         }
        }
       }
      }
     },
     "metadata": {},
     "output_type": "display_data"
    }
   ],
   "source": [
    "fig1 = px.bar(Total_case.sort_values('case', ascending=True), x='Country', y='case', text='case')\n",
    "\n",
    "fig1.update_layout(\n",
    "    width=1920,\n",
    "    height=800,\n",
    "    title_text=f'Monkey Pox: {date}'\n",
    ")\n",
    "\n",
    "fig1.show()"
   ]
  },
  {
   "cell_type": "code",
   "execution_count": 22,
   "metadata": {},
   "outputs": [
    {
     "data": {
      "application/vnd.plotly.v1+json": {
       "config": {
        "plotlyServerURL": "https://plot.ly"
       },
       "data": [
        {
         "hovertemplate": "Country=Argentina<br>Date_confirmation=%{x}<br>sum_case=%{y}<extra></extra>",
         "legendgroup": "Argentina",
         "marker": {
          "color": "#636efa",
          "symbol": "circle"
         },
         "mode": "markers",
         "name": "Argentina",
         "showlegend": true,
         "type": "scattergl",
         "x": [
          "2022-05-27T00:00:00",
          "2022-05-27T00:00:00",
          "2022-06-09T00:00:00"
         ],
         "xaxis": "x",
         "y": [
          1,
          2,
          3
         ],
         "yaxis": "y"
        },
        {
         "hovertemplate": "Country=Australia<br>Date_confirmation=%{x}<br>sum_case=%{y}<extra></extra>",
         "legendgroup": "Australia",
         "marker": {
          "color": "#EF553B",
          "symbol": "circle"
         },
         "mode": "markers",
         "name": "Australia",
         "showlegend": true,
         "type": "scattergl",
         "x": [
          "2022-05-20T00:00:00",
          "2022-05-20T00:00:00",
          "2022-06-02T00:00:00",
          "2022-06-02T00:00:00",
          "2022-06-03T00:00:00",
          "2022-06-04T00:00:00",
          "2022-06-09T00:00:00",
          "2022-06-09T00:00:00"
         ],
         "xaxis": "x",
         "y": [
          1,
          2,
          3,
          4,
          5,
          6,
          7,
          8
         ],
         "yaxis": "y"
        },
        {
         "hovertemplate": "Country=Austria<br>Date_confirmation=%{x}<br>sum_case=%{y}<extra></extra>",
         "legendgroup": "Austria",
         "marker": {
          "color": "#00cc96",
          "symbol": "circle"
         },
         "mode": "markers",
         "name": "Austria",
         "showlegend": true,
         "type": "scattergl",
         "x": [
          "2022-05-23T00:00:00",
          "2022-06-13T00:00:00",
          "2022-06-13T00:00:00"
         ],
         "xaxis": "x",
         "y": [
          1,
          2,
          3
         ],
         "yaxis": "y"
        },
        {
         "hovertemplate": "Country=Belgium<br>Date_confirmation=%{x}<br>sum_case=%{y}<extra></extra>",
         "legendgroup": "Belgium",
         "marker": {
          "color": "#ab63fa",
          "symbol": "circle"
         },
         "mode": "markers",
         "name": "Belgium",
         "showlegend": true,
         "type": "scattergl",
         "x": [
          "2022-05-19T00:00:00",
          "2022-05-20T00:00:00",
          "2022-05-20T00:00:00",
          "2022-05-21T00:00:00",
          "2022-05-25T00:00:00",
          "2022-05-25T00:00:00",
          "2022-05-28T00:00:00",
          "2022-05-28T00:00:00",
          "2022-05-28T00:00:00",
          "2022-06-01T00:00:00",
          "2022-06-01T00:00:00",
          "2022-06-01T00:00:00",
          "2022-06-01T00:00:00",
          "2022-06-01T00:00:00",
          "2022-06-03T00:00:00",
          "2022-06-03T00:00:00",
          "2022-06-03T00:00:00",
          "2022-06-08T00:00:00",
          "2022-06-08T00:00:00",
          "2022-06-08T00:00:00",
          "2022-06-08T00:00:00",
          "2022-06-08T00:00:00",
          "2022-06-08T00:00:00",
          "2022-06-08T00:00:00"
         ],
         "xaxis": "x",
         "y": [
          1,
          2,
          3,
          4,
          5,
          6,
          7,
          8,
          9,
          10,
          11,
          12,
          13,
          14,
          15,
          16,
          17,
          18,
          19,
          20,
          21,
          22,
          23,
          24
         ],
         "yaxis": "y"
        },
        {
         "hovertemplate": "Country=Brazil<br>Date_confirmation=%{x}<br>sum_case=%{y}<extra></extra>",
         "legendgroup": "Brazil",
         "marker": {
          "color": "#FFA15A",
          "symbol": "circle"
         },
         "mode": "markers",
         "name": "Brazil",
         "showlegend": true,
         "type": "scattergl",
         "x": [
          "2022-06-08T00:00:00",
          "2022-06-11T00:00:00",
          "2022-06-12T00:00:00"
         ],
         "xaxis": "x",
         "y": [
          1,
          2,
          3
         ],
         "yaxis": "y"
        },
        {
         "hovertemplate": "Country=Canada<br>Date_confirmation=%{x}<br>sum_case=%{y}<extra></extra>",
         "legendgroup": "Canada",
         "marker": {
          "color": "#19d3f3",
          "symbol": "circle"
         },
         "mode": "markers",
         "name": "Canada",
         "showlegend": true,
         "type": "scattergl",
         "x": [
          "2022-05-19T00:00:00",
          "2022-05-19T00:00:00",
          "2022-05-20T00:00:00",
          "2022-05-20T00:00:00",
          "2022-05-20T00:00:00",
          "2022-05-23T00:00:00",
          "2022-05-23T00:00:00",
          "2022-05-23T00:00:00",
          "2022-05-23T00:00:00",
          "2022-05-23T00:00:00",
          "2022-05-23T00:00:00",
          "2022-05-23T00:00:00",
          "2022-05-23T00:00:00",
          "2022-05-23T00:00:00",
          "2022-05-23T00:00:00",
          "2022-05-26T00:00:00",
          "2022-05-26T00:00:00",
          "2022-05-26T00:00:00",
          "2022-05-26T00:00:00",
          "2022-05-26T00:00:00",
          "2022-05-26T00:00:00",
          "2022-05-26T00:00:00",
          "2022-05-26T00:00:00",
          "2022-05-26T00:00:00",
          "2022-05-26T00:00:00",
          "2022-05-26T00:00:00",
          "2022-05-31T00:00:00",
          "2022-06-01T00:00:00",
          "2022-06-01T00:00:00",
          "2022-06-01T00:00:00",
          "2022-06-01T00:00:00",
          "2022-06-01T00:00:00",
          "2022-06-01T00:00:00",
          "2022-06-01T00:00:00",
          "2022-06-01T00:00:00",
          "2022-06-01T00:00:00",
          "2022-06-01T00:00:00",
          "2022-06-01T00:00:00",
          "2022-06-01T00:00:00",
          "2022-06-01T00:00:00",
          "2022-06-01T00:00:00",
          "2022-06-01T00:00:00",
          "2022-06-01T00:00:00",
          "2022-06-01T00:00:00",
          "2022-06-01T00:00:00",
          "2022-06-01T00:00:00",
          "2022-06-01T00:00:00",
          "2022-06-01T00:00:00",
          "2022-06-01T00:00:00",
          "2022-06-01T00:00:00",
          "2022-06-01T00:00:00",
          "2022-06-01T00:00:00",
          "2022-06-01T00:00:00",
          "2022-06-01T00:00:00",
          "2022-06-02T00:00:00",
          "2022-06-02T00:00:00",
          "2022-06-02T00:00:00",
          "2022-06-02T00:00:00",
          "2022-06-02T00:00:00",
          "2022-06-02T00:00:00",
          "2022-06-02T00:00:00",
          "2022-06-02T00:00:00",
          "2022-06-02T00:00:00",
          "2022-06-02T00:00:00",
          "2022-06-02T00:00:00",
          "2022-06-02T00:00:00",
          "2022-06-02T00:00:00",
          "2022-06-02T00:00:00",
          "2022-06-02T00:00:00",
          "2022-06-02T00:00:00",
          "2022-06-02T00:00:00",
          "2022-06-02T00:00:00",
          "2022-06-02T00:00:00",
          "2022-06-02T00:00:00",
          "2022-06-02T00:00:00",
          "2022-06-02T00:00:00",
          "2022-06-02T00:00:00",
          "2022-06-03T00:00:00",
          "2022-06-03T00:00:00",
          "2022-06-03T00:00:00",
          "2022-06-06T00:00:00",
          "2022-06-07T00:00:00",
          "2022-06-07T00:00:00",
          "2022-06-07T00:00:00",
          "2022-06-07T00:00:00",
          "2022-06-07T00:00:00",
          "2022-06-07T00:00:00",
          "2022-06-07T00:00:00",
          "2022-06-07T00:00:00",
          "2022-06-07T00:00:00",
          "2022-06-07T00:00:00",
          "2022-06-07T00:00:00",
          "2022-06-07T00:00:00",
          "2022-06-07T00:00:00",
          "2022-06-07T00:00:00",
          "2022-06-07T00:00:00",
          "2022-06-07T00:00:00",
          "2022-06-07T00:00:00",
          "2022-06-07T00:00:00",
          "2022-06-07T00:00:00",
          "2022-06-07T00:00:00",
          "2022-06-08T00:00:00",
          "2022-06-09T00:00:00",
          "2022-06-09T00:00:00",
          "2022-06-09T00:00:00",
          "2022-06-09T00:00:00",
          "2022-06-09T00:00:00",
          "2022-06-09T00:00:00",
          "2022-06-09T00:00:00",
          "2022-06-09T00:00:00",
          "2022-06-09T00:00:00",
          "2022-06-09T00:00:00",
          "2022-06-09T00:00:00",
          "2022-06-10T00:00:00",
          "2022-06-10T00:00:00",
          "2022-06-10T00:00:00",
          "2022-06-13T00:00:00",
          "2022-06-13T00:00:00",
          "2022-06-13T00:00:00",
          "2022-06-13T00:00:00",
          "2022-06-13T00:00:00",
          "2022-06-13T00:00:00",
          "2022-06-13T00:00:00",
          "2022-06-13T00:00:00",
          "2022-06-14T00:00:00",
          "2022-06-14T00:00:00",
          "2022-06-14T00:00:00",
          "2022-06-14T00:00:00",
          "2022-06-14T00:00:00",
          "2022-06-14T00:00:00",
          "2022-06-14T00:00:00",
          "2022-06-14T00:00:00",
          "2022-06-14T00:00:00",
          "2022-06-14T00:00:00",
          "2022-06-14T00:00:00",
          "2022-06-14T00:00:00",
          "2022-06-14T00:00:00",
          "2022-06-14T00:00:00",
          "2022-06-14T00:00:00",
          "2022-06-14T00:00:00",
          "2022-06-14T00:00:00",
          "2022-06-14T00:00:00",
          "2022-06-14T00:00:00",
          "2022-06-14T00:00:00",
          "2022-06-14T00:00:00",
          "2022-06-14T00:00:00",
          "2022-06-14T00:00:00",
          "2022-06-14T00:00:00",
          "2022-06-14T00:00:00",
          "2022-06-14T00:00:00",
          "2022-06-14T00:00:00",
          "2022-06-14T00:00:00",
          "2022-06-14T00:00:00",
          "2022-06-14T00:00:00",
          "2022-06-14T00:00:00",
          "2022-06-14T00:00:00",
          "2022-06-14T00:00:00",
          "2022-06-14T00:00:00"
         ],
         "xaxis": "x",
         "y": [
          1,
          2,
          3,
          4,
          5,
          6,
          7,
          8,
          9,
          10,
          11,
          12,
          13,
          14,
          15,
          16,
          17,
          18,
          19,
          20,
          21,
          22,
          23,
          24,
          25,
          26,
          27,
          28,
          29,
          30,
          31,
          32,
          33,
          34,
          35,
          36,
          37,
          38,
          39,
          40,
          41,
          42,
          43,
          44,
          45,
          46,
          47,
          48,
          49,
          50,
          51,
          52,
          53,
          54,
          55,
          56,
          57,
          58,
          59,
          60,
          61,
          62,
          63,
          64,
          65,
          66,
          67,
          68,
          69,
          70,
          71,
          72,
          73,
          74,
          75,
          76,
          77,
          78,
          79,
          80,
          81,
          82,
          83,
          84,
          85,
          86,
          87,
          88,
          89,
          90,
          91,
          92,
          93,
          94,
          95,
          96,
          97,
          98,
          99,
          100,
          101,
          102,
          103,
          104,
          105,
          106,
          107,
          108,
          109,
          110,
          111,
          112,
          113,
          114,
          115,
          116,
          117,
          118,
          119,
          120,
          121,
          122,
          123,
          124,
          125,
          126,
          127,
          128,
          129,
          130,
          131,
          132,
          133,
          134,
          135,
          136,
          137,
          138,
          139,
          140,
          141,
          142,
          143,
          144,
          145,
          146,
          147,
          148,
          149,
          150,
          151,
          152,
          153,
          154,
          155,
          156,
          157,
          158
         ],
         "yaxis": "y"
        },
        {
         "hovertemplate": "Country=Czech Republic<br>Date_confirmation=%{x}<br>sum_case=%{y}<extra></extra>",
         "legendgroup": "Czech Republic",
         "marker": {
          "color": "#FF6692",
          "symbol": "circle"
         },
         "mode": "markers",
         "name": "Czech Republic",
         "showlegend": true,
         "type": "scattergl",
         "x": [
          "2022-05-24T00:00:00",
          "2022-05-26T00:00:00",
          "2022-05-26T00:00:00",
          "2022-05-26T00:00:00",
          "2022-05-26T00:00:00",
          "2022-06-02T00:00:00"
         ],
         "xaxis": "x",
         "y": [
          1,
          2,
          3,
          4,
          5,
          6
         ],
         "yaxis": "y"
        },
        {
         "hovertemplate": "Country=Denmark<br>Date_confirmation=%{x}<br>sum_case=%{y}<extra></extra>",
         "legendgroup": "Denmark",
         "marker": {
          "color": "#B6E880",
          "symbol": "circle"
         },
         "mode": "markers",
         "name": "Denmark",
         "showlegend": true,
         "type": "scattergl",
         "x": [
          "2022-05-23T00:00:00",
          "2022-05-24T00:00:00",
          "2022-06-10T00:00:00",
          "2022-06-10T00:00:00"
         ],
         "xaxis": "x",
         "y": [
          1,
          2,
          3,
          4
         ],
         "yaxis": "y"
        },
        {
         "hovertemplate": "Country=England<br>Date_confirmation=%{x}<br>sum_case=%{y}<extra></extra>",
         "legendgroup": "England",
         "marker": {
          "color": "#FF97FF",
          "symbol": "circle"
         },
         "mode": "markers",
         "name": "England",
         "showlegend": true,
         "type": "scattergl",
         "x": [
          "2022-05-06T00:00:00",
          "2022-05-12T00:00:00",
          "2022-05-13T00:00:00",
          "2022-05-15T00:00:00",
          "2022-05-15T00:00:00",
          "2022-05-15T00:00:00",
          "2022-05-15T00:00:00",
          "2022-05-18T00:00:00",
          "2022-05-18T00:00:00",
          "2022-05-20T00:00:00",
          "2022-05-20T00:00:00",
          "2022-05-20T00:00:00",
          "2022-05-20T00:00:00",
          "2022-05-20T00:00:00",
          "2022-05-20T00:00:00",
          "2022-05-20T00:00:00",
          "2022-05-20T00:00:00",
          "2022-05-20T00:00:00",
          "2022-05-20T00:00:00",
          "2022-05-20T00:00:00",
          "2022-05-23T00:00:00",
          "2022-05-23T00:00:00",
          "2022-05-23T00:00:00",
          "2022-05-23T00:00:00",
          "2022-05-23T00:00:00",
          "2022-05-23T00:00:00",
          "2022-05-23T00:00:00",
          "2022-05-23T00:00:00",
          "2022-05-23T00:00:00",
          "2022-05-23T00:00:00",
          "2022-05-23T00:00:00",
          "2022-05-23T00:00:00",
          "2022-05-23T00:00:00",
          "2022-05-23T00:00:00",
          "2022-05-23T00:00:00",
          "2022-05-23T00:00:00",
          "2022-05-23T00:00:00",
          "2022-05-23T00:00:00",
          "2022-05-23T00:00:00",
          "2022-05-23T00:00:00",
          "2022-05-23T00:00:00",
          "2022-05-23T00:00:00",
          "2022-05-23T00:00:00",
          "2022-05-23T00:00:00",
          "2022-05-23T00:00:00",
          "2022-05-23T00:00:00",
          "2022-05-23T00:00:00",
          "2022-05-23T00:00:00",
          "2022-05-23T00:00:00",
          "2022-05-23T00:00:00",
          "2022-05-23T00:00:00",
          "2022-05-23T00:00:00",
          "2022-05-23T00:00:00",
          "2022-05-23T00:00:00",
          "2022-05-23T00:00:00",
          "2022-05-23T00:00:00",
          "2022-05-24T00:00:00",
          "2022-05-24T00:00:00",
          "2022-05-24T00:00:00",
          "2022-05-24T00:00:00",
          "2022-05-24T00:00:00",
          "2022-05-24T00:00:00",
          "2022-05-24T00:00:00",
          "2022-05-24T00:00:00",
          "2022-05-24T00:00:00",
          "2022-05-24T00:00:00",
          "2022-05-24T00:00:00",
          "2022-05-24T00:00:00",
          "2022-05-24T00:00:00",
          "2022-05-24T00:00:00",
          "2022-05-25T00:00:00",
          "2022-05-25T00:00:00",
          "2022-05-25T00:00:00",
          "2022-05-25T00:00:00",
          "2022-05-25T00:00:00",
          "2022-05-25T00:00:00",
          "2022-05-25T00:00:00",
          "2022-05-26T00:00:00",
          "2022-05-26T00:00:00",
          "2022-05-26T00:00:00",
          "2022-05-26T00:00:00",
          "2022-05-26T00:00:00",
          "2022-05-26T00:00:00",
          "2022-05-26T00:00:00",
          "2022-05-26T00:00:00",
          "2022-05-26T00:00:00",
          "2022-05-26T00:00:00",
          "2022-05-26T00:00:00",
          "2022-05-26T00:00:00",
          "2022-05-26T00:00:00",
          "2022-05-26T00:00:00",
          "2022-05-26T00:00:00",
          "2022-05-26T00:00:00",
          "2022-05-26T00:00:00",
          "2022-05-26T00:00:00",
          "2022-05-26T00:00:00",
          "2022-05-26T00:00:00",
          "2022-05-26T00:00:00",
          "2022-05-26T00:00:00",
          "2022-05-26T00:00:00",
          "2022-05-26T00:00:00",
          "2022-05-30T00:00:00",
          "2022-05-30T00:00:00",
          "2022-05-30T00:00:00",
          "2022-05-30T00:00:00",
          "2022-05-30T00:00:00",
          "2022-05-30T00:00:00",
          "2022-05-30T00:00:00",
          "2022-05-30T00:00:00",
          "2022-05-30T00:00:00",
          "2022-05-30T00:00:00",
          "2022-05-30T00:00:00",
          "2022-05-30T00:00:00",
          "2022-05-30T00:00:00",
          "2022-05-30T00:00:00",
          "2022-05-30T00:00:00",
          "2022-05-30T00:00:00",
          "2022-05-30T00:00:00",
          "2022-05-30T00:00:00",
          "2022-05-30T00:00:00",
          "2022-05-30T00:00:00",
          "2022-05-30T00:00:00",
          "2022-05-30T00:00:00",
          "2022-05-30T00:00:00",
          "2022-05-30T00:00:00",
          "2022-05-30T00:00:00",
          "2022-05-30T00:00:00",
          "2022-05-30T00:00:00",
          "2022-05-30T00:00:00",
          "2022-05-30T00:00:00",
          "2022-05-30T00:00:00",
          "2022-05-30T00:00:00",
          "2022-05-30T00:00:00",
          "2022-05-30T00:00:00",
          "2022-05-30T00:00:00",
          "2022-05-30T00:00:00",
          "2022-05-30T00:00:00",
          "2022-05-30T00:00:00",
          "2022-05-30T00:00:00",
          "2022-05-30T00:00:00",
          "2022-05-30T00:00:00",
          "2022-05-30T00:00:00",
          "2022-05-30T00:00:00",
          "2022-05-30T00:00:00",
          "2022-05-30T00:00:00",
          "2022-05-30T00:00:00",
          "2022-05-30T00:00:00",
          "2022-05-30T00:00:00",
          "2022-05-30T00:00:00",
          "2022-05-30T00:00:00",
          "2022-05-30T00:00:00",
          "2022-05-30T00:00:00",
          "2022-05-30T00:00:00",
          "2022-05-30T00:00:00",
          "2022-05-30T00:00:00",
          "2022-05-30T00:00:00",
          "2022-05-30T00:00:00",
          "2022-05-30T00:00:00",
          "2022-05-30T00:00:00",
          "2022-05-30T00:00:00",
          "2022-05-30T00:00:00",
          "2022-05-30T00:00:00",
          "2022-05-30T00:00:00",
          "2022-05-30T00:00:00",
          "2022-05-30T00:00:00",
          "2022-05-30T00:00:00",
          "2022-05-30T00:00:00",
          "2022-05-30T00:00:00",
          "2022-05-30T00:00:00",
          "2022-05-30T00:00:00",
          "2022-05-30T00:00:00",
          "2022-05-30T00:00:00",
          "2022-05-31T00:00:00",
          "2022-05-31T00:00:00",
          "2022-05-31T00:00:00",
          "2022-05-31T00:00:00",
          "2022-05-31T00:00:00",
          "2022-05-31T00:00:00",
          "2022-05-31T00:00:00",
          "2022-05-31T00:00:00",
          "2022-05-31T00:00:00",
          "2022-05-31T00:00:00",
          "2022-05-31T00:00:00",
          "2022-06-01T00:00:00",
          "2022-06-01T00:00:00",
          "2022-06-01T00:00:00",
          "2022-06-01T00:00:00",
          "2022-06-01T00:00:00",
          "2022-06-02T00:00:00",
          "2022-06-02T00:00:00",
          "2022-06-02T00:00:00",
          "2022-06-02T00:00:00",
          "2022-06-02T00:00:00",
          "2022-06-02T00:00:00",
          "2022-06-02T00:00:00",
          "2022-06-02T00:00:00",
          "2022-06-02T00:00:00",
          "2022-06-02T00:00:00",
          "2022-06-02T00:00:00",
          "2022-06-03T00:00:00",
          "2022-06-03T00:00:00",
          "2022-06-03T00:00:00",
          "2022-06-03T00:00:00",
          "2022-06-03T00:00:00",
          "2022-06-03T00:00:00",
          "2022-06-03T00:00:00",
          "2022-06-03T00:00:00",
          "2022-06-03T00:00:00",
          "2022-06-03T00:00:00",
          "2022-06-03T00:00:00",
          "2022-06-03T00:00:00",
          "2022-06-03T00:00:00",
          "2022-06-03T00:00:00",
          "2022-06-03T00:00:00",
          "2022-06-06T00:00:00",
          "2022-06-06T00:00:00",
          "2022-06-06T00:00:00",
          "2022-06-06T00:00:00",
          "2022-06-06T00:00:00",
          "2022-06-06T00:00:00",
          "2022-06-06T00:00:00",
          "2022-06-06T00:00:00",
          "2022-06-06T00:00:00",
          "2022-06-06T00:00:00",
          "2022-06-06T00:00:00",
          "2022-06-06T00:00:00",
          "2022-06-06T00:00:00",
          "2022-06-06T00:00:00",
          "2022-06-06T00:00:00",
          "2022-06-06T00:00:00",
          "2022-06-06T00:00:00",
          "2022-06-06T00:00:00",
          "2022-06-06T00:00:00",
          "2022-06-06T00:00:00",
          "2022-06-06T00:00:00",
          "2022-06-06T00:00:00",
          "2022-06-06T00:00:00",
          "2022-06-06T00:00:00",
          "2022-06-06T00:00:00",
          "2022-06-06T00:00:00",
          "2022-06-06T00:00:00",
          "2022-06-06T00:00:00",
          "2022-06-06T00:00:00",
          "2022-06-06T00:00:00",
          "2022-06-06T00:00:00",
          "2022-06-06T00:00:00",
          "2022-06-06T00:00:00",
          "2022-06-06T00:00:00",
          "2022-06-06T00:00:00",
          "2022-06-06T00:00:00",
          "2022-06-06T00:00:00",
          "2022-06-06T00:00:00",
          "2022-06-06T00:00:00",
          "2022-06-06T00:00:00",
          "2022-06-06T00:00:00",
          "2022-06-06T00:00:00",
          "2022-06-06T00:00:00",
          "2022-06-06T00:00:00",
          "2022-06-06T00:00:00",
          "2022-06-06T00:00:00",
          "2022-06-06T00:00:00",
          "2022-06-06T00:00:00",
          "2022-06-06T00:00:00",
          "2022-06-06T00:00:00",
          "2022-06-06T00:00:00",
          "2022-06-06T00:00:00",
          "2022-06-06T00:00:00",
          "2022-06-06T00:00:00",
          "2022-06-06T00:00:00",
          "2022-06-06T00:00:00",
          "2022-06-06T00:00:00",
          "2022-06-06T00:00:00",
          "2022-06-06T00:00:00",
          "2022-06-06T00:00:00",
          "2022-06-06T00:00:00",
          "2022-06-06T00:00:00",
          "2022-06-06T00:00:00",
          "2022-06-06T00:00:00",
          "2022-06-06T00:00:00",
          "2022-06-06T00:00:00",
          "2022-06-06T00:00:00",
          "2022-06-06T00:00:00",
          "2022-06-06T00:00:00",
          "2022-06-06T00:00:00",
          "2022-06-06T00:00:00",
          "2022-06-06T00:00:00",
          "2022-06-06T00:00:00",
          "2022-06-07T00:00:00",
          "2022-06-07T00:00:00",
          "2022-06-07T00:00:00",
          "2022-06-07T00:00:00",
          "2022-06-07T00:00:00",
          "2022-06-07T00:00:00",
          "2022-06-07T00:00:00",
          "2022-06-07T00:00:00",
          "2022-06-07T00:00:00",
          "2022-06-07T00:00:00",
          "2022-06-07T00:00:00",
          "2022-06-07T00:00:00",
          "2022-06-07T00:00:00",
          "2022-06-07T00:00:00",
          "2022-06-07T00:00:00",
          "2022-06-07T00:00:00",
          "2022-06-07T00:00:00",
          "2022-06-07T00:00:00",
          "2022-06-09T00:00:00",
          "2022-06-09T00:00:00",
          "2022-06-09T00:00:00",
          "2022-06-09T00:00:00",
          "2022-06-09T00:00:00",
          "2022-06-09T00:00:00",
          "2022-06-09T00:00:00",
          "2022-06-09T00:00:00",
          "2022-06-09T00:00:00",
          "2022-06-09T00:00:00",
          "2022-06-09T00:00:00",
          "2022-06-09T00:00:00",
          "2022-06-09T00:00:00",
          "2022-06-09T00:00:00",
          "2022-06-09T00:00:00",
          "2022-06-09T00:00:00",
          "2022-06-09T00:00:00",
          "2022-06-09T00:00:00",
          "2022-06-09T00:00:00",
          "2022-06-09T00:00:00",
          "2022-06-09T00:00:00",
          "2022-06-09T00:00:00",
          "2022-06-09T00:00:00",
          "2022-06-09T00:00:00",
          "2022-06-09T00:00:00",
          "2022-06-09T00:00:00",
          "2022-06-09T00:00:00",
          "2022-06-09T00:00:00",
          "2022-06-09T00:00:00",
          "2022-06-09T00:00:00",
          "2022-06-09T00:00:00",
          "2022-06-09T00:00:00",
          "2022-06-09T00:00:00",
          "2022-06-09T00:00:00",
          "2022-06-09T00:00:00",
          "2022-06-09T00:00:00",
          "2022-06-09T00:00:00",
          "2022-06-09T00:00:00",
          "2022-06-09T00:00:00",
          "2022-06-09T00:00:00",
          "2022-06-09T00:00:00",
          "2022-06-09T00:00:00",
          "2022-06-09T00:00:00",
          "2022-06-12T00:00:00",
          "2022-06-12T00:00:00",
          "2022-06-12T00:00:00",
          "2022-06-12T00:00:00",
          "2022-06-12T00:00:00",
          "2022-06-12T00:00:00",
          "2022-06-12T00:00:00",
          "2022-06-12T00:00:00",
          "2022-06-12T00:00:00",
          "2022-06-12T00:00:00",
          "2022-06-12T00:00:00",
          "2022-06-12T00:00:00",
          "2022-06-12T00:00:00",
          "2022-06-12T00:00:00",
          "2022-06-12T00:00:00",
          "2022-06-12T00:00:00",
          "2022-06-12T00:00:00",
          "2022-06-12T00:00:00",
          "2022-06-12T00:00:00",
          "2022-06-12T00:00:00",
          "2022-06-12T00:00:00",
          "2022-06-12T00:00:00",
          "2022-06-12T00:00:00",
          "2022-06-12T00:00:00",
          "2022-06-12T00:00:00",
          "2022-06-12T00:00:00",
          "2022-06-12T00:00:00",
          "2022-06-12T00:00:00",
          "2022-06-12T00:00:00",
          "2022-06-12T00:00:00",
          "2022-06-12T00:00:00",
          "2022-06-12T00:00:00",
          "2022-06-12T00:00:00",
          "2022-06-12T00:00:00",
          "2022-06-12T00:00:00",
          "2022-06-12T00:00:00",
          "2022-06-12T00:00:00",
          "2022-06-12T00:00:00",
          "2022-06-12T00:00:00",
          "2022-06-12T00:00:00",
          "2022-06-12T00:00:00",
          "2022-06-12T00:00:00",
          "2022-06-12T00:00:00",
          "2022-06-12T00:00:00",
          "2022-06-12T00:00:00",
          "2022-06-12T00:00:00",
          "2022-06-12T00:00:00",
          "2022-06-12T00:00:00",
          "2022-06-12T00:00:00",
          "2022-06-12T00:00:00",
          "2022-06-12T00:00:00",
          "2022-06-12T00:00:00",
          "2022-06-12T00:00:00",
          "2022-06-12T00:00:00",
          "2022-06-12T00:00:00",
          "2022-06-12T00:00:00",
          "2022-06-12T00:00:00",
          "2022-06-12T00:00:00",
          "2022-06-12T00:00:00",
          "2022-06-12T00:00:00",
          "2022-06-12T00:00:00",
          "2022-06-12T00:00:00",
          "2022-06-12T00:00:00",
          "2022-06-12T00:00:00",
          "2022-06-12T00:00:00",
          "2022-06-12T00:00:00",
          "2022-06-12T00:00:00",
          "2022-06-12T00:00:00",
          "2022-06-12T00:00:00",
          "2022-06-12T00:00:00",
          "2022-06-12T00:00:00",
          "2022-06-12T00:00:00",
          "2022-06-12T00:00:00",
          "2022-06-12T00:00:00",
          "2022-06-12T00:00:00",
          "2022-06-12T00:00:00",
          "2022-06-12T00:00:00",
          "2022-06-12T00:00:00",
          "2022-06-12T00:00:00",
          "2022-06-12T00:00:00",
          "2022-06-12T00:00:00",
          "2022-06-12T00:00:00",
          "2022-06-12T00:00:00",
          "2022-06-12T00:00:00",
          "2022-06-12T00:00:00",
          "2022-06-12T00:00:00",
          "2022-06-12T00:00:00",
          "2022-06-12T00:00:00",
          "2022-06-12T00:00:00",
          "2022-06-12T00:00:00",
          "2022-06-12T00:00:00",
          "2022-06-12T00:00:00",
          "2022-06-12T00:00:00",
          "2022-06-12T00:00:00",
          "2022-06-12T00:00:00",
          "2022-06-12T00:00:00",
          "2022-06-12T00:00:00",
          "2022-06-12T00:00:00",
          "2022-06-12T00:00:00",
          "2022-06-12T00:00:00",
          "2022-06-12T00:00:00",
          "2022-06-12T00:00:00",
          "2022-06-12T00:00:00",
          "2022-06-12T00:00:00"
         ],
         "xaxis": "x",
         "y": [
          1,
          2,
          3,
          4,
          5,
          6,
          7,
          8,
          9,
          10,
          11,
          12,
          13,
          14,
          15,
          16,
          17,
          18,
          19,
          20,
          21,
          22,
          23,
          24,
          25,
          26,
          27,
          28,
          29,
          30,
          31,
          32,
          33,
          34,
          35,
          36,
          37,
          38,
          39,
          40,
          41,
          42,
          43,
          44,
          45,
          46,
          47,
          48,
          49,
          50,
          51,
          52,
          53,
          54,
          55,
          56,
          57,
          58,
          59,
          60,
          61,
          62,
          63,
          64,
          65,
          66,
          67,
          68,
          69,
          70,
          71,
          72,
          73,
          74,
          75,
          76,
          77,
          78,
          79,
          80,
          81,
          82,
          83,
          84,
          85,
          86,
          87,
          88,
          89,
          90,
          91,
          92,
          93,
          94,
          95,
          96,
          97,
          98,
          99,
          100,
          101,
          102,
          103,
          104,
          105,
          106,
          107,
          108,
          109,
          110,
          111,
          112,
          113,
          114,
          115,
          116,
          117,
          118,
          119,
          120,
          121,
          122,
          123,
          124,
          125,
          126,
          127,
          128,
          129,
          130,
          131,
          132,
          133,
          134,
          135,
          136,
          137,
          138,
          139,
          140,
          141,
          142,
          143,
          144,
          145,
          146,
          147,
          148,
          149,
          150,
          151,
          152,
          153,
          154,
          155,
          156,
          157,
          158,
          159,
          160,
          161,
          162,
          163,
          164,
          165,
          166,
          167,
          168,
          169,
          170,
          171,
          172,
          173,
          174,
          175,
          176,
          177,
          178,
          179,
          180,
          181,
          182,
          183,
          184,
          185,
          186,
          187,
          188,
          189,
          190,
          191,
          192,
          193,
          194,
          195,
          196,
          197,
          198,
          199,
          200,
          201,
          202,
          203,
          204,
          205,
          206,
          207,
          208,
          209,
          210,
          211,
          212,
          213,
          214,
          215,
          216,
          217,
          218,
          219,
          220,
          221,
          222,
          223,
          224,
          225,
          226,
          227,
          228,
          229,
          230,
          231,
          232,
          233,
          234,
          235,
          236,
          237,
          238,
          239,
          240,
          241,
          242,
          243,
          244,
          245,
          246,
          247,
          248,
          249,
          250,
          251,
          252,
          253,
          254,
          255,
          256,
          257,
          258,
          259,
          260,
          261,
          262,
          263,
          264,
          265,
          266,
          267,
          268,
          269,
          270,
          271,
          272,
          273,
          274,
          275,
          276,
          277,
          278,
          279,
          280,
          281,
          282,
          283,
          284,
          285,
          286,
          287,
          288,
          289,
          290,
          291,
          292,
          293,
          294,
          295,
          296,
          297,
          298,
          299,
          300,
          301,
          302,
          303,
          304,
          305,
          306,
          307,
          308,
          309,
          310,
          311,
          312,
          313,
          314,
          315,
          316,
          317,
          318,
          319,
          320,
          321,
          322,
          323,
          324,
          325,
          326,
          327,
          328,
          329,
          330,
          331,
          332,
          333,
          334,
          335,
          336,
          337,
          338,
          339,
          340,
          341,
          342,
          343,
          344,
          345,
          346,
          347,
          348,
          349,
          350,
          351,
          352,
          353,
          354,
          355,
          356,
          357,
          358,
          359,
          360,
          361,
          362,
          363,
          364,
          365,
          366,
          367,
          368,
          369,
          370,
          371,
          372,
          373,
          374,
          375,
          376,
          377,
          378,
          379,
          380,
          381,
          382,
          383,
          384,
          385,
          386,
          387,
          388,
          389,
          390,
          391,
          392,
          393,
          394,
          395,
          396,
          397,
          398,
          399,
          400,
          401,
          402,
          403,
          404,
          405,
          406,
          407,
          408,
          409,
          410,
          411,
          412,
          413,
          414,
          415,
          416,
          417,
          418,
          419,
          420,
          421,
          422,
          423,
          424,
          425,
          426,
          427,
          428,
          429,
          430,
          431,
          432,
          433,
          434,
          435,
          436,
          437,
          438,
          439,
          440,
          441,
          442,
          443,
          444,
          445,
          446,
          447,
          448,
          449,
          450,
          451,
          452
         ],
         "yaxis": "y"
        },
        {
         "hovertemplate": "Country=Finland<br>Date_confirmation=%{x}<br>sum_case=%{y}<extra></extra>",
         "legendgroup": "Finland",
         "marker": {
          "color": "#FECB52",
          "symbol": "circle"
         },
         "mode": "markers",
         "name": "Finland",
         "showlegend": true,
         "type": "scattergl",
         "x": [
          "2022-05-27T00:00:00",
          "2022-06-02T00:00:00",
          "2022-06-09T00:00:00"
         ],
         "xaxis": "x",
         "y": [
          1,
          2,
          3
         ],
         "yaxis": "y"
        },
        {
         "hovertemplate": "Country=France<br>Date_confirmation=%{x}<br>sum_case=%{y}<extra></extra>",
         "legendgroup": "France",
         "marker": {
          "color": "#636efa",
          "symbol": "circle"
         },
         "mode": "markers",
         "name": "France",
         "showlegend": true,
         "type": "scattergl",
         "x": [
          "2022-05-19T00:00:00",
          "2022-05-23T00:00:00",
          "2022-05-23T00:00:00",
          "2022-05-24T00:00:00",
          "2022-05-24T00:00:00",
          "2022-05-25T00:00:00",
          "2022-05-25T00:00:00",
          "2022-05-28T00:00:00",
          "2022-05-28T00:00:00",
          "2022-05-28T00:00:00",
          "2022-05-28T00:00:00",
          "2022-05-28T00:00:00",
          "2022-05-28T00:00:00",
          "2022-05-28T00:00:00",
          "2022-05-28T00:00:00",
          "2022-05-28T00:00:00",
          "2022-05-30T00:00:00",
          "2022-06-01T00:00:00",
          "2022-06-01T00:00:00",
          "2022-06-01T00:00:00",
          "2022-06-01T00:00:00",
          "2022-06-01T00:00:00",
          "2022-06-01T00:00:00",
          "2022-06-01T00:00:00",
          "2022-06-01T00:00:00",
          "2022-06-01T00:00:00",
          "2022-06-01T00:00:00",
          "2022-06-01T00:00:00",
          "2022-06-01T00:00:00",
          "2022-06-01T00:00:00",
          "2022-06-01T00:00:00",
          "2022-06-01T00:00:00",
          "2022-06-01T00:00:00",
          "2022-06-03T00:00:00",
          "2022-06-03T00:00:00",
          "2022-06-03T00:00:00",
          "2022-06-03T00:00:00",
          "2022-06-03T00:00:00",
          "2022-06-03T00:00:00",
          "2022-06-03T00:00:00",
          "2022-06-03T00:00:00",
          "2022-06-03T00:00:00",
          "2022-06-03T00:00:00",
          "2022-06-03T00:00:00",
          "2022-06-03T00:00:00",
          "2022-06-03T00:00:00",
          "2022-06-03T00:00:00",
          "2022-06-03T00:00:00",
          "2022-06-03T00:00:00",
          "2022-06-03T00:00:00",
          "2022-06-03T00:00:00",
          "2022-06-04T00:00:00",
          "2022-06-07T00:00:00",
          "2022-06-07T00:00:00",
          "2022-06-07T00:00:00",
          "2022-06-07T00:00:00",
          "2022-06-07T00:00:00",
          "2022-06-07T00:00:00",
          "2022-06-07T00:00:00",
          "2022-06-07T00:00:00",
          "2022-06-07T00:00:00",
          "2022-06-07T00:00:00",
          "2022-06-07T00:00:00",
          "2022-06-07T00:00:00",
          "2022-06-07T00:00:00",
          "2022-06-07T00:00:00",
          "2022-06-09T00:00:00",
          "2022-06-09T00:00:00",
          "2022-06-09T00:00:00",
          "2022-06-09T00:00:00",
          "2022-06-09T00:00:00",
          "2022-06-09T00:00:00",
          "2022-06-09T00:00:00",
          "2022-06-09T00:00:00",
          "2022-06-09T00:00:00",
          "2022-06-09T00:00:00",
          "2022-06-09T00:00:00",
          "2022-06-09T00:00:00",
          "2022-06-09T00:00:00",
          "2022-06-09T00:00:00",
          "2022-06-09T00:00:00",
          "2022-06-09T00:00:00",
          "2022-06-09T00:00:00",
          "2022-06-09T00:00:00",
          "2022-06-09T00:00:00",
          "2022-06-09T00:00:00",
          "2022-06-09T00:00:00",
          "2022-06-09T00:00:00",
          "2022-06-09T00:00:00",
          "2022-06-09T00:00:00",
          "2022-06-09T00:00:00"
         ],
         "xaxis": "x",
         "y": [
          1,
          2,
          3,
          4,
          5,
          6,
          7,
          8,
          9,
          10,
          11,
          12,
          13,
          14,
          15,
          16,
          17,
          18,
          19,
          20,
          21,
          22,
          23,
          24,
          25,
          26,
          27,
          28,
          29,
          30,
          31,
          32,
          33,
          34,
          35,
          36,
          37,
          38,
          39,
          40,
          41,
          42,
          43,
          44,
          45,
          46,
          47,
          48,
          49,
          50,
          51,
          52,
          53,
          54,
          55,
          56,
          57,
          58,
          59,
          60,
          61,
          62,
          63,
          64,
          65,
          66,
          67,
          68,
          69,
          70,
          71,
          72,
          73,
          74,
          75,
          76,
          77,
          78,
          79,
          80,
          81,
          82,
          83,
          84,
          85,
          86,
          87,
          88,
          89,
          90,
          91
         ],
         "yaxis": "y"
        },
        {
         "hovertemplate": "Country=Germany<br>Date_confirmation=%{x}<br>sum_case=%{y}<extra></extra>",
         "legendgroup": "Germany",
         "marker": {
          "color": "#EF553B",
          "symbol": "circle"
         },
         "mode": "markers",
         "name": "Germany",
         "showlegend": true,
         "type": "scattergl",
         "x": [
          "2022-05-19T00:00:00",
          "2022-05-20T00:00:00",
          "2022-05-21T00:00:00",
          "2022-05-21T00:00:00",
          "2022-05-23T00:00:00",
          "2022-05-23T00:00:00",
          "2022-05-24T00:00:00",
          "2022-05-24T00:00:00",
          "2022-05-24T00:00:00",
          "2022-05-24T00:00:00",
          "2022-05-24T00:00:00",
          "2022-05-24T00:00:00",
          "2022-05-25T00:00:00",
          "2022-05-26T00:00:00",
          "2022-05-26T00:00:00",
          "2022-05-27T00:00:00",
          "2022-05-27T00:00:00",
          "2022-05-27T00:00:00",
          "2022-05-27T00:00:00",
          "2022-05-27T00:00:00",
          "2022-05-27T00:00:00",
          "2022-05-28T00:00:00",
          "2022-05-30T00:00:00",
          "2022-05-30T00:00:00",
          "2022-05-30T00:00:00",
          "2022-05-31T00:00:00",
          "2022-05-31T00:00:00",
          "2022-05-31T00:00:00",
          "2022-05-31T00:00:00",
          "2022-05-31T00:00:00",
          "2022-05-31T00:00:00",
          "2022-05-31T00:00:00",
          "2022-05-31T00:00:00",
          "2022-05-31T00:00:00",
          "2022-05-31T00:00:00",
          "2022-05-31T00:00:00",
          "2022-05-31T00:00:00",
          "2022-05-31T00:00:00",
          "2022-05-31T00:00:00",
          "2022-05-31T00:00:00",
          "2022-05-31T00:00:00",
          "2022-06-02T00:00:00",
          "2022-06-02T00:00:00",
          "2022-06-02T00:00:00",
          "2022-06-02T00:00:00",
          "2022-06-02T00:00:00",
          "2022-06-02T00:00:00",
          "2022-06-02T00:00:00",
          "2022-06-02T00:00:00",
          "2022-06-02T00:00:00",
          "2022-06-02T00:00:00",
          "2022-06-02T00:00:00",
          "2022-06-02T00:00:00",
          "2022-06-02T00:00:00",
          "2022-06-02T00:00:00",
          "2022-06-02T00:00:00",
          "2022-06-02T00:00:00",
          "2022-06-02T00:00:00",
          "2022-06-03T00:00:00",
          "2022-06-03T00:00:00",
          "2022-06-03T00:00:00",
          "2022-06-03T00:00:00",
          "2022-06-03T00:00:00",
          "2022-06-03T00:00:00",
          "2022-06-03T00:00:00",
          "2022-06-03T00:00:00",
          "2022-06-03T00:00:00",
          "2022-06-03T00:00:00",
          "2022-06-03T00:00:00",
          "2022-06-03T00:00:00",
          "2022-06-03T00:00:00",
          "2022-06-03T00:00:00",
          "2022-06-03T00:00:00",
          "2022-06-03T00:00:00",
          "2022-06-03T00:00:00",
          "2022-06-04T00:00:00",
          "2022-06-04T00:00:00",
          "2022-06-04T00:00:00",
          "2022-06-04T00:00:00",
          "2022-06-04T00:00:00",
          "2022-06-07T00:00:00",
          "2022-06-07T00:00:00",
          "2022-06-07T00:00:00",
          "2022-06-07T00:00:00",
          "2022-06-07T00:00:00",
          "2022-06-07T00:00:00",
          "2022-06-07T00:00:00",
          "2022-06-07T00:00:00",
          "2022-06-07T00:00:00",
          "2022-06-07T00:00:00",
          "2022-06-07T00:00:00",
          "2022-06-07T00:00:00",
          "2022-06-07T00:00:00",
          "2022-06-07T00:00:00",
          "2022-06-07T00:00:00",
          "2022-06-07T00:00:00",
          "2022-06-07T00:00:00",
          "2022-06-07T00:00:00",
          "2022-06-07T00:00:00",
          "2022-06-07T00:00:00",
          "2022-06-07T00:00:00",
          "2022-06-07T00:00:00",
          "2022-06-07T00:00:00",
          "2022-06-07T00:00:00",
          "2022-06-07T00:00:00",
          "2022-06-07T00:00:00",
          "2022-06-07T00:00:00",
          "2022-06-08T00:00:00",
          "2022-06-08T00:00:00",
          "2022-06-08T00:00:00",
          "2022-06-08T00:00:00",
          "2022-06-08T00:00:00",
          "2022-06-08T00:00:00",
          "2022-06-08T00:00:00",
          "2022-06-08T00:00:00",
          "2022-06-08T00:00:00",
          "2022-06-08T00:00:00",
          "2022-06-08T00:00:00",
          "2022-06-08T00:00:00",
          "2022-06-08T00:00:00",
          "2022-06-09T00:00:00",
          "2022-06-09T00:00:00",
          "2022-06-09T00:00:00",
          "2022-06-09T00:00:00",
          "2022-06-09T00:00:00",
          "2022-06-09T00:00:00",
          "2022-06-09T00:00:00",
          "2022-06-09T00:00:00",
          "2022-06-09T00:00:00",
          "2022-06-09T00:00:00",
          "2022-06-09T00:00:00",
          "2022-06-09T00:00:00",
          "2022-06-09T00:00:00",
          "2022-06-09T00:00:00",
          "2022-06-09T00:00:00",
          "2022-06-09T00:00:00",
          "2022-06-09T00:00:00",
          "2022-06-09T00:00:00",
          "2022-06-09T00:00:00",
          "2022-06-09T00:00:00",
          "2022-06-09T00:00:00",
          "2022-06-09T00:00:00",
          "2022-06-09T00:00:00",
          "2022-06-09T00:00:00",
          "2022-06-09T00:00:00",
          "2022-06-09T00:00:00",
          "2022-06-09T00:00:00",
          "2022-06-09T00:00:00",
          "2022-06-09T00:00:00",
          "2022-06-09T00:00:00",
          "2022-06-10T00:00:00",
          "2022-06-10T00:00:00",
          "2022-06-10T00:00:00",
          "2022-06-10T00:00:00",
          "2022-06-10T00:00:00",
          "2022-06-10T00:00:00",
          "2022-06-10T00:00:00",
          "2022-06-10T00:00:00",
          "2022-06-10T00:00:00",
          "2022-06-10T00:00:00",
          "2022-06-10T00:00:00",
          "2022-06-10T00:00:00",
          "2022-06-12T00:00:00",
          "2022-06-13T00:00:00",
          "2022-06-13T00:00:00",
          "2022-06-13T00:00:00",
          "2022-06-13T00:00:00",
          "2022-06-13T00:00:00",
          "2022-06-13T00:00:00",
          "2022-06-13T00:00:00",
          "2022-06-13T00:00:00",
          "2022-06-13T00:00:00",
          "2022-06-13T00:00:00",
          "2022-06-13T00:00:00",
          "2022-06-13T00:00:00",
          "2022-06-13T00:00:00",
          "2022-06-13T00:00:00",
          "2022-06-13T00:00:00",
          "2022-06-13T00:00:00",
          "2022-06-13T00:00:00",
          "2022-06-13T00:00:00",
          "2022-06-13T00:00:00",
          "2022-06-13T00:00:00",
          "2022-06-13T00:00:00",
          "2022-06-13T00:00:00",
          "2022-06-13T00:00:00",
          "2022-06-13T00:00:00",
          "2022-06-13T00:00:00",
          "2022-06-14T00:00:00",
          "2022-06-14T00:00:00",
          "2022-06-14T00:00:00",
          "2022-06-14T00:00:00",
          "2022-06-14T00:00:00",
          "2022-06-14T00:00:00",
          "2022-06-14T00:00:00",
          "2022-06-14T00:00:00",
          "2022-06-14T00:00:00",
          "2022-06-14T00:00:00",
          "2022-06-14T00:00:00",
          "2022-06-14T00:00:00",
          "2022-06-14T00:00:00",
          "2022-06-14T00:00:00",
          "2022-06-14T00:00:00",
          "2022-06-14T00:00:00",
          "2022-06-14T00:00:00",
          "2022-06-14T00:00:00",
          "2022-06-14T00:00:00",
          "2022-06-14T00:00:00",
          "2022-06-14T00:00:00",
          "2022-06-14T00:00:00",
          "2022-06-14T00:00:00",
          "2022-06-14T00:00:00",
          "2022-06-14T00:00:00",
          "2022-06-14T00:00:00",
          "2022-06-14T00:00:00",
          "2022-06-14T00:00:00",
          "2022-06-14T00:00:00",
          "2022-06-14T00:00:00",
          "2022-06-14T00:00:00",
          "2022-06-14T00:00:00",
          "2022-06-14T00:00:00",
          "2022-06-14T00:00:00",
          "2022-06-14T00:00:00",
          "2022-06-14T00:00:00",
          "2022-06-14T00:00:00",
          "2022-06-14T00:00:00",
          "2022-06-14T00:00:00",
          "2022-06-14T00:00:00"
         ],
         "xaxis": "x",
         "y": [
          1,
          2,
          3,
          4,
          5,
          6,
          7,
          8,
          9,
          10,
          11,
          12,
          13,
          14,
          15,
          16,
          17,
          18,
          19,
          20,
          21,
          22,
          23,
          24,
          25,
          26,
          27,
          28,
          29,
          30,
          31,
          32,
          33,
          34,
          35,
          36,
          37,
          38,
          39,
          40,
          41,
          42,
          43,
          44,
          45,
          46,
          47,
          48,
          49,
          50,
          51,
          52,
          53,
          54,
          55,
          56,
          57,
          58,
          59,
          60,
          61,
          62,
          63,
          64,
          65,
          66,
          67,
          68,
          69,
          70,
          71,
          72,
          73,
          74,
          75,
          76,
          77,
          78,
          79,
          80,
          81,
          82,
          83,
          84,
          85,
          86,
          87,
          88,
          89,
          90,
          91,
          92,
          93,
          94,
          95,
          96,
          97,
          98,
          99,
          100,
          101,
          102,
          103,
          104,
          105,
          106,
          107,
          108,
          109,
          110,
          111,
          112,
          113,
          114,
          115,
          116,
          117,
          118,
          119,
          120,
          121,
          122,
          123,
          124,
          125,
          126,
          127,
          128,
          129,
          130,
          131,
          132,
          133,
          134,
          135,
          136,
          137,
          138,
          139,
          140,
          141,
          142,
          143,
          144,
          145,
          146,
          147,
          148,
          149,
          150,
          151,
          152,
          153,
          154,
          155,
          156,
          157,
          158,
          159,
          160,
          161,
          162,
          163,
          164,
          165,
          166,
          167,
          168,
          169,
          170,
          171,
          172,
          173,
          174,
          175,
          176,
          177,
          178,
          179,
          180,
          181,
          182,
          183,
          184,
          185,
          186,
          187,
          188,
          189,
          190,
          191,
          192,
          193,
          194,
          195,
          196,
          197,
          198,
          199,
          200,
          201,
          202,
          203,
          204,
          205,
          206,
          207,
          208,
          209,
          210,
          211,
          212,
          213,
          214,
          215,
          216,
          217,
          218,
          219,
          220,
          221,
          222,
          223,
          224,
          225,
          226,
          227,
          228
         ],
         "yaxis": "y"
        },
        {
         "hovertemplate": "Country=Ghana<br>Date_confirmation=%{x}<br>sum_case=%{y}<extra></extra>",
         "legendgroup": "Ghana",
         "marker": {
          "color": "#00cc96",
          "symbol": "circle"
         },
         "mode": "markers",
         "name": "Ghana",
         "showlegend": true,
         "type": "scattergl",
         "x": [
          "2022-06-08T00:00:00",
          "2022-06-08T00:00:00",
          "2022-06-08T00:00:00",
          "2022-06-08T00:00:00",
          "2022-06-08T00:00:00"
         ],
         "xaxis": "x",
         "y": [
          1,
          2,
          3,
          4,
          5
         ],
         "yaxis": "y"
        },
        {
         "hovertemplate": "Country=Gibraltar<br>Date_confirmation=%{x}<br>sum_case=%{y}<extra></extra>",
         "legendgroup": "Gibraltar",
         "marker": {
          "color": "#ab63fa",
          "symbol": "circle"
         },
         "mode": "markers",
         "name": "Gibraltar",
         "showlegend": true,
         "type": "scattergl",
         "x": [
          "2022-06-01T00:00:00"
         ],
         "xaxis": "x",
         "y": [
          1
         ],
         "yaxis": "y"
        },
        {
         "hovertemplate": "Country=Greece<br>Date_confirmation=%{x}<br>sum_case=%{y}<extra></extra>",
         "legendgroup": "Greece",
         "marker": {
          "color": "#FFA15A",
          "symbol": "circle"
         },
         "mode": "markers",
         "name": "Greece",
         "showlegend": true,
         "type": "scattergl",
         "x": [
          "2022-06-08T00:00:00"
         ],
         "xaxis": "x",
         "y": [
          1
         ],
         "yaxis": "y"
        },
        {
         "hovertemplate": "Country=Hungary<br>Date_confirmation=%{x}<br>sum_case=%{y}<extra></extra>",
         "legendgroup": "Hungary",
         "marker": {
          "color": "#19d3f3",
          "symbol": "circle"
         },
         "mode": "markers",
         "name": "Hungary",
         "showlegend": true,
         "type": "scattergl",
         "x": [
          "2022-05-31T00:00:00"
         ],
         "xaxis": "x",
         "y": [
          1
         ],
         "yaxis": "y"
        },
        {
         "hovertemplate": "Country=Ireland<br>Date_confirmation=%{x}<br>sum_case=%{y}<extra></extra>",
         "legendgroup": "Ireland",
         "marker": {
          "color": "#FF6692",
          "symbol": "circle"
         },
         "mode": "markers",
         "name": "Ireland",
         "showlegend": true,
         "type": "scattergl",
         "x": [
          "2022-05-27T00:00:00",
          "2022-05-30T00:00:00",
          "2022-06-01T00:00:00",
          "2022-06-01T00:00:00",
          "2022-06-02T00:00:00",
          "2022-06-02T00:00:00",
          "2022-06-07T00:00:00",
          "2022-06-10T00:00:00",
          "2022-06-10T00:00:00"
         ],
         "xaxis": "x",
         "y": [
          1,
          2,
          3,
          4,
          5,
          6,
          7,
          8,
          9
         ],
         "yaxis": "y"
        },
        {
         "hovertemplate": "Country=Israel<br>Date_confirmation=%{x}<br>sum_case=%{y}<extra></extra>",
         "legendgroup": "Israel",
         "marker": {
          "color": "#B6E880",
          "symbol": "circle"
         },
         "mode": "markers",
         "name": "Israel",
         "showlegend": true,
         "type": "scattergl",
         "x": [
          "2022-05-21T00:00:00",
          "2022-05-28T00:00:00",
          "2022-06-07T00:00:00",
          "2022-06-09T00:00:00"
         ],
         "xaxis": "x",
         "y": [
          1,
          2,
          3,
          4
         ],
         "yaxis": "y"
        },
        {
         "hovertemplate": "Country=Italy<br>Date_confirmation=%{x}<br>sum_case=%{y}<extra></extra>",
         "legendgroup": "Italy",
         "marker": {
          "color": "#FF97FF",
          "symbol": "circle"
         },
         "mode": "markers",
         "name": "Italy",
         "showlegend": true,
         "type": "scattergl",
         "x": [
          "2022-05-19T00:00:00",
          "2022-05-20T00:00:00",
          "2022-05-20T00:00:00",
          "2022-05-23T00:00:00",
          "2022-05-24T00:00:00",
          "2022-05-25T00:00:00",
          "2022-05-25T00:00:00",
          "2022-05-25T00:00:00",
          "2022-05-25T00:00:00",
          "2022-05-26T00:00:00",
          "2022-05-26T00:00:00",
          "2022-05-26T00:00:00",
          "2022-05-29T00:00:00",
          "2022-05-31T00:00:00",
          "2022-05-31T00:00:00",
          "2022-05-31T00:00:00",
          "2022-05-31T00:00:00",
          "2022-05-31T00:00:00",
          "2022-05-31T00:00:00",
          "2022-06-01T00:00:00",
          "2022-06-01T00:00:00",
          "2022-06-03T00:00:00",
          "2022-06-06T00:00:00",
          "2022-06-06T00:00:00",
          "2022-06-06T00:00:00",
          "2022-06-06T00:00:00",
          "2022-06-06T00:00:00",
          "2022-06-06T00:00:00",
          "2022-06-07T00:00:00",
          "2022-06-08T00:00:00",
          "2022-06-08T00:00:00",
          "2022-06-10T00:00:00",
          "2022-06-11T00:00:00",
          "2022-06-11T00:00:00",
          "2022-06-11T00:00:00",
          "2022-06-11T00:00:00",
          "2022-06-11T00:00:00",
          "2022-06-14T00:00:00"
         ],
         "xaxis": "x",
         "y": [
          1,
          2,
          3,
          4,
          5,
          6,
          7,
          8,
          9,
          10,
          11,
          12,
          13,
          14,
          15,
          16,
          17,
          18,
          19,
          20,
          21,
          22,
          23,
          24,
          25,
          26,
          27,
          28,
          29,
          30,
          31,
          32,
          33,
          34,
          35,
          36,
          37,
          38
         ],
         "yaxis": "y"
        },
        {
         "hovertemplate": "Country=Latvia<br>Date_confirmation=%{x}<br>sum_case=%{y}<extra></extra>",
         "legendgroup": "Latvia",
         "marker": {
          "color": "#FECB52",
          "symbol": "circle"
         },
         "mode": "markers",
         "name": "Latvia",
         "showlegend": true,
         "type": "scattergl",
         "x": [
          "2022-06-03T00:00:00",
          "2022-06-09T00:00:00"
         ],
         "xaxis": "x",
         "y": [
          1,
          2
         ],
         "yaxis": "y"
        },
        {
         "hovertemplate": "Country=Malta<br>Date_confirmation=%{x}<br>sum_case=%{y}<extra></extra>",
         "legendgroup": "Malta",
         "marker": {
          "color": "#636efa",
          "symbol": "circle"
         },
         "mode": "markers",
         "name": "Malta",
         "showlegend": true,
         "type": "scattergl",
         "x": [
          "2022-05-28T00:00:00"
         ],
         "xaxis": "x",
         "y": [
          1
         ],
         "yaxis": "y"
        },
        {
         "hovertemplate": "Country=Mexico<br>Date_confirmation=%{x}<br>sum_case=%{y}<extra></extra>",
         "legendgroup": "Mexico",
         "marker": {
          "color": "#EF553B",
          "symbol": "circle"
         },
         "mode": "markers",
         "name": "Mexico",
         "showlegend": true,
         "type": "scattergl",
         "x": [
          "2022-05-28T00:00:00",
          "2022-06-11T00:00:00"
         ],
         "xaxis": "x",
         "y": [
          1,
          2
         ],
         "yaxis": "y"
        },
        {
         "hovertemplate": "Country=Morocco<br>Date_confirmation=%{x}<br>sum_case=%{y}<extra></extra>",
         "legendgroup": "Morocco",
         "marker": {
          "color": "#00cc96",
          "symbol": "circle"
         },
         "mode": "markers",
         "name": "Morocco",
         "showlegend": true,
         "type": "scattergl",
         "x": [
          "2022-06-02T00:00:00"
         ],
         "xaxis": "x",
         "y": [
          1
         ],
         "yaxis": "y"
        },
        {
         "hovertemplate": "Country=Netherlands<br>Date_confirmation=%{x}<br>sum_case=%{y}<extra></extra>",
         "legendgroup": "Netherlands",
         "marker": {
          "color": "#ab63fa",
          "symbol": "circle"
         },
         "mode": "markers",
         "name": "Netherlands",
         "showlegend": true,
         "type": "scattergl",
         "x": [
          "2022-05-20T00:00:00",
          "2022-05-21T00:00:00",
          "2022-05-23T00:00:00",
          "2022-05-23T00:00:00",
          "2022-05-23T00:00:00",
          "2022-05-23T00:00:00",
          "2022-05-25T00:00:00",
          "2022-05-25T00:00:00",
          "2022-05-25T00:00:00",
          "2022-05-25T00:00:00",
          "2022-05-25T00:00:00",
          "2022-05-25T00:00:00",
          "2022-05-30T00:00:00",
          "2022-05-30T00:00:00",
          "2022-05-30T00:00:00",
          "2022-05-30T00:00:00",
          "2022-05-30T00:00:00",
          "2022-05-30T00:00:00",
          "2022-05-30T00:00:00",
          "2022-05-30T00:00:00",
          "2022-05-30T00:00:00",
          "2022-05-30T00:00:00",
          "2022-05-30T00:00:00",
          "2022-05-30T00:00:00",
          "2022-05-30T00:00:00",
          "2022-05-30T00:00:00",
          "2022-06-02T00:00:00",
          "2022-06-02T00:00:00",
          "2022-06-02T00:00:00",
          "2022-06-02T00:00:00",
          "2022-06-02T00:00:00",
          "2022-06-02T00:00:00",
          "2022-06-02T00:00:00",
          "2022-06-02T00:00:00",
          "2022-06-02T00:00:00",
          "2022-06-02T00:00:00",
          "2022-06-02T00:00:00",
          "2022-06-02T00:00:00",
          "2022-06-02T00:00:00",
          "2022-06-02T00:00:00",
          "2022-06-07T00:00:00",
          "2022-06-07T00:00:00",
          "2022-06-07T00:00:00",
          "2022-06-07T00:00:00",
          "2022-06-07T00:00:00",
          "2022-06-07T00:00:00",
          "2022-06-07T00:00:00",
          "2022-06-07T00:00:00",
          "2022-06-07T00:00:00",
          "2022-06-07T00:00:00",
          "2022-06-07T00:00:00",
          "2022-06-07T00:00:00",
          "2022-06-07T00:00:00",
          "2022-06-07T00:00:00",
          "2022-06-09T00:00:00",
          "2022-06-09T00:00:00",
          "2022-06-09T00:00:00",
          "2022-06-09T00:00:00",
          "2022-06-09T00:00:00",
          "2022-06-09T00:00:00",
          "2022-06-14T00:00:00",
          "2022-06-14T00:00:00",
          "2022-06-14T00:00:00",
          "2022-06-14T00:00:00",
          "2022-06-14T00:00:00",
          "2022-06-14T00:00:00",
          "2022-06-14T00:00:00",
          "2022-06-14T00:00:00",
          "2022-06-14T00:00:00",
          "2022-06-14T00:00:00",
          "2022-06-14T00:00:00",
          "2022-06-14T00:00:00",
          "2022-06-14T00:00:00",
          "2022-06-14T00:00:00",
          "2022-06-14T00:00:00",
          "2022-06-14T00:00:00",
          "2022-06-14T00:00:00",
          "2022-06-14T00:00:00",
          "2022-06-14T00:00:00",
          "2022-06-14T00:00:00"
         ],
         "xaxis": "x",
         "y": [
          1,
          2,
          3,
          4,
          5,
          6,
          7,
          8,
          9,
          10,
          11,
          12,
          13,
          14,
          15,
          16,
          17,
          18,
          19,
          20,
          21,
          22,
          23,
          24,
          25,
          26,
          27,
          28,
          29,
          30,
          31,
          32,
          33,
          34,
          35,
          36,
          37,
          38,
          39,
          40,
          41,
          42,
          43,
          44,
          45,
          46,
          47,
          48,
          49,
          50,
          51,
          52,
          53,
          54,
          55,
          56,
          57,
          58,
          59,
          60,
          61,
          62,
          63,
          64,
          65,
          66,
          67,
          68,
          69,
          70,
          71,
          72,
          73,
          74,
          75,
          76,
          77,
          78,
          79,
          80
         ],
         "yaxis": "y"
        },
        {
         "hovertemplate": "Country=Northern Ireland<br>Date_confirmation=%{x}<br>sum_case=%{y}<extra></extra>",
         "legendgroup": "Northern Ireland",
         "marker": {
          "color": "#FFA15A",
          "symbol": "circle"
         },
         "mode": "markers",
         "name": "Northern Ireland",
         "showlegend": true,
         "type": "scattergl",
         "x": [
          "2022-05-26T00:00:00",
          "2022-05-30T00:00:00"
         ],
         "xaxis": "x",
         "y": [
          1,
          2
         ],
         "yaxis": "y"
        },
        {
         "hovertemplate": "Country=Norway<br>Date_confirmation=%{x}<br>sum_case=%{y}<extra></extra>",
         "legendgroup": "Norway",
         "marker": {
          "color": "#19d3f3",
          "symbol": "circle"
         },
         "mode": "markers",
         "name": "Norway",
         "showlegend": true,
         "type": "scattergl",
         "x": [
          "2022-05-31T00:00:00",
          "2022-06-01T00:00:00"
         ],
         "xaxis": "x",
         "y": [
          1,
          2
         ],
         "yaxis": "y"
        },
        {
         "hovertemplate": "Country=Poland<br>Date_confirmation=%{x}<br>sum_case=%{y}<extra></extra>",
         "legendgroup": "Poland",
         "marker": {
          "color": "#FF6692",
          "symbol": "circle"
         },
         "mode": "markers",
         "name": "Poland",
         "showlegend": true,
         "type": "scattergl",
         "x": [
          "2022-06-10T00:00:00"
         ],
         "xaxis": "x",
         "y": [
          1
         ],
         "yaxis": "y"
        },
        {
         "hovertemplate": "Country=Portugal<br>Date_confirmation=%{x}<br>sum_case=%{y}<extra></extra>",
         "legendgroup": "Portugal",
         "marker": {
          "color": "#B6E880",
          "symbol": "circle"
         },
         "mode": "markers",
         "name": "Portugal",
         "showlegend": true,
         "type": "scattergl",
         "x": [
          "2022-05-17T00:00:00",
          "2022-05-17T00:00:00",
          "2022-05-17T00:00:00",
          "2022-05-18T00:00:00",
          "2022-05-18T00:00:00",
          "2022-05-18T00:00:00",
          "2022-05-18T00:00:00",
          "2022-05-18T00:00:00",
          "2022-05-18T00:00:00",
          "2022-05-18T00:00:00",
          "2022-05-18T00:00:00",
          "2022-05-18T00:00:00",
          "2022-05-18T00:00:00",
          "2022-05-18T00:00:00",
          "2022-05-19T00:00:00",
          "2022-05-19T00:00:00",
          "2022-05-19T00:00:00",
          "2022-05-19T00:00:00",
          "2022-05-19T00:00:00",
          "2022-05-19T00:00:00",
          "2022-05-19T00:00:00",
          "2022-05-19T00:00:00",
          "2022-05-19T00:00:00",
          "2022-05-23T00:00:00",
          "2022-05-23T00:00:00",
          "2022-05-23T00:00:00",
          "2022-05-23T00:00:00",
          "2022-05-23T00:00:00",
          "2022-05-23T00:00:00",
          "2022-05-23T00:00:00",
          "2022-05-23T00:00:00",
          "2022-05-23T00:00:00",
          "2022-05-23T00:00:00",
          "2022-05-23T00:00:00",
          "2022-05-23T00:00:00",
          "2022-05-23T00:00:00",
          "2022-05-23T00:00:00",
          "2022-05-24T00:00:00",
          "2022-05-24T00:00:00",
          "2022-05-25T00:00:00",
          "2022-05-25T00:00:00",
          "2022-05-25T00:00:00",
          "2022-05-25T00:00:00",
          "2022-05-25T00:00:00",
          "2022-05-25T00:00:00",
          "2022-05-25T00:00:00",
          "2022-05-25T00:00:00",
          "2022-05-25T00:00:00",
          "2022-05-25T00:00:00",
          "2022-05-26T00:00:00",
          "2022-05-26T00:00:00",
          "2022-05-26T00:00:00",
          "2022-05-26T00:00:00",
          "2022-05-26T00:00:00",
          "2022-05-26T00:00:00",
          "2022-05-26T00:00:00",
          "2022-05-26T00:00:00",
          "2022-05-26T00:00:00",
          "2022-05-27T00:00:00",
          "2022-05-27T00:00:00",
          "2022-05-27T00:00:00",
          "2022-05-27T00:00:00",
          "2022-05-27T00:00:00",
          "2022-05-27T00:00:00",
          "2022-05-27T00:00:00",
          "2022-05-27T00:00:00",
          "2022-05-27T00:00:00",
          "2022-05-27T00:00:00",
          "2022-05-27T00:00:00",
          "2022-05-27T00:00:00",
          "2022-05-27T00:00:00",
          "2022-05-27T00:00:00",
          "2022-05-27T00:00:00",
          "2022-05-27T00:00:00",
          "2022-05-30T00:00:00",
          "2022-05-30T00:00:00",
          "2022-05-30T00:00:00",
          "2022-05-30T00:00:00",
          "2022-05-30T00:00:00",
          "2022-05-30T00:00:00",
          "2022-05-30T00:00:00",
          "2022-05-30T00:00:00",
          "2022-05-30T00:00:00",
          "2022-05-30T00:00:00",
          "2022-05-30T00:00:00",
          "2022-05-30T00:00:00",
          "2022-05-30T00:00:00",
          "2022-05-30T00:00:00",
          "2022-05-30T00:00:00",
          "2022-05-30T00:00:00",
          "2022-05-30T00:00:00",
          "2022-05-30T00:00:00",
          "2022-05-30T00:00:00",
          "2022-05-30T00:00:00",
          "2022-05-30T00:00:00",
          "2022-05-30T00:00:00",
          "2022-05-31T00:00:00",
          "2022-05-31T00:00:00",
          "2022-05-31T00:00:00",
          "2022-05-31T00:00:00",
          "2022-06-01T00:00:00",
          "2022-06-01T00:00:00",
          "2022-06-01T00:00:00",
          "2022-06-01T00:00:00",
          "2022-06-01T00:00:00",
          "2022-06-01T00:00:00",
          "2022-06-01T00:00:00",
          "2022-06-01T00:00:00",
          "2022-06-01T00:00:00",
          "2022-06-01T00:00:00",
          "2022-06-01T00:00:00",
          "2022-06-01T00:00:00",
          "2022-06-01T00:00:00",
          "2022-06-01T00:00:00",
          "2022-06-01T00:00:00",
          "2022-06-01T00:00:00",
          "2022-06-01T00:00:00",
          "2022-06-01T00:00:00",
          "2022-06-01T00:00:00",
          "2022-06-02T00:00:00",
          "2022-06-02T00:00:00",
          "2022-06-02T00:00:00",
          "2022-06-02T00:00:00",
          "2022-06-02T00:00:00",
          "2022-06-02T00:00:00",
          "2022-06-02T00:00:00",
          "2022-06-02T00:00:00",
          "2022-06-02T00:00:00",
          "2022-06-02T00:00:00",
          "2022-06-02T00:00:00",
          "2022-06-02T00:00:00",
          "2022-06-02T00:00:00",
          "2022-06-02T00:00:00",
          "2022-06-02T00:00:00",
          "2022-06-02T00:00:00",
          "2022-06-02T00:00:00",
          "2022-06-02T00:00:00",
          "2022-06-02T00:00:00",
          "2022-06-03T00:00:00",
          "2022-06-03T00:00:00",
          "2022-06-03T00:00:00",
          "2022-06-03T00:00:00",
          "2022-06-03T00:00:00",
          "2022-06-06T00:00:00",
          "2022-06-06T00:00:00",
          "2022-06-06T00:00:00",
          "2022-06-06T00:00:00",
          "2022-06-06T00:00:00",
          "2022-06-06T00:00:00",
          "2022-06-06T00:00:00",
          "2022-06-06T00:00:00",
          "2022-06-06T00:00:00",
          "2022-06-06T00:00:00",
          "2022-06-07T00:00:00",
          "2022-06-07T00:00:00",
          "2022-06-07T00:00:00",
          "2022-06-07T00:00:00",
          "2022-06-07T00:00:00",
          "2022-06-07T00:00:00",
          "2022-06-07T00:00:00",
          "2022-06-07T00:00:00",
          "2022-06-07T00:00:00",
          "2022-06-07T00:00:00",
          "2022-06-07T00:00:00",
          "2022-06-07T00:00:00",
          "2022-06-07T00:00:00",
          "2022-06-08T00:00:00",
          "2022-06-08T00:00:00",
          "2022-06-08T00:00:00",
          "2022-06-08T00:00:00",
          "2022-06-08T00:00:00",
          "2022-06-08T00:00:00",
          "2022-06-08T00:00:00",
          "2022-06-08T00:00:00",
          "2022-06-08T00:00:00",
          "2022-06-08T00:00:00",
          "2022-06-08T00:00:00",
          "2022-06-08T00:00:00",
          "2022-06-08T00:00:00",
          "2022-06-08T00:00:00",
          "2022-06-08T00:00:00",
          "2022-06-08T00:00:00",
          "2022-06-08T00:00:00",
          "2022-06-08T00:00:00",
          "2022-06-08T00:00:00",
          "2022-06-08T00:00:00",
          "2022-06-08T00:00:00",
          "2022-06-08T00:00:00",
          "2022-06-08T00:00:00",
          "2022-06-08T00:00:00",
          "2022-06-08T00:00:00",
          "2022-06-09T00:00:00",
          "2022-06-09T00:00:00",
          "2022-06-09T00:00:00",
          "2022-06-09T00:00:00",
          "2022-06-09T00:00:00",
          "2022-06-09T00:00:00",
          "2022-06-09T00:00:00",
          "2022-06-09T00:00:00",
          "2022-06-09T00:00:00",
          "2022-06-09T00:00:00",
          "2022-06-09T00:00:00",
          "2022-06-09T00:00:00",
          "2022-06-09T00:00:00",
          "2022-06-09T00:00:00",
          "2022-06-09T00:00:00",
          "2022-06-09T00:00:00",
          "2022-06-09T00:00:00",
          "2022-06-09T00:00:00",
          "2022-06-14T00:00:00",
          "2022-06-14T00:00:00",
          "2022-06-14T00:00:00",
          "2022-06-14T00:00:00",
          "2022-06-14T00:00:00",
          "2022-06-14T00:00:00",
          "2022-06-14T00:00:00",
          "2022-06-14T00:00:00",
          "2022-06-14T00:00:00",
          "2022-06-14T00:00:00",
          "2022-06-14T00:00:00",
          "2022-06-14T00:00:00",
          "2022-06-14T00:00:00",
          "2022-06-14T00:00:00",
          "2022-06-14T00:00:00",
          "2022-06-14T00:00:00",
          "2022-06-14T00:00:00",
          "2022-06-14T00:00:00",
          "2022-06-14T00:00:00",
          "2022-06-14T00:00:00",
          "2022-06-14T00:00:00",
          "2022-06-14T00:00:00"
         ],
         "xaxis": "x",
         "y": [
          1,
          2,
          3,
          4,
          5,
          6,
          7,
          8,
          9,
          10,
          11,
          12,
          13,
          14,
          15,
          16,
          17,
          18,
          19,
          20,
          21,
          22,
          23,
          24,
          25,
          26,
          27,
          28,
          29,
          30,
          31,
          32,
          33,
          34,
          35,
          36,
          37,
          38,
          39,
          40,
          41,
          42,
          43,
          44,
          45,
          46,
          47,
          48,
          49,
          50,
          51,
          52,
          53,
          54,
          55,
          56,
          57,
          58,
          59,
          60,
          61,
          62,
          63,
          64,
          65,
          66,
          67,
          68,
          69,
          70,
          71,
          72,
          73,
          74,
          75,
          76,
          77,
          78,
          79,
          80,
          81,
          82,
          83,
          84,
          85,
          86,
          87,
          88,
          89,
          90,
          91,
          92,
          93,
          94,
          95,
          96,
          97,
          98,
          99,
          100,
          101,
          102,
          103,
          104,
          105,
          106,
          107,
          108,
          109,
          110,
          111,
          112,
          113,
          114,
          115,
          116,
          117,
          118,
          119,
          120,
          121,
          122,
          123,
          124,
          125,
          126,
          127,
          128,
          129,
          130,
          131,
          132,
          133,
          134,
          135,
          136,
          137,
          138,
          139,
          140,
          141,
          142,
          143,
          144,
          145,
          146,
          147,
          148,
          149,
          150,
          151,
          152,
          153,
          154,
          155,
          156,
          157,
          158,
          159,
          160,
          161,
          162,
          163,
          164,
          165,
          166,
          167,
          168,
          169,
          170,
          171,
          172,
          173,
          174,
          175,
          176,
          177,
          178,
          179,
          180,
          181,
          182,
          183,
          184,
          185,
          186,
          187,
          188,
          189,
          190,
          191,
          192,
          193,
          194,
          195,
          196,
          197,
          198,
          199,
          200,
          201,
          202,
          203,
          204,
          205,
          206,
          207,
          208,
          209,
          210,
          211,
          212,
          213,
          214,
          215,
          216,
          217,
          218,
          219,
          220,
          221,
          222,
          223,
          224,
          225,
          226,
          227,
          228,
          229,
          230,
          231
         ],
         "yaxis": "y"
        },
        {
         "hovertemplate": "Country=Romania<br>Date_confirmation=%{x}<br>sum_case=%{y}<extra></extra>",
         "legendgroup": "Romania",
         "marker": {
          "color": "#FF97FF",
          "symbol": "circle"
         },
         "mode": "markers",
         "name": "Romania",
         "showlegend": true,
         "type": "scattergl",
         "x": [
          "2022-06-13T00:00:00"
         ],
         "xaxis": "x",
         "y": [
          1
         ],
         "yaxis": "y"
        },
        {
         "hovertemplate": "Country=Scotland<br>Date_confirmation=%{x}<br>sum_case=%{y}<extra></extra>",
         "legendgroup": "Scotland",
         "marker": {
          "color": "#FECB52",
          "symbol": "circle"
         },
         "mode": "markers",
         "name": "Scotland",
         "showlegend": true,
         "type": "scattergl",
         "x": [
          "2022-05-23T00:00:00",
          "2022-05-26T00:00:00",
          "2022-05-26T00:00:00",
          "2022-05-30T00:00:00",
          "2022-06-01T00:00:00",
          "2022-06-03T00:00:00",
          "2022-06-03T00:00:00",
          "2022-06-03T00:00:00",
          "2022-06-06T00:00:00",
          "2022-06-06T00:00:00",
          "2022-06-07T00:00:00",
          "2022-06-09T00:00:00"
         ],
         "xaxis": "x",
         "y": [
          1,
          2,
          3,
          4,
          5,
          6,
          7,
          8,
          9,
          10,
          11,
          12
         ],
         "yaxis": "y"
        },
        {
         "hovertemplate": "Country=Slovenia<br>Date_confirmation=%{x}<br>sum_case=%{y}<extra></extra>",
         "legendgroup": "Slovenia",
         "marker": {
          "color": "#636efa",
          "symbol": "circle"
         },
         "mode": "markers",
         "name": "Slovenia",
         "showlegend": true,
         "type": "scattergl",
         "x": [
          "2022-05-24T00:00:00",
          "2022-05-25T00:00:00",
          "2022-06-02T00:00:00",
          "2022-06-06T00:00:00",
          "2022-06-06T00:00:00",
          "2022-06-06T00:00:00",
          "2022-06-13T00:00:00"
         ],
         "xaxis": "x",
         "y": [
          1,
          2,
          3,
          4,
          5,
          6,
          7
         ],
         "yaxis": "y"
        },
        {
         "hovertemplate": "Country=Spain<br>Date_confirmation=%{x}<br>sum_case=%{y}<extra></extra>",
         "legendgroup": "Spain",
         "marker": {
          "color": "#EF553B",
          "symbol": "circle"
         },
         "mode": "markers",
         "name": "Spain",
         "showlegend": true,
         "type": "scattergl",
         "x": [
          "2022-05-18T00:00:00",
          "2022-05-18T00:00:00",
          "2022-05-18T00:00:00",
          "2022-05-18T00:00:00",
          "2022-05-18T00:00:00",
          "2022-05-18T00:00:00",
          "2022-05-18T00:00:00",
          "2022-05-20T00:00:00",
          "2022-05-20T00:00:00",
          "2022-05-20T00:00:00",
          "2022-05-20T00:00:00",
          "2022-05-20T00:00:00",
          "2022-05-20T00:00:00",
          "2022-05-20T00:00:00",
          "2022-05-20T00:00:00",
          "2022-05-20T00:00:00",
          "2022-05-20T00:00:00",
          "2022-05-20T00:00:00",
          "2022-05-20T00:00:00",
          "2022-05-20T00:00:00",
          "2022-05-20T00:00:00",
          "2022-05-20T00:00:00",
          "2022-05-20T00:00:00",
          "2022-05-20T00:00:00",
          "2022-05-20T00:00:00",
          "2022-05-20T00:00:00",
          "2022-05-20T00:00:00",
          "2022-05-20T00:00:00",
          "2022-05-20T00:00:00",
          "2022-05-20T00:00:00",
          "2022-05-21T00:00:00",
          "2022-05-21T00:00:00",
          "2022-05-21T00:00:00",
          "2022-05-21T00:00:00",
          "2022-05-21T00:00:00",
          "2022-05-21T00:00:00",
          "2022-05-21T00:00:00",
          "2022-05-21T00:00:00",
          "2022-05-21T00:00:00",
          "2022-05-21T00:00:00",
          "2022-05-23T00:00:00",
          "2022-05-24T00:00:00",
          "2022-05-24T00:00:00",
          "2022-05-24T00:00:00",
          "2022-05-24T00:00:00",
          "2022-05-25T00:00:00",
          "2022-05-25T00:00:00",
          "2022-05-25T00:00:00",
          "2022-05-25T00:00:00",
          "2022-05-25T00:00:00",
          "2022-05-25T00:00:00",
          "2022-05-25T00:00:00",
          "2022-05-25T00:00:00",
          "2022-05-26T00:00:00",
          "2022-05-26T00:00:00",
          "2022-05-26T00:00:00",
          "2022-05-26T00:00:00",
          "2022-05-26T00:00:00",
          "2022-05-26T00:00:00",
          "2022-05-26T00:00:00",
          "2022-05-26T00:00:00",
          "2022-05-26T00:00:00",
          "2022-05-26T00:00:00",
          "2022-05-26T00:00:00",
          "2022-05-26T00:00:00",
          "2022-05-26T00:00:00",
          "2022-05-26T00:00:00",
          "2022-05-26T00:00:00",
          "2022-05-26T00:00:00",
          "2022-05-26T00:00:00",
          "2022-05-26T00:00:00",
          "2022-05-26T00:00:00",
          "2022-05-26T00:00:00",
          "2022-05-26T00:00:00",
          "2022-05-26T00:00:00",
          "2022-05-26T00:00:00",
          "2022-05-26T00:00:00",
          "2022-05-26T00:00:00",
          "2022-05-27T00:00:00",
          "2022-05-27T00:00:00",
          "2022-05-27T00:00:00",
          "2022-05-27T00:00:00",
          "2022-05-27T00:00:00",
          "2022-05-27T00:00:00",
          "2022-05-27T00:00:00",
          "2022-05-27T00:00:00",
          "2022-05-27T00:00:00",
          "2022-05-27T00:00:00",
          "2022-05-27T00:00:00",
          "2022-05-27T00:00:00",
          "2022-05-27T00:00:00",
          "2022-05-27T00:00:00",
          "2022-05-27T00:00:00",
          "2022-05-27T00:00:00",
          "2022-05-27T00:00:00",
          "2022-05-27T00:00:00",
          "2022-05-27T00:00:00",
          "2022-05-27T00:00:00",
          "2022-05-27T00:00:00",
          "2022-05-29T00:00:00",
          "2022-05-29T00:00:00",
          "2022-05-29T00:00:00",
          "2022-05-29T00:00:00",
          "2022-05-29T00:00:00",
          "2022-05-29T00:00:00",
          "2022-05-29T00:00:00",
          "2022-05-29T00:00:00",
          "2022-05-29T00:00:00",
          "2022-05-30T00:00:00",
          "2022-05-30T00:00:00",
          "2022-05-30T00:00:00",
          "2022-05-30T00:00:00",
          "2022-05-30T00:00:00",
          "2022-05-30T00:00:00",
          "2022-05-30T00:00:00",
          "2022-05-30T00:00:00",
          "2022-05-31T00:00:00",
          "2022-05-31T00:00:00",
          "2022-05-31T00:00:00",
          "2022-05-31T00:00:00",
          "2022-05-31T00:00:00",
          "2022-05-31T00:00:00",
          "2022-05-31T00:00:00",
          "2022-05-31T00:00:00",
          "2022-05-31T00:00:00",
          "2022-05-31T00:00:00",
          "2022-05-31T00:00:00",
          "2022-05-31T00:00:00",
          "2022-05-31T00:00:00",
          "2022-05-31T00:00:00",
          "2022-05-31T00:00:00",
          "2022-05-31T00:00:00",
          "2022-05-31T00:00:00",
          "2022-05-31T00:00:00",
          "2022-05-31T00:00:00",
          "2022-05-31T00:00:00",
          "2022-06-02T00:00:00",
          "2022-06-02T00:00:00",
          "2022-06-02T00:00:00",
          "2022-06-02T00:00:00",
          "2022-06-02T00:00:00",
          "2022-06-02T00:00:00",
          "2022-06-02T00:00:00",
          "2022-06-02T00:00:00",
          "2022-06-02T00:00:00",
          "2022-06-02T00:00:00",
          "2022-06-02T00:00:00",
          "2022-06-02T00:00:00",
          "2022-06-02T00:00:00",
          "2022-06-02T00:00:00",
          "2022-06-02T00:00:00",
          "2022-06-02T00:00:00",
          "2022-06-02T00:00:00",
          "2022-06-02T00:00:00",
          "2022-06-02T00:00:00",
          "2022-06-02T00:00:00",
          "2022-06-02T00:00:00",
          "2022-06-02T00:00:00",
          "2022-06-02T00:00:00",
          "2022-06-02T00:00:00",
          "2022-06-02T00:00:00",
          "2022-06-02T00:00:00",
          "2022-06-03T00:00:00",
          "2022-06-03T00:00:00",
          "2022-06-03T00:00:00",
          "2022-06-03T00:00:00",
          "2022-06-03T00:00:00",
          "2022-06-03T00:00:00",
          "2022-06-03T00:00:00",
          "2022-06-03T00:00:00",
          "2022-06-03T00:00:00",
          "2022-06-03T00:00:00",
          "2022-06-03T00:00:00",
          "2022-06-03T00:00:00",
          "2022-06-03T00:00:00",
          "2022-06-03T00:00:00",
          "2022-06-03T00:00:00",
          "2022-06-03T00:00:00",
          "2022-06-03T00:00:00",
          "2022-06-03T00:00:00",
          "2022-06-03T00:00:00",
          "2022-06-06T00:00:00",
          "2022-06-06T00:00:00",
          "2022-06-06T00:00:00",
          "2022-06-06T00:00:00",
          "2022-06-06T00:00:00",
          "2022-06-06T00:00:00",
          "2022-06-06T00:00:00",
          "2022-06-06T00:00:00",
          "2022-06-06T00:00:00",
          "2022-06-06T00:00:00",
          "2022-06-06T00:00:00",
          "2022-06-06T00:00:00",
          "2022-06-06T00:00:00",
          "2022-06-06T00:00:00",
          "2022-06-06T00:00:00",
          "2022-06-06T00:00:00",
          "2022-06-06T00:00:00",
          "2022-06-07T00:00:00",
          "2022-06-07T00:00:00",
          "2022-06-07T00:00:00",
          "2022-06-07T00:00:00",
          "2022-06-07T00:00:00",
          "2022-06-07T00:00:00",
          "2022-06-07T00:00:00",
          "2022-06-07T00:00:00",
          "2022-06-07T00:00:00",
          "2022-06-07T00:00:00",
          "2022-06-07T00:00:00",
          "2022-06-07T00:00:00",
          "2022-06-07T00:00:00",
          "2022-06-07T00:00:00",
          "2022-06-07T00:00:00",
          "2022-06-07T00:00:00",
          "2022-06-07T00:00:00",
          "2022-06-07T00:00:00",
          "2022-06-07T00:00:00",
          "2022-06-07T00:00:00",
          "2022-06-07T00:00:00",
          "2022-06-07T00:00:00",
          "2022-06-07T00:00:00",
          "2022-06-07T00:00:00",
          "2022-06-07T00:00:00",
          "2022-06-07T00:00:00",
          "2022-06-07T00:00:00",
          "2022-06-08T00:00:00",
          "2022-06-08T00:00:00",
          "2022-06-08T00:00:00",
          "2022-06-08T00:00:00",
          "2022-06-08T00:00:00",
          "2022-06-08T00:00:00",
          "2022-06-08T00:00:00",
          "2022-06-08T00:00:00",
          "2022-06-08T00:00:00",
          "2022-06-08T00:00:00",
          "2022-06-08T00:00:00",
          "2022-06-08T00:00:00",
          "2022-06-08T00:00:00",
          "2022-06-08T00:00:00",
          "2022-06-08T00:00:00",
          "2022-06-08T00:00:00",
          "2022-06-08T00:00:00",
          "2022-06-08T00:00:00",
          "2022-06-08T00:00:00",
          "2022-06-08T00:00:00",
          "2022-06-08T00:00:00",
          "2022-06-08T00:00:00",
          "2022-06-08T00:00:00",
          "2022-06-08T00:00:00",
          "2022-06-08T00:00:00",
          "2022-06-08T00:00:00",
          "2022-06-08T00:00:00",
          "2022-06-08T00:00:00",
          "2022-06-08T00:00:00",
          "2022-06-08T00:00:00",
          "2022-06-08T00:00:00",
          "2022-06-08T00:00:00",
          "2022-06-08T00:00:00",
          "2022-06-08T00:00:00",
          "2022-06-10T00:00:00",
          "2022-06-10T00:00:00",
          "2022-06-10T00:00:00",
          "2022-06-10T00:00:00",
          "2022-06-10T00:00:00",
          "2022-06-10T00:00:00",
          "2022-06-10T00:00:00",
          "2022-06-10T00:00:00",
          "2022-06-10T00:00:00",
          "2022-06-10T00:00:00",
          "2022-06-10T00:00:00",
          "2022-06-10T00:00:00",
          "2022-06-10T00:00:00",
          "2022-06-10T00:00:00",
          "2022-06-10T00:00:00",
          "2022-06-10T00:00:00",
          "2022-06-14T00:00:00",
          "2022-06-14T00:00:00",
          "2022-06-14T00:00:00",
          "2022-06-14T00:00:00",
          "2022-06-14T00:00:00",
          "2022-06-14T00:00:00",
          "2022-06-14T00:00:00",
          "2022-06-14T00:00:00",
          "2022-06-14T00:00:00",
          "2022-06-14T00:00:00",
          "2022-06-14T00:00:00",
          "2022-06-14T00:00:00",
          "2022-06-14T00:00:00",
          "2022-06-14T00:00:00",
          "2022-06-14T00:00:00",
          "2022-06-14T00:00:00",
          "2022-06-14T00:00:00",
          "2022-06-14T00:00:00",
          "2022-06-14T00:00:00",
          "2022-06-14T00:00:00",
          "2022-06-14T00:00:00",
          "2022-06-14T00:00:00",
          "2022-06-14T00:00:00",
          "2022-06-14T00:00:00",
          "2022-06-14T00:00:00",
          "2022-06-14T00:00:00",
          "2022-06-14T00:00:00",
          "2022-06-14T00:00:00",
          "2022-06-14T00:00:00",
          "2022-06-14T00:00:00",
          "2022-06-14T00:00:00",
          "2022-06-14T00:00:00",
          "2022-06-14T00:00:00",
          "2022-06-14T00:00:00",
          "2022-06-14T00:00:00",
          "2022-06-14T00:00:00",
          "2022-06-14T00:00:00",
          "2022-06-14T00:00:00"
         ],
         "xaxis": "x",
         "y": [
          1,
          2,
          3,
          4,
          5,
          6,
          7,
          8,
          9,
          10,
          11,
          12,
          13,
          14,
          15,
          16,
          17,
          18,
          19,
          20,
          21,
          22,
          23,
          24,
          25,
          26,
          27,
          28,
          29,
          30,
          31,
          32,
          33,
          34,
          35,
          36,
          37,
          38,
          39,
          40,
          41,
          42,
          43,
          44,
          45,
          46,
          47,
          48,
          49,
          50,
          51,
          52,
          53,
          54,
          55,
          56,
          57,
          58,
          59,
          60,
          61,
          62,
          63,
          64,
          65,
          66,
          67,
          68,
          69,
          70,
          71,
          72,
          73,
          74,
          75,
          76,
          77,
          78,
          79,
          80,
          81,
          82,
          83,
          84,
          85,
          86,
          87,
          88,
          89,
          90,
          91,
          92,
          93,
          94,
          95,
          96,
          97,
          98,
          99,
          100,
          101,
          102,
          103,
          104,
          105,
          106,
          107,
          108,
          109,
          110,
          111,
          112,
          113,
          114,
          115,
          116,
          117,
          118,
          119,
          120,
          121,
          122,
          123,
          124,
          125,
          126,
          127,
          128,
          129,
          130,
          131,
          132,
          133,
          134,
          135,
          136,
          137,
          138,
          139,
          140,
          141,
          142,
          143,
          144,
          145,
          146,
          147,
          148,
          149,
          150,
          151,
          152,
          153,
          154,
          155,
          156,
          157,
          158,
          159,
          160,
          161,
          162,
          163,
          164,
          165,
          166,
          167,
          168,
          169,
          170,
          171,
          172,
          173,
          174,
          175,
          176,
          177,
          178,
          179,
          180,
          181,
          182,
          183,
          184,
          185,
          186,
          187,
          188,
          189,
          190,
          191,
          192,
          193,
          194,
          195,
          196,
          197,
          198,
          199,
          200,
          201,
          202,
          203,
          204,
          205,
          206,
          207,
          208,
          209,
          210,
          211,
          212,
          213,
          214,
          215,
          216,
          217,
          218,
          219,
          220,
          221,
          222,
          223,
          224,
          225,
          226,
          227,
          228,
          229,
          230,
          231,
          232,
          233,
          234,
          235,
          236,
          237,
          238,
          239,
          240,
          241,
          242,
          243,
          244,
          245,
          246,
          247,
          248,
          249,
          250,
          251,
          252,
          253,
          254,
          255,
          256,
          257,
          258,
          259,
          260,
          261,
          262,
          263,
          264,
          265,
          266,
          267,
          268,
          269,
          270,
          271,
          272,
          273,
          274,
          275,
          276,
          277,
          278,
          279,
          280,
          281,
          282,
          283,
          284,
          285,
          286,
          287,
          288,
          289,
          290,
          291,
          292,
          293,
          294,
          295,
          296,
          297,
          298,
          299,
          300,
          301,
          302,
          303,
          304,
          305,
          306,
          307,
          308,
          309,
          310,
          311,
          312,
          313
         ],
         "yaxis": "y"
        },
        {
         "hovertemplate": "Country=Sweden<br>Date_confirmation=%{x}<br>sum_case=%{y}<extra></extra>",
         "legendgroup": "Sweden",
         "marker": {
          "color": "#00cc96",
          "symbol": "circle"
         },
         "mode": "markers",
         "name": "Sweden",
         "showlegend": true,
         "type": "scattergl",
         "x": [
          "2022-05-19T00:00:00",
          "2022-05-25T00:00:00",
          "2022-05-30T00:00:00",
          "2022-05-31T00:00:00",
          "2022-06-02T00:00:00",
          "2022-06-10T00:00:00"
         ],
         "xaxis": "x",
         "y": [
          1,
          2,
          3,
          4,
          5,
          6
         ],
         "yaxis": "y"
        },
        {
         "hovertemplate": "Country=Switzerland<br>Date_confirmation=%{x}<br>sum_case=%{y}<extra></extra>",
         "legendgroup": "Switzerland",
         "marker": {
          "color": "#ab63fa",
          "symbol": "circle"
         },
         "mode": "markers",
         "name": "Switzerland",
         "showlegend": true,
         "type": "scattergl",
         "x": [
          "2022-05-21T00:00:00",
          "2022-05-24T00:00:00",
          "2022-05-26T00:00:00",
          "2022-05-27T00:00:00",
          "2022-06-02T00:00:00",
          "2022-06-02T00:00:00",
          "2022-06-03T00:00:00",
          "2022-06-03T00:00:00",
          "2022-06-07T00:00:00",
          "2022-06-07T00:00:00",
          "2022-06-08T00:00:00",
          "2022-06-08T00:00:00",
          "2022-06-10T00:00:00",
          "2022-06-10T00:00:00",
          "2022-06-13T00:00:00",
          "2022-06-13T00:00:00",
          "2022-06-13T00:00:00",
          "2022-06-13T00:00:00",
          "2022-06-13T00:00:00",
          "2022-06-14T00:00:00"
         ],
         "xaxis": "x",
         "y": [
          1,
          2,
          3,
          4,
          5,
          6,
          7,
          8,
          9,
          10,
          11,
          12,
          13,
          14,
          15,
          16,
          17,
          18,
          19,
          20
         ],
         "yaxis": "y"
        },
        {
         "hovertemplate": "Country=United Arab Emirates<br>Date_confirmation=%{x}<br>sum_case=%{y}<extra></extra>",
         "legendgroup": "United Arab Emirates",
         "marker": {
          "color": "#FFA15A",
          "symbol": "circle"
         },
         "mode": "markers",
         "name": "United Arab Emirates",
         "showlegend": true,
         "type": "scattergl",
         "x": [
          "2022-05-24T00:00:00",
          "2022-05-29T00:00:00",
          "2022-05-29T00:00:00",
          "2022-05-29T00:00:00",
          "2022-06-01T00:00:00",
          "2022-06-01T00:00:00",
          "2022-06-01T00:00:00",
          "2022-06-01T00:00:00",
          "2022-06-07T00:00:00",
          "2022-06-07T00:00:00",
          "2022-06-07T00:00:00",
          "2022-06-07T00:00:00",
          "2022-06-07T00:00:00"
         ],
         "xaxis": "x",
         "y": [
          1,
          2,
          3,
          4,
          5,
          6,
          7,
          8,
          9,
          10,
          11,
          12,
          13
         ],
         "yaxis": "y"
        },
        {
         "hovertemplate": "Country=United States<br>Date_confirmation=%{x}<br>sum_case=%{y}<extra></extra>",
         "legendgroup": "United States",
         "marker": {
          "color": "#19d3f3",
          "symbol": "circle"
         },
         "mode": "markers",
         "name": "United States",
         "showlegend": true,
         "type": "scattergl",
         "x": [
          "2022-05-18T00:00:00",
          "2022-05-20T00:00:00",
          "2022-05-25T00:00:00",
          "2022-05-25T00:00:00",
          "2022-05-26T00:00:00",
          "2022-05-26T00:00:00",
          "2022-05-26T00:00:00",
          "2022-05-26T00:00:00",
          "2022-05-26T00:00:00",
          "2022-05-27T00:00:00",
          "2022-05-27T00:00:00",
          "2022-05-27T00:00:00",
          "2022-05-29T00:00:00",
          "2022-05-29T00:00:00",
          "2022-05-31T00:00:00",
          "2022-05-31T00:00:00",
          "2022-05-31T00:00:00",
          "2022-05-31T00:00:00",
          "2022-05-31T00:00:00",
          "2022-06-02T00:00:00",
          "2022-06-02T00:00:00",
          "2022-06-02T00:00:00",
          "2022-06-02T00:00:00",
          "2022-06-03T00:00:00",
          "2022-06-03T00:00:00",
          "2022-06-03T00:00:00",
          "2022-06-03T00:00:00",
          "2022-06-03T00:00:00",
          "2022-06-06T00:00:00",
          "2022-06-07T00:00:00",
          "2022-06-07T00:00:00",
          "2022-06-07T00:00:00",
          "2022-06-07T00:00:00",
          "2022-06-07T00:00:00",
          "2022-06-07T00:00:00",
          "2022-06-08T00:00:00",
          "2022-06-08T00:00:00",
          "2022-06-08T00:00:00",
          "2022-06-08T00:00:00",
          "2022-06-08T00:00:00",
          "2022-06-09T00:00:00",
          "2022-06-09T00:00:00",
          "2022-06-09T00:00:00",
          "2022-06-09T00:00:00",
          "2022-06-09T00:00:00",
          "2022-06-10T00:00:00",
          "2022-06-10T00:00:00",
          "2022-06-11T00:00:00",
          "2022-06-11T00:00:00",
          "2022-06-13T00:00:00",
          "2022-06-13T00:00:00",
          "2022-06-13T00:00:00",
          "2022-06-13T00:00:00",
          "2022-06-13T00:00:00",
          "2022-06-13T00:00:00",
          "2022-06-13T00:00:00",
          "2022-06-13T00:00:00",
          "2022-06-13T00:00:00",
          "2022-06-13T00:00:00",
          "2022-06-13T00:00:00",
          "2022-06-13T00:00:00",
          "2022-06-13T00:00:00",
          "2022-06-13T00:00:00",
          "2022-06-13T00:00:00",
          "2022-06-13T00:00:00"
         ],
         "xaxis": "x",
         "y": [
          1,
          2,
          3,
          4,
          5,
          6,
          7,
          8,
          9,
          10,
          11,
          12,
          13,
          14,
          15,
          16,
          17,
          18,
          19,
          20,
          21,
          22,
          23,
          24,
          25,
          26,
          27,
          28,
          29,
          30,
          31,
          32,
          33,
          34,
          35,
          36,
          37,
          38,
          39,
          40,
          41,
          42,
          43,
          44,
          45,
          46,
          47,
          48,
          49,
          50,
          51,
          52,
          53,
          54,
          55,
          56,
          57,
          58,
          59,
          60,
          61,
          62,
          63,
          64,
          65
         ],
         "yaxis": "y"
        },
        {
         "hovertemplate": "Country=Venezuela<br>Date_confirmation=%{x}<br>sum_case=%{y}<extra></extra>",
         "legendgroup": "Venezuela",
         "marker": {
          "color": "#FF6692",
          "symbol": "circle"
         },
         "mode": "markers",
         "name": "Venezuela",
         "showlegend": true,
         "type": "scattergl",
         "x": [
          "2022-06-12T00:00:00"
         ],
         "xaxis": "x",
         "y": [
          1
         ],
         "yaxis": "y"
        },
        {
         "hovertemplate": "Country=Wales<br>Date_confirmation=%{x}<br>sum_case=%{y}<extra></extra>",
         "legendgroup": "Wales",
         "marker": {
          "color": "#B6E880",
          "symbol": "circle"
         },
         "mode": "markers",
         "name": "Wales",
         "showlegend": true,
         "type": "scattergl",
         "x": [
          "2022-05-26T00:00:00",
          "2022-06-03T00:00:00",
          "2022-06-06T00:00:00",
          "2022-06-09T00:00:00"
         ],
         "xaxis": "x",
         "y": [
          1,
          2,
          3,
          4
         ],
         "yaxis": "y"
        }
       ],
       "layout": {
        "height": 800,
        "legend": {
         "title": {
          "text": "Country"
         },
         "tracegroupgap": 0
        },
        "margin": {
         "t": 60
        },
        "template": {
         "data": {
          "bar": [
           {
            "error_x": {
             "color": "#2a3f5f"
            },
            "error_y": {
             "color": "#2a3f5f"
            },
            "marker": {
             "line": {
              "color": "#E5ECF6",
              "width": 0.5
             },
             "pattern": {
              "fillmode": "overlay",
              "size": 10,
              "solidity": 0.2
             }
            },
            "type": "bar"
           }
          ],
          "barpolar": [
           {
            "marker": {
             "line": {
              "color": "#E5ECF6",
              "width": 0.5
             },
             "pattern": {
              "fillmode": "overlay",
              "size": 10,
              "solidity": 0.2
             }
            },
            "type": "barpolar"
           }
          ],
          "carpet": [
           {
            "aaxis": {
             "endlinecolor": "#2a3f5f",
             "gridcolor": "white",
             "linecolor": "white",
             "minorgridcolor": "white",
             "startlinecolor": "#2a3f5f"
            },
            "baxis": {
             "endlinecolor": "#2a3f5f",
             "gridcolor": "white",
             "linecolor": "white",
             "minorgridcolor": "white",
             "startlinecolor": "#2a3f5f"
            },
            "type": "carpet"
           }
          ],
          "choropleth": [
           {
            "colorbar": {
             "outlinewidth": 0,
             "ticks": ""
            },
            "type": "choropleth"
           }
          ],
          "contour": [
           {
            "colorbar": {
             "outlinewidth": 0,
             "ticks": ""
            },
            "colorscale": [
             [
              0,
              "#0d0887"
             ],
             [
              0.1111111111111111,
              "#46039f"
             ],
             [
              0.2222222222222222,
              "#7201a8"
             ],
             [
              0.3333333333333333,
              "#9c179e"
             ],
             [
              0.4444444444444444,
              "#bd3786"
             ],
             [
              0.5555555555555556,
              "#d8576b"
             ],
             [
              0.6666666666666666,
              "#ed7953"
             ],
             [
              0.7777777777777778,
              "#fb9f3a"
             ],
             [
              0.8888888888888888,
              "#fdca26"
             ],
             [
              1,
              "#f0f921"
             ]
            ],
            "type": "contour"
           }
          ],
          "contourcarpet": [
           {
            "colorbar": {
             "outlinewidth": 0,
             "ticks": ""
            },
            "type": "contourcarpet"
           }
          ],
          "heatmap": [
           {
            "colorbar": {
             "outlinewidth": 0,
             "ticks": ""
            },
            "colorscale": [
             [
              0,
              "#0d0887"
             ],
             [
              0.1111111111111111,
              "#46039f"
             ],
             [
              0.2222222222222222,
              "#7201a8"
             ],
             [
              0.3333333333333333,
              "#9c179e"
             ],
             [
              0.4444444444444444,
              "#bd3786"
             ],
             [
              0.5555555555555556,
              "#d8576b"
             ],
             [
              0.6666666666666666,
              "#ed7953"
             ],
             [
              0.7777777777777778,
              "#fb9f3a"
             ],
             [
              0.8888888888888888,
              "#fdca26"
             ],
             [
              1,
              "#f0f921"
             ]
            ],
            "type": "heatmap"
           }
          ],
          "heatmapgl": [
           {
            "colorbar": {
             "outlinewidth": 0,
             "ticks": ""
            },
            "colorscale": [
             [
              0,
              "#0d0887"
             ],
             [
              0.1111111111111111,
              "#46039f"
             ],
             [
              0.2222222222222222,
              "#7201a8"
             ],
             [
              0.3333333333333333,
              "#9c179e"
             ],
             [
              0.4444444444444444,
              "#bd3786"
             ],
             [
              0.5555555555555556,
              "#d8576b"
             ],
             [
              0.6666666666666666,
              "#ed7953"
             ],
             [
              0.7777777777777778,
              "#fb9f3a"
             ],
             [
              0.8888888888888888,
              "#fdca26"
             ],
             [
              1,
              "#f0f921"
             ]
            ],
            "type": "heatmapgl"
           }
          ],
          "histogram": [
           {
            "marker": {
             "pattern": {
              "fillmode": "overlay",
              "size": 10,
              "solidity": 0.2
             }
            },
            "type": "histogram"
           }
          ],
          "histogram2d": [
           {
            "colorbar": {
             "outlinewidth": 0,
             "ticks": ""
            },
            "colorscale": [
             [
              0,
              "#0d0887"
             ],
             [
              0.1111111111111111,
              "#46039f"
             ],
             [
              0.2222222222222222,
              "#7201a8"
             ],
             [
              0.3333333333333333,
              "#9c179e"
             ],
             [
              0.4444444444444444,
              "#bd3786"
             ],
             [
              0.5555555555555556,
              "#d8576b"
             ],
             [
              0.6666666666666666,
              "#ed7953"
             ],
             [
              0.7777777777777778,
              "#fb9f3a"
             ],
             [
              0.8888888888888888,
              "#fdca26"
             ],
             [
              1,
              "#f0f921"
             ]
            ],
            "type": "histogram2d"
           }
          ],
          "histogram2dcontour": [
           {
            "colorbar": {
             "outlinewidth": 0,
             "ticks": ""
            },
            "colorscale": [
             [
              0,
              "#0d0887"
             ],
             [
              0.1111111111111111,
              "#46039f"
             ],
             [
              0.2222222222222222,
              "#7201a8"
             ],
             [
              0.3333333333333333,
              "#9c179e"
             ],
             [
              0.4444444444444444,
              "#bd3786"
             ],
             [
              0.5555555555555556,
              "#d8576b"
             ],
             [
              0.6666666666666666,
              "#ed7953"
             ],
             [
              0.7777777777777778,
              "#fb9f3a"
             ],
             [
              0.8888888888888888,
              "#fdca26"
             ],
             [
              1,
              "#f0f921"
             ]
            ],
            "type": "histogram2dcontour"
           }
          ],
          "mesh3d": [
           {
            "colorbar": {
             "outlinewidth": 0,
             "ticks": ""
            },
            "type": "mesh3d"
           }
          ],
          "parcoords": [
           {
            "line": {
             "colorbar": {
              "outlinewidth": 0,
              "ticks": ""
             }
            },
            "type": "parcoords"
           }
          ],
          "pie": [
           {
            "automargin": true,
            "type": "pie"
           }
          ],
          "scatter": [
           {
            "fillpattern": {
             "fillmode": "overlay",
             "size": 10,
             "solidity": 0.2
            },
            "type": "scatter"
           }
          ],
          "scatter3d": [
           {
            "line": {
             "colorbar": {
              "outlinewidth": 0,
              "ticks": ""
             }
            },
            "marker": {
             "colorbar": {
              "outlinewidth": 0,
              "ticks": ""
             }
            },
            "type": "scatter3d"
           }
          ],
          "scattercarpet": [
           {
            "marker": {
             "colorbar": {
              "outlinewidth": 0,
              "ticks": ""
             }
            },
            "type": "scattercarpet"
           }
          ],
          "scattergeo": [
           {
            "marker": {
             "colorbar": {
              "outlinewidth": 0,
              "ticks": ""
             }
            },
            "type": "scattergeo"
           }
          ],
          "scattergl": [
           {
            "marker": {
             "colorbar": {
              "outlinewidth": 0,
              "ticks": ""
             }
            },
            "type": "scattergl"
           }
          ],
          "scattermapbox": [
           {
            "marker": {
             "colorbar": {
              "outlinewidth": 0,
              "ticks": ""
             }
            },
            "type": "scattermapbox"
           }
          ],
          "scatterpolar": [
           {
            "marker": {
             "colorbar": {
              "outlinewidth": 0,
              "ticks": ""
             }
            },
            "type": "scatterpolar"
           }
          ],
          "scatterpolargl": [
           {
            "marker": {
             "colorbar": {
              "outlinewidth": 0,
              "ticks": ""
             }
            },
            "type": "scatterpolargl"
           }
          ],
          "scatterternary": [
           {
            "marker": {
             "colorbar": {
              "outlinewidth": 0,
              "ticks": ""
             }
            },
            "type": "scatterternary"
           }
          ],
          "surface": [
           {
            "colorbar": {
             "outlinewidth": 0,
             "ticks": ""
            },
            "colorscale": [
             [
              0,
              "#0d0887"
             ],
             [
              0.1111111111111111,
              "#46039f"
             ],
             [
              0.2222222222222222,
              "#7201a8"
             ],
             [
              0.3333333333333333,
              "#9c179e"
             ],
             [
              0.4444444444444444,
              "#bd3786"
             ],
             [
              0.5555555555555556,
              "#d8576b"
             ],
             [
              0.6666666666666666,
              "#ed7953"
             ],
             [
              0.7777777777777778,
              "#fb9f3a"
             ],
             [
              0.8888888888888888,
              "#fdca26"
             ],
             [
              1,
              "#f0f921"
             ]
            ],
            "type": "surface"
           }
          ],
          "table": [
           {
            "cells": {
             "fill": {
              "color": "#EBF0F8"
             },
             "line": {
              "color": "white"
             }
            },
            "header": {
             "fill": {
              "color": "#C8D4E3"
             },
             "line": {
              "color": "white"
             }
            },
            "type": "table"
           }
          ]
         },
         "layout": {
          "annotationdefaults": {
           "arrowcolor": "#2a3f5f",
           "arrowhead": 0,
           "arrowwidth": 1
          },
          "autotypenumbers": "strict",
          "coloraxis": {
           "colorbar": {
            "outlinewidth": 0,
            "ticks": ""
           }
          },
          "colorscale": {
           "diverging": [
            [
             0,
             "#8e0152"
            ],
            [
             0.1,
             "#c51b7d"
            ],
            [
             0.2,
             "#de77ae"
            ],
            [
             0.3,
             "#f1b6da"
            ],
            [
             0.4,
             "#fde0ef"
            ],
            [
             0.5,
             "#f7f7f7"
            ],
            [
             0.6,
             "#e6f5d0"
            ],
            [
             0.7,
             "#b8e186"
            ],
            [
             0.8,
             "#7fbc41"
            ],
            [
             0.9,
             "#4d9221"
            ],
            [
             1,
             "#276419"
            ]
           ],
           "sequential": [
            [
             0,
             "#0d0887"
            ],
            [
             0.1111111111111111,
             "#46039f"
            ],
            [
             0.2222222222222222,
             "#7201a8"
            ],
            [
             0.3333333333333333,
             "#9c179e"
            ],
            [
             0.4444444444444444,
             "#bd3786"
            ],
            [
             0.5555555555555556,
             "#d8576b"
            ],
            [
             0.6666666666666666,
             "#ed7953"
            ],
            [
             0.7777777777777778,
             "#fb9f3a"
            ],
            [
             0.8888888888888888,
             "#fdca26"
            ],
            [
             1,
             "#f0f921"
            ]
           ],
           "sequentialminus": [
            [
             0,
             "#0d0887"
            ],
            [
             0.1111111111111111,
             "#46039f"
            ],
            [
             0.2222222222222222,
             "#7201a8"
            ],
            [
             0.3333333333333333,
             "#9c179e"
            ],
            [
             0.4444444444444444,
             "#bd3786"
            ],
            [
             0.5555555555555556,
             "#d8576b"
            ],
            [
             0.6666666666666666,
             "#ed7953"
            ],
            [
             0.7777777777777778,
             "#fb9f3a"
            ],
            [
             0.8888888888888888,
             "#fdca26"
            ],
            [
             1,
             "#f0f921"
            ]
           ]
          },
          "colorway": [
           "#636efa",
           "#EF553B",
           "#00cc96",
           "#ab63fa",
           "#FFA15A",
           "#19d3f3",
           "#FF6692",
           "#B6E880",
           "#FF97FF",
           "#FECB52"
          ],
          "font": {
           "color": "#2a3f5f"
          },
          "geo": {
           "bgcolor": "white",
           "lakecolor": "white",
           "landcolor": "#E5ECF6",
           "showlakes": true,
           "showland": true,
           "subunitcolor": "white"
          },
          "hoverlabel": {
           "align": "left"
          },
          "hovermode": "closest",
          "mapbox": {
           "style": "light"
          },
          "paper_bgcolor": "white",
          "plot_bgcolor": "#E5ECF6",
          "polar": {
           "angularaxis": {
            "gridcolor": "white",
            "linecolor": "white",
            "ticks": ""
           },
           "bgcolor": "#E5ECF6",
           "radialaxis": {
            "gridcolor": "white",
            "linecolor": "white",
            "ticks": ""
           }
          },
          "scene": {
           "xaxis": {
            "backgroundcolor": "#E5ECF6",
            "gridcolor": "white",
            "gridwidth": 2,
            "linecolor": "white",
            "showbackground": true,
            "ticks": "",
            "zerolinecolor": "white"
           },
           "yaxis": {
            "backgroundcolor": "#E5ECF6",
            "gridcolor": "white",
            "gridwidth": 2,
            "linecolor": "white",
            "showbackground": true,
            "ticks": "",
            "zerolinecolor": "white"
           },
           "zaxis": {
            "backgroundcolor": "#E5ECF6",
            "gridcolor": "white",
            "gridwidth": 2,
            "linecolor": "white",
            "showbackground": true,
            "ticks": "",
            "zerolinecolor": "white"
           }
          },
          "shapedefaults": {
           "line": {
            "color": "#2a3f5f"
           }
          },
          "ternary": {
           "aaxis": {
            "gridcolor": "white",
            "linecolor": "white",
            "ticks": ""
           },
           "baxis": {
            "gridcolor": "white",
            "linecolor": "white",
            "ticks": ""
           },
           "bgcolor": "#E5ECF6",
           "caxis": {
            "gridcolor": "white",
            "linecolor": "white",
            "ticks": ""
           }
          },
          "title": {
           "x": 0.05
          },
          "xaxis": {
           "automargin": true,
           "gridcolor": "white",
           "linecolor": "white",
           "ticks": "",
           "title": {
            "standoff": 15
           },
           "zerolinecolor": "white",
           "zerolinewidth": 2
          },
          "yaxis": {
           "automargin": true,
           "gridcolor": "white",
           "linecolor": "white",
           "ticks": "",
           "title": {
            "standoff": 15
           },
           "zerolinecolor": "white",
           "zerolinewidth": 2
          }
         }
        },
        "title": {
         "text": "Monkey Pox: 2022-06-16"
        },
        "width": 1920,
        "xaxis": {
         "anchor": "y",
         "domain": [
          0,
          1
         ],
         "title": {
          "text": "Date_confirmation"
         }
        },
        "yaxis": {
         "anchor": "x",
         "domain": [
          0,
          1
         ],
         "title": {
          "text": "sum_case"
         }
        }
       }
      }
     },
     "metadata": {},
     "output_type": "display_data"
    }
   ],
   "source": [
    "fig2 = px.scatter(sort_df, x='Date_confirmation',y='sum_case', color='Country')\n",
    "\n",
    "fig2.update_layout(\n",
    "    width=1920,\n",
    "    height=800,\n",
    "    title_text=f'Monkey Pox: {date}'\n",
    ")\n",
    "\n",
    "fig2.show()"
   ]
  },
  {
   "cell_type": "code",
   "execution_count": 23,
   "metadata": {},
   "outputs": [
    {
     "data": {
      "application/vnd.plotly.v1+json": {
       "config": {
        "plotlyServerURL": "https://plot.ly"
       },
       "data": [
        {
         "hovertemplate": "Country=Argentina<br>Date_confirmation=%{x}<br>sum_case=%{y}<extra></extra>",
         "legendgroup": "Argentina",
         "line": {
          "color": "#636efa",
          "dash": "solid"
         },
         "marker": {
          "symbol": "circle"
         },
         "mode": "lines",
         "name": "Argentina",
         "showlegend": true,
         "type": "scattergl",
         "x": [
          "2022-05-27T00:00:00",
          "2022-05-27T00:00:00",
          "2022-06-09T00:00:00"
         ],
         "xaxis": "x",
         "y": [
          1,
          2,
          3
         ],
         "yaxis": "y"
        },
        {
         "hovertemplate": "Country=Australia<br>Date_confirmation=%{x}<br>sum_case=%{y}<extra></extra>",
         "legendgroup": "Australia",
         "line": {
          "color": "#EF553B",
          "dash": "solid"
         },
         "marker": {
          "symbol": "circle"
         },
         "mode": "lines",
         "name": "Australia",
         "showlegend": true,
         "type": "scattergl",
         "x": [
          "2022-05-20T00:00:00",
          "2022-05-20T00:00:00",
          "2022-06-02T00:00:00",
          "2022-06-02T00:00:00",
          "2022-06-03T00:00:00",
          "2022-06-04T00:00:00",
          "2022-06-09T00:00:00",
          "2022-06-09T00:00:00"
         ],
         "xaxis": "x",
         "y": [
          1,
          2,
          3,
          4,
          5,
          6,
          7,
          8
         ],
         "yaxis": "y"
        },
        {
         "hovertemplate": "Country=Austria<br>Date_confirmation=%{x}<br>sum_case=%{y}<extra></extra>",
         "legendgroup": "Austria",
         "line": {
          "color": "#00cc96",
          "dash": "solid"
         },
         "marker": {
          "symbol": "circle"
         },
         "mode": "lines",
         "name": "Austria",
         "showlegend": true,
         "type": "scattergl",
         "x": [
          "2022-05-23T00:00:00",
          "2022-06-13T00:00:00",
          "2022-06-13T00:00:00"
         ],
         "xaxis": "x",
         "y": [
          1,
          2,
          3
         ],
         "yaxis": "y"
        },
        {
         "hovertemplate": "Country=Belgium<br>Date_confirmation=%{x}<br>sum_case=%{y}<extra></extra>",
         "legendgroup": "Belgium",
         "line": {
          "color": "#ab63fa",
          "dash": "solid"
         },
         "marker": {
          "symbol": "circle"
         },
         "mode": "lines",
         "name": "Belgium",
         "showlegend": true,
         "type": "scattergl",
         "x": [
          "2022-05-19T00:00:00",
          "2022-05-20T00:00:00",
          "2022-05-20T00:00:00",
          "2022-05-21T00:00:00",
          "2022-05-25T00:00:00",
          "2022-05-25T00:00:00",
          "2022-05-28T00:00:00",
          "2022-05-28T00:00:00",
          "2022-05-28T00:00:00",
          "2022-06-01T00:00:00",
          "2022-06-01T00:00:00",
          "2022-06-01T00:00:00",
          "2022-06-01T00:00:00",
          "2022-06-01T00:00:00",
          "2022-06-03T00:00:00",
          "2022-06-03T00:00:00",
          "2022-06-03T00:00:00",
          "2022-06-08T00:00:00",
          "2022-06-08T00:00:00",
          "2022-06-08T00:00:00",
          "2022-06-08T00:00:00",
          "2022-06-08T00:00:00",
          "2022-06-08T00:00:00",
          "2022-06-08T00:00:00"
         ],
         "xaxis": "x",
         "y": [
          1,
          2,
          3,
          4,
          5,
          6,
          7,
          8,
          9,
          10,
          11,
          12,
          13,
          14,
          15,
          16,
          17,
          18,
          19,
          20,
          21,
          22,
          23,
          24
         ],
         "yaxis": "y"
        },
        {
         "hovertemplate": "Country=Brazil<br>Date_confirmation=%{x}<br>sum_case=%{y}<extra></extra>",
         "legendgroup": "Brazil",
         "line": {
          "color": "#FFA15A",
          "dash": "solid"
         },
         "marker": {
          "symbol": "circle"
         },
         "mode": "lines",
         "name": "Brazil",
         "showlegend": true,
         "type": "scattergl",
         "x": [
          "2022-06-08T00:00:00",
          "2022-06-11T00:00:00",
          "2022-06-12T00:00:00"
         ],
         "xaxis": "x",
         "y": [
          1,
          2,
          3
         ],
         "yaxis": "y"
        },
        {
         "hovertemplate": "Country=Canada<br>Date_confirmation=%{x}<br>sum_case=%{y}<extra></extra>",
         "legendgroup": "Canada",
         "line": {
          "color": "#19d3f3",
          "dash": "solid"
         },
         "marker": {
          "symbol": "circle"
         },
         "mode": "lines",
         "name": "Canada",
         "showlegend": true,
         "type": "scattergl",
         "x": [
          "2022-05-19T00:00:00",
          "2022-05-19T00:00:00",
          "2022-05-20T00:00:00",
          "2022-05-20T00:00:00",
          "2022-05-20T00:00:00",
          "2022-05-23T00:00:00",
          "2022-05-23T00:00:00",
          "2022-05-23T00:00:00",
          "2022-05-23T00:00:00",
          "2022-05-23T00:00:00",
          "2022-05-23T00:00:00",
          "2022-05-23T00:00:00",
          "2022-05-23T00:00:00",
          "2022-05-23T00:00:00",
          "2022-05-23T00:00:00",
          "2022-05-26T00:00:00",
          "2022-05-26T00:00:00",
          "2022-05-26T00:00:00",
          "2022-05-26T00:00:00",
          "2022-05-26T00:00:00",
          "2022-05-26T00:00:00",
          "2022-05-26T00:00:00",
          "2022-05-26T00:00:00",
          "2022-05-26T00:00:00",
          "2022-05-26T00:00:00",
          "2022-05-26T00:00:00",
          "2022-05-31T00:00:00",
          "2022-06-01T00:00:00",
          "2022-06-01T00:00:00",
          "2022-06-01T00:00:00",
          "2022-06-01T00:00:00",
          "2022-06-01T00:00:00",
          "2022-06-01T00:00:00",
          "2022-06-01T00:00:00",
          "2022-06-01T00:00:00",
          "2022-06-01T00:00:00",
          "2022-06-01T00:00:00",
          "2022-06-01T00:00:00",
          "2022-06-01T00:00:00",
          "2022-06-01T00:00:00",
          "2022-06-01T00:00:00",
          "2022-06-01T00:00:00",
          "2022-06-01T00:00:00",
          "2022-06-01T00:00:00",
          "2022-06-01T00:00:00",
          "2022-06-01T00:00:00",
          "2022-06-01T00:00:00",
          "2022-06-01T00:00:00",
          "2022-06-01T00:00:00",
          "2022-06-01T00:00:00",
          "2022-06-01T00:00:00",
          "2022-06-01T00:00:00",
          "2022-06-01T00:00:00",
          "2022-06-01T00:00:00",
          "2022-06-02T00:00:00",
          "2022-06-02T00:00:00",
          "2022-06-02T00:00:00",
          "2022-06-02T00:00:00",
          "2022-06-02T00:00:00",
          "2022-06-02T00:00:00",
          "2022-06-02T00:00:00",
          "2022-06-02T00:00:00",
          "2022-06-02T00:00:00",
          "2022-06-02T00:00:00",
          "2022-06-02T00:00:00",
          "2022-06-02T00:00:00",
          "2022-06-02T00:00:00",
          "2022-06-02T00:00:00",
          "2022-06-02T00:00:00",
          "2022-06-02T00:00:00",
          "2022-06-02T00:00:00",
          "2022-06-02T00:00:00",
          "2022-06-02T00:00:00",
          "2022-06-02T00:00:00",
          "2022-06-02T00:00:00",
          "2022-06-02T00:00:00",
          "2022-06-02T00:00:00",
          "2022-06-03T00:00:00",
          "2022-06-03T00:00:00",
          "2022-06-03T00:00:00",
          "2022-06-06T00:00:00",
          "2022-06-07T00:00:00",
          "2022-06-07T00:00:00",
          "2022-06-07T00:00:00",
          "2022-06-07T00:00:00",
          "2022-06-07T00:00:00",
          "2022-06-07T00:00:00",
          "2022-06-07T00:00:00",
          "2022-06-07T00:00:00",
          "2022-06-07T00:00:00",
          "2022-06-07T00:00:00",
          "2022-06-07T00:00:00",
          "2022-06-07T00:00:00",
          "2022-06-07T00:00:00",
          "2022-06-07T00:00:00",
          "2022-06-07T00:00:00",
          "2022-06-07T00:00:00",
          "2022-06-07T00:00:00",
          "2022-06-07T00:00:00",
          "2022-06-07T00:00:00",
          "2022-06-07T00:00:00",
          "2022-06-08T00:00:00",
          "2022-06-09T00:00:00",
          "2022-06-09T00:00:00",
          "2022-06-09T00:00:00",
          "2022-06-09T00:00:00",
          "2022-06-09T00:00:00",
          "2022-06-09T00:00:00",
          "2022-06-09T00:00:00",
          "2022-06-09T00:00:00",
          "2022-06-09T00:00:00",
          "2022-06-09T00:00:00",
          "2022-06-09T00:00:00",
          "2022-06-10T00:00:00",
          "2022-06-10T00:00:00",
          "2022-06-10T00:00:00",
          "2022-06-13T00:00:00",
          "2022-06-13T00:00:00",
          "2022-06-13T00:00:00",
          "2022-06-13T00:00:00",
          "2022-06-13T00:00:00",
          "2022-06-13T00:00:00",
          "2022-06-13T00:00:00",
          "2022-06-13T00:00:00",
          "2022-06-14T00:00:00",
          "2022-06-14T00:00:00",
          "2022-06-14T00:00:00",
          "2022-06-14T00:00:00",
          "2022-06-14T00:00:00",
          "2022-06-14T00:00:00",
          "2022-06-14T00:00:00",
          "2022-06-14T00:00:00",
          "2022-06-14T00:00:00",
          "2022-06-14T00:00:00",
          "2022-06-14T00:00:00",
          "2022-06-14T00:00:00",
          "2022-06-14T00:00:00",
          "2022-06-14T00:00:00",
          "2022-06-14T00:00:00",
          "2022-06-14T00:00:00",
          "2022-06-14T00:00:00",
          "2022-06-14T00:00:00",
          "2022-06-14T00:00:00",
          "2022-06-14T00:00:00",
          "2022-06-14T00:00:00",
          "2022-06-14T00:00:00",
          "2022-06-14T00:00:00",
          "2022-06-14T00:00:00",
          "2022-06-14T00:00:00",
          "2022-06-14T00:00:00",
          "2022-06-14T00:00:00",
          "2022-06-14T00:00:00",
          "2022-06-14T00:00:00",
          "2022-06-14T00:00:00",
          "2022-06-14T00:00:00",
          "2022-06-14T00:00:00",
          "2022-06-14T00:00:00",
          "2022-06-14T00:00:00"
         ],
         "xaxis": "x",
         "y": [
          1,
          2,
          3,
          4,
          5,
          6,
          7,
          8,
          9,
          10,
          11,
          12,
          13,
          14,
          15,
          16,
          17,
          18,
          19,
          20,
          21,
          22,
          23,
          24,
          25,
          26,
          27,
          28,
          29,
          30,
          31,
          32,
          33,
          34,
          35,
          36,
          37,
          38,
          39,
          40,
          41,
          42,
          43,
          44,
          45,
          46,
          47,
          48,
          49,
          50,
          51,
          52,
          53,
          54,
          55,
          56,
          57,
          58,
          59,
          60,
          61,
          62,
          63,
          64,
          65,
          66,
          67,
          68,
          69,
          70,
          71,
          72,
          73,
          74,
          75,
          76,
          77,
          78,
          79,
          80,
          81,
          82,
          83,
          84,
          85,
          86,
          87,
          88,
          89,
          90,
          91,
          92,
          93,
          94,
          95,
          96,
          97,
          98,
          99,
          100,
          101,
          102,
          103,
          104,
          105,
          106,
          107,
          108,
          109,
          110,
          111,
          112,
          113,
          114,
          115,
          116,
          117,
          118,
          119,
          120,
          121,
          122,
          123,
          124,
          125,
          126,
          127,
          128,
          129,
          130,
          131,
          132,
          133,
          134,
          135,
          136,
          137,
          138,
          139,
          140,
          141,
          142,
          143,
          144,
          145,
          146,
          147,
          148,
          149,
          150,
          151,
          152,
          153,
          154,
          155,
          156,
          157,
          158
         ],
         "yaxis": "y"
        },
        {
         "hovertemplate": "Country=Czech Republic<br>Date_confirmation=%{x}<br>sum_case=%{y}<extra></extra>",
         "legendgroup": "Czech Republic",
         "line": {
          "color": "#FF6692",
          "dash": "solid"
         },
         "marker": {
          "symbol": "circle"
         },
         "mode": "lines",
         "name": "Czech Republic",
         "showlegend": true,
         "type": "scattergl",
         "x": [
          "2022-05-24T00:00:00",
          "2022-05-26T00:00:00",
          "2022-05-26T00:00:00",
          "2022-05-26T00:00:00",
          "2022-05-26T00:00:00",
          "2022-06-02T00:00:00"
         ],
         "xaxis": "x",
         "y": [
          1,
          2,
          3,
          4,
          5,
          6
         ],
         "yaxis": "y"
        },
        {
         "hovertemplate": "Country=Denmark<br>Date_confirmation=%{x}<br>sum_case=%{y}<extra></extra>",
         "legendgroup": "Denmark",
         "line": {
          "color": "#B6E880",
          "dash": "solid"
         },
         "marker": {
          "symbol": "circle"
         },
         "mode": "lines",
         "name": "Denmark",
         "showlegend": true,
         "type": "scattergl",
         "x": [
          "2022-05-23T00:00:00",
          "2022-05-24T00:00:00",
          "2022-06-10T00:00:00",
          "2022-06-10T00:00:00"
         ],
         "xaxis": "x",
         "y": [
          1,
          2,
          3,
          4
         ],
         "yaxis": "y"
        },
        {
         "hovertemplate": "Country=England<br>Date_confirmation=%{x}<br>sum_case=%{y}<extra></extra>",
         "legendgroup": "England",
         "line": {
          "color": "#FF97FF",
          "dash": "solid"
         },
         "marker": {
          "symbol": "circle"
         },
         "mode": "lines",
         "name": "England",
         "showlegend": true,
         "type": "scattergl",
         "x": [
          "2022-05-06T00:00:00",
          "2022-05-12T00:00:00",
          "2022-05-13T00:00:00",
          "2022-05-15T00:00:00",
          "2022-05-15T00:00:00",
          "2022-05-15T00:00:00",
          "2022-05-15T00:00:00",
          "2022-05-18T00:00:00",
          "2022-05-18T00:00:00",
          "2022-05-20T00:00:00",
          "2022-05-20T00:00:00",
          "2022-05-20T00:00:00",
          "2022-05-20T00:00:00",
          "2022-05-20T00:00:00",
          "2022-05-20T00:00:00",
          "2022-05-20T00:00:00",
          "2022-05-20T00:00:00",
          "2022-05-20T00:00:00",
          "2022-05-20T00:00:00",
          "2022-05-20T00:00:00",
          "2022-05-23T00:00:00",
          "2022-05-23T00:00:00",
          "2022-05-23T00:00:00",
          "2022-05-23T00:00:00",
          "2022-05-23T00:00:00",
          "2022-05-23T00:00:00",
          "2022-05-23T00:00:00",
          "2022-05-23T00:00:00",
          "2022-05-23T00:00:00",
          "2022-05-23T00:00:00",
          "2022-05-23T00:00:00",
          "2022-05-23T00:00:00",
          "2022-05-23T00:00:00",
          "2022-05-23T00:00:00",
          "2022-05-23T00:00:00",
          "2022-05-23T00:00:00",
          "2022-05-23T00:00:00",
          "2022-05-23T00:00:00",
          "2022-05-23T00:00:00",
          "2022-05-23T00:00:00",
          "2022-05-23T00:00:00",
          "2022-05-23T00:00:00",
          "2022-05-23T00:00:00",
          "2022-05-23T00:00:00",
          "2022-05-23T00:00:00",
          "2022-05-23T00:00:00",
          "2022-05-23T00:00:00",
          "2022-05-23T00:00:00",
          "2022-05-23T00:00:00",
          "2022-05-23T00:00:00",
          "2022-05-23T00:00:00",
          "2022-05-23T00:00:00",
          "2022-05-23T00:00:00",
          "2022-05-23T00:00:00",
          "2022-05-23T00:00:00",
          "2022-05-23T00:00:00",
          "2022-05-24T00:00:00",
          "2022-05-24T00:00:00",
          "2022-05-24T00:00:00",
          "2022-05-24T00:00:00",
          "2022-05-24T00:00:00",
          "2022-05-24T00:00:00",
          "2022-05-24T00:00:00",
          "2022-05-24T00:00:00",
          "2022-05-24T00:00:00",
          "2022-05-24T00:00:00",
          "2022-05-24T00:00:00",
          "2022-05-24T00:00:00",
          "2022-05-24T00:00:00",
          "2022-05-24T00:00:00",
          "2022-05-25T00:00:00",
          "2022-05-25T00:00:00",
          "2022-05-25T00:00:00",
          "2022-05-25T00:00:00",
          "2022-05-25T00:00:00",
          "2022-05-25T00:00:00",
          "2022-05-25T00:00:00",
          "2022-05-26T00:00:00",
          "2022-05-26T00:00:00",
          "2022-05-26T00:00:00",
          "2022-05-26T00:00:00",
          "2022-05-26T00:00:00",
          "2022-05-26T00:00:00",
          "2022-05-26T00:00:00",
          "2022-05-26T00:00:00",
          "2022-05-26T00:00:00",
          "2022-05-26T00:00:00",
          "2022-05-26T00:00:00",
          "2022-05-26T00:00:00",
          "2022-05-26T00:00:00",
          "2022-05-26T00:00:00",
          "2022-05-26T00:00:00",
          "2022-05-26T00:00:00",
          "2022-05-26T00:00:00",
          "2022-05-26T00:00:00",
          "2022-05-26T00:00:00",
          "2022-05-26T00:00:00",
          "2022-05-26T00:00:00",
          "2022-05-26T00:00:00",
          "2022-05-26T00:00:00",
          "2022-05-26T00:00:00",
          "2022-05-30T00:00:00",
          "2022-05-30T00:00:00",
          "2022-05-30T00:00:00",
          "2022-05-30T00:00:00",
          "2022-05-30T00:00:00",
          "2022-05-30T00:00:00",
          "2022-05-30T00:00:00",
          "2022-05-30T00:00:00",
          "2022-05-30T00:00:00",
          "2022-05-30T00:00:00",
          "2022-05-30T00:00:00",
          "2022-05-30T00:00:00",
          "2022-05-30T00:00:00",
          "2022-05-30T00:00:00",
          "2022-05-30T00:00:00",
          "2022-05-30T00:00:00",
          "2022-05-30T00:00:00",
          "2022-05-30T00:00:00",
          "2022-05-30T00:00:00",
          "2022-05-30T00:00:00",
          "2022-05-30T00:00:00",
          "2022-05-30T00:00:00",
          "2022-05-30T00:00:00",
          "2022-05-30T00:00:00",
          "2022-05-30T00:00:00",
          "2022-05-30T00:00:00",
          "2022-05-30T00:00:00",
          "2022-05-30T00:00:00",
          "2022-05-30T00:00:00",
          "2022-05-30T00:00:00",
          "2022-05-30T00:00:00",
          "2022-05-30T00:00:00",
          "2022-05-30T00:00:00",
          "2022-05-30T00:00:00",
          "2022-05-30T00:00:00",
          "2022-05-30T00:00:00",
          "2022-05-30T00:00:00",
          "2022-05-30T00:00:00",
          "2022-05-30T00:00:00",
          "2022-05-30T00:00:00",
          "2022-05-30T00:00:00",
          "2022-05-30T00:00:00",
          "2022-05-30T00:00:00",
          "2022-05-30T00:00:00",
          "2022-05-30T00:00:00",
          "2022-05-30T00:00:00",
          "2022-05-30T00:00:00",
          "2022-05-30T00:00:00",
          "2022-05-30T00:00:00",
          "2022-05-30T00:00:00",
          "2022-05-30T00:00:00",
          "2022-05-30T00:00:00",
          "2022-05-30T00:00:00",
          "2022-05-30T00:00:00",
          "2022-05-30T00:00:00",
          "2022-05-30T00:00:00",
          "2022-05-30T00:00:00",
          "2022-05-30T00:00:00",
          "2022-05-30T00:00:00",
          "2022-05-30T00:00:00",
          "2022-05-30T00:00:00",
          "2022-05-30T00:00:00",
          "2022-05-30T00:00:00",
          "2022-05-30T00:00:00",
          "2022-05-30T00:00:00",
          "2022-05-30T00:00:00",
          "2022-05-30T00:00:00",
          "2022-05-30T00:00:00",
          "2022-05-30T00:00:00",
          "2022-05-30T00:00:00",
          "2022-05-30T00:00:00",
          "2022-05-31T00:00:00",
          "2022-05-31T00:00:00",
          "2022-05-31T00:00:00",
          "2022-05-31T00:00:00",
          "2022-05-31T00:00:00",
          "2022-05-31T00:00:00",
          "2022-05-31T00:00:00",
          "2022-05-31T00:00:00",
          "2022-05-31T00:00:00",
          "2022-05-31T00:00:00",
          "2022-05-31T00:00:00",
          "2022-06-01T00:00:00",
          "2022-06-01T00:00:00",
          "2022-06-01T00:00:00",
          "2022-06-01T00:00:00",
          "2022-06-01T00:00:00",
          "2022-06-02T00:00:00",
          "2022-06-02T00:00:00",
          "2022-06-02T00:00:00",
          "2022-06-02T00:00:00",
          "2022-06-02T00:00:00",
          "2022-06-02T00:00:00",
          "2022-06-02T00:00:00",
          "2022-06-02T00:00:00",
          "2022-06-02T00:00:00",
          "2022-06-02T00:00:00",
          "2022-06-02T00:00:00",
          "2022-06-03T00:00:00",
          "2022-06-03T00:00:00",
          "2022-06-03T00:00:00",
          "2022-06-03T00:00:00",
          "2022-06-03T00:00:00",
          "2022-06-03T00:00:00",
          "2022-06-03T00:00:00",
          "2022-06-03T00:00:00",
          "2022-06-03T00:00:00",
          "2022-06-03T00:00:00",
          "2022-06-03T00:00:00",
          "2022-06-03T00:00:00",
          "2022-06-03T00:00:00",
          "2022-06-03T00:00:00",
          "2022-06-03T00:00:00",
          "2022-06-06T00:00:00",
          "2022-06-06T00:00:00",
          "2022-06-06T00:00:00",
          "2022-06-06T00:00:00",
          "2022-06-06T00:00:00",
          "2022-06-06T00:00:00",
          "2022-06-06T00:00:00",
          "2022-06-06T00:00:00",
          "2022-06-06T00:00:00",
          "2022-06-06T00:00:00",
          "2022-06-06T00:00:00",
          "2022-06-06T00:00:00",
          "2022-06-06T00:00:00",
          "2022-06-06T00:00:00",
          "2022-06-06T00:00:00",
          "2022-06-06T00:00:00",
          "2022-06-06T00:00:00",
          "2022-06-06T00:00:00",
          "2022-06-06T00:00:00",
          "2022-06-06T00:00:00",
          "2022-06-06T00:00:00",
          "2022-06-06T00:00:00",
          "2022-06-06T00:00:00",
          "2022-06-06T00:00:00",
          "2022-06-06T00:00:00",
          "2022-06-06T00:00:00",
          "2022-06-06T00:00:00",
          "2022-06-06T00:00:00",
          "2022-06-06T00:00:00",
          "2022-06-06T00:00:00",
          "2022-06-06T00:00:00",
          "2022-06-06T00:00:00",
          "2022-06-06T00:00:00",
          "2022-06-06T00:00:00",
          "2022-06-06T00:00:00",
          "2022-06-06T00:00:00",
          "2022-06-06T00:00:00",
          "2022-06-06T00:00:00",
          "2022-06-06T00:00:00",
          "2022-06-06T00:00:00",
          "2022-06-06T00:00:00",
          "2022-06-06T00:00:00",
          "2022-06-06T00:00:00",
          "2022-06-06T00:00:00",
          "2022-06-06T00:00:00",
          "2022-06-06T00:00:00",
          "2022-06-06T00:00:00",
          "2022-06-06T00:00:00",
          "2022-06-06T00:00:00",
          "2022-06-06T00:00:00",
          "2022-06-06T00:00:00",
          "2022-06-06T00:00:00",
          "2022-06-06T00:00:00",
          "2022-06-06T00:00:00",
          "2022-06-06T00:00:00",
          "2022-06-06T00:00:00",
          "2022-06-06T00:00:00",
          "2022-06-06T00:00:00",
          "2022-06-06T00:00:00",
          "2022-06-06T00:00:00",
          "2022-06-06T00:00:00",
          "2022-06-06T00:00:00",
          "2022-06-06T00:00:00",
          "2022-06-06T00:00:00",
          "2022-06-06T00:00:00",
          "2022-06-06T00:00:00",
          "2022-06-06T00:00:00",
          "2022-06-06T00:00:00",
          "2022-06-06T00:00:00",
          "2022-06-06T00:00:00",
          "2022-06-06T00:00:00",
          "2022-06-06T00:00:00",
          "2022-06-06T00:00:00",
          "2022-06-07T00:00:00",
          "2022-06-07T00:00:00",
          "2022-06-07T00:00:00",
          "2022-06-07T00:00:00",
          "2022-06-07T00:00:00",
          "2022-06-07T00:00:00",
          "2022-06-07T00:00:00",
          "2022-06-07T00:00:00",
          "2022-06-07T00:00:00",
          "2022-06-07T00:00:00",
          "2022-06-07T00:00:00",
          "2022-06-07T00:00:00",
          "2022-06-07T00:00:00",
          "2022-06-07T00:00:00",
          "2022-06-07T00:00:00",
          "2022-06-07T00:00:00",
          "2022-06-07T00:00:00",
          "2022-06-07T00:00:00",
          "2022-06-09T00:00:00",
          "2022-06-09T00:00:00",
          "2022-06-09T00:00:00",
          "2022-06-09T00:00:00",
          "2022-06-09T00:00:00",
          "2022-06-09T00:00:00",
          "2022-06-09T00:00:00",
          "2022-06-09T00:00:00",
          "2022-06-09T00:00:00",
          "2022-06-09T00:00:00",
          "2022-06-09T00:00:00",
          "2022-06-09T00:00:00",
          "2022-06-09T00:00:00",
          "2022-06-09T00:00:00",
          "2022-06-09T00:00:00",
          "2022-06-09T00:00:00",
          "2022-06-09T00:00:00",
          "2022-06-09T00:00:00",
          "2022-06-09T00:00:00",
          "2022-06-09T00:00:00",
          "2022-06-09T00:00:00",
          "2022-06-09T00:00:00",
          "2022-06-09T00:00:00",
          "2022-06-09T00:00:00",
          "2022-06-09T00:00:00",
          "2022-06-09T00:00:00",
          "2022-06-09T00:00:00",
          "2022-06-09T00:00:00",
          "2022-06-09T00:00:00",
          "2022-06-09T00:00:00",
          "2022-06-09T00:00:00",
          "2022-06-09T00:00:00",
          "2022-06-09T00:00:00",
          "2022-06-09T00:00:00",
          "2022-06-09T00:00:00",
          "2022-06-09T00:00:00",
          "2022-06-09T00:00:00",
          "2022-06-09T00:00:00",
          "2022-06-09T00:00:00",
          "2022-06-09T00:00:00",
          "2022-06-09T00:00:00",
          "2022-06-09T00:00:00",
          "2022-06-09T00:00:00",
          "2022-06-12T00:00:00",
          "2022-06-12T00:00:00",
          "2022-06-12T00:00:00",
          "2022-06-12T00:00:00",
          "2022-06-12T00:00:00",
          "2022-06-12T00:00:00",
          "2022-06-12T00:00:00",
          "2022-06-12T00:00:00",
          "2022-06-12T00:00:00",
          "2022-06-12T00:00:00",
          "2022-06-12T00:00:00",
          "2022-06-12T00:00:00",
          "2022-06-12T00:00:00",
          "2022-06-12T00:00:00",
          "2022-06-12T00:00:00",
          "2022-06-12T00:00:00",
          "2022-06-12T00:00:00",
          "2022-06-12T00:00:00",
          "2022-06-12T00:00:00",
          "2022-06-12T00:00:00",
          "2022-06-12T00:00:00",
          "2022-06-12T00:00:00",
          "2022-06-12T00:00:00",
          "2022-06-12T00:00:00",
          "2022-06-12T00:00:00",
          "2022-06-12T00:00:00",
          "2022-06-12T00:00:00",
          "2022-06-12T00:00:00",
          "2022-06-12T00:00:00",
          "2022-06-12T00:00:00",
          "2022-06-12T00:00:00",
          "2022-06-12T00:00:00",
          "2022-06-12T00:00:00",
          "2022-06-12T00:00:00",
          "2022-06-12T00:00:00",
          "2022-06-12T00:00:00",
          "2022-06-12T00:00:00",
          "2022-06-12T00:00:00",
          "2022-06-12T00:00:00",
          "2022-06-12T00:00:00",
          "2022-06-12T00:00:00",
          "2022-06-12T00:00:00",
          "2022-06-12T00:00:00",
          "2022-06-12T00:00:00",
          "2022-06-12T00:00:00",
          "2022-06-12T00:00:00",
          "2022-06-12T00:00:00",
          "2022-06-12T00:00:00",
          "2022-06-12T00:00:00",
          "2022-06-12T00:00:00",
          "2022-06-12T00:00:00",
          "2022-06-12T00:00:00",
          "2022-06-12T00:00:00",
          "2022-06-12T00:00:00",
          "2022-06-12T00:00:00",
          "2022-06-12T00:00:00",
          "2022-06-12T00:00:00",
          "2022-06-12T00:00:00",
          "2022-06-12T00:00:00",
          "2022-06-12T00:00:00",
          "2022-06-12T00:00:00",
          "2022-06-12T00:00:00",
          "2022-06-12T00:00:00",
          "2022-06-12T00:00:00",
          "2022-06-12T00:00:00",
          "2022-06-12T00:00:00",
          "2022-06-12T00:00:00",
          "2022-06-12T00:00:00",
          "2022-06-12T00:00:00",
          "2022-06-12T00:00:00",
          "2022-06-12T00:00:00",
          "2022-06-12T00:00:00",
          "2022-06-12T00:00:00",
          "2022-06-12T00:00:00",
          "2022-06-12T00:00:00",
          "2022-06-12T00:00:00",
          "2022-06-12T00:00:00",
          "2022-06-12T00:00:00",
          "2022-06-12T00:00:00",
          "2022-06-12T00:00:00",
          "2022-06-12T00:00:00",
          "2022-06-12T00:00:00",
          "2022-06-12T00:00:00",
          "2022-06-12T00:00:00",
          "2022-06-12T00:00:00",
          "2022-06-12T00:00:00",
          "2022-06-12T00:00:00",
          "2022-06-12T00:00:00",
          "2022-06-12T00:00:00",
          "2022-06-12T00:00:00",
          "2022-06-12T00:00:00",
          "2022-06-12T00:00:00",
          "2022-06-12T00:00:00",
          "2022-06-12T00:00:00",
          "2022-06-12T00:00:00",
          "2022-06-12T00:00:00",
          "2022-06-12T00:00:00",
          "2022-06-12T00:00:00",
          "2022-06-12T00:00:00",
          "2022-06-12T00:00:00",
          "2022-06-12T00:00:00",
          "2022-06-12T00:00:00",
          "2022-06-12T00:00:00",
          "2022-06-12T00:00:00"
         ],
         "xaxis": "x",
         "y": [
          1,
          2,
          3,
          4,
          5,
          6,
          7,
          8,
          9,
          10,
          11,
          12,
          13,
          14,
          15,
          16,
          17,
          18,
          19,
          20,
          21,
          22,
          23,
          24,
          25,
          26,
          27,
          28,
          29,
          30,
          31,
          32,
          33,
          34,
          35,
          36,
          37,
          38,
          39,
          40,
          41,
          42,
          43,
          44,
          45,
          46,
          47,
          48,
          49,
          50,
          51,
          52,
          53,
          54,
          55,
          56,
          57,
          58,
          59,
          60,
          61,
          62,
          63,
          64,
          65,
          66,
          67,
          68,
          69,
          70,
          71,
          72,
          73,
          74,
          75,
          76,
          77,
          78,
          79,
          80,
          81,
          82,
          83,
          84,
          85,
          86,
          87,
          88,
          89,
          90,
          91,
          92,
          93,
          94,
          95,
          96,
          97,
          98,
          99,
          100,
          101,
          102,
          103,
          104,
          105,
          106,
          107,
          108,
          109,
          110,
          111,
          112,
          113,
          114,
          115,
          116,
          117,
          118,
          119,
          120,
          121,
          122,
          123,
          124,
          125,
          126,
          127,
          128,
          129,
          130,
          131,
          132,
          133,
          134,
          135,
          136,
          137,
          138,
          139,
          140,
          141,
          142,
          143,
          144,
          145,
          146,
          147,
          148,
          149,
          150,
          151,
          152,
          153,
          154,
          155,
          156,
          157,
          158,
          159,
          160,
          161,
          162,
          163,
          164,
          165,
          166,
          167,
          168,
          169,
          170,
          171,
          172,
          173,
          174,
          175,
          176,
          177,
          178,
          179,
          180,
          181,
          182,
          183,
          184,
          185,
          186,
          187,
          188,
          189,
          190,
          191,
          192,
          193,
          194,
          195,
          196,
          197,
          198,
          199,
          200,
          201,
          202,
          203,
          204,
          205,
          206,
          207,
          208,
          209,
          210,
          211,
          212,
          213,
          214,
          215,
          216,
          217,
          218,
          219,
          220,
          221,
          222,
          223,
          224,
          225,
          226,
          227,
          228,
          229,
          230,
          231,
          232,
          233,
          234,
          235,
          236,
          237,
          238,
          239,
          240,
          241,
          242,
          243,
          244,
          245,
          246,
          247,
          248,
          249,
          250,
          251,
          252,
          253,
          254,
          255,
          256,
          257,
          258,
          259,
          260,
          261,
          262,
          263,
          264,
          265,
          266,
          267,
          268,
          269,
          270,
          271,
          272,
          273,
          274,
          275,
          276,
          277,
          278,
          279,
          280,
          281,
          282,
          283,
          284,
          285,
          286,
          287,
          288,
          289,
          290,
          291,
          292,
          293,
          294,
          295,
          296,
          297,
          298,
          299,
          300,
          301,
          302,
          303,
          304,
          305,
          306,
          307,
          308,
          309,
          310,
          311,
          312,
          313,
          314,
          315,
          316,
          317,
          318,
          319,
          320,
          321,
          322,
          323,
          324,
          325,
          326,
          327,
          328,
          329,
          330,
          331,
          332,
          333,
          334,
          335,
          336,
          337,
          338,
          339,
          340,
          341,
          342,
          343,
          344,
          345,
          346,
          347,
          348,
          349,
          350,
          351,
          352,
          353,
          354,
          355,
          356,
          357,
          358,
          359,
          360,
          361,
          362,
          363,
          364,
          365,
          366,
          367,
          368,
          369,
          370,
          371,
          372,
          373,
          374,
          375,
          376,
          377,
          378,
          379,
          380,
          381,
          382,
          383,
          384,
          385,
          386,
          387,
          388,
          389,
          390,
          391,
          392,
          393,
          394,
          395,
          396,
          397,
          398,
          399,
          400,
          401,
          402,
          403,
          404,
          405,
          406,
          407,
          408,
          409,
          410,
          411,
          412,
          413,
          414,
          415,
          416,
          417,
          418,
          419,
          420,
          421,
          422,
          423,
          424,
          425,
          426,
          427,
          428,
          429,
          430,
          431,
          432,
          433,
          434,
          435,
          436,
          437,
          438,
          439,
          440,
          441,
          442,
          443,
          444,
          445,
          446,
          447,
          448,
          449,
          450,
          451,
          452
         ],
         "yaxis": "y"
        },
        {
         "hovertemplate": "Country=Finland<br>Date_confirmation=%{x}<br>sum_case=%{y}<extra></extra>",
         "legendgroup": "Finland",
         "line": {
          "color": "#FECB52",
          "dash": "solid"
         },
         "marker": {
          "symbol": "circle"
         },
         "mode": "lines",
         "name": "Finland",
         "showlegend": true,
         "type": "scattergl",
         "x": [
          "2022-05-27T00:00:00",
          "2022-06-02T00:00:00",
          "2022-06-09T00:00:00"
         ],
         "xaxis": "x",
         "y": [
          1,
          2,
          3
         ],
         "yaxis": "y"
        },
        {
         "hovertemplate": "Country=France<br>Date_confirmation=%{x}<br>sum_case=%{y}<extra></extra>",
         "legendgroup": "France",
         "line": {
          "color": "#636efa",
          "dash": "solid"
         },
         "marker": {
          "symbol": "circle"
         },
         "mode": "lines",
         "name": "France",
         "showlegend": true,
         "type": "scattergl",
         "x": [
          "2022-05-19T00:00:00",
          "2022-05-23T00:00:00",
          "2022-05-23T00:00:00",
          "2022-05-24T00:00:00",
          "2022-05-24T00:00:00",
          "2022-05-25T00:00:00",
          "2022-05-25T00:00:00",
          "2022-05-28T00:00:00",
          "2022-05-28T00:00:00",
          "2022-05-28T00:00:00",
          "2022-05-28T00:00:00",
          "2022-05-28T00:00:00",
          "2022-05-28T00:00:00",
          "2022-05-28T00:00:00",
          "2022-05-28T00:00:00",
          "2022-05-28T00:00:00",
          "2022-05-30T00:00:00",
          "2022-06-01T00:00:00",
          "2022-06-01T00:00:00",
          "2022-06-01T00:00:00",
          "2022-06-01T00:00:00",
          "2022-06-01T00:00:00",
          "2022-06-01T00:00:00",
          "2022-06-01T00:00:00",
          "2022-06-01T00:00:00",
          "2022-06-01T00:00:00",
          "2022-06-01T00:00:00",
          "2022-06-01T00:00:00",
          "2022-06-01T00:00:00",
          "2022-06-01T00:00:00",
          "2022-06-01T00:00:00",
          "2022-06-01T00:00:00",
          "2022-06-01T00:00:00",
          "2022-06-03T00:00:00",
          "2022-06-03T00:00:00",
          "2022-06-03T00:00:00",
          "2022-06-03T00:00:00",
          "2022-06-03T00:00:00",
          "2022-06-03T00:00:00",
          "2022-06-03T00:00:00",
          "2022-06-03T00:00:00",
          "2022-06-03T00:00:00",
          "2022-06-03T00:00:00",
          "2022-06-03T00:00:00",
          "2022-06-03T00:00:00",
          "2022-06-03T00:00:00",
          "2022-06-03T00:00:00",
          "2022-06-03T00:00:00",
          "2022-06-03T00:00:00",
          "2022-06-03T00:00:00",
          "2022-06-03T00:00:00",
          "2022-06-04T00:00:00",
          "2022-06-07T00:00:00",
          "2022-06-07T00:00:00",
          "2022-06-07T00:00:00",
          "2022-06-07T00:00:00",
          "2022-06-07T00:00:00",
          "2022-06-07T00:00:00",
          "2022-06-07T00:00:00",
          "2022-06-07T00:00:00",
          "2022-06-07T00:00:00",
          "2022-06-07T00:00:00",
          "2022-06-07T00:00:00",
          "2022-06-07T00:00:00",
          "2022-06-07T00:00:00",
          "2022-06-07T00:00:00",
          "2022-06-09T00:00:00",
          "2022-06-09T00:00:00",
          "2022-06-09T00:00:00",
          "2022-06-09T00:00:00",
          "2022-06-09T00:00:00",
          "2022-06-09T00:00:00",
          "2022-06-09T00:00:00",
          "2022-06-09T00:00:00",
          "2022-06-09T00:00:00",
          "2022-06-09T00:00:00",
          "2022-06-09T00:00:00",
          "2022-06-09T00:00:00",
          "2022-06-09T00:00:00",
          "2022-06-09T00:00:00",
          "2022-06-09T00:00:00",
          "2022-06-09T00:00:00",
          "2022-06-09T00:00:00",
          "2022-06-09T00:00:00",
          "2022-06-09T00:00:00",
          "2022-06-09T00:00:00",
          "2022-06-09T00:00:00",
          "2022-06-09T00:00:00",
          "2022-06-09T00:00:00",
          "2022-06-09T00:00:00",
          "2022-06-09T00:00:00"
         ],
         "xaxis": "x",
         "y": [
          1,
          2,
          3,
          4,
          5,
          6,
          7,
          8,
          9,
          10,
          11,
          12,
          13,
          14,
          15,
          16,
          17,
          18,
          19,
          20,
          21,
          22,
          23,
          24,
          25,
          26,
          27,
          28,
          29,
          30,
          31,
          32,
          33,
          34,
          35,
          36,
          37,
          38,
          39,
          40,
          41,
          42,
          43,
          44,
          45,
          46,
          47,
          48,
          49,
          50,
          51,
          52,
          53,
          54,
          55,
          56,
          57,
          58,
          59,
          60,
          61,
          62,
          63,
          64,
          65,
          66,
          67,
          68,
          69,
          70,
          71,
          72,
          73,
          74,
          75,
          76,
          77,
          78,
          79,
          80,
          81,
          82,
          83,
          84,
          85,
          86,
          87,
          88,
          89,
          90,
          91
         ],
         "yaxis": "y"
        },
        {
         "hovertemplate": "Country=Germany<br>Date_confirmation=%{x}<br>sum_case=%{y}<extra></extra>",
         "legendgroup": "Germany",
         "line": {
          "color": "#EF553B",
          "dash": "solid"
         },
         "marker": {
          "symbol": "circle"
         },
         "mode": "lines",
         "name": "Germany",
         "showlegend": true,
         "type": "scattergl",
         "x": [
          "2022-05-19T00:00:00",
          "2022-05-20T00:00:00",
          "2022-05-21T00:00:00",
          "2022-05-21T00:00:00",
          "2022-05-23T00:00:00",
          "2022-05-23T00:00:00",
          "2022-05-24T00:00:00",
          "2022-05-24T00:00:00",
          "2022-05-24T00:00:00",
          "2022-05-24T00:00:00",
          "2022-05-24T00:00:00",
          "2022-05-24T00:00:00",
          "2022-05-25T00:00:00",
          "2022-05-26T00:00:00",
          "2022-05-26T00:00:00",
          "2022-05-27T00:00:00",
          "2022-05-27T00:00:00",
          "2022-05-27T00:00:00",
          "2022-05-27T00:00:00",
          "2022-05-27T00:00:00",
          "2022-05-27T00:00:00",
          "2022-05-28T00:00:00",
          "2022-05-30T00:00:00",
          "2022-05-30T00:00:00",
          "2022-05-30T00:00:00",
          "2022-05-31T00:00:00",
          "2022-05-31T00:00:00",
          "2022-05-31T00:00:00",
          "2022-05-31T00:00:00",
          "2022-05-31T00:00:00",
          "2022-05-31T00:00:00",
          "2022-05-31T00:00:00",
          "2022-05-31T00:00:00",
          "2022-05-31T00:00:00",
          "2022-05-31T00:00:00",
          "2022-05-31T00:00:00",
          "2022-05-31T00:00:00",
          "2022-05-31T00:00:00",
          "2022-05-31T00:00:00",
          "2022-05-31T00:00:00",
          "2022-05-31T00:00:00",
          "2022-06-02T00:00:00",
          "2022-06-02T00:00:00",
          "2022-06-02T00:00:00",
          "2022-06-02T00:00:00",
          "2022-06-02T00:00:00",
          "2022-06-02T00:00:00",
          "2022-06-02T00:00:00",
          "2022-06-02T00:00:00",
          "2022-06-02T00:00:00",
          "2022-06-02T00:00:00",
          "2022-06-02T00:00:00",
          "2022-06-02T00:00:00",
          "2022-06-02T00:00:00",
          "2022-06-02T00:00:00",
          "2022-06-02T00:00:00",
          "2022-06-02T00:00:00",
          "2022-06-02T00:00:00",
          "2022-06-03T00:00:00",
          "2022-06-03T00:00:00",
          "2022-06-03T00:00:00",
          "2022-06-03T00:00:00",
          "2022-06-03T00:00:00",
          "2022-06-03T00:00:00",
          "2022-06-03T00:00:00",
          "2022-06-03T00:00:00",
          "2022-06-03T00:00:00",
          "2022-06-03T00:00:00",
          "2022-06-03T00:00:00",
          "2022-06-03T00:00:00",
          "2022-06-03T00:00:00",
          "2022-06-03T00:00:00",
          "2022-06-03T00:00:00",
          "2022-06-03T00:00:00",
          "2022-06-03T00:00:00",
          "2022-06-04T00:00:00",
          "2022-06-04T00:00:00",
          "2022-06-04T00:00:00",
          "2022-06-04T00:00:00",
          "2022-06-04T00:00:00",
          "2022-06-07T00:00:00",
          "2022-06-07T00:00:00",
          "2022-06-07T00:00:00",
          "2022-06-07T00:00:00",
          "2022-06-07T00:00:00",
          "2022-06-07T00:00:00",
          "2022-06-07T00:00:00",
          "2022-06-07T00:00:00",
          "2022-06-07T00:00:00",
          "2022-06-07T00:00:00",
          "2022-06-07T00:00:00",
          "2022-06-07T00:00:00",
          "2022-06-07T00:00:00",
          "2022-06-07T00:00:00",
          "2022-06-07T00:00:00",
          "2022-06-07T00:00:00",
          "2022-06-07T00:00:00",
          "2022-06-07T00:00:00",
          "2022-06-07T00:00:00",
          "2022-06-07T00:00:00",
          "2022-06-07T00:00:00",
          "2022-06-07T00:00:00",
          "2022-06-07T00:00:00",
          "2022-06-07T00:00:00",
          "2022-06-07T00:00:00",
          "2022-06-07T00:00:00",
          "2022-06-07T00:00:00",
          "2022-06-08T00:00:00",
          "2022-06-08T00:00:00",
          "2022-06-08T00:00:00",
          "2022-06-08T00:00:00",
          "2022-06-08T00:00:00",
          "2022-06-08T00:00:00",
          "2022-06-08T00:00:00",
          "2022-06-08T00:00:00",
          "2022-06-08T00:00:00",
          "2022-06-08T00:00:00",
          "2022-06-08T00:00:00",
          "2022-06-08T00:00:00",
          "2022-06-08T00:00:00",
          "2022-06-09T00:00:00",
          "2022-06-09T00:00:00",
          "2022-06-09T00:00:00",
          "2022-06-09T00:00:00",
          "2022-06-09T00:00:00",
          "2022-06-09T00:00:00",
          "2022-06-09T00:00:00",
          "2022-06-09T00:00:00",
          "2022-06-09T00:00:00",
          "2022-06-09T00:00:00",
          "2022-06-09T00:00:00",
          "2022-06-09T00:00:00",
          "2022-06-09T00:00:00",
          "2022-06-09T00:00:00",
          "2022-06-09T00:00:00",
          "2022-06-09T00:00:00",
          "2022-06-09T00:00:00",
          "2022-06-09T00:00:00",
          "2022-06-09T00:00:00",
          "2022-06-09T00:00:00",
          "2022-06-09T00:00:00",
          "2022-06-09T00:00:00",
          "2022-06-09T00:00:00",
          "2022-06-09T00:00:00",
          "2022-06-09T00:00:00",
          "2022-06-09T00:00:00",
          "2022-06-09T00:00:00",
          "2022-06-09T00:00:00",
          "2022-06-09T00:00:00",
          "2022-06-09T00:00:00",
          "2022-06-10T00:00:00",
          "2022-06-10T00:00:00",
          "2022-06-10T00:00:00",
          "2022-06-10T00:00:00",
          "2022-06-10T00:00:00",
          "2022-06-10T00:00:00",
          "2022-06-10T00:00:00",
          "2022-06-10T00:00:00",
          "2022-06-10T00:00:00",
          "2022-06-10T00:00:00",
          "2022-06-10T00:00:00",
          "2022-06-10T00:00:00",
          "2022-06-12T00:00:00",
          "2022-06-13T00:00:00",
          "2022-06-13T00:00:00",
          "2022-06-13T00:00:00",
          "2022-06-13T00:00:00",
          "2022-06-13T00:00:00",
          "2022-06-13T00:00:00",
          "2022-06-13T00:00:00",
          "2022-06-13T00:00:00",
          "2022-06-13T00:00:00",
          "2022-06-13T00:00:00",
          "2022-06-13T00:00:00",
          "2022-06-13T00:00:00",
          "2022-06-13T00:00:00",
          "2022-06-13T00:00:00",
          "2022-06-13T00:00:00",
          "2022-06-13T00:00:00",
          "2022-06-13T00:00:00",
          "2022-06-13T00:00:00",
          "2022-06-13T00:00:00",
          "2022-06-13T00:00:00",
          "2022-06-13T00:00:00",
          "2022-06-13T00:00:00",
          "2022-06-13T00:00:00",
          "2022-06-13T00:00:00",
          "2022-06-13T00:00:00",
          "2022-06-14T00:00:00",
          "2022-06-14T00:00:00",
          "2022-06-14T00:00:00",
          "2022-06-14T00:00:00",
          "2022-06-14T00:00:00",
          "2022-06-14T00:00:00",
          "2022-06-14T00:00:00",
          "2022-06-14T00:00:00",
          "2022-06-14T00:00:00",
          "2022-06-14T00:00:00",
          "2022-06-14T00:00:00",
          "2022-06-14T00:00:00",
          "2022-06-14T00:00:00",
          "2022-06-14T00:00:00",
          "2022-06-14T00:00:00",
          "2022-06-14T00:00:00",
          "2022-06-14T00:00:00",
          "2022-06-14T00:00:00",
          "2022-06-14T00:00:00",
          "2022-06-14T00:00:00",
          "2022-06-14T00:00:00",
          "2022-06-14T00:00:00",
          "2022-06-14T00:00:00",
          "2022-06-14T00:00:00",
          "2022-06-14T00:00:00",
          "2022-06-14T00:00:00",
          "2022-06-14T00:00:00",
          "2022-06-14T00:00:00",
          "2022-06-14T00:00:00",
          "2022-06-14T00:00:00",
          "2022-06-14T00:00:00",
          "2022-06-14T00:00:00",
          "2022-06-14T00:00:00",
          "2022-06-14T00:00:00",
          "2022-06-14T00:00:00",
          "2022-06-14T00:00:00",
          "2022-06-14T00:00:00",
          "2022-06-14T00:00:00",
          "2022-06-14T00:00:00",
          "2022-06-14T00:00:00"
         ],
         "xaxis": "x",
         "y": [
          1,
          2,
          3,
          4,
          5,
          6,
          7,
          8,
          9,
          10,
          11,
          12,
          13,
          14,
          15,
          16,
          17,
          18,
          19,
          20,
          21,
          22,
          23,
          24,
          25,
          26,
          27,
          28,
          29,
          30,
          31,
          32,
          33,
          34,
          35,
          36,
          37,
          38,
          39,
          40,
          41,
          42,
          43,
          44,
          45,
          46,
          47,
          48,
          49,
          50,
          51,
          52,
          53,
          54,
          55,
          56,
          57,
          58,
          59,
          60,
          61,
          62,
          63,
          64,
          65,
          66,
          67,
          68,
          69,
          70,
          71,
          72,
          73,
          74,
          75,
          76,
          77,
          78,
          79,
          80,
          81,
          82,
          83,
          84,
          85,
          86,
          87,
          88,
          89,
          90,
          91,
          92,
          93,
          94,
          95,
          96,
          97,
          98,
          99,
          100,
          101,
          102,
          103,
          104,
          105,
          106,
          107,
          108,
          109,
          110,
          111,
          112,
          113,
          114,
          115,
          116,
          117,
          118,
          119,
          120,
          121,
          122,
          123,
          124,
          125,
          126,
          127,
          128,
          129,
          130,
          131,
          132,
          133,
          134,
          135,
          136,
          137,
          138,
          139,
          140,
          141,
          142,
          143,
          144,
          145,
          146,
          147,
          148,
          149,
          150,
          151,
          152,
          153,
          154,
          155,
          156,
          157,
          158,
          159,
          160,
          161,
          162,
          163,
          164,
          165,
          166,
          167,
          168,
          169,
          170,
          171,
          172,
          173,
          174,
          175,
          176,
          177,
          178,
          179,
          180,
          181,
          182,
          183,
          184,
          185,
          186,
          187,
          188,
          189,
          190,
          191,
          192,
          193,
          194,
          195,
          196,
          197,
          198,
          199,
          200,
          201,
          202,
          203,
          204,
          205,
          206,
          207,
          208,
          209,
          210,
          211,
          212,
          213,
          214,
          215,
          216,
          217,
          218,
          219,
          220,
          221,
          222,
          223,
          224,
          225,
          226,
          227,
          228
         ],
         "yaxis": "y"
        },
        {
         "hovertemplate": "Country=Ghana<br>Date_confirmation=%{x}<br>sum_case=%{y}<extra></extra>",
         "legendgroup": "Ghana",
         "line": {
          "color": "#00cc96",
          "dash": "solid"
         },
         "marker": {
          "symbol": "circle"
         },
         "mode": "lines",
         "name": "Ghana",
         "showlegend": true,
         "type": "scattergl",
         "x": [
          "2022-06-08T00:00:00",
          "2022-06-08T00:00:00",
          "2022-06-08T00:00:00",
          "2022-06-08T00:00:00",
          "2022-06-08T00:00:00"
         ],
         "xaxis": "x",
         "y": [
          1,
          2,
          3,
          4,
          5
         ],
         "yaxis": "y"
        },
        {
         "hovertemplate": "Country=Gibraltar<br>Date_confirmation=%{x}<br>sum_case=%{y}<extra></extra>",
         "legendgroup": "Gibraltar",
         "line": {
          "color": "#ab63fa",
          "dash": "solid"
         },
         "marker": {
          "symbol": "circle"
         },
         "mode": "lines",
         "name": "Gibraltar",
         "showlegend": true,
         "type": "scattergl",
         "x": [
          "2022-06-01T00:00:00"
         ],
         "xaxis": "x",
         "y": [
          1
         ],
         "yaxis": "y"
        },
        {
         "hovertemplate": "Country=Greece<br>Date_confirmation=%{x}<br>sum_case=%{y}<extra></extra>",
         "legendgroup": "Greece",
         "line": {
          "color": "#FFA15A",
          "dash": "solid"
         },
         "marker": {
          "symbol": "circle"
         },
         "mode": "lines",
         "name": "Greece",
         "showlegend": true,
         "type": "scattergl",
         "x": [
          "2022-06-08T00:00:00"
         ],
         "xaxis": "x",
         "y": [
          1
         ],
         "yaxis": "y"
        },
        {
         "hovertemplate": "Country=Hungary<br>Date_confirmation=%{x}<br>sum_case=%{y}<extra></extra>",
         "legendgroup": "Hungary",
         "line": {
          "color": "#19d3f3",
          "dash": "solid"
         },
         "marker": {
          "symbol": "circle"
         },
         "mode": "lines",
         "name": "Hungary",
         "showlegend": true,
         "type": "scattergl",
         "x": [
          "2022-05-31T00:00:00"
         ],
         "xaxis": "x",
         "y": [
          1
         ],
         "yaxis": "y"
        },
        {
         "hovertemplate": "Country=Ireland<br>Date_confirmation=%{x}<br>sum_case=%{y}<extra></extra>",
         "legendgroup": "Ireland",
         "line": {
          "color": "#FF6692",
          "dash": "solid"
         },
         "marker": {
          "symbol": "circle"
         },
         "mode": "lines",
         "name": "Ireland",
         "showlegend": true,
         "type": "scattergl",
         "x": [
          "2022-05-27T00:00:00",
          "2022-05-30T00:00:00",
          "2022-06-01T00:00:00",
          "2022-06-01T00:00:00",
          "2022-06-02T00:00:00",
          "2022-06-02T00:00:00",
          "2022-06-07T00:00:00",
          "2022-06-10T00:00:00",
          "2022-06-10T00:00:00"
         ],
         "xaxis": "x",
         "y": [
          1,
          2,
          3,
          4,
          5,
          6,
          7,
          8,
          9
         ],
         "yaxis": "y"
        },
        {
         "hovertemplate": "Country=Israel<br>Date_confirmation=%{x}<br>sum_case=%{y}<extra></extra>",
         "legendgroup": "Israel",
         "line": {
          "color": "#B6E880",
          "dash": "solid"
         },
         "marker": {
          "symbol": "circle"
         },
         "mode": "lines",
         "name": "Israel",
         "showlegend": true,
         "type": "scattergl",
         "x": [
          "2022-05-21T00:00:00",
          "2022-05-28T00:00:00",
          "2022-06-07T00:00:00",
          "2022-06-09T00:00:00"
         ],
         "xaxis": "x",
         "y": [
          1,
          2,
          3,
          4
         ],
         "yaxis": "y"
        },
        {
         "hovertemplate": "Country=Italy<br>Date_confirmation=%{x}<br>sum_case=%{y}<extra></extra>",
         "legendgroup": "Italy",
         "line": {
          "color": "#FF97FF",
          "dash": "solid"
         },
         "marker": {
          "symbol": "circle"
         },
         "mode": "lines",
         "name": "Italy",
         "showlegend": true,
         "type": "scattergl",
         "x": [
          "2022-05-19T00:00:00",
          "2022-05-20T00:00:00",
          "2022-05-20T00:00:00",
          "2022-05-23T00:00:00",
          "2022-05-24T00:00:00",
          "2022-05-25T00:00:00",
          "2022-05-25T00:00:00",
          "2022-05-25T00:00:00",
          "2022-05-25T00:00:00",
          "2022-05-26T00:00:00",
          "2022-05-26T00:00:00",
          "2022-05-26T00:00:00",
          "2022-05-29T00:00:00",
          "2022-05-31T00:00:00",
          "2022-05-31T00:00:00",
          "2022-05-31T00:00:00",
          "2022-05-31T00:00:00",
          "2022-05-31T00:00:00",
          "2022-05-31T00:00:00",
          "2022-06-01T00:00:00",
          "2022-06-01T00:00:00",
          "2022-06-03T00:00:00",
          "2022-06-06T00:00:00",
          "2022-06-06T00:00:00",
          "2022-06-06T00:00:00",
          "2022-06-06T00:00:00",
          "2022-06-06T00:00:00",
          "2022-06-06T00:00:00",
          "2022-06-07T00:00:00",
          "2022-06-08T00:00:00",
          "2022-06-08T00:00:00",
          "2022-06-10T00:00:00",
          "2022-06-11T00:00:00",
          "2022-06-11T00:00:00",
          "2022-06-11T00:00:00",
          "2022-06-11T00:00:00",
          "2022-06-11T00:00:00",
          "2022-06-14T00:00:00"
         ],
         "xaxis": "x",
         "y": [
          1,
          2,
          3,
          4,
          5,
          6,
          7,
          8,
          9,
          10,
          11,
          12,
          13,
          14,
          15,
          16,
          17,
          18,
          19,
          20,
          21,
          22,
          23,
          24,
          25,
          26,
          27,
          28,
          29,
          30,
          31,
          32,
          33,
          34,
          35,
          36,
          37,
          38
         ],
         "yaxis": "y"
        },
        {
         "hovertemplate": "Country=Latvia<br>Date_confirmation=%{x}<br>sum_case=%{y}<extra></extra>",
         "legendgroup": "Latvia",
         "line": {
          "color": "#FECB52",
          "dash": "solid"
         },
         "marker": {
          "symbol": "circle"
         },
         "mode": "lines",
         "name": "Latvia",
         "showlegend": true,
         "type": "scattergl",
         "x": [
          "2022-06-03T00:00:00",
          "2022-06-09T00:00:00"
         ],
         "xaxis": "x",
         "y": [
          1,
          2
         ],
         "yaxis": "y"
        },
        {
         "hovertemplate": "Country=Malta<br>Date_confirmation=%{x}<br>sum_case=%{y}<extra></extra>",
         "legendgroup": "Malta",
         "line": {
          "color": "#636efa",
          "dash": "solid"
         },
         "marker": {
          "symbol": "circle"
         },
         "mode": "lines",
         "name": "Malta",
         "showlegend": true,
         "type": "scattergl",
         "x": [
          "2022-05-28T00:00:00"
         ],
         "xaxis": "x",
         "y": [
          1
         ],
         "yaxis": "y"
        },
        {
         "hovertemplate": "Country=Mexico<br>Date_confirmation=%{x}<br>sum_case=%{y}<extra></extra>",
         "legendgroup": "Mexico",
         "line": {
          "color": "#EF553B",
          "dash": "solid"
         },
         "marker": {
          "symbol": "circle"
         },
         "mode": "lines",
         "name": "Mexico",
         "showlegend": true,
         "type": "scattergl",
         "x": [
          "2022-05-28T00:00:00",
          "2022-06-11T00:00:00"
         ],
         "xaxis": "x",
         "y": [
          1,
          2
         ],
         "yaxis": "y"
        },
        {
         "hovertemplate": "Country=Morocco<br>Date_confirmation=%{x}<br>sum_case=%{y}<extra></extra>",
         "legendgroup": "Morocco",
         "line": {
          "color": "#00cc96",
          "dash": "solid"
         },
         "marker": {
          "symbol": "circle"
         },
         "mode": "lines",
         "name": "Morocco",
         "showlegend": true,
         "type": "scattergl",
         "x": [
          "2022-06-02T00:00:00"
         ],
         "xaxis": "x",
         "y": [
          1
         ],
         "yaxis": "y"
        },
        {
         "hovertemplate": "Country=Netherlands<br>Date_confirmation=%{x}<br>sum_case=%{y}<extra></extra>",
         "legendgroup": "Netherlands",
         "line": {
          "color": "#ab63fa",
          "dash": "solid"
         },
         "marker": {
          "symbol": "circle"
         },
         "mode": "lines",
         "name": "Netherlands",
         "showlegend": true,
         "type": "scattergl",
         "x": [
          "2022-05-20T00:00:00",
          "2022-05-21T00:00:00",
          "2022-05-23T00:00:00",
          "2022-05-23T00:00:00",
          "2022-05-23T00:00:00",
          "2022-05-23T00:00:00",
          "2022-05-25T00:00:00",
          "2022-05-25T00:00:00",
          "2022-05-25T00:00:00",
          "2022-05-25T00:00:00",
          "2022-05-25T00:00:00",
          "2022-05-25T00:00:00",
          "2022-05-30T00:00:00",
          "2022-05-30T00:00:00",
          "2022-05-30T00:00:00",
          "2022-05-30T00:00:00",
          "2022-05-30T00:00:00",
          "2022-05-30T00:00:00",
          "2022-05-30T00:00:00",
          "2022-05-30T00:00:00",
          "2022-05-30T00:00:00",
          "2022-05-30T00:00:00",
          "2022-05-30T00:00:00",
          "2022-05-30T00:00:00",
          "2022-05-30T00:00:00",
          "2022-05-30T00:00:00",
          "2022-06-02T00:00:00",
          "2022-06-02T00:00:00",
          "2022-06-02T00:00:00",
          "2022-06-02T00:00:00",
          "2022-06-02T00:00:00",
          "2022-06-02T00:00:00",
          "2022-06-02T00:00:00",
          "2022-06-02T00:00:00",
          "2022-06-02T00:00:00",
          "2022-06-02T00:00:00",
          "2022-06-02T00:00:00",
          "2022-06-02T00:00:00",
          "2022-06-02T00:00:00",
          "2022-06-02T00:00:00",
          "2022-06-07T00:00:00",
          "2022-06-07T00:00:00",
          "2022-06-07T00:00:00",
          "2022-06-07T00:00:00",
          "2022-06-07T00:00:00",
          "2022-06-07T00:00:00",
          "2022-06-07T00:00:00",
          "2022-06-07T00:00:00",
          "2022-06-07T00:00:00",
          "2022-06-07T00:00:00",
          "2022-06-07T00:00:00",
          "2022-06-07T00:00:00",
          "2022-06-07T00:00:00",
          "2022-06-07T00:00:00",
          "2022-06-09T00:00:00",
          "2022-06-09T00:00:00",
          "2022-06-09T00:00:00",
          "2022-06-09T00:00:00",
          "2022-06-09T00:00:00",
          "2022-06-09T00:00:00",
          "2022-06-14T00:00:00",
          "2022-06-14T00:00:00",
          "2022-06-14T00:00:00",
          "2022-06-14T00:00:00",
          "2022-06-14T00:00:00",
          "2022-06-14T00:00:00",
          "2022-06-14T00:00:00",
          "2022-06-14T00:00:00",
          "2022-06-14T00:00:00",
          "2022-06-14T00:00:00",
          "2022-06-14T00:00:00",
          "2022-06-14T00:00:00",
          "2022-06-14T00:00:00",
          "2022-06-14T00:00:00",
          "2022-06-14T00:00:00",
          "2022-06-14T00:00:00",
          "2022-06-14T00:00:00",
          "2022-06-14T00:00:00",
          "2022-06-14T00:00:00",
          "2022-06-14T00:00:00"
         ],
         "xaxis": "x",
         "y": [
          1,
          2,
          3,
          4,
          5,
          6,
          7,
          8,
          9,
          10,
          11,
          12,
          13,
          14,
          15,
          16,
          17,
          18,
          19,
          20,
          21,
          22,
          23,
          24,
          25,
          26,
          27,
          28,
          29,
          30,
          31,
          32,
          33,
          34,
          35,
          36,
          37,
          38,
          39,
          40,
          41,
          42,
          43,
          44,
          45,
          46,
          47,
          48,
          49,
          50,
          51,
          52,
          53,
          54,
          55,
          56,
          57,
          58,
          59,
          60,
          61,
          62,
          63,
          64,
          65,
          66,
          67,
          68,
          69,
          70,
          71,
          72,
          73,
          74,
          75,
          76,
          77,
          78,
          79,
          80
         ],
         "yaxis": "y"
        },
        {
         "hovertemplate": "Country=Northern Ireland<br>Date_confirmation=%{x}<br>sum_case=%{y}<extra></extra>",
         "legendgroup": "Northern Ireland",
         "line": {
          "color": "#FFA15A",
          "dash": "solid"
         },
         "marker": {
          "symbol": "circle"
         },
         "mode": "lines",
         "name": "Northern Ireland",
         "showlegend": true,
         "type": "scattergl",
         "x": [
          "2022-05-26T00:00:00",
          "2022-05-30T00:00:00"
         ],
         "xaxis": "x",
         "y": [
          1,
          2
         ],
         "yaxis": "y"
        },
        {
         "hovertemplate": "Country=Norway<br>Date_confirmation=%{x}<br>sum_case=%{y}<extra></extra>",
         "legendgroup": "Norway",
         "line": {
          "color": "#19d3f3",
          "dash": "solid"
         },
         "marker": {
          "symbol": "circle"
         },
         "mode": "lines",
         "name": "Norway",
         "showlegend": true,
         "type": "scattergl",
         "x": [
          "2022-05-31T00:00:00",
          "2022-06-01T00:00:00"
         ],
         "xaxis": "x",
         "y": [
          1,
          2
         ],
         "yaxis": "y"
        },
        {
         "hovertemplate": "Country=Poland<br>Date_confirmation=%{x}<br>sum_case=%{y}<extra></extra>",
         "legendgroup": "Poland",
         "line": {
          "color": "#FF6692",
          "dash": "solid"
         },
         "marker": {
          "symbol": "circle"
         },
         "mode": "lines",
         "name": "Poland",
         "showlegend": true,
         "type": "scattergl",
         "x": [
          "2022-06-10T00:00:00"
         ],
         "xaxis": "x",
         "y": [
          1
         ],
         "yaxis": "y"
        },
        {
         "hovertemplate": "Country=Portugal<br>Date_confirmation=%{x}<br>sum_case=%{y}<extra></extra>",
         "legendgroup": "Portugal",
         "line": {
          "color": "#B6E880",
          "dash": "solid"
         },
         "marker": {
          "symbol": "circle"
         },
         "mode": "lines",
         "name": "Portugal",
         "showlegend": true,
         "type": "scattergl",
         "x": [
          "2022-05-17T00:00:00",
          "2022-05-17T00:00:00",
          "2022-05-17T00:00:00",
          "2022-05-18T00:00:00",
          "2022-05-18T00:00:00",
          "2022-05-18T00:00:00",
          "2022-05-18T00:00:00",
          "2022-05-18T00:00:00",
          "2022-05-18T00:00:00",
          "2022-05-18T00:00:00",
          "2022-05-18T00:00:00",
          "2022-05-18T00:00:00",
          "2022-05-18T00:00:00",
          "2022-05-18T00:00:00",
          "2022-05-19T00:00:00",
          "2022-05-19T00:00:00",
          "2022-05-19T00:00:00",
          "2022-05-19T00:00:00",
          "2022-05-19T00:00:00",
          "2022-05-19T00:00:00",
          "2022-05-19T00:00:00",
          "2022-05-19T00:00:00",
          "2022-05-19T00:00:00",
          "2022-05-23T00:00:00",
          "2022-05-23T00:00:00",
          "2022-05-23T00:00:00",
          "2022-05-23T00:00:00",
          "2022-05-23T00:00:00",
          "2022-05-23T00:00:00",
          "2022-05-23T00:00:00",
          "2022-05-23T00:00:00",
          "2022-05-23T00:00:00",
          "2022-05-23T00:00:00",
          "2022-05-23T00:00:00",
          "2022-05-23T00:00:00",
          "2022-05-23T00:00:00",
          "2022-05-23T00:00:00",
          "2022-05-24T00:00:00",
          "2022-05-24T00:00:00",
          "2022-05-25T00:00:00",
          "2022-05-25T00:00:00",
          "2022-05-25T00:00:00",
          "2022-05-25T00:00:00",
          "2022-05-25T00:00:00",
          "2022-05-25T00:00:00",
          "2022-05-25T00:00:00",
          "2022-05-25T00:00:00",
          "2022-05-25T00:00:00",
          "2022-05-25T00:00:00",
          "2022-05-26T00:00:00",
          "2022-05-26T00:00:00",
          "2022-05-26T00:00:00",
          "2022-05-26T00:00:00",
          "2022-05-26T00:00:00",
          "2022-05-26T00:00:00",
          "2022-05-26T00:00:00",
          "2022-05-26T00:00:00",
          "2022-05-26T00:00:00",
          "2022-05-27T00:00:00",
          "2022-05-27T00:00:00",
          "2022-05-27T00:00:00",
          "2022-05-27T00:00:00",
          "2022-05-27T00:00:00",
          "2022-05-27T00:00:00",
          "2022-05-27T00:00:00",
          "2022-05-27T00:00:00",
          "2022-05-27T00:00:00",
          "2022-05-27T00:00:00",
          "2022-05-27T00:00:00",
          "2022-05-27T00:00:00",
          "2022-05-27T00:00:00",
          "2022-05-27T00:00:00",
          "2022-05-27T00:00:00",
          "2022-05-27T00:00:00",
          "2022-05-30T00:00:00",
          "2022-05-30T00:00:00",
          "2022-05-30T00:00:00",
          "2022-05-30T00:00:00",
          "2022-05-30T00:00:00",
          "2022-05-30T00:00:00",
          "2022-05-30T00:00:00",
          "2022-05-30T00:00:00",
          "2022-05-30T00:00:00",
          "2022-05-30T00:00:00",
          "2022-05-30T00:00:00",
          "2022-05-30T00:00:00",
          "2022-05-30T00:00:00",
          "2022-05-30T00:00:00",
          "2022-05-30T00:00:00",
          "2022-05-30T00:00:00",
          "2022-05-30T00:00:00",
          "2022-05-30T00:00:00",
          "2022-05-30T00:00:00",
          "2022-05-30T00:00:00",
          "2022-05-30T00:00:00",
          "2022-05-30T00:00:00",
          "2022-05-31T00:00:00",
          "2022-05-31T00:00:00",
          "2022-05-31T00:00:00",
          "2022-05-31T00:00:00",
          "2022-06-01T00:00:00",
          "2022-06-01T00:00:00",
          "2022-06-01T00:00:00",
          "2022-06-01T00:00:00",
          "2022-06-01T00:00:00",
          "2022-06-01T00:00:00",
          "2022-06-01T00:00:00",
          "2022-06-01T00:00:00",
          "2022-06-01T00:00:00",
          "2022-06-01T00:00:00",
          "2022-06-01T00:00:00",
          "2022-06-01T00:00:00",
          "2022-06-01T00:00:00",
          "2022-06-01T00:00:00",
          "2022-06-01T00:00:00",
          "2022-06-01T00:00:00",
          "2022-06-01T00:00:00",
          "2022-06-01T00:00:00",
          "2022-06-01T00:00:00",
          "2022-06-02T00:00:00",
          "2022-06-02T00:00:00",
          "2022-06-02T00:00:00",
          "2022-06-02T00:00:00",
          "2022-06-02T00:00:00",
          "2022-06-02T00:00:00",
          "2022-06-02T00:00:00",
          "2022-06-02T00:00:00",
          "2022-06-02T00:00:00",
          "2022-06-02T00:00:00",
          "2022-06-02T00:00:00",
          "2022-06-02T00:00:00",
          "2022-06-02T00:00:00",
          "2022-06-02T00:00:00",
          "2022-06-02T00:00:00",
          "2022-06-02T00:00:00",
          "2022-06-02T00:00:00",
          "2022-06-02T00:00:00",
          "2022-06-02T00:00:00",
          "2022-06-03T00:00:00",
          "2022-06-03T00:00:00",
          "2022-06-03T00:00:00",
          "2022-06-03T00:00:00",
          "2022-06-03T00:00:00",
          "2022-06-06T00:00:00",
          "2022-06-06T00:00:00",
          "2022-06-06T00:00:00",
          "2022-06-06T00:00:00",
          "2022-06-06T00:00:00",
          "2022-06-06T00:00:00",
          "2022-06-06T00:00:00",
          "2022-06-06T00:00:00",
          "2022-06-06T00:00:00",
          "2022-06-06T00:00:00",
          "2022-06-07T00:00:00",
          "2022-06-07T00:00:00",
          "2022-06-07T00:00:00",
          "2022-06-07T00:00:00",
          "2022-06-07T00:00:00",
          "2022-06-07T00:00:00",
          "2022-06-07T00:00:00",
          "2022-06-07T00:00:00",
          "2022-06-07T00:00:00",
          "2022-06-07T00:00:00",
          "2022-06-07T00:00:00",
          "2022-06-07T00:00:00",
          "2022-06-07T00:00:00",
          "2022-06-08T00:00:00",
          "2022-06-08T00:00:00",
          "2022-06-08T00:00:00",
          "2022-06-08T00:00:00",
          "2022-06-08T00:00:00",
          "2022-06-08T00:00:00",
          "2022-06-08T00:00:00",
          "2022-06-08T00:00:00",
          "2022-06-08T00:00:00",
          "2022-06-08T00:00:00",
          "2022-06-08T00:00:00",
          "2022-06-08T00:00:00",
          "2022-06-08T00:00:00",
          "2022-06-08T00:00:00",
          "2022-06-08T00:00:00",
          "2022-06-08T00:00:00",
          "2022-06-08T00:00:00",
          "2022-06-08T00:00:00",
          "2022-06-08T00:00:00",
          "2022-06-08T00:00:00",
          "2022-06-08T00:00:00",
          "2022-06-08T00:00:00",
          "2022-06-08T00:00:00",
          "2022-06-08T00:00:00",
          "2022-06-08T00:00:00",
          "2022-06-09T00:00:00",
          "2022-06-09T00:00:00",
          "2022-06-09T00:00:00",
          "2022-06-09T00:00:00",
          "2022-06-09T00:00:00",
          "2022-06-09T00:00:00",
          "2022-06-09T00:00:00",
          "2022-06-09T00:00:00",
          "2022-06-09T00:00:00",
          "2022-06-09T00:00:00",
          "2022-06-09T00:00:00",
          "2022-06-09T00:00:00",
          "2022-06-09T00:00:00",
          "2022-06-09T00:00:00",
          "2022-06-09T00:00:00",
          "2022-06-09T00:00:00",
          "2022-06-09T00:00:00",
          "2022-06-09T00:00:00",
          "2022-06-14T00:00:00",
          "2022-06-14T00:00:00",
          "2022-06-14T00:00:00",
          "2022-06-14T00:00:00",
          "2022-06-14T00:00:00",
          "2022-06-14T00:00:00",
          "2022-06-14T00:00:00",
          "2022-06-14T00:00:00",
          "2022-06-14T00:00:00",
          "2022-06-14T00:00:00",
          "2022-06-14T00:00:00",
          "2022-06-14T00:00:00",
          "2022-06-14T00:00:00",
          "2022-06-14T00:00:00",
          "2022-06-14T00:00:00",
          "2022-06-14T00:00:00",
          "2022-06-14T00:00:00",
          "2022-06-14T00:00:00",
          "2022-06-14T00:00:00",
          "2022-06-14T00:00:00",
          "2022-06-14T00:00:00",
          "2022-06-14T00:00:00"
         ],
         "xaxis": "x",
         "y": [
          1,
          2,
          3,
          4,
          5,
          6,
          7,
          8,
          9,
          10,
          11,
          12,
          13,
          14,
          15,
          16,
          17,
          18,
          19,
          20,
          21,
          22,
          23,
          24,
          25,
          26,
          27,
          28,
          29,
          30,
          31,
          32,
          33,
          34,
          35,
          36,
          37,
          38,
          39,
          40,
          41,
          42,
          43,
          44,
          45,
          46,
          47,
          48,
          49,
          50,
          51,
          52,
          53,
          54,
          55,
          56,
          57,
          58,
          59,
          60,
          61,
          62,
          63,
          64,
          65,
          66,
          67,
          68,
          69,
          70,
          71,
          72,
          73,
          74,
          75,
          76,
          77,
          78,
          79,
          80,
          81,
          82,
          83,
          84,
          85,
          86,
          87,
          88,
          89,
          90,
          91,
          92,
          93,
          94,
          95,
          96,
          97,
          98,
          99,
          100,
          101,
          102,
          103,
          104,
          105,
          106,
          107,
          108,
          109,
          110,
          111,
          112,
          113,
          114,
          115,
          116,
          117,
          118,
          119,
          120,
          121,
          122,
          123,
          124,
          125,
          126,
          127,
          128,
          129,
          130,
          131,
          132,
          133,
          134,
          135,
          136,
          137,
          138,
          139,
          140,
          141,
          142,
          143,
          144,
          145,
          146,
          147,
          148,
          149,
          150,
          151,
          152,
          153,
          154,
          155,
          156,
          157,
          158,
          159,
          160,
          161,
          162,
          163,
          164,
          165,
          166,
          167,
          168,
          169,
          170,
          171,
          172,
          173,
          174,
          175,
          176,
          177,
          178,
          179,
          180,
          181,
          182,
          183,
          184,
          185,
          186,
          187,
          188,
          189,
          190,
          191,
          192,
          193,
          194,
          195,
          196,
          197,
          198,
          199,
          200,
          201,
          202,
          203,
          204,
          205,
          206,
          207,
          208,
          209,
          210,
          211,
          212,
          213,
          214,
          215,
          216,
          217,
          218,
          219,
          220,
          221,
          222,
          223,
          224,
          225,
          226,
          227,
          228,
          229,
          230,
          231
         ],
         "yaxis": "y"
        },
        {
         "hovertemplate": "Country=Romania<br>Date_confirmation=%{x}<br>sum_case=%{y}<extra></extra>",
         "legendgroup": "Romania",
         "line": {
          "color": "#FF97FF",
          "dash": "solid"
         },
         "marker": {
          "symbol": "circle"
         },
         "mode": "lines",
         "name": "Romania",
         "showlegend": true,
         "type": "scattergl",
         "x": [
          "2022-06-13T00:00:00"
         ],
         "xaxis": "x",
         "y": [
          1
         ],
         "yaxis": "y"
        },
        {
         "hovertemplate": "Country=Scotland<br>Date_confirmation=%{x}<br>sum_case=%{y}<extra></extra>",
         "legendgroup": "Scotland",
         "line": {
          "color": "#FECB52",
          "dash": "solid"
         },
         "marker": {
          "symbol": "circle"
         },
         "mode": "lines",
         "name": "Scotland",
         "showlegend": true,
         "type": "scattergl",
         "x": [
          "2022-05-23T00:00:00",
          "2022-05-26T00:00:00",
          "2022-05-26T00:00:00",
          "2022-05-30T00:00:00",
          "2022-06-01T00:00:00",
          "2022-06-03T00:00:00",
          "2022-06-03T00:00:00",
          "2022-06-03T00:00:00",
          "2022-06-06T00:00:00",
          "2022-06-06T00:00:00",
          "2022-06-07T00:00:00",
          "2022-06-09T00:00:00"
         ],
         "xaxis": "x",
         "y": [
          1,
          2,
          3,
          4,
          5,
          6,
          7,
          8,
          9,
          10,
          11,
          12
         ],
         "yaxis": "y"
        },
        {
         "hovertemplate": "Country=Slovenia<br>Date_confirmation=%{x}<br>sum_case=%{y}<extra></extra>",
         "legendgroup": "Slovenia",
         "line": {
          "color": "#636efa",
          "dash": "solid"
         },
         "marker": {
          "symbol": "circle"
         },
         "mode": "lines",
         "name": "Slovenia",
         "showlegend": true,
         "type": "scattergl",
         "x": [
          "2022-05-24T00:00:00",
          "2022-05-25T00:00:00",
          "2022-06-02T00:00:00",
          "2022-06-06T00:00:00",
          "2022-06-06T00:00:00",
          "2022-06-06T00:00:00",
          "2022-06-13T00:00:00"
         ],
         "xaxis": "x",
         "y": [
          1,
          2,
          3,
          4,
          5,
          6,
          7
         ],
         "yaxis": "y"
        },
        {
         "hovertemplate": "Country=Spain<br>Date_confirmation=%{x}<br>sum_case=%{y}<extra></extra>",
         "legendgroup": "Spain",
         "line": {
          "color": "#EF553B",
          "dash": "solid"
         },
         "marker": {
          "symbol": "circle"
         },
         "mode": "lines",
         "name": "Spain",
         "showlegend": true,
         "type": "scattergl",
         "x": [
          "2022-05-18T00:00:00",
          "2022-05-18T00:00:00",
          "2022-05-18T00:00:00",
          "2022-05-18T00:00:00",
          "2022-05-18T00:00:00",
          "2022-05-18T00:00:00",
          "2022-05-18T00:00:00",
          "2022-05-20T00:00:00",
          "2022-05-20T00:00:00",
          "2022-05-20T00:00:00",
          "2022-05-20T00:00:00",
          "2022-05-20T00:00:00",
          "2022-05-20T00:00:00",
          "2022-05-20T00:00:00",
          "2022-05-20T00:00:00",
          "2022-05-20T00:00:00",
          "2022-05-20T00:00:00",
          "2022-05-20T00:00:00",
          "2022-05-20T00:00:00",
          "2022-05-20T00:00:00",
          "2022-05-20T00:00:00",
          "2022-05-20T00:00:00",
          "2022-05-20T00:00:00",
          "2022-05-20T00:00:00",
          "2022-05-20T00:00:00",
          "2022-05-20T00:00:00",
          "2022-05-20T00:00:00",
          "2022-05-20T00:00:00",
          "2022-05-20T00:00:00",
          "2022-05-20T00:00:00",
          "2022-05-21T00:00:00",
          "2022-05-21T00:00:00",
          "2022-05-21T00:00:00",
          "2022-05-21T00:00:00",
          "2022-05-21T00:00:00",
          "2022-05-21T00:00:00",
          "2022-05-21T00:00:00",
          "2022-05-21T00:00:00",
          "2022-05-21T00:00:00",
          "2022-05-21T00:00:00",
          "2022-05-23T00:00:00",
          "2022-05-24T00:00:00",
          "2022-05-24T00:00:00",
          "2022-05-24T00:00:00",
          "2022-05-24T00:00:00",
          "2022-05-25T00:00:00",
          "2022-05-25T00:00:00",
          "2022-05-25T00:00:00",
          "2022-05-25T00:00:00",
          "2022-05-25T00:00:00",
          "2022-05-25T00:00:00",
          "2022-05-25T00:00:00",
          "2022-05-25T00:00:00",
          "2022-05-26T00:00:00",
          "2022-05-26T00:00:00",
          "2022-05-26T00:00:00",
          "2022-05-26T00:00:00",
          "2022-05-26T00:00:00",
          "2022-05-26T00:00:00",
          "2022-05-26T00:00:00",
          "2022-05-26T00:00:00",
          "2022-05-26T00:00:00",
          "2022-05-26T00:00:00",
          "2022-05-26T00:00:00",
          "2022-05-26T00:00:00",
          "2022-05-26T00:00:00",
          "2022-05-26T00:00:00",
          "2022-05-26T00:00:00",
          "2022-05-26T00:00:00",
          "2022-05-26T00:00:00",
          "2022-05-26T00:00:00",
          "2022-05-26T00:00:00",
          "2022-05-26T00:00:00",
          "2022-05-26T00:00:00",
          "2022-05-26T00:00:00",
          "2022-05-26T00:00:00",
          "2022-05-26T00:00:00",
          "2022-05-26T00:00:00",
          "2022-05-27T00:00:00",
          "2022-05-27T00:00:00",
          "2022-05-27T00:00:00",
          "2022-05-27T00:00:00",
          "2022-05-27T00:00:00",
          "2022-05-27T00:00:00",
          "2022-05-27T00:00:00",
          "2022-05-27T00:00:00",
          "2022-05-27T00:00:00",
          "2022-05-27T00:00:00",
          "2022-05-27T00:00:00",
          "2022-05-27T00:00:00",
          "2022-05-27T00:00:00",
          "2022-05-27T00:00:00",
          "2022-05-27T00:00:00",
          "2022-05-27T00:00:00",
          "2022-05-27T00:00:00",
          "2022-05-27T00:00:00",
          "2022-05-27T00:00:00",
          "2022-05-27T00:00:00",
          "2022-05-27T00:00:00",
          "2022-05-29T00:00:00",
          "2022-05-29T00:00:00",
          "2022-05-29T00:00:00",
          "2022-05-29T00:00:00",
          "2022-05-29T00:00:00",
          "2022-05-29T00:00:00",
          "2022-05-29T00:00:00",
          "2022-05-29T00:00:00",
          "2022-05-29T00:00:00",
          "2022-05-30T00:00:00",
          "2022-05-30T00:00:00",
          "2022-05-30T00:00:00",
          "2022-05-30T00:00:00",
          "2022-05-30T00:00:00",
          "2022-05-30T00:00:00",
          "2022-05-30T00:00:00",
          "2022-05-30T00:00:00",
          "2022-05-31T00:00:00",
          "2022-05-31T00:00:00",
          "2022-05-31T00:00:00",
          "2022-05-31T00:00:00",
          "2022-05-31T00:00:00",
          "2022-05-31T00:00:00",
          "2022-05-31T00:00:00",
          "2022-05-31T00:00:00",
          "2022-05-31T00:00:00",
          "2022-05-31T00:00:00",
          "2022-05-31T00:00:00",
          "2022-05-31T00:00:00",
          "2022-05-31T00:00:00",
          "2022-05-31T00:00:00",
          "2022-05-31T00:00:00",
          "2022-05-31T00:00:00",
          "2022-05-31T00:00:00",
          "2022-05-31T00:00:00",
          "2022-05-31T00:00:00",
          "2022-05-31T00:00:00",
          "2022-06-02T00:00:00",
          "2022-06-02T00:00:00",
          "2022-06-02T00:00:00",
          "2022-06-02T00:00:00",
          "2022-06-02T00:00:00",
          "2022-06-02T00:00:00",
          "2022-06-02T00:00:00",
          "2022-06-02T00:00:00",
          "2022-06-02T00:00:00",
          "2022-06-02T00:00:00",
          "2022-06-02T00:00:00",
          "2022-06-02T00:00:00",
          "2022-06-02T00:00:00",
          "2022-06-02T00:00:00",
          "2022-06-02T00:00:00",
          "2022-06-02T00:00:00",
          "2022-06-02T00:00:00",
          "2022-06-02T00:00:00",
          "2022-06-02T00:00:00",
          "2022-06-02T00:00:00",
          "2022-06-02T00:00:00",
          "2022-06-02T00:00:00",
          "2022-06-02T00:00:00",
          "2022-06-02T00:00:00",
          "2022-06-02T00:00:00",
          "2022-06-02T00:00:00",
          "2022-06-03T00:00:00",
          "2022-06-03T00:00:00",
          "2022-06-03T00:00:00",
          "2022-06-03T00:00:00",
          "2022-06-03T00:00:00",
          "2022-06-03T00:00:00",
          "2022-06-03T00:00:00",
          "2022-06-03T00:00:00",
          "2022-06-03T00:00:00",
          "2022-06-03T00:00:00",
          "2022-06-03T00:00:00",
          "2022-06-03T00:00:00",
          "2022-06-03T00:00:00",
          "2022-06-03T00:00:00",
          "2022-06-03T00:00:00",
          "2022-06-03T00:00:00",
          "2022-06-03T00:00:00",
          "2022-06-03T00:00:00",
          "2022-06-03T00:00:00",
          "2022-06-06T00:00:00",
          "2022-06-06T00:00:00",
          "2022-06-06T00:00:00",
          "2022-06-06T00:00:00",
          "2022-06-06T00:00:00",
          "2022-06-06T00:00:00",
          "2022-06-06T00:00:00",
          "2022-06-06T00:00:00",
          "2022-06-06T00:00:00",
          "2022-06-06T00:00:00",
          "2022-06-06T00:00:00",
          "2022-06-06T00:00:00",
          "2022-06-06T00:00:00",
          "2022-06-06T00:00:00",
          "2022-06-06T00:00:00",
          "2022-06-06T00:00:00",
          "2022-06-06T00:00:00",
          "2022-06-07T00:00:00",
          "2022-06-07T00:00:00",
          "2022-06-07T00:00:00",
          "2022-06-07T00:00:00",
          "2022-06-07T00:00:00",
          "2022-06-07T00:00:00",
          "2022-06-07T00:00:00",
          "2022-06-07T00:00:00",
          "2022-06-07T00:00:00",
          "2022-06-07T00:00:00",
          "2022-06-07T00:00:00",
          "2022-06-07T00:00:00",
          "2022-06-07T00:00:00",
          "2022-06-07T00:00:00",
          "2022-06-07T00:00:00",
          "2022-06-07T00:00:00",
          "2022-06-07T00:00:00",
          "2022-06-07T00:00:00",
          "2022-06-07T00:00:00",
          "2022-06-07T00:00:00",
          "2022-06-07T00:00:00",
          "2022-06-07T00:00:00",
          "2022-06-07T00:00:00",
          "2022-06-07T00:00:00",
          "2022-06-07T00:00:00",
          "2022-06-07T00:00:00",
          "2022-06-07T00:00:00",
          "2022-06-08T00:00:00",
          "2022-06-08T00:00:00",
          "2022-06-08T00:00:00",
          "2022-06-08T00:00:00",
          "2022-06-08T00:00:00",
          "2022-06-08T00:00:00",
          "2022-06-08T00:00:00",
          "2022-06-08T00:00:00",
          "2022-06-08T00:00:00",
          "2022-06-08T00:00:00",
          "2022-06-08T00:00:00",
          "2022-06-08T00:00:00",
          "2022-06-08T00:00:00",
          "2022-06-08T00:00:00",
          "2022-06-08T00:00:00",
          "2022-06-08T00:00:00",
          "2022-06-08T00:00:00",
          "2022-06-08T00:00:00",
          "2022-06-08T00:00:00",
          "2022-06-08T00:00:00",
          "2022-06-08T00:00:00",
          "2022-06-08T00:00:00",
          "2022-06-08T00:00:00",
          "2022-06-08T00:00:00",
          "2022-06-08T00:00:00",
          "2022-06-08T00:00:00",
          "2022-06-08T00:00:00",
          "2022-06-08T00:00:00",
          "2022-06-08T00:00:00",
          "2022-06-08T00:00:00",
          "2022-06-08T00:00:00",
          "2022-06-08T00:00:00",
          "2022-06-08T00:00:00",
          "2022-06-08T00:00:00",
          "2022-06-10T00:00:00",
          "2022-06-10T00:00:00",
          "2022-06-10T00:00:00",
          "2022-06-10T00:00:00",
          "2022-06-10T00:00:00",
          "2022-06-10T00:00:00",
          "2022-06-10T00:00:00",
          "2022-06-10T00:00:00",
          "2022-06-10T00:00:00",
          "2022-06-10T00:00:00",
          "2022-06-10T00:00:00",
          "2022-06-10T00:00:00",
          "2022-06-10T00:00:00",
          "2022-06-10T00:00:00",
          "2022-06-10T00:00:00",
          "2022-06-10T00:00:00",
          "2022-06-14T00:00:00",
          "2022-06-14T00:00:00",
          "2022-06-14T00:00:00",
          "2022-06-14T00:00:00",
          "2022-06-14T00:00:00",
          "2022-06-14T00:00:00",
          "2022-06-14T00:00:00",
          "2022-06-14T00:00:00",
          "2022-06-14T00:00:00",
          "2022-06-14T00:00:00",
          "2022-06-14T00:00:00",
          "2022-06-14T00:00:00",
          "2022-06-14T00:00:00",
          "2022-06-14T00:00:00",
          "2022-06-14T00:00:00",
          "2022-06-14T00:00:00",
          "2022-06-14T00:00:00",
          "2022-06-14T00:00:00",
          "2022-06-14T00:00:00",
          "2022-06-14T00:00:00",
          "2022-06-14T00:00:00",
          "2022-06-14T00:00:00",
          "2022-06-14T00:00:00",
          "2022-06-14T00:00:00",
          "2022-06-14T00:00:00",
          "2022-06-14T00:00:00",
          "2022-06-14T00:00:00",
          "2022-06-14T00:00:00",
          "2022-06-14T00:00:00",
          "2022-06-14T00:00:00",
          "2022-06-14T00:00:00",
          "2022-06-14T00:00:00",
          "2022-06-14T00:00:00",
          "2022-06-14T00:00:00",
          "2022-06-14T00:00:00",
          "2022-06-14T00:00:00",
          "2022-06-14T00:00:00",
          "2022-06-14T00:00:00"
         ],
         "xaxis": "x",
         "y": [
          1,
          2,
          3,
          4,
          5,
          6,
          7,
          8,
          9,
          10,
          11,
          12,
          13,
          14,
          15,
          16,
          17,
          18,
          19,
          20,
          21,
          22,
          23,
          24,
          25,
          26,
          27,
          28,
          29,
          30,
          31,
          32,
          33,
          34,
          35,
          36,
          37,
          38,
          39,
          40,
          41,
          42,
          43,
          44,
          45,
          46,
          47,
          48,
          49,
          50,
          51,
          52,
          53,
          54,
          55,
          56,
          57,
          58,
          59,
          60,
          61,
          62,
          63,
          64,
          65,
          66,
          67,
          68,
          69,
          70,
          71,
          72,
          73,
          74,
          75,
          76,
          77,
          78,
          79,
          80,
          81,
          82,
          83,
          84,
          85,
          86,
          87,
          88,
          89,
          90,
          91,
          92,
          93,
          94,
          95,
          96,
          97,
          98,
          99,
          100,
          101,
          102,
          103,
          104,
          105,
          106,
          107,
          108,
          109,
          110,
          111,
          112,
          113,
          114,
          115,
          116,
          117,
          118,
          119,
          120,
          121,
          122,
          123,
          124,
          125,
          126,
          127,
          128,
          129,
          130,
          131,
          132,
          133,
          134,
          135,
          136,
          137,
          138,
          139,
          140,
          141,
          142,
          143,
          144,
          145,
          146,
          147,
          148,
          149,
          150,
          151,
          152,
          153,
          154,
          155,
          156,
          157,
          158,
          159,
          160,
          161,
          162,
          163,
          164,
          165,
          166,
          167,
          168,
          169,
          170,
          171,
          172,
          173,
          174,
          175,
          176,
          177,
          178,
          179,
          180,
          181,
          182,
          183,
          184,
          185,
          186,
          187,
          188,
          189,
          190,
          191,
          192,
          193,
          194,
          195,
          196,
          197,
          198,
          199,
          200,
          201,
          202,
          203,
          204,
          205,
          206,
          207,
          208,
          209,
          210,
          211,
          212,
          213,
          214,
          215,
          216,
          217,
          218,
          219,
          220,
          221,
          222,
          223,
          224,
          225,
          226,
          227,
          228,
          229,
          230,
          231,
          232,
          233,
          234,
          235,
          236,
          237,
          238,
          239,
          240,
          241,
          242,
          243,
          244,
          245,
          246,
          247,
          248,
          249,
          250,
          251,
          252,
          253,
          254,
          255,
          256,
          257,
          258,
          259,
          260,
          261,
          262,
          263,
          264,
          265,
          266,
          267,
          268,
          269,
          270,
          271,
          272,
          273,
          274,
          275,
          276,
          277,
          278,
          279,
          280,
          281,
          282,
          283,
          284,
          285,
          286,
          287,
          288,
          289,
          290,
          291,
          292,
          293,
          294,
          295,
          296,
          297,
          298,
          299,
          300,
          301,
          302,
          303,
          304,
          305,
          306,
          307,
          308,
          309,
          310,
          311,
          312,
          313
         ],
         "yaxis": "y"
        },
        {
         "hovertemplate": "Country=Sweden<br>Date_confirmation=%{x}<br>sum_case=%{y}<extra></extra>",
         "legendgroup": "Sweden",
         "line": {
          "color": "#00cc96",
          "dash": "solid"
         },
         "marker": {
          "symbol": "circle"
         },
         "mode": "lines",
         "name": "Sweden",
         "showlegend": true,
         "type": "scattergl",
         "x": [
          "2022-05-19T00:00:00",
          "2022-05-25T00:00:00",
          "2022-05-30T00:00:00",
          "2022-05-31T00:00:00",
          "2022-06-02T00:00:00",
          "2022-06-10T00:00:00"
         ],
         "xaxis": "x",
         "y": [
          1,
          2,
          3,
          4,
          5,
          6
         ],
         "yaxis": "y"
        },
        {
         "hovertemplate": "Country=Switzerland<br>Date_confirmation=%{x}<br>sum_case=%{y}<extra></extra>",
         "legendgroup": "Switzerland",
         "line": {
          "color": "#ab63fa",
          "dash": "solid"
         },
         "marker": {
          "symbol": "circle"
         },
         "mode": "lines",
         "name": "Switzerland",
         "showlegend": true,
         "type": "scattergl",
         "x": [
          "2022-05-21T00:00:00",
          "2022-05-24T00:00:00",
          "2022-05-26T00:00:00",
          "2022-05-27T00:00:00",
          "2022-06-02T00:00:00",
          "2022-06-02T00:00:00",
          "2022-06-03T00:00:00",
          "2022-06-03T00:00:00",
          "2022-06-07T00:00:00",
          "2022-06-07T00:00:00",
          "2022-06-08T00:00:00",
          "2022-06-08T00:00:00",
          "2022-06-10T00:00:00",
          "2022-06-10T00:00:00",
          "2022-06-13T00:00:00",
          "2022-06-13T00:00:00",
          "2022-06-13T00:00:00",
          "2022-06-13T00:00:00",
          "2022-06-13T00:00:00",
          "2022-06-14T00:00:00"
         ],
         "xaxis": "x",
         "y": [
          1,
          2,
          3,
          4,
          5,
          6,
          7,
          8,
          9,
          10,
          11,
          12,
          13,
          14,
          15,
          16,
          17,
          18,
          19,
          20
         ],
         "yaxis": "y"
        },
        {
         "hovertemplate": "Country=United Arab Emirates<br>Date_confirmation=%{x}<br>sum_case=%{y}<extra></extra>",
         "legendgroup": "United Arab Emirates",
         "line": {
          "color": "#FFA15A",
          "dash": "solid"
         },
         "marker": {
          "symbol": "circle"
         },
         "mode": "lines",
         "name": "United Arab Emirates",
         "showlegend": true,
         "type": "scattergl",
         "x": [
          "2022-05-24T00:00:00",
          "2022-05-29T00:00:00",
          "2022-05-29T00:00:00",
          "2022-05-29T00:00:00",
          "2022-06-01T00:00:00",
          "2022-06-01T00:00:00",
          "2022-06-01T00:00:00",
          "2022-06-01T00:00:00",
          "2022-06-07T00:00:00",
          "2022-06-07T00:00:00",
          "2022-06-07T00:00:00",
          "2022-06-07T00:00:00",
          "2022-06-07T00:00:00"
         ],
         "xaxis": "x",
         "y": [
          1,
          2,
          3,
          4,
          5,
          6,
          7,
          8,
          9,
          10,
          11,
          12,
          13
         ],
         "yaxis": "y"
        },
        {
         "hovertemplate": "Country=United States<br>Date_confirmation=%{x}<br>sum_case=%{y}<extra></extra>",
         "legendgroup": "United States",
         "line": {
          "color": "#19d3f3",
          "dash": "solid"
         },
         "marker": {
          "symbol": "circle"
         },
         "mode": "lines",
         "name": "United States",
         "showlegend": true,
         "type": "scattergl",
         "x": [
          "2022-05-18T00:00:00",
          "2022-05-20T00:00:00",
          "2022-05-25T00:00:00",
          "2022-05-25T00:00:00",
          "2022-05-26T00:00:00",
          "2022-05-26T00:00:00",
          "2022-05-26T00:00:00",
          "2022-05-26T00:00:00",
          "2022-05-26T00:00:00",
          "2022-05-27T00:00:00",
          "2022-05-27T00:00:00",
          "2022-05-27T00:00:00",
          "2022-05-29T00:00:00",
          "2022-05-29T00:00:00",
          "2022-05-31T00:00:00",
          "2022-05-31T00:00:00",
          "2022-05-31T00:00:00",
          "2022-05-31T00:00:00",
          "2022-05-31T00:00:00",
          "2022-06-02T00:00:00",
          "2022-06-02T00:00:00",
          "2022-06-02T00:00:00",
          "2022-06-02T00:00:00",
          "2022-06-03T00:00:00",
          "2022-06-03T00:00:00",
          "2022-06-03T00:00:00",
          "2022-06-03T00:00:00",
          "2022-06-03T00:00:00",
          "2022-06-06T00:00:00",
          "2022-06-07T00:00:00",
          "2022-06-07T00:00:00",
          "2022-06-07T00:00:00",
          "2022-06-07T00:00:00",
          "2022-06-07T00:00:00",
          "2022-06-07T00:00:00",
          "2022-06-08T00:00:00",
          "2022-06-08T00:00:00",
          "2022-06-08T00:00:00",
          "2022-06-08T00:00:00",
          "2022-06-08T00:00:00",
          "2022-06-09T00:00:00",
          "2022-06-09T00:00:00",
          "2022-06-09T00:00:00",
          "2022-06-09T00:00:00",
          "2022-06-09T00:00:00",
          "2022-06-10T00:00:00",
          "2022-06-10T00:00:00",
          "2022-06-11T00:00:00",
          "2022-06-11T00:00:00",
          "2022-06-13T00:00:00",
          "2022-06-13T00:00:00",
          "2022-06-13T00:00:00",
          "2022-06-13T00:00:00",
          "2022-06-13T00:00:00",
          "2022-06-13T00:00:00",
          "2022-06-13T00:00:00",
          "2022-06-13T00:00:00",
          "2022-06-13T00:00:00",
          "2022-06-13T00:00:00",
          "2022-06-13T00:00:00",
          "2022-06-13T00:00:00",
          "2022-06-13T00:00:00",
          "2022-06-13T00:00:00",
          "2022-06-13T00:00:00",
          "2022-06-13T00:00:00"
         ],
         "xaxis": "x",
         "y": [
          1,
          2,
          3,
          4,
          5,
          6,
          7,
          8,
          9,
          10,
          11,
          12,
          13,
          14,
          15,
          16,
          17,
          18,
          19,
          20,
          21,
          22,
          23,
          24,
          25,
          26,
          27,
          28,
          29,
          30,
          31,
          32,
          33,
          34,
          35,
          36,
          37,
          38,
          39,
          40,
          41,
          42,
          43,
          44,
          45,
          46,
          47,
          48,
          49,
          50,
          51,
          52,
          53,
          54,
          55,
          56,
          57,
          58,
          59,
          60,
          61,
          62,
          63,
          64,
          65
         ],
         "yaxis": "y"
        },
        {
         "hovertemplate": "Country=Venezuela<br>Date_confirmation=%{x}<br>sum_case=%{y}<extra></extra>",
         "legendgroup": "Venezuela",
         "line": {
          "color": "#FF6692",
          "dash": "solid"
         },
         "marker": {
          "symbol": "circle"
         },
         "mode": "lines",
         "name": "Venezuela",
         "showlegend": true,
         "type": "scattergl",
         "x": [
          "2022-06-12T00:00:00"
         ],
         "xaxis": "x",
         "y": [
          1
         ],
         "yaxis": "y"
        },
        {
         "hovertemplate": "Country=Wales<br>Date_confirmation=%{x}<br>sum_case=%{y}<extra></extra>",
         "legendgroup": "Wales",
         "line": {
          "color": "#B6E880",
          "dash": "solid"
         },
         "marker": {
          "symbol": "circle"
         },
         "mode": "lines",
         "name": "Wales",
         "showlegend": true,
         "type": "scattergl",
         "x": [
          "2022-05-26T00:00:00",
          "2022-06-03T00:00:00",
          "2022-06-06T00:00:00",
          "2022-06-09T00:00:00"
         ],
         "xaxis": "x",
         "y": [
          1,
          2,
          3,
          4
         ],
         "yaxis": "y"
        }
       ],
       "layout": {
        "height": 800,
        "legend": {
         "title": {
          "text": "Country"
         },
         "tracegroupgap": 0
        },
        "margin": {
         "t": 60
        },
        "template": {
         "data": {
          "bar": [
           {
            "error_x": {
             "color": "#2a3f5f"
            },
            "error_y": {
             "color": "#2a3f5f"
            },
            "marker": {
             "line": {
              "color": "#E5ECF6",
              "width": 0.5
             },
             "pattern": {
              "fillmode": "overlay",
              "size": 10,
              "solidity": 0.2
             }
            },
            "type": "bar"
           }
          ],
          "barpolar": [
           {
            "marker": {
             "line": {
              "color": "#E5ECF6",
              "width": 0.5
             },
             "pattern": {
              "fillmode": "overlay",
              "size": 10,
              "solidity": 0.2
             }
            },
            "type": "barpolar"
           }
          ],
          "carpet": [
           {
            "aaxis": {
             "endlinecolor": "#2a3f5f",
             "gridcolor": "white",
             "linecolor": "white",
             "minorgridcolor": "white",
             "startlinecolor": "#2a3f5f"
            },
            "baxis": {
             "endlinecolor": "#2a3f5f",
             "gridcolor": "white",
             "linecolor": "white",
             "minorgridcolor": "white",
             "startlinecolor": "#2a3f5f"
            },
            "type": "carpet"
           }
          ],
          "choropleth": [
           {
            "colorbar": {
             "outlinewidth": 0,
             "ticks": ""
            },
            "type": "choropleth"
           }
          ],
          "contour": [
           {
            "colorbar": {
             "outlinewidth": 0,
             "ticks": ""
            },
            "colorscale": [
             [
              0,
              "#0d0887"
             ],
             [
              0.1111111111111111,
              "#46039f"
             ],
             [
              0.2222222222222222,
              "#7201a8"
             ],
             [
              0.3333333333333333,
              "#9c179e"
             ],
             [
              0.4444444444444444,
              "#bd3786"
             ],
             [
              0.5555555555555556,
              "#d8576b"
             ],
             [
              0.6666666666666666,
              "#ed7953"
             ],
             [
              0.7777777777777778,
              "#fb9f3a"
             ],
             [
              0.8888888888888888,
              "#fdca26"
             ],
             [
              1,
              "#f0f921"
             ]
            ],
            "type": "contour"
           }
          ],
          "contourcarpet": [
           {
            "colorbar": {
             "outlinewidth": 0,
             "ticks": ""
            },
            "type": "contourcarpet"
           }
          ],
          "heatmap": [
           {
            "colorbar": {
             "outlinewidth": 0,
             "ticks": ""
            },
            "colorscale": [
             [
              0,
              "#0d0887"
             ],
             [
              0.1111111111111111,
              "#46039f"
             ],
             [
              0.2222222222222222,
              "#7201a8"
             ],
             [
              0.3333333333333333,
              "#9c179e"
             ],
             [
              0.4444444444444444,
              "#bd3786"
             ],
             [
              0.5555555555555556,
              "#d8576b"
             ],
             [
              0.6666666666666666,
              "#ed7953"
             ],
             [
              0.7777777777777778,
              "#fb9f3a"
             ],
             [
              0.8888888888888888,
              "#fdca26"
             ],
             [
              1,
              "#f0f921"
             ]
            ],
            "type": "heatmap"
           }
          ],
          "heatmapgl": [
           {
            "colorbar": {
             "outlinewidth": 0,
             "ticks": ""
            },
            "colorscale": [
             [
              0,
              "#0d0887"
             ],
             [
              0.1111111111111111,
              "#46039f"
             ],
             [
              0.2222222222222222,
              "#7201a8"
             ],
             [
              0.3333333333333333,
              "#9c179e"
             ],
             [
              0.4444444444444444,
              "#bd3786"
             ],
             [
              0.5555555555555556,
              "#d8576b"
             ],
             [
              0.6666666666666666,
              "#ed7953"
             ],
             [
              0.7777777777777778,
              "#fb9f3a"
             ],
             [
              0.8888888888888888,
              "#fdca26"
             ],
             [
              1,
              "#f0f921"
             ]
            ],
            "type": "heatmapgl"
           }
          ],
          "histogram": [
           {
            "marker": {
             "pattern": {
              "fillmode": "overlay",
              "size": 10,
              "solidity": 0.2
             }
            },
            "type": "histogram"
           }
          ],
          "histogram2d": [
           {
            "colorbar": {
             "outlinewidth": 0,
             "ticks": ""
            },
            "colorscale": [
             [
              0,
              "#0d0887"
             ],
             [
              0.1111111111111111,
              "#46039f"
             ],
             [
              0.2222222222222222,
              "#7201a8"
             ],
             [
              0.3333333333333333,
              "#9c179e"
             ],
             [
              0.4444444444444444,
              "#bd3786"
             ],
             [
              0.5555555555555556,
              "#d8576b"
             ],
             [
              0.6666666666666666,
              "#ed7953"
             ],
             [
              0.7777777777777778,
              "#fb9f3a"
             ],
             [
              0.8888888888888888,
              "#fdca26"
             ],
             [
              1,
              "#f0f921"
             ]
            ],
            "type": "histogram2d"
           }
          ],
          "histogram2dcontour": [
           {
            "colorbar": {
             "outlinewidth": 0,
             "ticks": ""
            },
            "colorscale": [
             [
              0,
              "#0d0887"
             ],
             [
              0.1111111111111111,
              "#46039f"
             ],
             [
              0.2222222222222222,
              "#7201a8"
             ],
             [
              0.3333333333333333,
              "#9c179e"
             ],
             [
              0.4444444444444444,
              "#bd3786"
             ],
             [
              0.5555555555555556,
              "#d8576b"
             ],
             [
              0.6666666666666666,
              "#ed7953"
             ],
             [
              0.7777777777777778,
              "#fb9f3a"
             ],
             [
              0.8888888888888888,
              "#fdca26"
             ],
             [
              1,
              "#f0f921"
             ]
            ],
            "type": "histogram2dcontour"
           }
          ],
          "mesh3d": [
           {
            "colorbar": {
             "outlinewidth": 0,
             "ticks": ""
            },
            "type": "mesh3d"
           }
          ],
          "parcoords": [
           {
            "line": {
             "colorbar": {
              "outlinewidth": 0,
              "ticks": ""
             }
            },
            "type": "parcoords"
           }
          ],
          "pie": [
           {
            "automargin": true,
            "type": "pie"
           }
          ],
          "scatter": [
           {
            "fillpattern": {
             "fillmode": "overlay",
             "size": 10,
             "solidity": 0.2
            },
            "type": "scatter"
           }
          ],
          "scatter3d": [
           {
            "line": {
             "colorbar": {
              "outlinewidth": 0,
              "ticks": ""
             }
            },
            "marker": {
             "colorbar": {
              "outlinewidth": 0,
              "ticks": ""
             }
            },
            "type": "scatter3d"
           }
          ],
          "scattercarpet": [
           {
            "marker": {
             "colorbar": {
              "outlinewidth": 0,
              "ticks": ""
             }
            },
            "type": "scattercarpet"
           }
          ],
          "scattergeo": [
           {
            "marker": {
             "colorbar": {
              "outlinewidth": 0,
              "ticks": ""
             }
            },
            "type": "scattergeo"
           }
          ],
          "scattergl": [
           {
            "marker": {
             "colorbar": {
              "outlinewidth": 0,
              "ticks": ""
             }
            },
            "type": "scattergl"
           }
          ],
          "scattermapbox": [
           {
            "marker": {
             "colorbar": {
              "outlinewidth": 0,
              "ticks": ""
             }
            },
            "type": "scattermapbox"
           }
          ],
          "scatterpolar": [
           {
            "marker": {
             "colorbar": {
              "outlinewidth": 0,
              "ticks": ""
             }
            },
            "type": "scatterpolar"
           }
          ],
          "scatterpolargl": [
           {
            "marker": {
             "colorbar": {
              "outlinewidth": 0,
              "ticks": ""
             }
            },
            "type": "scatterpolargl"
           }
          ],
          "scatterternary": [
           {
            "marker": {
             "colorbar": {
              "outlinewidth": 0,
              "ticks": ""
             }
            },
            "type": "scatterternary"
           }
          ],
          "surface": [
           {
            "colorbar": {
             "outlinewidth": 0,
             "ticks": ""
            },
            "colorscale": [
             [
              0,
              "#0d0887"
             ],
             [
              0.1111111111111111,
              "#46039f"
             ],
             [
              0.2222222222222222,
              "#7201a8"
             ],
             [
              0.3333333333333333,
              "#9c179e"
             ],
             [
              0.4444444444444444,
              "#bd3786"
             ],
             [
              0.5555555555555556,
              "#d8576b"
             ],
             [
              0.6666666666666666,
              "#ed7953"
             ],
             [
              0.7777777777777778,
              "#fb9f3a"
             ],
             [
              0.8888888888888888,
              "#fdca26"
             ],
             [
              1,
              "#f0f921"
             ]
            ],
            "type": "surface"
           }
          ],
          "table": [
           {
            "cells": {
             "fill": {
              "color": "#EBF0F8"
             },
             "line": {
              "color": "white"
             }
            },
            "header": {
             "fill": {
              "color": "#C8D4E3"
             },
             "line": {
              "color": "white"
             }
            },
            "type": "table"
           }
          ]
         },
         "layout": {
          "annotationdefaults": {
           "arrowcolor": "#2a3f5f",
           "arrowhead": 0,
           "arrowwidth": 1
          },
          "autotypenumbers": "strict",
          "coloraxis": {
           "colorbar": {
            "outlinewidth": 0,
            "ticks": ""
           }
          },
          "colorscale": {
           "diverging": [
            [
             0,
             "#8e0152"
            ],
            [
             0.1,
             "#c51b7d"
            ],
            [
             0.2,
             "#de77ae"
            ],
            [
             0.3,
             "#f1b6da"
            ],
            [
             0.4,
             "#fde0ef"
            ],
            [
             0.5,
             "#f7f7f7"
            ],
            [
             0.6,
             "#e6f5d0"
            ],
            [
             0.7,
             "#b8e186"
            ],
            [
             0.8,
             "#7fbc41"
            ],
            [
             0.9,
             "#4d9221"
            ],
            [
             1,
             "#276419"
            ]
           ],
           "sequential": [
            [
             0,
             "#0d0887"
            ],
            [
             0.1111111111111111,
             "#46039f"
            ],
            [
             0.2222222222222222,
             "#7201a8"
            ],
            [
             0.3333333333333333,
             "#9c179e"
            ],
            [
             0.4444444444444444,
             "#bd3786"
            ],
            [
             0.5555555555555556,
             "#d8576b"
            ],
            [
             0.6666666666666666,
             "#ed7953"
            ],
            [
             0.7777777777777778,
             "#fb9f3a"
            ],
            [
             0.8888888888888888,
             "#fdca26"
            ],
            [
             1,
             "#f0f921"
            ]
           ],
           "sequentialminus": [
            [
             0,
             "#0d0887"
            ],
            [
             0.1111111111111111,
             "#46039f"
            ],
            [
             0.2222222222222222,
             "#7201a8"
            ],
            [
             0.3333333333333333,
             "#9c179e"
            ],
            [
             0.4444444444444444,
             "#bd3786"
            ],
            [
             0.5555555555555556,
             "#d8576b"
            ],
            [
             0.6666666666666666,
             "#ed7953"
            ],
            [
             0.7777777777777778,
             "#fb9f3a"
            ],
            [
             0.8888888888888888,
             "#fdca26"
            ],
            [
             1,
             "#f0f921"
            ]
           ]
          },
          "colorway": [
           "#636efa",
           "#EF553B",
           "#00cc96",
           "#ab63fa",
           "#FFA15A",
           "#19d3f3",
           "#FF6692",
           "#B6E880",
           "#FF97FF",
           "#FECB52"
          ],
          "font": {
           "color": "#2a3f5f"
          },
          "geo": {
           "bgcolor": "white",
           "lakecolor": "white",
           "landcolor": "#E5ECF6",
           "showlakes": true,
           "showland": true,
           "subunitcolor": "white"
          },
          "hoverlabel": {
           "align": "left"
          },
          "hovermode": "closest",
          "mapbox": {
           "style": "light"
          },
          "paper_bgcolor": "white",
          "plot_bgcolor": "#E5ECF6",
          "polar": {
           "angularaxis": {
            "gridcolor": "white",
            "linecolor": "white",
            "ticks": ""
           },
           "bgcolor": "#E5ECF6",
           "radialaxis": {
            "gridcolor": "white",
            "linecolor": "white",
            "ticks": ""
           }
          },
          "scene": {
           "xaxis": {
            "backgroundcolor": "#E5ECF6",
            "gridcolor": "white",
            "gridwidth": 2,
            "linecolor": "white",
            "showbackground": true,
            "ticks": "",
            "zerolinecolor": "white"
           },
           "yaxis": {
            "backgroundcolor": "#E5ECF6",
            "gridcolor": "white",
            "gridwidth": 2,
            "linecolor": "white",
            "showbackground": true,
            "ticks": "",
            "zerolinecolor": "white"
           },
           "zaxis": {
            "backgroundcolor": "#E5ECF6",
            "gridcolor": "white",
            "gridwidth": 2,
            "linecolor": "white",
            "showbackground": true,
            "ticks": "",
            "zerolinecolor": "white"
           }
          },
          "shapedefaults": {
           "line": {
            "color": "#2a3f5f"
           }
          },
          "ternary": {
           "aaxis": {
            "gridcolor": "white",
            "linecolor": "white",
            "ticks": ""
           },
           "baxis": {
            "gridcolor": "white",
            "linecolor": "white",
            "ticks": ""
           },
           "bgcolor": "#E5ECF6",
           "caxis": {
            "gridcolor": "white",
            "linecolor": "white",
            "ticks": ""
           }
          },
          "title": {
           "x": 0.05
          },
          "xaxis": {
           "automargin": true,
           "gridcolor": "white",
           "linecolor": "white",
           "ticks": "",
           "title": {
            "standoff": 15
           },
           "zerolinecolor": "white",
           "zerolinewidth": 2
          },
          "yaxis": {
           "automargin": true,
           "gridcolor": "white",
           "linecolor": "white",
           "ticks": "",
           "title": {
            "standoff": 15
           },
           "zerolinecolor": "white",
           "zerolinewidth": 2
          }
         }
        },
        "title": {
         "text": "Monkey Pox: 2022-06-16"
        },
        "width": 1920,
        "xaxis": {
         "anchor": "y",
         "domain": [
          0,
          1
         ],
         "title": {
          "text": "Date_confirmation"
         }
        },
        "yaxis": {
         "anchor": "x",
         "domain": [
          0,
          1
         ],
         "title": {
          "text": "sum_case"
         }
        }
       }
      }
     },
     "metadata": {},
     "output_type": "display_data"
    }
   ],
   "source": [
    "fig3 = px.line(sort_df, x='Date_confirmation',y='sum_case', color='Country')\n",
    "\n",
    "fig3.update_layout(\n",
    "    width=1920,\n",
    "    height=800,\n",
    "    title_text=f'Monkey Pox: {date}'\n",
    ")\n",
    "\n",
    "fig3.show()"
   ]
  },
  {
   "cell_type": "code",
   "execution_count": 24,
   "metadata": {},
   "outputs": [
    {
     "data": {
      "application/vnd.plotly.v1+json": {
       "config": {
        "plotlyServerURL": "https://plot.ly"
       },
       "data": [
        {
         "hovertemplate": "Country=England<br>Date_confirmation=%{x}<br>sum_case=%{y}<extra></extra>",
         "legendgroup": "England",
         "line": {
          "color": "#636efa",
          "dash": "solid"
         },
         "marker": {
          "symbol": "circle"
         },
         "mode": "lines",
         "name": "England",
         "orientation": "v",
         "showlegend": true,
         "type": "scatter",
         "x": [
          "2022-05-06T00:00:00",
          "2022-05-12T00:00:00",
          "2022-05-13T00:00:00",
          "2022-05-15T00:00:00",
          "2022-05-15T00:00:00",
          "2022-05-15T00:00:00",
          "2022-05-15T00:00:00",
          "2022-05-18T00:00:00",
          "2022-05-18T00:00:00",
          "2022-05-20T00:00:00",
          "2022-05-20T00:00:00",
          "2022-05-20T00:00:00",
          "2022-05-20T00:00:00",
          "2022-05-20T00:00:00",
          "2022-05-20T00:00:00",
          "2022-05-20T00:00:00",
          "2022-05-20T00:00:00",
          "2022-05-20T00:00:00",
          "2022-05-20T00:00:00",
          "2022-05-20T00:00:00",
          "2022-05-23T00:00:00",
          "2022-05-23T00:00:00",
          "2022-05-23T00:00:00",
          "2022-05-23T00:00:00",
          "2022-05-23T00:00:00",
          "2022-05-23T00:00:00",
          "2022-05-23T00:00:00",
          "2022-05-23T00:00:00",
          "2022-05-23T00:00:00",
          "2022-05-23T00:00:00",
          "2022-05-23T00:00:00",
          "2022-05-23T00:00:00",
          "2022-05-23T00:00:00",
          "2022-05-23T00:00:00",
          "2022-05-23T00:00:00",
          "2022-05-23T00:00:00",
          "2022-05-23T00:00:00",
          "2022-05-23T00:00:00",
          "2022-05-23T00:00:00",
          "2022-05-23T00:00:00",
          "2022-05-23T00:00:00",
          "2022-05-23T00:00:00",
          "2022-05-23T00:00:00",
          "2022-05-23T00:00:00",
          "2022-05-23T00:00:00",
          "2022-05-23T00:00:00",
          "2022-05-23T00:00:00",
          "2022-05-23T00:00:00",
          "2022-05-23T00:00:00",
          "2022-05-23T00:00:00",
          "2022-05-23T00:00:00",
          "2022-05-23T00:00:00",
          "2022-05-23T00:00:00",
          "2022-05-23T00:00:00",
          "2022-05-23T00:00:00",
          "2022-05-23T00:00:00",
          "2022-05-24T00:00:00",
          "2022-05-24T00:00:00",
          "2022-05-24T00:00:00",
          "2022-05-24T00:00:00",
          "2022-05-24T00:00:00",
          "2022-05-24T00:00:00",
          "2022-05-24T00:00:00",
          "2022-05-24T00:00:00",
          "2022-05-24T00:00:00",
          "2022-05-24T00:00:00",
          "2022-05-24T00:00:00",
          "2022-05-24T00:00:00",
          "2022-05-24T00:00:00",
          "2022-05-24T00:00:00",
          "2022-05-25T00:00:00",
          "2022-05-25T00:00:00",
          "2022-05-25T00:00:00",
          "2022-05-25T00:00:00",
          "2022-05-25T00:00:00",
          "2022-05-25T00:00:00",
          "2022-05-25T00:00:00",
          "2022-05-26T00:00:00",
          "2022-05-26T00:00:00",
          "2022-05-26T00:00:00",
          "2022-05-26T00:00:00",
          "2022-05-26T00:00:00",
          "2022-05-26T00:00:00",
          "2022-05-26T00:00:00",
          "2022-05-26T00:00:00",
          "2022-05-26T00:00:00",
          "2022-05-26T00:00:00",
          "2022-05-26T00:00:00",
          "2022-05-26T00:00:00",
          "2022-05-26T00:00:00",
          "2022-05-26T00:00:00",
          "2022-05-26T00:00:00",
          "2022-05-26T00:00:00",
          "2022-05-26T00:00:00",
          "2022-05-26T00:00:00",
          "2022-05-26T00:00:00",
          "2022-05-26T00:00:00",
          "2022-05-26T00:00:00",
          "2022-05-26T00:00:00",
          "2022-05-26T00:00:00",
          "2022-05-26T00:00:00",
          "2022-05-30T00:00:00",
          "2022-05-30T00:00:00",
          "2022-05-30T00:00:00",
          "2022-05-30T00:00:00",
          "2022-05-30T00:00:00",
          "2022-05-30T00:00:00",
          "2022-05-30T00:00:00",
          "2022-05-30T00:00:00",
          "2022-05-30T00:00:00",
          "2022-05-30T00:00:00",
          "2022-05-30T00:00:00",
          "2022-05-30T00:00:00",
          "2022-05-30T00:00:00",
          "2022-05-30T00:00:00",
          "2022-05-30T00:00:00",
          "2022-05-30T00:00:00",
          "2022-05-30T00:00:00",
          "2022-05-30T00:00:00",
          "2022-05-30T00:00:00",
          "2022-05-30T00:00:00",
          "2022-05-30T00:00:00",
          "2022-05-30T00:00:00",
          "2022-05-30T00:00:00",
          "2022-05-30T00:00:00",
          "2022-05-30T00:00:00",
          "2022-05-30T00:00:00",
          "2022-05-30T00:00:00",
          "2022-05-30T00:00:00",
          "2022-05-30T00:00:00",
          "2022-05-30T00:00:00",
          "2022-05-30T00:00:00",
          "2022-05-30T00:00:00",
          "2022-05-30T00:00:00",
          "2022-05-30T00:00:00",
          "2022-05-30T00:00:00",
          "2022-05-30T00:00:00",
          "2022-05-30T00:00:00",
          "2022-05-30T00:00:00",
          "2022-05-30T00:00:00",
          "2022-05-30T00:00:00",
          "2022-05-30T00:00:00",
          "2022-05-30T00:00:00",
          "2022-05-30T00:00:00",
          "2022-05-30T00:00:00",
          "2022-05-30T00:00:00",
          "2022-05-30T00:00:00",
          "2022-05-30T00:00:00",
          "2022-05-30T00:00:00",
          "2022-05-30T00:00:00",
          "2022-05-30T00:00:00",
          "2022-05-30T00:00:00",
          "2022-05-30T00:00:00",
          "2022-05-30T00:00:00",
          "2022-05-30T00:00:00",
          "2022-05-30T00:00:00",
          "2022-05-30T00:00:00",
          "2022-05-30T00:00:00",
          "2022-05-30T00:00:00",
          "2022-05-30T00:00:00",
          "2022-05-30T00:00:00",
          "2022-05-30T00:00:00",
          "2022-05-30T00:00:00",
          "2022-05-30T00:00:00",
          "2022-05-30T00:00:00",
          "2022-05-30T00:00:00",
          "2022-05-30T00:00:00",
          "2022-05-30T00:00:00",
          "2022-05-30T00:00:00",
          "2022-05-30T00:00:00",
          "2022-05-30T00:00:00",
          "2022-05-30T00:00:00",
          "2022-05-31T00:00:00",
          "2022-05-31T00:00:00",
          "2022-05-31T00:00:00",
          "2022-05-31T00:00:00",
          "2022-05-31T00:00:00",
          "2022-05-31T00:00:00",
          "2022-05-31T00:00:00",
          "2022-05-31T00:00:00",
          "2022-05-31T00:00:00",
          "2022-05-31T00:00:00",
          "2022-05-31T00:00:00",
          "2022-06-01T00:00:00",
          "2022-06-01T00:00:00",
          "2022-06-01T00:00:00",
          "2022-06-01T00:00:00",
          "2022-06-01T00:00:00",
          "2022-06-02T00:00:00",
          "2022-06-02T00:00:00",
          "2022-06-02T00:00:00",
          "2022-06-02T00:00:00",
          "2022-06-02T00:00:00",
          "2022-06-02T00:00:00",
          "2022-06-02T00:00:00",
          "2022-06-02T00:00:00",
          "2022-06-02T00:00:00",
          "2022-06-02T00:00:00",
          "2022-06-02T00:00:00",
          "2022-06-03T00:00:00",
          "2022-06-03T00:00:00",
          "2022-06-03T00:00:00",
          "2022-06-03T00:00:00",
          "2022-06-03T00:00:00",
          "2022-06-03T00:00:00",
          "2022-06-03T00:00:00",
          "2022-06-03T00:00:00",
          "2022-06-03T00:00:00",
          "2022-06-03T00:00:00",
          "2022-06-03T00:00:00",
          "2022-06-03T00:00:00",
          "2022-06-03T00:00:00",
          "2022-06-03T00:00:00",
          "2022-06-03T00:00:00",
          "2022-06-06T00:00:00",
          "2022-06-06T00:00:00",
          "2022-06-06T00:00:00",
          "2022-06-06T00:00:00",
          "2022-06-06T00:00:00",
          "2022-06-06T00:00:00",
          "2022-06-06T00:00:00",
          "2022-06-06T00:00:00",
          "2022-06-06T00:00:00",
          "2022-06-06T00:00:00",
          "2022-06-06T00:00:00",
          "2022-06-06T00:00:00",
          "2022-06-06T00:00:00",
          "2022-06-06T00:00:00",
          "2022-06-06T00:00:00",
          "2022-06-06T00:00:00",
          "2022-06-06T00:00:00",
          "2022-06-06T00:00:00",
          "2022-06-06T00:00:00",
          "2022-06-06T00:00:00",
          "2022-06-06T00:00:00",
          "2022-06-06T00:00:00",
          "2022-06-06T00:00:00",
          "2022-06-06T00:00:00",
          "2022-06-06T00:00:00",
          "2022-06-06T00:00:00",
          "2022-06-06T00:00:00",
          "2022-06-06T00:00:00",
          "2022-06-06T00:00:00",
          "2022-06-06T00:00:00",
          "2022-06-06T00:00:00",
          "2022-06-06T00:00:00",
          "2022-06-06T00:00:00",
          "2022-06-06T00:00:00",
          "2022-06-06T00:00:00",
          "2022-06-06T00:00:00",
          "2022-06-06T00:00:00",
          "2022-06-06T00:00:00",
          "2022-06-06T00:00:00",
          "2022-06-06T00:00:00",
          "2022-06-06T00:00:00",
          "2022-06-06T00:00:00",
          "2022-06-06T00:00:00",
          "2022-06-06T00:00:00",
          "2022-06-06T00:00:00",
          "2022-06-06T00:00:00",
          "2022-06-06T00:00:00",
          "2022-06-06T00:00:00",
          "2022-06-06T00:00:00",
          "2022-06-06T00:00:00",
          "2022-06-06T00:00:00",
          "2022-06-06T00:00:00",
          "2022-06-06T00:00:00",
          "2022-06-06T00:00:00",
          "2022-06-06T00:00:00",
          "2022-06-06T00:00:00",
          "2022-06-06T00:00:00",
          "2022-06-06T00:00:00",
          "2022-06-06T00:00:00",
          "2022-06-06T00:00:00",
          "2022-06-06T00:00:00",
          "2022-06-06T00:00:00",
          "2022-06-06T00:00:00",
          "2022-06-06T00:00:00",
          "2022-06-06T00:00:00",
          "2022-06-06T00:00:00",
          "2022-06-06T00:00:00",
          "2022-06-06T00:00:00",
          "2022-06-06T00:00:00",
          "2022-06-06T00:00:00",
          "2022-06-06T00:00:00",
          "2022-06-06T00:00:00",
          "2022-06-06T00:00:00",
          "2022-06-07T00:00:00",
          "2022-06-07T00:00:00",
          "2022-06-07T00:00:00",
          "2022-06-07T00:00:00",
          "2022-06-07T00:00:00",
          "2022-06-07T00:00:00",
          "2022-06-07T00:00:00",
          "2022-06-07T00:00:00",
          "2022-06-07T00:00:00",
          "2022-06-07T00:00:00",
          "2022-06-07T00:00:00",
          "2022-06-07T00:00:00",
          "2022-06-07T00:00:00",
          "2022-06-07T00:00:00",
          "2022-06-07T00:00:00",
          "2022-06-07T00:00:00",
          "2022-06-07T00:00:00",
          "2022-06-07T00:00:00",
          "2022-06-09T00:00:00",
          "2022-06-09T00:00:00",
          "2022-06-09T00:00:00",
          "2022-06-09T00:00:00",
          "2022-06-09T00:00:00",
          "2022-06-09T00:00:00",
          "2022-06-09T00:00:00",
          "2022-06-09T00:00:00",
          "2022-06-09T00:00:00",
          "2022-06-09T00:00:00",
          "2022-06-09T00:00:00",
          "2022-06-09T00:00:00",
          "2022-06-09T00:00:00",
          "2022-06-09T00:00:00",
          "2022-06-09T00:00:00",
          "2022-06-09T00:00:00",
          "2022-06-09T00:00:00",
          "2022-06-09T00:00:00",
          "2022-06-09T00:00:00",
          "2022-06-09T00:00:00",
          "2022-06-09T00:00:00",
          "2022-06-09T00:00:00",
          "2022-06-09T00:00:00",
          "2022-06-09T00:00:00",
          "2022-06-09T00:00:00",
          "2022-06-09T00:00:00",
          "2022-06-09T00:00:00",
          "2022-06-09T00:00:00",
          "2022-06-09T00:00:00",
          "2022-06-09T00:00:00",
          "2022-06-09T00:00:00",
          "2022-06-09T00:00:00",
          "2022-06-09T00:00:00",
          "2022-06-09T00:00:00",
          "2022-06-09T00:00:00",
          "2022-06-09T00:00:00",
          "2022-06-09T00:00:00",
          "2022-06-09T00:00:00",
          "2022-06-09T00:00:00",
          "2022-06-09T00:00:00",
          "2022-06-09T00:00:00",
          "2022-06-09T00:00:00",
          "2022-06-09T00:00:00",
          "2022-06-12T00:00:00",
          "2022-06-12T00:00:00",
          "2022-06-12T00:00:00",
          "2022-06-12T00:00:00",
          "2022-06-12T00:00:00",
          "2022-06-12T00:00:00",
          "2022-06-12T00:00:00",
          "2022-06-12T00:00:00",
          "2022-06-12T00:00:00",
          "2022-06-12T00:00:00",
          "2022-06-12T00:00:00",
          "2022-06-12T00:00:00",
          "2022-06-12T00:00:00",
          "2022-06-12T00:00:00",
          "2022-06-12T00:00:00",
          "2022-06-12T00:00:00",
          "2022-06-12T00:00:00",
          "2022-06-12T00:00:00",
          "2022-06-12T00:00:00",
          "2022-06-12T00:00:00",
          "2022-06-12T00:00:00",
          "2022-06-12T00:00:00",
          "2022-06-12T00:00:00",
          "2022-06-12T00:00:00",
          "2022-06-12T00:00:00",
          "2022-06-12T00:00:00",
          "2022-06-12T00:00:00",
          "2022-06-12T00:00:00",
          "2022-06-12T00:00:00",
          "2022-06-12T00:00:00",
          "2022-06-12T00:00:00",
          "2022-06-12T00:00:00",
          "2022-06-12T00:00:00",
          "2022-06-12T00:00:00",
          "2022-06-12T00:00:00",
          "2022-06-12T00:00:00",
          "2022-06-12T00:00:00",
          "2022-06-12T00:00:00",
          "2022-06-12T00:00:00",
          "2022-06-12T00:00:00",
          "2022-06-12T00:00:00",
          "2022-06-12T00:00:00",
          "2022-06-12T00:00:00",
          "2022-06-12T00:00:00",
          "2022-06-12T00:00:00",
          "2022-06-12T00:00:00",
          "2022-06-12T00:00:00",
          "2022-06-12T00:00:00",
          "2022-06-12T00:00:00",
          "2022-06-12T00:00:00",
          "2022-06-12T00:00:00",
          "2022-06-12T00:00:00",
          "2022-06-12T00:00:00",
          "2022-06-12T00:00:00",
          "2022-06-12T00:00:00",
          "2022-06-12T00:00:00",
          "2022-06-12T00:00:00",
          "2022-06-12T00:00:00",
          "2022-06-12T00:00:00",
          "2022-06-12T00:00:00",
          "2022-06-12T00:00:00",
          "2022-06-12T00:00:00",
          "2022-06-12T00:00:00",
          "2022-06-12T00:00:00",
          "2022-06-12T00:00:00",
          "2022-06-12T00:00:00",
          "2022-06-12T00:00:00",
          "2022-06-12T00:00:00",
          "2022-06-12T00:00:00",
          "2022-06-12T00:00:00",
          "2022-06-12T00:00:00",
          "2022-06-12T00:00:00",
          "2022-06-12T00:00:00",
          "2022-06-12T00:00:00",
          "2022-06-12T00:00:00",
          "2022-06-12T00:00:00",
          "2022-06-12T00:00:00",
          "2022-06-12T00:00:00",
          "2022-06-12T00:00:00",
          "2022-06-12T00:00:00",
          "2022-06-12T00:00:00",
          "2022-06-12T00:00:00",
          "2022-06-12T00:00:00",
          "2022-06-12T00:00:00",
          "2022-06-12T00:00:00",
          "2022-06-12T00:00:00",
          "2022-06-12T00:00:00",
          "2022-06-12T00:00:00",
          "2022-06-12T00:00:00",
          "2022-06-12T00:00:00",
          "2022-06-12T00:00:00",
          "2022-06-12T00:00:00",
          "2022-06-12T00:00:00",
          "2022-06-12T00:00:00",
          "2022-06-12T00:00:00",
          "2022-06-12T00:00:00",
          "2022-06-12T00:00:00",
          "2022-06-12T00:00:00",
          "2022-06-12T00:00:00",
          "2022-06-12T00:00:00",
          "2022-06-12T00:00:00",
          "2022-06-12T00:00:00",
          "2022-06-12T00:00:00",
          "2022-06-12T00:00:00"
         ],
         "xaxis": "x",
         "y": [
          1,
          2,
          3,
          4,
          5,
          6,
          7,
          8,
          9,
          10,
          11,
          12,
          13,
          14,
          15,
          16,
          17,
          18,
          19,
          20,
          21,
          22,
          23,
          24,
          25,
          26,
          27,
          28,
          29,
          30,
          31,
          32,
          33,
          34,
          35,
          36,
          37,
          38,
          39,
          40,
          41,
          42,
          43,
          44,
          45,
          46,
          47,
          48,
          49,
          50,
          51,
          52,
          53,
          54,
          55,
          56,
          57,
          58,
          59,
          60,
          61,
          62,
          63,
          64,
          65,
          66,
          67,
          68,
          69,
          70,
          71,
          72,
          73,
          74,
          75,
          76,
          77,
          78,
          79,
          80,
          81,
          82,
          83,
          84,
          85,
          86,
          87,
          88,
          89,
          90,
          91,
          92,
          93,
          94,
          95,
          96,
          97,
          98,
          99,
          100,
          101,
          102,
          103,
          104,
          105,
          106,
          107,
          108,
          109,
          110,
          111,
          112,
          113,
          114,
          115,
          116,
          117,
          118,
          119,
          120,
          121,
          122,
          123,
          124,
          125,
          126,
          127,
          128,
          129,
          130,
          131,
          132,
          133,
          134,
          135,
          136,
          137,
          138,
          139,
          140,
          141,
          142,
          143,
          144,
          145,
          146,
          147,
          148,
          149,
          150,
          151,
          152,
          153,
          154,
          155,
          156,
          157,
          158,
          159,
          160,
          161,
          162,
          163,
          164,
          165,
          166,
          167,
          168,
          169,
          170,
          171,
          172,
          173,
          174,
          175,
          176,
          177,
          178,
          179,
          180,
          181,
          182,
          183,
          184,
          185,
          186,
          187,
          188,
          189,
          190,
          191,
          192,
          193,
          194,
          195,
          196,
          197,
          198,
          199,
          200,
          201,
          202,
          203,
          204,
          205,
          206,
          207,
          208,
          209,
          210,
          211,
          212,
          213,
          214,
          215,
          216,
          217,
          218,
          219,
          220,
          221,
          222,
          223,
          224,
          225,
          226,
          227,
          228,
          229,
          230,
          231,
          232,
          233,
          234,
          235,
          236,
          237,
          238,
          239,
          240,
          241,
          242,
          243,
          244,
          245,
          246,
          247,
          248,
          249,
          250,
          251,
          252,
          253,
          254,
          255,
          256,
          257,
          258,
          259,
          260,
          261,
          262,
          263,
          264,
          265,
          266,
          267,
          268,
          269,
          270,
          271,
          272,
          273,
          274,
          275,
          276,
          277,
          278,
          279,
          280,
          281,
          282,
          283,
          284,
          285,
          286,
          287,
          288,
          289,
          290,
          291,
          292,
          293,
          294,
          295,
          296,
          297,
          298,
          299,
          300,
          301,
          302,
          303,
          304,
          305,
          306,
          307,
          308,
          309,
          310,
          311,
          312,
          313,
          314,
          315,
          316,
          317,
          318,
          319,
          320,
          321,
          322,
          323,
          324,
          325,
          326,
          327,
          328,
          329,
          330,
          331,
          332,
          333,
          334,
          335,
          336,
          337,
          338,
          339,
          340,
          341,
          342,
          343,
          344,
          345,
          346,
          347,
          348,
          349,
          350,
          351,
          352,
          353,
          354,
          355,
          356,
          357,
          358,
          359,
          360,
          361,
          362,
          363,
          364,
          365,
          366,
          367,
          368,
          369,
          370,
          371,
          372,
          373,
          374,
          375,
          376,
          377,
          378,
          379,
          380,
          381,
          382,
          383,
          384,
          385,
          386,
          387,
          388,
          389,
          390,
          391,
          392,
          393,
          394,
          395,
          396,
          397,
          398,
          399,
          400,
          401,
          402,
          403,
          404,
          405,
          406,
          407,
          408,
          409,
          410,
          411,
          412,
          413,
          414,
          415,
          416,
          417,
          418,
          419,
          420,
          421,
          422,
          423,
          424,
          425,
          426,
          427,
          428,
          429,
          430,
          431,
          432,
          433,
          434,
          435,
          436,
          437,
          438,
          439,
          440,
          441,
          442,
          443,
          444,
          445,
          446,
          447,
          448,
          449,
          450,
          451,
          452
         ],
         "yaxis": "y"
        }
       ],
       "layout": {
        "height": 800,
        "legend": {
         "title": {
          "text": "Country"
         },
         "tracegroupgap": 0
        },
        "margin": {
         "t": 60
        },
        "template": {
         "data": {
          "bar": [
           {
            "error_x": {
             "color": "#2a3f5f"
            },
            "error_y": {
             "color": "#2a3f5f"
            },
            "marker": {
             "line": {
              "color": "#E5ECF6",
              "width": 0.5
             },
             "pattern": {
              "fillmode": "overlay",
              "size": 10,
              "solidity": 0.2
             }
            },
            "type": "bar"
           }
          ],
          "barpolar": [
           {
            "marker": {
             "line": {
              "color": "#E5ECF6",
              "width": 0.5
             },
             "pattern": {
              "fillmode": "overlay",
              "size": 10,
              "solidity": 0.2
             }
            },
            "type": "barpolar"
           }
          ],
          "carpet": [
           {
            "aaxis": {
             "endlinecolor": "#2a3f5f",
             "gridcolor": "white",
             "linecolor": "white",
             "minorgridcolor": "white",
             "startlinecolor": "#2a3f5f"
            },
            "baxis": {
             "endlinecolor": "#2a3f5f",
             "gridcolor": "white",
             "linecolor": "white",
             "minorgridcolor": "white",
             "startlinecolor": "#2a3f5f"
            },
            "type": "carpet"
           }
          ],
          "choropleth": [
           {
            "colorbar": {
             "outlinewidth": 0,
             "ticks": ""
            },
            "type": "choropleth"
           }
          ],
          "contour": [
           {
            "colorbar": {
             "outlinewidth": 0,
             "ticks": ""
            },
            "colorscale": [
             [
              0,
              "#0d0887"
             ],
             [
              0.1111111111111111,
              "#46039f"
             ],
             [
              0.2222222222222222,
              "#7201a8"
             ],
             [
              0.3333333333333333,
              "#9c179e"
             ],
             [
              0.4444444444444444,
              "#bd3786"
             ],
             [
              0.5555555555555556,
              "#d8576b"
             ],
             [
              0.6666666666666666,
              "#ed7953"
             ],
             [
              0.7777777777777778,
              "#fb9f3a"
             ],
             [
              0.8888888888888888,
              "#fdca26"
             ],
             [
              1,
              "#f0f921"
             ]
            ],
            "type": "contour"
           }
          ],
          "contourcarpet": [
           {
            "colorbar": {
             "outlinewidth": 0,
             "ticks": ""
            },
            "type": "contourcarpet"
           }
          ],
          "heatmap": [
           {
            "colorbar": {
             "outlinewidth": 0,
             "ticks": ""
            },
            "colorscale": [
             [
              0,
              "#0d0887"
             ],
             [
              0.1111111111111111,
              "#46039f"
             ],
             [
              0.2222222222222222,
              "#7201a8"
             ],
             [
              0.3333333333333333,
              "#9c179e"
             ],
             [
              0.4444444444444444,
              "#bd3786"
             ],
             [
              0.5555555555555556,
              "#d8576b"
             ],
             [
              0.6666666666666666,
              "#ed7953"
             ],
             [
              0.7777777777777778,
              "#fb9f3a"
             ],
             [
              0.8888888888888888,
              "#fdca26"
             ],
             [
              1,
              "#f0f921"
             ]
            ],
            "type": "heatmap"
           }
          ],
          "heatmapgl": [
           {
            "colorbar": {
             "outlinewidth": 0,
             "ticks": ""
            },
            "colorscale": [
             [
              0,
              "#0d0887"
             ],
             [
              0.1111111111111111,
              "#46039f"
             ],
             [
              0.2222222222222222,
              "#7201a8"
             ],
             [
              0.3333333333333333,
              "#9c179e"
             ],
             [
              0.4444444444444444,
              "#bd3786"
             ],
             [
              0.5555555555555556,
              "#d8576b"
             ],
             [
              0.6666666666666666,
              "#ed7953"
             ],
             [
              0.7777777777777778,
              "#fb9f3a"
             ],
             [
              0.8888888888888888,
              "#fdca26"
             ],
             [
              1,
              "#f0f921"
             ]
            ],
            "type": "heatmapgl"
           }
          ],
          "histogram": [
           {
            "marker": {
             "pattern": {
              "fillmode": "overlay",
              "size": 10,
              "solidity": 0.2
             }
            },
            "type": "histogram"
           }
          ],
          "histogram2d": [
           {
            "colorbar": {
             "outlinewidth": 0,
             "ticks": ""
            },
            "colorscale": [
             [
              0,
              "#0d0887"
             ],
             [
              0.1111111111111111,
              "#46039f"
             ],
             [
              0.2222222222222222,
              "#7201a8"
             ],
             [
              0.3333333333333333,
              "#9c179e"
             ],
             [
              0.4444444444444444,
              "#bd3786"
             ],
             [
              0.5555555555555556,
              "#d8576b"
             ],
             [
              0.6666666666666666,
              "#ed7953"
             ],
             [
              0.7777777777777778,
              "#fb9f3a"
             ],
             [
              0.8888888888888888,
              "#fdca26"
             ],
             [
              1,
              "#f0f921"
             ]
            ],
            "type": "histogram2d"
           }
          ],
          "histogram2dcontour": [
           {
            "colorbar": {
             "outlinewidth": 0,
             "ticks": ""
            },
            "colorscale": [
             [
              0,
              "#0d0887"
             ],
             [
              0.1111111111111111,
              "#46039f"
             ],
             [
              0.2222222222222222,
              "#7201a8"
             ],
             [
              0.3333333333333333,
              "#9c179e"
             ],
             [
              0.4444444444444444,
              "#bd3786"
             ],
             [
              0.5555555555555556,
              "#d8576b"
             ],
             [
              0.6666666666666666,
              "#ed7953"
             ],
             [
              0.7777777777777778,
              "#fb9f3a"
             ],
             [
              0.8888888888888888,
              "#fdca26"
             ],
             [
              1,
              "#f0f921"
             ]
            ],
            "type": "histogram2dcontour"
           }
          ],
          "mesh3d": [
           {
            "colorbar": {
             "outlinewidth": 0,
             "ticks": ""
            },
            "type": "mesh3d"
           }
          ],
          "parcoords": [
           {
            "line": {
             "colorbar": {
              "outlinewidth": 0,
              "ticks": ""
             }
            },
            "type": "parcoords"
           }
          ],
          "pie": [
           {
            "automargin": true,
            "type": "pie"
           }
          ],
          "scatter": [
           {
            "fillpattern": {
             "fillmode": "overlay",
             "size": 10,
             "solidity": 0.2
            },
            "type": "scatter"
           }
          ],
          "scatter3d": [
           {
            "line": {
             "colorbar": {
              "outlinewidth": 0,
              "ticks": ""
             }
            },
            "marker": {
             "colorbar": {
              "outlinewidth": 0,
              "ticks": ""
             }
            },
            "type": "scatter3d"
           }
          ],
          "scattercarpet": [
           {
            "marker": {
             "colorbar": {
              "outlinewidth": 0,
              "ticks": ""
             }
            },
            "type": "scattercarpet"
           }
          ],
          "scattergeo": [
           {
            "marker": {
             "colorbar": {
              "outlinewidth": 0,
              "ticks": ""
             }
            },
            "type": "scattergeo"
           }
          ],
          "scattergl": [
           {
            "marker": {
             "colorbar": {
              "outlinewidth": 0,
              "ticks": ""
             }
            },
            "type": "scattergl"
           }
          ],
          "scattermapbox": [
           {
            "marker": {
             "colorbar": {
              "outlinewidth": 0,
              "ticks": ""
             }
            },
            "type": "scattermapbox"
           }
          ],
          "scatterpolar": [
           {
            "marker": {
             "colorbar": {
              "outlinewidth": 0,
              "ticks": ""
             }
            },
            "type": "scatterpolar"
           }
          ],
          "scatterpolargl": [
           {
            "marker": {
             "colorbar": {
              "outlinewidth": 0,
              "ticks": ""
             }
            },
            "type": "scatterpolargl"
           }
          ],
          "scatterternary": [
           {
            "marker": {
             "colorbar": {
              "outlinewidth": 0,
              "ticks": ""
             }
            },
            "type": "scatterternary"
           }
          ],
          "surface": [
           {
            "colorbar": {
             "outlinewidth": 0,
             "ticks": ""
            },
            "colorscale": [
             [
              0,
              "#0d0887"
             ],
             [
              0.1111111111111111,
              "#46039f"
             ],
             [
              0.2222222222222222,
              "#7201a8"
             ],
             [
              0.3333333333333333,
              "#9c179e"
             ],
             [
              0.4444444444444444,
              "#bd3786"
             ],
             [
              0.5555555555555556,
              "#d8576b"
             ],
             [
              0.6666666666666666,
              "#ed7953"
             ],
             [
              0.7777777777777778,
              "#fb9f3a"
             ],
             [
              0.8888888888888888,
              "#fdca26"
             ],
             [
              1,
              "#f0f921"
             ]
            ],
            "type": "surface"
           }
          ],
          "table": [
           {
            "cells": {
             "fill": {
              "color": "#EBF0F8"
             },
             "line": {
              "color": "white"
             }
            },
            "header": {
             "fill": {
              "color": "#C8D4E3"
             },
             "line": {
              "color": "white"
             }
            },
            "type": "table"
           }
          ]
         },
         "layout": {
          "annotationdefaults": {
           "arrowcolor": "#2a3f5f",
           "arrowhead": 0,
           "arrowwidth": 1
          },
          "autotypenumbers": "strict",
          "coloraxis": {
           "colorbar": {
            "outlinewidth": 0,
            "ticks": ""
           }
          },
          "colorscale": {
           "diverging": [
            [
             0,
             "#8e0152"
            ],
            [
             0.1,
             "#c51b7d"
            ],
            [
             0.2,
             "#de77ae"
            ],
            [
             0.3,
             "#f1b6da"
            ],
            [
             0.4,
             "#fde0ef"
            ],
            [
             0.5,
             "#f7f7f7"
            ],
            [
             0.6,
             "#e6f5d0"
            ],
            [
             0.7,
             "#b8e186"
            ],
            [
             0.8,
             "#7fbc41"
            ],
            [
             0.9,
             "#4d9221"
            ],
            [
             1,
             "#276419"
            ]
           ],
           "sequential": [
            [
             0,
             "#0d0887"
            ],
            [
             0.1111111111111111,
             "#46039f"
            ],
            [
             0.2222222222222222,
             "#7201a8"
            ],
            [
             0.3333333333333333,
             "#9c179e"
            ],
            [
             0.4444444444444444,
             "#bd3786"
            ],
            [
             0.5555555555555556,
             "#d8576b"
            ],
            [
             0.6666666666666666,
             "#ed7953"
            ],
            [
             0.7777777777777778,
             "#fb9f3a"
            ],
            [
             0.8888888888888888,
             "#fdca26"
            ],
            [
             1,
             "#f0f921"
            ]
           ],
           "sequentialminus": [
            [
             0,
             "#0d0887"
            ],
            [
             0.1111111111111111,
             "#46039f"
            ],
            [
             0.2222222222222222,
             "#7201a8"
            ],
            [
             0.3333333333333333,
             "#9c179e"
            ],
            [
             0.4444444444444444,
             "#bd3786"
            ],
            [
             0.5555555555555556,
             "#d8576b"
            ],
            [
             0.6666666666666666,
             "#ed7953"
            ],
            [
             0.7777777777777778,
             "#fb9f3a"
            ],
            [
             0.8888888888888888,
             "#fdca26"
            ],
            [
             1,
             "#f0f921"
            ]
           ]
          },
          "colorway": [
           "#636efa",
           "#EF553B",
           "#00cc96",
           "#ab63fa",
           "#FFA15A",
           "#19d3f3",
           "#FF6692",
           "#B6E880",
           "#FF97FF",
           "#FECB52"
          ],
          "font": {
           "color": "#2a3f5f"
          },
          "geo": {
           "bgcolor": "white",
           "lakecolor": "white",
           "landcolor": "#E5ECF6",
           "showlakes": true,
           "showland": true,
           "subunitcolor": "white"
          },
          "hoverlabel": {
           "align": "left"
          },
          "hovermode": "closest",
          "mapbox": {
           "style": "light"
          },
          "paper_bgcolor": "white",
          "plot_bgcolor": "#E5ECF6",
          "polar": {
           "angularaxis": {
            "gridcolor": "white",
            "linecolor": "white",
            "ticks": ""
           },
           "bgcolor": "#E5ECF6",
           "radialaxis": {
            "gridcolor": "white",
            "linecolor": "white",
            "ticks": ""
           }
          },
          "scene": {
           "xaxis": {
            "backgroundcolor": "#E5ECF6",
            "gridcolor": "white",
            "gridwidth": 2,
            "linecolor": "white",
            "showbackground": true,
            "ticks": "",
            "zerolinecolor": "white"
           },
           "yaxis": {
            "backgroundcolor": "#E5ECF6",
            "gridcolor": "white",
            "gridwidth": 2,
            "linecolor": "white",
            "showbackground": true,
            "ticks": "",
            "zerolinecolor": "white"
           },
           "zaxis": {
            "backgroundcolor": "#E5ECF6",
            "gridcolor": "white",
            "gridwidth": 2,
            "linecolor": "white",
            "showbackground": true,
            "ticks": "",
            "zerolinecolor": "white"
           }
          },
          "shapedefaults": {
           "line": {
            "color": "#2a3f5f"
           }
          },
          "ternary": {
           "aaxis": {
            "gridcolor": "white",
            "linecolor": "white",
            "ticks": ""
           },
           "baxis": {
            "gridcolor": "white",
            "linecolor": "white",
            "ticks": ""
           },
           "bgcolor": "#E5ECF6",
           "caxis": {
            "gridcolor": "white",
            "linecolor": "white",
            "ticks": ""
           }
          },
          "title": {
           "x": 0.05
          },
          "xaxis": {
           "automargin": true,
           "gridcolor": "white",
           "linecolor": "white",
           "ticks": "",
           "title": {
            "standoff": 15
           },
           "zerolinecolor": "white",
           "zerolinewidth": 2
          },
          "yaxis": {
           "automargin": true,
           "gridcolor": "white",
           "linecolor": "white",
           "ticks": "",
           "title": {
            "standoff": 15
           },
           "zerolinecolor": "white",
           "zerolinewidth": 2
          }
         }
        },
        "title": {
         "text": "Monkey Pox UK: 2022-06-16"
        },
        "width": 1920,
        "xaxis": {
         "anchor": "y",
         "domain": [
          0,
          1
         ],
         "title": {
          "text": "Date_confirmation"
         }
        },
        "yaxis": {
         "anchor": "x",
         "domain": [
          0,
          1
         ],
         "title": {
          "text": "sum_case"
         }
        }
       }
      }
     },
     "metadata": {},
     "output_type": "display_data"
    }
   ],
   "source": [
    "fig4 = px.line(sort_df[sort_df['Country'] == 'England'], x='Date_confirmation',y='sum_case', color='Country')\n",
    "\n",
    "fig4.update_layout(\n",
    "    width=1920,\n",
    "    height=800,\n",
    "    title_text=f'Monkey Pox UK: {date}'\n",
    ")\n",
    "fig4.show()"
   ]
  },
  {
   "cell_type": "code",
   "execution_count": 25,
   "metadata": {},
   "outputs": [
    {
     "data": {
      "application/vnd.plotly.v1+json": {
       "config": {
        "plotlyServerURL": "https://plot.ly"
       },
       "data": [
        {
         "hovertemplate": "Country=%{x}<br>Symptoms=%{text}<extra></extra>",
         "legendgroup": "",
         "marker": {
          "color": "#636efa",
          "symbol": "circle"
         },
         "mode": "markers+text",
         "name": "",
         "orientation": "v",
         "showlegend": false,
         "text": [
          "genital ulcer lesions",
          "genital ulcers",
          "ulcerative lesions",
          "fever",
          "oral",
          "vesicular rash",
          "skin lesions",
          "skin lesions",
          "fever",
          "skin lesions",
          "rash",
          "fever",
          "perianal papules",
          "myalgia",
          "muscle pain",
          "pustule-like lesions",
          "muscle pain",
          "rash",
          "pustules",
          "lesions",
          "rash",
          "skin lesions",
          "skin lesions",
          "skin rashes",
          "slight swallowing difficulties",
          "ulcerative lesions",
          "vasicular rashes",
          "muscle pain",
          "an elevated temperature",
          "lesions",
          "inguinal adenopathy",
          "blisters",
          "blisters",
          "chills",
          "chills",
          "cough",
          "cough",
          "enlarged lymph nodes",
          "fatigue",
          "fever",
          "fever",
          "fever",
          "fever",
          "fever",
          "fever",
          "genital rash",
          "headache",
          "headache",
          "headaches",
          "back pain",
          "high fever"
         ],
         "textposition": "bottom center",
         "type": "scatter",
         "x": [
          "Canada",
          "Canada",
          "Portugal",
          "Canada",
          "Canada",
          "England",
          "Portugal",
          "Italy",
          "Germany",
          "Brazil",
          "England",
          "Brazil",
          "Belgium",
          "Brazil",
          "United States",
          "United States",
          "Norway",
          "Norway",
          "Argentina",
          "Italy",
          "Switzerland",
          "Czech Republic",
          "Germany",
          "Germany",
          "Germany",
          "Argentina",
          "Argentina",
          "Argentina",
          "Germany",
          "Austria",
          "Belgium",
          "Finland",
          "Italy",
          "Czech Republic",
          "United States",
          "Germany",
          "United States",
          "Brazil",
          "Czech Republic",
          "Argentina",
          "Austria",
          "Czech Republic",
          "Italy",
          "Norway",
          "Switzerland",
          "Australia",
          "Argentina",
          "Czech Republic",
          "Brazil",
          "Argentina",
          "Finland"
         ],
         "xaxis": "x",
         "y": [
          "genital ulcer lesions",
          "genital ulcers",
          "ulcerative lesions",
          "fever",
          "oral",
          "vesicular rash",
          "skin lesions",
          "skin lesions",
          "fever",
          "skin lesions",
          "rash",
          "fever",
          "perianal papules",
          "myalgia",
          "muscle pain",
          "pustule-like lesions",
          "muscle pain",
          "rash",
          "pustules",
          "lesions",
          "rash",
          "skin lesions",
          "skin lesions",
          "skin rashes",
          "slight swallowing difficulties",
          "ulcerative lesions",
          "vasicular rashes",
          "muscle pain",
          "an elevated temperature",
          "lesions",
          "inguinal adenopathy",
          "blisters",
          "blisters",
          "chills",
          "chills",
          "cough",
          "cough",
          "enlarged lymph nodes",
          "fatigue",
          "fever",
          "fever",
          "fever",
          "fever",
          "fever",
          "fever",
          "genital rash",
          "headache",
          "headache",
          "headaches",
          "back pain",
          "high fever"
         ],
         "yaxis": "y"
        }
       ],
       "layout": {
        "height": 550,
        "legend": {
         "tracegroupgap": 0
        },
        "margin": {
         "t": 60
        },
        "template": {
         "data": {
          "bar": [
           {
            "error_x": {
             "color": "#2a3f5f"
            },
            "error_y": {
             "color": "#2a3f5f"
            },
            "marker": {
             "line": {
              "color": "#E5ECF6",
              "width": 0.5
             },
             "pattern": {
              "fillmode": "overlay",
              "size": 10,
              "solidity": 0.2
             }
            },
            "type": "bar"
           }
          ],
          "barpolar": [
           {
            "marker": {
             "line": {
              "color": "#E5ECF6",
              "width": 0.5
             },
             "pattern": {
              "fillmode": "overlay",
              "size": 10,
              "solidity": 0.2
             }
            },
            "type": "barpolar"
           }
          ],
          "carpet": [
           {
            "aaxis": {
             "endlinecolor": "#2a3f5f",
             "gridcolor": "white",
             "linecolor": "white",
             "minorgridcolor": "white",
             "startlinecolor": "#2a3f5f"
            },
            "baxis": {
             "endlinecolor": "#2a3f5f",
             "gridcolor": "white",
             "linecolor": "white",
             "minorgridcolor": "white",
             "startlinecolor": "#2a3f5f"
            },
            "type": "carpet"
           }
          ],
          "choropleth": [
           {
            "colorbar": {
             "outlinewidth": 0,
             "ticks": ""
            },
            "type": "choropleth"
           }
          ],
          "contour": [
           {
            "colorbar": {
             "outlinewidth": 0,
             "ticks": ""
            },
            "colorscale": [
             [
              0,
              "#0d0887"
             ],
             [
              0.1111111111111111,
              "#46039f"
             ],
             [
              0.2222222222222222,
              "#7201a8"
             ],
             [
              0.3333333333333333,
              "#9c179e"
             ],
             [
              0.4444444444444444,
              "#bd3786"
             ],
             [
              0.5555555555555556,
              "#d8576b"
             ],
             [
              0.6666666666666666,
              "#ed7953"
             ],
             [
              0.7777777777777778,
              "#fb9f3a"
             ],
             [
              0.8888888888888888,
              "#fdca26"
             ],
             [
              1,
              "#f0f921"
             ]
            ],
            "type": "contour"
           }
          ],
          "contourcarpet": [
           {
            "colorbar": {
             "outlinewidth": 0,
             "ticks": ""
            },
            "type": "contourcarpet"
           }
          ],
          "heatmap": [
           {
            "colorbar": {
             "outlinewidth": 0,
             "ticks": ""
            },
            "colorscale": [
             [
              0,
              "#0d0887"
             ],
             [
              0.1111111111111111,
              "#46039f"
             ],
             [
              0.2222222222222222,
              "#7201a8"
             ],
             [
              0.3333333333333333,
              "#9c179e"
             ],
             [
              0.4444444444444444,
              "#bd3786"
             ],
             [
              0.5555555555555556,
              "#d8576b"
             ],
             [
              0.6666666666666666,
              "#ed7953"
             ],
             [
              0.7777777777777778,
              "#fb9f3a"
             ],
             [
              0.8888888888888888,
              "#fdca26"
             ],
             [
              1,
              "#f0f921"
             ]
            ],
            "type": "heatmap"
           }
          ],
          "heatmapgl": [
           {
            "colorbar": {
             "outlinewidth": 0,
             "ticks": ""
            },
            "colorscale": [
             [
              0,
              "#0d0887"
             ],
             [
              0.1111111111111111,
              "#46039f"
             ],
             [
              0.2222222222222222,
              "#7201a8"
             ],
             [
              0.3333333333333333,
              "#9c179e"
             ],
             [
              0.4444444444444444,
              "#bd3786"
             ],
             [
              0.5555555555555556,
              "#d8576b"
             ],
             [
              0.6666666666666666,
              "#ed7953"
             ],
             [
              0.7777777777777778,
              "#fb9f3a"
             ],
             [
              0.8888888888888888,
              "#fdca26"
             ],
             [
              1,
              "#f0f921"
             ]
            ],
            "type": "heatmapgl"
           }
          ],
          "histogram": [
           {
            "marker": {
             "pattern": {
              "fillmode": "overlay",
              "size": 10,
              "solidity": 0.2
             }
            },
            "type": "histogram"
           }
          ],
          "histogram2d": [
           {
            "colorbar": {
             "outlinewidth": 0,
             "ticks": ""
            },
            "colorscale": [
             [
              0,
              "#0d0887"
             ],
             [
              0.1111111111111111,
              "#46039f"
             ],
             [
              0.2222222222222222,
              "#7201a8"
             ],
             [
              0.3333333333333333,
              "#9c179e"
             ],
             [
              0.4444444444444444,
              "#bd3786"
             ],
             [
              0.5555555555555556,
              "#d8576b"
             ],
             [
              0.6666666666666666,
              "#ed7953"
             ],
             [
              0.7777777777777778,
              "#fb9f3a"
             ],
             [
              0.8888888888888888,
              "#fdca26"
             ],
             [
              1,
              "#f0f921"
             ]
            ],
            "type": "histogram2d"
           }
          ],
          "histogram2dcontour": [
           {
            "colorbar": {
             "outlinewidth": 0,
             "ticks": ""
            },
            "colorscale": [
             [
              0,
              "#0d0887"
             ],
             [
              0.1111111111111111,
              "#46039f"
             ],
             [
              0.2222222222222222,
              "#7201a8"
             ],
             [
              0.3333333333333333,
              "#9c179e"
             ],
             [
              0.4444444444444444,
              "#bd3786"
             ],
             [
              0.5555555555555556,
              "#d8576b"
             ],
             [
              0.6666666666666666,
              "#ed7953"
             ],
             [
              0.7777777777777778,
              "#fb9f3a"
             ],
             [
              0.8888888888888888,
              "#fdca26"
             ],
             [
              1,
              "#f0f921"
             ]
            ],
            "type": "histogram2dcontour"
           }
          ],
          "mesh3d": [
           {
            "colorbar": {
             "outlinewidth": 0,
             "ticks": ""
            },
            "type": "mesh3d"
           }
          ],
          "parcoords": [
           {
            "line": {
             "colorbar": {
              "outlinewidth": 0,
              "ticks": ""
             }
            },
            "type": "parcoords"
           }
          ],
          "pie": [
           {
            "automargin": true,
            "type": "pie"
           }
          ],
          "scatter": [
           {
            "fillpattern": {
             "fillmode": "overlay",
             "size": 10,
             "solidity": 0.2
            },
            "type": "scatter"
           }
          ],
          "scatter3d": [
           {
            "line": {
             "colorbar": {
              "outlinewidth": 0,
              "ticks": ""
             }
            },
            "marker": {
             "colorbar": {
              "outlinewidth": 0,
              "ticks": ""
             }
            },
            "type": "scatter3d"
           }
          ],
          "scattercarpet": [
           {
            "marker": {
             "colorbar": {
              "outlinewidth": 0,
              "ticks": ""
             }
            },
            "type": "scattercarpet"
           }
          ],
          "scattergeo": [
           {
            "marker": {
             "colorbar": {
              "outlinewidth": 0,
              "ticks": ""
             }
            },
            "type": "scattergeo"
           }
          ],
          "scattergl": [
           {
            "marker": {
             "colorbar": {
              "outlinewidth": 0,
              "ticks": ""
             }
            },
            "type": "scattergl"
           }
          ],
          "scattermapbox": [
           {
            "marker": {
             "colorbar": {
              "outlinewidth": 0,
              "ticks": ""
             }
            },
            "type": "scattermapbox"
           }
          ],
          "scatterpolar": [
           {
            "marker": {
             "colorbar": {
              "outlinewidth": 0,
              "ticks": ""
             }
            },
            "type": "scatterpolar"
           }
          ],
          "scatterpolargl": [
           {
            "marker": {
             "colorbar": {
              "outlinewidth": 0,
              "ticks": ""
             }
            },
            "type": "scatterpolargl"
           }
          ],
          "scatterternary": [
           {
            "marker": {
             "colorbar": {
              "outlinewidth": 0,
              "ticks": ""
             }
            },
            "type": "scatterternary"
           }
          ],
          "surface": [
           {
            "colorbar": {
             "outlinewidth": 0,
             "ticks": ""
            },
            "colorscale": [
             [
              0,
              "#0d0887"
             ],
             [
              0.1111111111111111,
              "#46039f"
             ],
             [
              0.2222222222222222,
              "#7201a8"
             ],
             [
              0.3333333333333333,
              "#9c179e"
             ],
             [
              0.4444444444444444,
              "#bd3786"
             ],
             [
              0.5555555555555556,
              "#d8576b"
             ],
             [
              0.6666666666666666,
              "#ed7953"
             ],
             [
              0.7777777777777778,
              "#fb9f3a"
             ],
             [
              0.8888888888888888,
              "#fdca26"
             ],
             [
              1,
              "#f0f921"
             ]
            ],
            "type": "surface"
           }
          ],
          "table": [
           {
            "cells": {
             "fill": {
              "color": "#EBF0F8"
             },
             "line": {
              "color": "white"
             }
            },
            "header": {
             "fill": {
              "color": "#C8D4E3"
             },
             "line": {
              "color": "white"
             }
            },
            "type": "table"
           }
          ]
         },
         "layout": {
          "annotationdefaults": {
           "arrowcolor": "#2a3f5f",
           "arrowhead": 0,
           "arrowwidth": 1
          },
          "autotypenumbers": "strict",
          "coloraxis": {
           "colorbar": {
            "outlinewidth": 0,
            "ticks": ""
           }
          },
          "colorscale": {
           "diverging": [
            [
             0,
             "#8e0152"
            ],
            [
             0.1,
             "#c51b7d"
            ],
            [
             0.2,
             "#de77ae"
            ],
            [
             0.3,
             "#f1b6da"
            ],
            [
             0.4,
             "#fde0ef"
            ],
            [
             0.5,
             "#f7f7f7"
            ],
            [
             0.6,
             "#e6f5d0"
            ],
            [
             0.7,
             "#b8e186"
            ],
            [
             0.8,
             "#7fbc41"
            ],
            [
             0.9,
             "#4d9221"
            ],
            [
             1,
             "#276419"
            ]
           ],
           "sequential": [
            [
             0,
             "#0d0887"
            ],
            [
             0.1111111111111111,
             "#46039f"
            ],
            [
             0.2222222222222222,
             "#7201a8"
            ],
            [
             0.3333333333333333,
             "#9c179e"
            ],
            [
             0.4444444444444444,
             "#bd3786"
            ],
            [
             0.5555555555555556,
             "#d8576b"
            ],
            [
             0.6666666666666666,
             "#ed7953"
            ],
            [
             0.7777777777777778,
             "#fb9f3a"
            ],
            [
             0.8888888888888888,
             "#fdca26"
            ],
            [
             1,
             "#f0f921"
            ]
           ],
           "sequentialminus": [
            [
             0,
             "#0d0887"
            ],
            [
             0.1111111111111111,
             "#46039f"
            ],
            [
             0.2222222222222222,
             "#7201a8"
            ],
            [
             0.3333333333333333,
             "#9c179e"
            ],
            [
             0.4444444444444444,
             "#bd3786"
            ],
            [
             0.5555555555555556,
             "#d8576b"
            ],
            [
             0.6666666666666666,
             "#ed7953"
            ],
            [
             0.7777777777777778,
             "#fb9f3a"
            ],
            [
             0.8888888888888888,
             "#fdca26"
            ],
            [
             1,
             "#f0f921"
            ]
           ]
          },
          "colorway": [
           "#636efa",
           "#EF553B",
           "#00cc96",
           "#ab63fa",
           "#FFA15A",
           "#19d3f3",
           "#FF6692",
           "#B6E880",
           "#FF97FF",
           "#FECB52"
          ],
          "font": {
           "color": "#2a3f5f"
          },
          "geo": {
           "bgcolor": "white",
           "lakecolor": "white",
           "landcolor": "#E5ECF6",
           "showlakes": true,
           "showland": true,
           "subunitcolor": "white"
          },
          "hoverlabel": {
           "align": "left"
          },
          "hovermode": "closest",
          "mapbox": {
           "style": "light"
          },
          "paper_bgcolor": "white",
          "plot_bgcolor": "#E5ECF6",
          "polar": {
           "angularaxis": {
            "gridcolor": "white",
            "linecolor": "white",
            "ticks": ""
           },
           "bgcolor": "#E5ECF6",
           "radialaxis": {
            "gridcolor": "white",
            "linecolor": "white",
            "ticks": ""
           }
          },
          "scene": {
           "xaxis": {
            "backgroundcolor": "#E5ECF6",
            "gridcolor": "white",
            "gridwidth": 2,
            "linecolor": "white",
            "showbackground": true,
            "ticks": "",
            "zerolinecolor": "white"
           },
           "yaxis": {
            "backgroundcolor": "#E5ECF6",
            "gridcolor": "white",
            "gridwidth": 2,
            "linecolor": "white",
            "showbackground": true,
            "ticks": "",
            "zerolinecolor": "white"
           },
           "zaxis": {
            "backgroundcolor": "#E5ECF6",
            "gridcolor": "white",
            "gridwidth": 2,
            "linecolor": "white",
            "showbackground": true,
            "ticks": "",
            "zerolinecolor": "white"
           }
          },
          "shapedefaults": {
           "line": {
            "color": "#2a3f5f"
           }
          },
          "ternary": {
           "aaxis": {
            "gridcolor": "white",
            "linecolor": "white",
            "ticks": ""
           },
           "baxis": {
            "gridcolor": "white",
            "linecolor": "white",
            "ticks": ""
           },
           "bgcolor": "#E5ECF6",
           "caxis": {
            "gridcolor": "white",
            "linecolor": "white",
            "ticks": ""
           }
          },
          "title": {
           "x": 0.05
          },
          "xaxis": {
           "automargin": true,
           "gridcolor": "white",
           "linecolor": "white",
           "ticks": "",
           "title": {
            "standoff": 15
           },
           "zerolinecolor": "white",
           "zerolinewidth": 2
          },
          "yaxis": {
           "automargin": true,
           "gridcolor": "white",
           "linecolor": "white",
           "ticks": "",
           "title": {
            "standoff": 15
           },
           "zerolinecolor": "white",
           "zerolinewidth": 2
          }
         }
        },
        "title": {
         "text": "Monkey Pox Symptoms Per Country: 2022-06-16"
        },
        "width": 1920,
        "xaxis": {
         "anchor": "y",
         "domain": [
          0,
          1
         ],
         "title": {
          "text": "Country"
         }
        },
        "yaxis": {
         "anchor": "x",
         "domain": [
          0,
          1
         ],
         "title": {
          "text": "Symptoms"
         }
        }
       }
      }
     },
     "metadata": {},
     "output_type": "display_data"
    }
   ],
   "source": [
    "fig5 = px.scatter(count_sym_df.sort_values('Symptoms_count', ascending=False), x='Country', y='Symptoms', text='Symptoms')\n",
    "\n",
    "fig5.update_traces(textposition='bottom center')\n",
    "\n",
    "fig5.update_layout(\n",
    "    width=1920,\n",
    "    height=550,\n",
    "    title_text=f'Monkey Pox Symptoms Per Country: {date}'\n",
    ")\n",
    "\n",
    "fig5.show()"
   ]
  },
  {
   "cell_type": "code",
   "execution_count": 26,
   "metadata": {},
   "outputs": [
    {
     "data": {
      "application/vnd.plotly.v1+json": {
       "config": {
        "plotlyServerURL": "https://plot.ly"
       },
       "data": [
        {
         "alignmentgroup": "True",
         "hovertemplate": "Country=Germany<br>Symptoms=%{x}<br>Symptoms Occurrences=%{y}<br>Country_ISO3=%{text}<extra></extra>",
         "legendgroup": "Germany",
         "marker": {
          "color": "#636efa",
          "pattern": {
           "shape": ""
          }
         },
         "name": "Germany",
         "offsetgroup": "Germany",
         "orientation": "v",
         "showlegend": true,
         "text": [
          "DEU",
          "DEU",
          "DEU",
          "DEU",
          "DEU",
          "DEU"
         ],
         "textposition": "auto",
         "type": "bar",
         "x": [
          "an elevated temperature",
          "cough",
          "fever",
          "skin lesions",
          "skin rashes",
          "slight swallowing difficulties"
         ],
         "xaxis": "x",
         "y": [
          1,
          1,
          2,
          1,
          1,
          1
         ],
         "yaxis": "y"
        },
        {
         "alignmentgroup": "True",
         "hovertemplate": "Country=Argentina<br>Symptoms=%{x}<br>Symptoms Occurrences=%{y}<br>Country_ISO3=%{text}<extra></extra>",
         "legendgroup": "Argentina",
         "marker": {
          "color": "#EF553B",
          "pattern": {
           "shape": ""
          }
         },
         "name": "Argentina",
         "offsetgroup": "Argentina",
         "orientation": "v",
         "showlegend": true,
         "text": [
          "ARG",
          "ARG",
          "ARG",
          "ARG",
          "ARG",
          "ARG",
          "ARG"
         ],
         "textposition": "auto",
         "type": "bar",
         "x": [
          "back pain",
          "fever",
          "headache",
          "muscle pain",
          "pustules",
          "ulcerative lesions",
          "vasicular rashes"
         ],
         "xaxis": "x",
         "y": [
          1,
          1,
          1,
          1,
          1,
          1,
          1
         ],
         "yaxis": "y"
        },
        {
         "alignmentgroup": "True",
         "hovertemplate": "Country=Finland<br>Symptoms=%{x}<br>Symptoms Occurrences=%{y}<br>Country_ISO3=%{text}<extra></extra>",
         "legendgroup": "Finland",
         "marker": {
          "color": "#00cc96",
          "pattern": {
           "shape": ""
          }
         },
         "name": "Finland",
         "offsetgroup": "Finland",
         "orientation": "v",
         "showlegend": true,
         "text": [
          "FIN",
          "FIN"
         ],
         "textposition": "auto",
         "type": "bar",
         "x": [
          "blisters",
          "high fever"
         ],
         "xaxis": "x",
         "y": [
          1,
          1
         ],
         "yaxis": "y"
        },
        {
         "alignmentgroup": "True",
         "hovertemplate": "Country=Italy<br>Symptoms=%{x}<br>Symptoms Occurrences=%{y}<br>Country_ISO3=%{text}<extra></extra>",
         "legendgroup": "Italy",
         "marker": {
          "color": "#ab63fa",
          "pattern": {
           "shape": ""
          }
         },
         "name": "Italy",
         "offsetgroup": "Italy",
         "orientation": "v",
         "showlegend": true,
         "text": [
          "ITA",
          "ITA",
          "ITA",
          "ITA"
         ],
         "textposition": "auto",
         "type": "bar",
         "x": [
          "blisters",
          "fever",
          "lesions",
          "skin lesions"
         ],
         "xaxis": "x",
         "y": [
          1,
          1,
          1,
          3
         ],
         "yaxis": "y"
        },
        {
         "alignmentgroup": "True",
         "hovertemplate": "Country=Czech Republic<br>Symptoms=%{x}<br>Symptoms Occurrences=%{y}<br>Country_ISO3=%{text}<extra></extra>",
         "legendgroup": "Czech Republic",
         "marker": {
          "color": "#FFA15A",
          "pattern": {
           "shape": ""
          }
         },
         "name": "Czech Republic",
         "offsetgroup": "Czech Republic",
         "orientation": "v",
         "showlegend": true,
         "text": [
          "CZE",
          "CZE",
          "CZE",
          "CZE",
          "CZE"
         ],
         "textposition": "auto",
         "type": "bar",
         "x": [
          "chills",
          "fatigue",
          "fever",
          "headache",
          "skin lesions"
         ],
         "xaxis": "x",
         "y": [
          1,
          1,
          1,
          1,
          1
         ],
         "yaxis": "y"
        },
        {
         "alignmentgroup": "True",
         "hovertemplate": "Country=United States<br>Symptoms=%{x}<br>Symptoms Occurrences=%{y}<br>Country_ISO3=%{text}<extra></extra>",
         "legendgroup": "United States",
         "marker": {
          "color": "#19d3f3",
          "pattern": {
           "shape": ""
          }
         },
         "name": "United States",
         "offsetgroup": "United States",
         "orientation": "v",
         "showlegend": true,
         "text": [
          "USA",
          "USA",
          "USA",
          "USA"
         ],
         "textposition": "auto",
         "type": "bar",
         "x": [
          "chills",
          "cough",
          "muscle pain",
          "pustule-like lesions"
         ],
         "xaxis": "x",
         "y": [
          1,
          1,
          1,
          1
         ],
         "yaxis": "y"
        },
        {
         "alignmentgroup": "True",
         "hovertemplate": "Country=Brazil<br>Symptoms=%{x}<br>Symptoms Occurrences=%{y}<br>Country_ISO3=%{text}<extra></extra>",
         "legendgroup": "Brazil",
         "marker": {
          "color": "#FF6692",
          "pattern": {
           "shape": ""
          }
         },
         "name": "Brazil",
         "offsetgroup": "Brazil",
         "orientation": "v",
         "showlegend": true,
         "text": [
          "BRA",
          "BRA",
          "BRA",
          "BRA",
          "BRA"
         ],
         "textposition": "auto",
         "type": "bar",
         "x": [
          "enlarged lymph nodes",
          "fever",
          "headaches",
          "myalgia",
          "skin lesions"
         ],
         "xaxis": "x",
         "y": [
          1,
          2,
          1,
          1,
          2
         ],
         "yaxis": "y"
        },
        {
         "alignmentgroup": "True",
         "hovertemplate": "Country=Austria<br>Symptoms=%{x}<br>Symptoms Occurrences=%{y}<br>Country_ISO3=%{text}<extra></extra>",
         "legendgroup": "Austria",
         "marker": {
          "color": "#B6E880",
          "pattern": {
           "shape": ""
          }
         },
         "name": "Austria",
         "offsetgroup": "Austria",
         "orientation": "v",
         "showlegend": true,
         "text": [
          "AUT",
          "AUT"
         ],
         "textposition": "auto",
         "type": "bar",
         "x": [
          "fever",
          "lesions"
         ],
         "xaxis": "x",
         "y": [
          1,
          1
         ],
         "yaxis": "y"
        },
        {
         "alignmentgroup": "True",
         "hovertemplate": "Country=Norway<br>Symptoms=%{x}<br>Symptoms Occurrences=%{y}<br>Country_ISO3=%{text}<extra></extra>",
         "legendgroup": "Norway",
         "marker": {
          "color": "#FF97FF",
          "pattern": {
           "shape": ""
          }
         },
         "name": "Norway",
         "offsetgroup": "Norway",
         "orientation": "v",
         "showlegend": true,
         "text": [
          "NOR",
          "NOR",
          "NOR"
         ],
         "textposition": "auto",
         "type": "bar",
         "x": [
          "fever",
          "muscle pain",
          "rash"
         ],
         "xaxis": "x",
         "y": [
          1,
          1,
          1
         ],
         "yaxis": "y"
        },
        {
         "alignmentgroup": "True",
         "hovertemplate": "Country=Switzerland<br>Symptoms=%{x}<br>Symptoms Occurrences=%{y}<br>Country_ISO3=%{text}<extra></extra>",
         "legendgroup": "Switzerland",
         "marker": {
          "color": "#FECB52",
          "pattern": {
           "shape": ""
          }
         },
         "name": "Switzerland",
         "offsetgroup": "Switzerland",
         "orientation": "v",
         "showlegend": true,
         "text": [
          "CHE",
          "CHE"
         ],
         "textposition": "auto",
         "type": "bar",
         "x": [
          "fever",
          "rash"
         ],
         "xaxis": "x",
         "y": [
          1,
          1
         ],
         "yaxis": "y"
        },
        {
         "alignmentgroup": "True",
         "hovertemplate": "Country=Canada<br>Symptoms=%{x}<br>Symptoms Occurrences=%{y}<br>Country_ISO3=%{text}<extra></extra>",
         "legendgroup": "Canada",
         "marker": {
          "color": "#636efa",
          "pattern": {
           "shape": ""
          }
         },
         "name": "Canada",
         "offsetgroup": "Canada",
         "orientation": "v",
         "showlegend": true,
         "text": [
          "CAN",
          "CAN",
          "CAN",
          "CAN"
         ],
         "textposition": "auto",
         "type": "bar",
         "x": [
          "fever",
          "genital ulcer lesions",
          "genital ulcers",
          "oral"
         ],
         "xaxis": "x",
         "y": [
          17,
          30,
          22,
          17
         ],
         "yaxis": "y"
        },
        {
         "alignmentgroup": "True",
         "hovertemplate": "Country=Australia<br>Symptoms=%{x}<br>Symptoms Occurrences=%{y}<br>Country_ISO3=%{text}<extra></extra>",
         "legendgroup": "Australia",
         "marker": {
          "color": "#EF553B",
          "pattern": {
           "shape": ""
          }
         },
         "name": "Australia",
         "offsetgroup": "Australia",
         "orientation": "v",
         "showlegend": true,
         "text": [
          "AUS"
         ],
         "textposition": "auto",
         "type": "bar",
         "x": [
          "genital rash"
         ],
         "xaxis": "x",
         "y": [
          1
         ],
         "yaxis": "y"
        },
        {
         "alignmentgroup": "True",
         "hovertemplate": "Country=Belgium<br>Symptoms=%{x}<br>Symptoms Occurrences=%{y}<br>Country_ISO3=%{text}<extra></extra>",
         "legendgroup": "Belgium",
         "marker": {
          "color": "#00cc96",
          "pattern": {
           "shape": ""
          }
         },
         "name": "Belgium",
         "offsetgroup": "Belgium",
         "orientation": "v",
         "showlegend": true,
         "text": [
          "BEL",
          "BEL"
         ],
         "textposition": "auto",
         "type": "bar",
         "x": [
          "inguinal adenopathy",
          "perianal papules"
         ],
         "xaxis": "x",
         "y": [
          1,
          1
         ],
         "yaxis": "y"
        },
        {
         "alignmentgroup": "True",
         "hovertemplate": "Country=England<br>Symptoms=%{x}<br>Symptoms Occurrences=%{y}<br>Country_ISO3=%{text}<extra></extra>",
         "legendgroup": "England",
         "marker": {
          "color": "#ab63fa",
          "pattern": {
           "shape": ""
          }
         },
         "name": "England",
         "offsetgroup": "England",
         "orientation": "v",
         "showlegend": true,
         "text": [
          "GBR",
          "GBR"
         ],
         "textposition": "auto",
         "type": "bar",
         "x": [
          "rash",
          "vesicular rash"
         ],
         "xaxis": "x",
         "y": [
          2,
          5
         ],
         "yaxis": "y"
        },
        {
         "alignmentgroup": "True",
         "hovertemplate": "Country=Portugal<br>Symptoms=%{x}<br>Symptoms Occurrences=%{y}<br>Country_ISO3=%{text}<extra></extra>",
         "legendgroup": "Portugal",
         "marker": {
          "color": "#FFA15A",
          "pattern": {
           "shape": ""
          }
         },
         "name": "Portugal",
         "offsetgroup": "Portugal",
         "orientation": "v",
         "showlegend": true,
         "text": [
          "PRT",
          "PRT"
         ],
         "textposition": "auto",
         "type": "bar",
         "x": [
          "skin lesions",
          "ulcerative lesions"
         ],
         "xaxis": "x",
         "y": [
          5,
          20
         ],
         "yaxis": "y"
        }
       ],
       "layout": {
        "barmode": "relative",
        "height": 800,
        "legend": {
         "title": {
          "text": "Country"
         },
         "tracegroupgap": 0
        },
        "margin": {
         "t": 60
        },
        "template": {
         "data": {
          "bar": [
           {
            "error_x": {
             "color": "#2a3f5f"
            },
            "error_y": {
             "color": "#2a3f5f"
            },
            "marker": {
             "line": {
              "color": "#E5ECF6",
              "width": 0.5
             },
             "pattern": {
              "fillmode": "overlay",
              "size": 10,
              "solidity": 0.2
             }
            },
            "type": "bar"
           }
          ],
          "barpolar": [
           {
            "marker": {
             "line": {
              "color": "#E5ECF6",
              "width": 0.5
             },
             "pattern": {
              "fillmode": "overlay",
              "size": 10,
              "solidity": 0.2
             }
            },
            "type": "barpolar"
           }
          ],
          "carpet": [
           {
            "aaxis": {
             "endlinecolor": "#2a3f5f",
             "gridcolor": "white",
             "linecolor": "white",
             "minorgridcolor": "white",
             "startlinecolor": "#2a3f5f"
            },
            "baxis": {
             "endlinecolor": "#2a3f5f",
             "gridcolor": "white",
             "linecolor": "white",
             "minorgridcolor": "white",
             "startlinecolor": "#2a3f5f"
            },
            "type": "carpet"
           }
          ],
          "choropleth": [
           {
            "colorbar": {
             "outlinewidth": 0,
             "ticks": ""
            },
            "type": "choropleth"
           }
          ],
          "contour": [
           {
            "colorbar": {
             "outlinewidth": 0,
             "ticks": ""
            },
            "colorscale": [
             [
              0,
              "#0d0887"
             ],
             [
              0.1111111111111111,
              "#46039f"
             ],
             [
              0.2222222222222222,
              "#7201a8"
             ],
             [
              0.3333333333333333,
              "#9c179e"
             ],
             [
              0.4444444444444444,
              "#bd3786"
             ],
             [
              0.5555555555555556,
              "#d8576b"
             ],
             [
              0.6666666666666666,
              "#ed7953"
             ],
             [
              0.7777777777777778,
              "#fb9f3a"
             ],
             [
              0.8888888888888888,
              "#fdca26"
             ],
             [
              1,
              "#f0f921"
             ]
            ],
            "type": "contour"
           }
          ],
          "contourcarpet": [
           {
            "colorbar": {
             "outlinewidth": 0,
             "ticks": ""
            },
            "type": "contourcarpet"
           }
          ],
          "heatmap": [
           {
            "colorbar": {
             "outlinewidth": 0,
             "ticks": ""
            },
            "colorscale": [
             [
              0,
              "#0d0887"
             ],
             [
              0.1111111111111111,
              "#46039f"
             ],
             [
              0.2222222222222222,
              "#7201a8"
             ],
             [
              0.3333333333333333,
              "#9c179e"
             ],
             [
              0.4444444444444444,
              "#bd3786"
             ],
             [
              0.5555555555555556,
              "#d8576b"
             ],
             [
              0.6666666666666666,
              "#ed7953"
             ],
             [
              0.7777777777777778,
              "#fb9f3a"
             ],
             [
              0.8888888888888888,
              "#fdca26"
             ],
             [
              1,
              "#f0f921"
             ]
            ],
            "type": "heatmap"
           }
          ],
          "heatmapgl": [
           {
            "colorbar": {
             "outlinewidth": 0,
             "ticks": ""
            },
            "colorscale": [
             [
              0,
              "#0d0887"
             ],
             [
              0.1111111111111111,
              "#46039f"
             ],
             [
              0.2222222222222222,
              "#7201a8"
             ],
             [
              0.3333333333333333,
              "#9c179e"
             ],
             [
              0.4444444444444444,
              "#bd3786"
             ],
             [
              0.5555555555555556,
              "#d8576b"
             ],
             [
              0.6666666666666666,
              "#ed7953"
             ],
             [
              0.7777777777777778,
              "#fb9f3a"
             ],
             [
              0.8888888888888888,
              "#fdca26"
             ],
             [
              1,
              "#f0f921"
             ]
            ],
            "type": "heatmapgl"
           }
          ],
          "histogram": [
           {
            "marker": {
             "pattern": {
              "fillmode": "overlay",
              "size": 10,
              "solidity": 0.2
             }
            },
            "type": "histogram"
           }
          ],
          "histogram2d": [
           {
            "colorbar": {
             "outlinewidth": 0,
             "ticks": ""
            },
            "colorscale": [
             [
              0,
              "#0d0887"
             ],
             [
              0.1111111111111111,
              "#46039f"
             ],
             [
              0.2222222222222222,
              "#7201a8"
             ],
             [
              0.3333333333333333,
              "#9c179e"
             ],
             [
              0.4444444444444444,
              "#bd3786"
             ],
             [
              0.5555555555555556,
              "#d8576b"
             ],
             [
              0.6666666666666666,
              "#ed7953"
             ],
             [
              0.7777777777777778,
              "#fb9f3a"
             ],
             [
              0.8888888888888888,
              "#fdca26"
             ],
             [
              1,
              "#f0f921"
             ]
            ],
            "type": "histogram2d"
           }
          ],
          "histogram2dcontour": [
           {
            "colorbar": {
             "outlinewidth": 0,
             "ticks": ""
            },
            "colorscale": [
             [
              0,
              "#0d0887"
             ],
             [
              0.1111111111111111,
              "#46039f"
             ],
             [
              0.2222222222222222,
              "#7201a8"
             ],
             [
              0.3333333333333333,
              "#9c179e"
             ],
             [
              0.4444444444444444,
              "#bd3786"
             ],
             [
              0.5555555555555556,
              "#d8576b"
             ],
             [
              0.6666666666666666,
              "#ed7953"
             ],
             [
              0.7777777777777778,
              "#fb9f3a"
             ],
             [
              0.8888888888888888,
              "#fdca26"
             ],
             [
              1,
              "#f0f921"
             ]
            ],
            "type": "histogram2dcontour"
           }
          ],
          "mesh3d": [
           {
            "colorbar": {
             "outlinewidth": 0,
             "ticks": ""
            },
            "type": "mesh3d"
           }
          ],
          "parcoords": [
           {
            "line": {
             "colorbar": {
              "outlinewidth": 0,
              "ticks": ""
             }
            },
            "type": "parcoords"
           }
          ],
          "pie": [
           {
            "automargin": true,
            "type": "pie"
           }
          ],
          "scatter": [
           {
            "fillpattern": {
             "fillmode": "overlay",
             "size": 10,
             "solidity": 0.2
            },
            "type": "scatter"
           }
          ],
          "scatter3d": [
           {
            "line": {
             "colorbar": {
              "outlinewidth": 0,
              "ticks": ""
             }
            },
            "marker": {
             "colorbar": {
              "outlinewidth": 0,
              "ticks": ""
             }
            },
            "type": "scatter3d"
           }
          ],
          "scattercarpet": [
           {
            "marker": {
             "colorbar": {
              "outlinewidth": 0,
              "ticks": ""
             }
            },
            "type": "scattercarpet"
           }
          ],
          "scattergeo": [
           {
            "marker": {
             "colorbar": {
              "outlinewidth": 0,
              "ticks": ""
             }
            },
            "type": "scattergeo"
           }
          ],
          "scattergl": [
           {
            "marker": {
             "colorbar": {
              "outlinewidth": 0,
              "ticks": ""
             }
            },
            "type": "scattergl"
           }
          ],
          "scattermapbox": [
           {
            "marker": {
             "colorbar": {
              "outlinewidth": 0,
              "ticks": ""
             }
            },
            "type": "scattermapbox"
           }
          ],
          "scatterpolar": [
           {
            "marker": {
             "colorbar": {
              "outlinewidth": 0,
              "ticks": ""
             }
            },
            "type": "scatterpolar"
           }
          ],
          "scatterpolargl": [
           {
            "marker": {
             "colorbar": {
              "outlinewidth": 0,
              "ticks": ""
             }
            },
            "type": "scatterpolargl"
           }
          ],
          "scatterternary": [
           {
            "marker": {
             "colorbar": {
              "outlinewidth": 0,
              "ticks": ""
             }
            },
            "type": "scatterternary"
           }
          ],
          "surface": [
           {
            "colorbar": {
             "outlinewidth": 0,
             "ticks": ""
            },
            "colorscale": [
             [
              0,
              "#0d0887"
             ],
             [
              0.1111111111111111,
              "#46039f"
             ],
             [
              0.2222222222222222,
              "#7201a8"
             ],
             [
              0.3333333333333333,
              "#9c179e"
             ],
             [
              0.4444444444444444,
              "#bd3786"
             ],
             [
              0.5555555555555556,
              "#d8576b"
             ],
             [
              0.6666666666666666,
              "#ed7953"
             ],
             [
              0.7777777777777778,
              "#fb9f3a"
             ],
             [
              0.8888888888888888,
              "#fdca26"
             ],
             [
              1,
              "#f0f921"
             ]
            ],
            "type": "surface"
           }
          ],
          "table": [
           {
            "cells": {
             "fill": {
              "color": "#EBF0F8"
             },
             "line": {
              "color": "white"
             }
            },
            "header": {
             "fill": {
              "color": "#C8D4E3"
             },
             "line": {
              "color": "white"
             }
            },
            "type": "table"
           }
          ]
         },
         "layout": {
          "annotationdefaults": {
           "arrowcolor": "#2a3f5f",
           "arrowhead": 0,
           "arrowwidth": 1
          },
          "autotypenumbers": "strict",
          "coloraxis": {
           "colorbar": {
            "outlinewidth": 0,
            "ticks": ""
           }
          },
          "colorscale": {
           "diverging": [
            [
             0,
             "#8e0152"
            ],
            [
             0.1,
             "#c51b7d"
            ],
            [
             0.2,
             "#de77ae"
            ],
            [
             0.3,
             "#f1b6da"
            ],
            [
             0.4,
             "#fde0ef"
            ],
            [
             0.5,
             "#f7f7f7"
            ],
            [
             0.6,
             "#e6f5d0"
            ],
            [
             0.7,
             "#b8e186"
            ],
            [
             0.8,
             "#7fbc41"
            ],
            [
             0.9,
             "#4d9221"
            ],
            [
             1,
             "#276419"
            ]
           ],
           "sequential": [
            [
             0,
             "#0d0887"
            ],
            [
             0.1111111111111111,
             "#46039f"
            ],
            [
             0.2222222222222222,
             "#7201a8"
            ],
            [
             0.3333333333333333,
             "#9c179e"
            ],
            [
             0.4444444444444444,
             "#bd3786"
            ],
            [
             0.5555555555555556,
             "#d8576b"
            ],
            [
             0.6666666666666666,
             "#ed7953"
            ],
            [
             0.7777777777777778,
             "#fb9f3a"
            ],
            [
             0.8888888888888888,
             "#fdca26"
            ],
            [
             1,
             "#f0f921"
            ]
           ],
           "sequentialminus": [
            [
             0,
             "#0d0887"
            ],
            [
             0.1111111111111111,
             "#46039f"
            ],
            [
             0.2222222222222222,
             "#7201a8"
            ],
            [
             0.3333333333333333,
             "#9c179e"
            ],
            [
             0.4444444444444444,
             "#bd3786"
            ],
            [
             0.5555555555555556,
             "#d8576b"
            ],
            [
             0.6666666666666666,
             "#ed7953"
            ],
            [
             0.7777777777777778,
             "#fb9f3a"
            ],
            [
             0.8888888888888888,
             "#fdca26"
            ],
            [
             1,
             "#f0f921"
            ]
           ]
          },
          "colorway": [
           "#636efa",
           "#EF553B",
           "#00cc96",
           "#ab63fa",
           "#FFA15A",
           "#19d3f3",
           "#FF6692",
           "#B6E880",
           "#FF97FF",
           "#FECB52"
          ],
          "font": {
           "color": "#2a3f5f"
          },
          "geo": {
           "bgcolor": "white",
           "lakecolor": "white",
           "landcolor": "#E5ECF6",
           "showlakes": true,
           "showland": true,
           "subunitcolor": "white"
          },
          "hoverlabel": {
           "align": "left"
          },
          "hovermode": "closest",
          "mapbox": {
           "style": "light"
          },
          "paper_bgcolor": "white",
          "plot_bgcolor": "#E5ECF6",
          "polar": {
           "angularaxis": {
            "gridcolor": "white",
            "linecolor": "white",
            "ticks": ""
           },
           "bgcolor": "#E5ECF6",
           "radialaxis": {
            "gridcolor": "white",
            "linecolor": "white",
            "ticks": ""
           }
          },
          "scene": {
           "xaxis": {
            "backgroundcolor": "#E5ECF6",
            "gridcolor": "white",
            "gridwidth": 2,
            "linecolor": "white",
            "showbackground": true,
            "ticks": "",
            "zerolinecolor": "white"
           },
           "yaxis": {
            "backgroundcolor": "#E5ECF6",
            "gridcolor": "white",
            "gridwidth": 2,
            "linecolor": "white",
            "showbackground": true,
            "ticks": "",
            "zerolinecolor": "white"
           },
           "zaxis": {
            "backgroundcolor": "#E5ECF6",
            "gridcolor": "white",
            "gridwidth": 2,
            "linecolor": "white",
            "showbackground": true,
            "ticks": "",
            "zerolinecolor": "white"
           }
          },
          "shapedefaults": {
           "line": {
            "color": "#2a3f5f"
           }
          },
          "ternary": {
           "aaxis": {
            "gridcolor": "white",
            "linecolor": "white",
            "ticks": ""
           },
           "baxis": {
            "gridcolor": "white",
            "linecolor": "white",
            "ticks": ""
           },
           "bgcolor": "#E5ECF6",
           "caxis": {
            "gridcolor": "white",
            "linecolor": "white",
            "ticks": ""
           }
          },
          "title": {
           "x": 0.05
          },
          "xaxis": {
           "automargin": true,
           "gridcolor": "white",
           "linecolor": "white",
           "ticks": "",
           "title": {
            "standoff": 15
           },
           "zerolinecolor": "white",
           "zerolinewidth": 2
          },
          "yaxis": {
           "automargin": true,
           "gridcolor": "white",
           "linecolor": "white",
           "ticks": "",
           "title": {
            "standoff": 15
           },
           "zerolinecolor": "white",
           "zerolinewidth": 2
          }
         }
        },
        "title": {
         "text": "Monkey Pox Count Symptoms Per Country: 2022-06-16"
        },
        "width": 1920,
        "xaxis": {
         "anchor": "y",
         "domain": [
          0,
          1
         ],
         "title": {
          "text": "Symptoms"
         }
        },
        "yaxis": {
         "anchor": "x",
         "domain": [
          0,
          1
         ],
         "title": {
          "text": "Symptoms Occurrences"
         }
        }
       }
      }
     },
     "metadata": {},
     "output_type": "display_data"
    }
   ],
   "source": [
    "fig6 = px.bar(count_sym_df, x=\"Symptoms\", y=\"Symptoms_count\", text='Country_ISO3',\n",
    "                color='Country',\n",
    "                labels={'Symptoms_count':'Symptoms Occurrences'})\n",
    "\n",
    "fig6.update_layout(\n",
    "    width=1920,\n",
    "    height=800,\n",
    "    title_text=f'Monkey Pox Count Symptoms Per Country: {date}'\n",
    ")\n",
    "\n",
    "fig6.show()"
   ]
  },
  {
   "cell_type": "markdown",
   "metadata": {},
   "source": [
    "### Export"
   ]
  },
  {
   "cell_type": "code",
   "execution_count": 27,
   "metadata": {},
   "outputs": [],
   "source": [
    "fig1.write_image(f\"Graph/fig1.png\")\n",
    "fig2.write_image(f\"Graph/fig2.png\")\n",
    "fig3.write_image(f\"Graph/fig3.png\")\n",
    "fig4.write_image(f\"Graph/fig4.png\")\n",
    "fig5.write_image(f\"Graph/fig5.png\")\n",
    "fig6.write_image(f\"Graph/fig6.png\")"
   ]
  },
  {
   "cell_type": "code",
   "execution_count": 28,
   "metadata": {},
   "outputs": [
    {
     "name": "stdout",
     "output_type": "stream",
     "text": [
      "1\n",
      "2\n",
      "3\n",
      "4\n",
      "5\n",
      "6\n"
     ]
    }
   ],
   "source": [
    "for i in range(1 , 7):\n",
    "   print(i)"
   ]
  },
  {
   "cell_type": "code",
   "execution_count": 29,
   "metadata": {},
   "outputs": [],
   "source": [
    "filename = str(date.year)+str(date.month)+str(date.day)\n",
    "sort_df.to_csv(str('Export_dataset/Monkeypox_confirmed_' + filename + '.csv'))"
   ]
  },
  {
   "cell_type": "code",
   "execution_count": 30,
   "metadata": {},
   "outputs": [],
   "source": [
    "count_sym_df.to_csv(str('Export_dataset/Monkeypox_total_symptoms_'+ filename + '.csv'))"
   ]
  },
  {
   "cell_type": "code",
   "execution_count": 31,
   "metadata": {},
   "outputs": [],
   "source": [
    "Total_case.to_csv(str('Export_dataset/Monkeypox_total_last_case_'+ filename + '.csv'))"
   ]
  },
  {
   "cell_type": "code",
   "execution_count": 32,
   "metadata": {},
   "outputs": [],
   "source": [
    "# for i in range(1 , 7):\n",
    "#    f'fig{i}.write_image',(f\"Graph/fig{i}.png\")"
   ]
  },
  {
   "cell_type": "code",
   "execution_count": 33,
   "metadata": {},
   "outputs": [],
   "source": [
    "# for i in range(1 , 7):\n",
    "#     with open(f\"Graph/fig{i}.png\", \"w\") as file:\n",
    "#             fig1.write_image(f\"fig{i}\")"
   ]
  },
  {
   "cell_type": "code",
   "execution_count": 34,
   "metadata": {},
   "outputs": [],
   "source": [
    "# with open(f\"Graph/fig6.png\", \"w\") as file:\n",
    "#         fig6.write_image(f\"fig6\")"
   ]
  }
 ],
 "metadata": {
  "interpreter": {
   "hash": "30069c1303831f47baedc4c6a49b2b77626e0e3237bf7a779f324d59590e88d6"
  },
  "kernelspec": {
   "display_name": "Python 3.10.2 ('minimal_ds')",
   "language": "python",
   "name": "python3"
  },
  "language_info": {
   "codemirror_mode": {
    "name": "ipython",
    "version": 3
   },
   "file_extension": ".py",
   "mimetype": "text/x-python",
   "name": "python",
   "nbconvert_exporter": "python",
   "pygments_lexer": "ipython3",
   "version": "3.10.2"
  },
  "orig_nbformat": 4
 },
 "nbformat": 4,
 "nbformat_minor": 2
}
